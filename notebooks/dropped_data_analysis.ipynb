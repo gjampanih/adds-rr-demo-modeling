{
 "cells": [
  {
   "cell_type": "code",
   "execution_count": 4,
   "outputs": [],
   "source": [
    "# import packages\n",
    "import pandas as pd\n",
    "import pickle as pkl\n",
    "import os\n",
    "import numpy as np"
   ],
   "metadata": {
    "collapsed": false
   }
  },
  {
   "cell_type": "code",
   "execution_count": 5,
   "outputs": [],
   "source": [
    "from sqlalchemy import create_engine\n",
    "\n",
    "def postgresql_engine(user, pwd, host, port, dbname):\n",
    "    # Need pyycopg2-binary package\n",
    "    sql_engine = create_engine('postgres://' + user + ':' + pwd + '@' + host + ':' + port + '/' + dbname, echo=False)\n",
    "    return sql_engine"
   ],
   "metadata": {
    "collapsed": false
   }
  },
  {
   "cell_type": "code",
   "execution_count": 6,
   "outputs": [],
   "source": [
    "# DB username and password\n",
    "import getpass\n",
    "\n",
    "user = getpass.getpass()\n",
    "pwd = getpass.getpass()"
   ],
   "metadata": {
    "collapsed": false
   }
  },
  {
   "cell_type": "code",
   "execution_count": 7,
   "outputs": [],
   "source": [
    "# misc db parameters\n",
    "host= 'adds-postgres-dev.cfgztrijqgvp.us-east-1.rds.amazonaws.com'\n",
    "dbname= 'musiclab'\n",
    "port= '5432'"
   ],
   "metadata": {
    "collapsed": false
   }
  },
  {
   "cell_type": "code",
   "execution_count": 5,
   "outputs": [],
   "source": [
    "# get callout research for songs released in the past 2 years\n",
    "data_query_train = '''\n",
    "Select *\n",
    "from adds_temp.demo_rr_features_h1 as rdfh\n",
    "where pop_all is not null\n",
    "'''"
   ],
   "metadata": {
    "collapsed": false
   }
  },
  {
   "cell_type": "code",
   "execution_count": 8,
   "outputs": [],
   "source": [
    "filter_rules = '''and song_weeks_since_last_spins <=13\n",
    "and ((song_last_test_co_weeks <=26)\n",
    "or (song_last_test_omt_weeks <=104)\n",
    "or format_code in ('u4','l2'))\n",
    "and (((station_test_1_plus=0 and station_test_1_id=1) or station_test_1_plus>0) or format_code in ('u4','l2'))\n",
    "and (format_code<>'h1' or station_id<>3323403)\n",
    "and (format_code<>'c1' or station_id<>3322825)\n",
    "and (format_code<>'a2' or station_id<>3322799 or gcr<>'G')\n",
    "and taa_quintile is not null\n",
    "and gcr_adj is not null\n",
    "'''"
   ],
   "metadata": {
    "collapsed": false
   }
  },
  {
   "cell_type": "code",
   "execution_count": 7,
   "outputs": [
    {
     "name": "stdout",
     "output_type": "stream",
     "text": [
      "\n",
      "Select *\n",
      "from adds_temp.demo_rr_features_h1 as rdfh\n",
      "where pop_all is not null\n",
      "and song_weeks_since_last_spins <=13\n",
      "and ((song_last_test_co_weeks <=26)\n",
      "or (song_last_test_omt_weeks <=104)\n",
      "or format_code in ('u4','l2'))\n",
      "and (((station_test_1_plus=0 and station_test_1_id=1) or station_test_1_plus>0) or format_code in ('u4','l2'))\n",
      "and (format_code<>'h1' or station_id<>3323403)\n",
      "and (format_code<>'c1' or station_id<>3322825)\n",
      "and (format_code<>'a2' or station_id<>3322799 or gcr<>'G')\n",
      "and taa_quintile is not null\n",
      "and gcr_adj is not null\n",
      "\n"
     ]
    }
   ],
   "source": [
    "print(data_query_train + filter_rules)"
   ],
   "metadata": {
    "collapsed": false
   }
  },
  {
   "cell_type": "code",
   "execution_count": 8,
   "outputs": [],
   "source": [
    "engine = postgresql_engine(user, pwd, host, port, dbname)\n",
    "with engine.connect() as con:\n",
    "    with con.connect():\n",
    "        df_train = pd.read_sql(data_query_train + filter_rules, con=con)"
   ],
   "metadata": {
    "collapsed": false
   }
  },
  {
   "cell_type": "code",
   "execution_count": 9,
   "outputs": [],
   "source": [
    "#write to pkl file\n",
    "df_train.to_pickle('df_train_2022_11_05_2020_11_28.pkl')"
   ],
   "metadata": {
    "collapsed": false
   }
  },
  {
   "cell_type": "code",
   "execution_count": 12,
   "outputs": [],
   "source": [
    "# read from pickle file\n",
    "df_train = pd.read_pickle('df_train_2022_11_05_2020_11_28.pkl')"
   ],
   "metadata": {
    "collapsed": false
   }
  },
  {
   "cell_type": "code",
   "execution_count": 13,
   "outputs": [],
   "source": [
    "df_train.sort_values(by=['station_id', 'mediabase_id', 'breakout_name', 'week_dt', ], inplace=True)"
   ],
   "metadata": {
    "collapsed": false
   }
  },
  {
   "cell_type": "code",
   "execution_count": 9,
   "outputs": [],
   "source": [
    "# define demo segments and categories\n",
    "breakout_category = {'*Core*': 'Core-Cume', '*Old*': 'Age', '*Young*': 'Age', 'Total': 'Total', 'White': 'Race',\n",
    "                     'Non-Core': 'Core-Cume',\n",
    "                     'Hispanic': 'Race', 'AA': 'Race', 'F': 'Gender', 'M': 'Gender', 'WAO': 'Race',\n",
    "                     'F (25-29)': 'Gender', 'F (20-24)': 'Gender', 'F (18-29)': 'Gender', 'F (17-29)': 'Gender',\n",
    "                     'F (20-23)': 'Gender', 'F (18-39)' : 'Gender',\n",
    "                     'F (16-24)': 'Gender', 'F (30-34)': 'Gender', 'F (18-34)': 'Gender', 'F (24-29)': 'Gender',\n",
    "                     'F (17-19)': 'Gender', 'F (15-26)': 'Gender', 'F (15-19)': 'Gender', 'F (15-24)': 'Gender',\n",
    "                     'F (18-24)': 'Gender', 'F (20-29)': 'Gender', 'F (25-34)': 'Gender', 'F (Other)': 'Gender'}\n",
    "\n",
    "breakout_map = {'*Core*': 'Core', '*Old*': 'Old', '*Young*': 'Young', 'Total': 'Total', 'White': 'White',\n",
    "                'Non-Core': 'Non-Core',\n",
    "                'Hispanic': 'Hispanic', 'AA': 'AA', 'F': 'Female', 'M': 'Male', 'WAO': 'White', 'F (25-29)': 'Female',\n",
    "                'F (20-24)': 'Female', 'F (18-29)': 'Female', 'F (17-29)': 'Female', 'F (20-23)': 'Female',\n",
    "                'F (16-24)': 'Female', 'F (30-34)': 'Female', 'F (18-34)': 'Female', 'F (24-29)': 'Female',\n",
    "                'F (17-19)': 'Female', 'F (18-39)' : 'Female',\n",
    "                'F (15-26)': 'Female', 'F (15-19)': 'Female', 'F (15-24)': 'Female',\n",
    "                'F (18-24)': 'Female_(18-24)', 'F (20-29)': 'Female', 'F (25-34)': 'Female',\n",
    "                'F (Other)': 'Female_Other'}"
   ],
   "metadata": {
    "collapsed": false
   }
  },
  {
   "cell_type": "code",
   "execution_count": 14,
   "outputs": [],
   "source": [
    "# create segment and category fields\n",
    "df_train['segment'] = df_train['breakout_name'].apply(func=(lambda x: breakout_map[x] if (x in breakout_map.keys()) else None))\n",
    "df_train['demo_category'] = df_train['breakout_name'].apply(func=(lambda x: breakout_category[x] if x in breakout_category.keys() else None))"
   ],
   "metadata": {
    "collapsed": false
   }
  },
  {
   "cell_type": "code",
   "execution_count": 15,
   "outputs": [],
   "source": [
    "# drop misc female breakouts\n",
    "drop_idx = df_train[(df_train['segment'] == 'Female') | (pd.isna(df_train['segment']))].index\n",
    "df_train.drop(drop_idx, inplace=True)"
   ],
   "metadata": {
    "collapsed": false
   }
  },
  {
   "cell_type": "code",
   "execution_count": 16,
   "outputs": [],
   "source": [
    "# Drop songs with just a single score in the past 2 years\n",
    "df_train_week_ct = pd.DataFrame(df_train.groupby(['station_id', 'mediabase_id', 'breakout_id'])['week_dt'].count())\n",
    "drop_idx = df_train.join(df_train_week_ct[df_train_week_ct['week_dt'] == 1], on=['station_id', 'mediabase_id', 'breakout_id'], how='right', rsuffix='_r').index\n",
    "df_train.drop(index=drop_idx, inplace=True)"
   ],
   "metadata": {
    "collapsed": false
   }
  },
  {
   "cell_type": "code",
   "execution_count": 10,
   "outputs": [
    {
     "data": {
      "text/plain": "demo_category  segment         taa_quintile\nAge            Old             1                2252\n                               2                6295\n                               3                6168\n                               4                8090\n                               5               21146\n               Young           1                2252\n                               2                6295\n                               3                6173\n                               4                8088\n                               5               21143\nCore-Cume      Core            1                2251\n                               2                6293\n                               3                6169\n                               4                8089\n                               5               21150\n               Non-Core        1                2242\n                               2                6266\n                               3                6147\n                               4                8039\n                               5               21049\nGender         Female_(18-24)  1                2064\n                               2                5963\n                               3                5678\n                               4                7388\n                               5               18942\n               Female_Other    1                2064\n                               2                5960\n                               3                5680\n                               4                7387\n                               5               18943\nRace           AA              1                  82\n                               2                 234\n                               3                 325\n                               4                 583\n                               5                1680\n               Hispanic        1                1559\n                               2                4353\n                               3                4130\n                               4                5280\n                               5               13842\n               White           1                2250\n                               2                6595\n                               3                6431\n                               4                8478\n                               5               22208\nTotal          Total           1                2252\n                               2                6294\n                               3                6170\n                               4                8083\n                               5               21133\nName: mediabase_id, dtype: int64"
     },
     "execution_count": 10,
     "metadata": {},
     "output_type": "execute_result"
    }
   ],
   "source": [
    "df_train.groupby(['demo_category', 'segment', 'taa_quintile'])['mediabase_id'].count()"
   ],
   "metadata": {
    "collapsed": false
   }
  },
  {
   "cell_type": "markdown",
   "source": [
    "### Investigate columns with missing data"
   ],
   "metadata": {
    "collapsed": false
   }
  },
  {
   "cell_type": "code",
   "execution_count": 11,
   "outputs": [
    {
     "data": {
      "text/plain": "0"
     },
     "execution_count": 11,
     "metadata": {},
     "output_type": "execute_result"
    }
   ],
   "source": [
    "len(df_train[pd.isna(df_train['mediabase_id'])])"
   ],
   "metadata": {
    "collapsed": false
   }
  },
  {
   "cell_type": "code",
   "execution_count": 12,
   "outputs": [
    {
     "data": {
      "text/plain": "1.0"
     },
     "execution_count": 12,
     "metadata": {},
     "output_type": "execute_result"
    }
   ],
   "source": [
    "len(df_train[df_train['gcr'] == df_train['gcr_adj']])/len(df_train)"
   ],
   "metadata": {
    "collapsed": false
   }
  },
  {
   "cell_type": "code",
   "execution_count": 17,
   "outputs": [
    {
     "data": {
      "text/plain": "108"
     },
     "execution_count": 17,
     "metadata": {},
     "output_type": "execute_result"
    }
   ],
   "source": [
    "len(df_train.columns)"
   ],
   "metadata": {
    "collapsed": false
   }
  },
  {
   "cell_type": "code",
   "execution_count": 7,
   "outputs": [
    {
     "data": {
      "text/plain": "(614649, 108)"
     },
     "execution_count": 7,
     "metadata": {},
     "output_type": "execute_result"
    }
   ],
   "source": [
    "df_train.shape"
   ],
   "metadata": {
    "collapsed": false
   }
  },
  {
   "cell_type": "code",
   "execution_count": 8,
   "outputs": [
    {
     "data": {
      "text/plain": "station_test_1_plus  station_test_1_id\n0                    1                     58773\n1                    0                    497747\n                     1                     58129\nName: mediabase_id, dtype: int64"
     },
     "execution_count": 8,
     "metadata": {},
     "output_type": "execute_result"
    }
   ],
   "source": [
    "df_train.groupby(['station_test_1_plus', 'station_test_1_id'])['mediabase_id'].count()"
   ],
   "metadata": {
    "collapsed": false
   }
  },
  {
   "cell_type": "markdown",
   "source": [
    "##### isolate numeric and categorical columns"
   ],
   "metadata": {
    "collapsed": false
   }
  },
  {
   "cell_type": "code",
   "execution_count": 17,
   "outputs": [],
   "source": [
    "# constants\n",
    "num_cols_like = ['artist_count', 'feat_artist', 'feat_artist_song', 'mscore', 'spins','pop_prior',\n",
    "                 'pop_artist_prior', 'song_age_weeks', 'song_last_test']\n",
    "cat_cols_like = ['Market_Name', 'taa_quintile', 'segment', 'gcr', 'gcr_adj', 'omt_co_flag']\n",
    "target = ['pop_all']\n",
    "id_cols = ['mediabase_id', 'station_id', 'week_dt', 'breakout_id', 'breakout_name', 'demo_category', 'pop_co', 'pop_omt', 'gcr']\n",
    "\n",
    "exclude_cols_like = ['date','song_last_test_any_weeks','song_last_test_co_weeks', 'song_last_test_omt_weeks',\n",
    "                     'std_pop_prior', 'std_pop_artist_prior']#,'_unv']#,'univ_spins', 'market_spins']"
   ],
   "metadata": {
    "collapsed": false
   }
  },
  {
   "cell_type": "code",
   "execution_count": 18,
   "outputs": [],
   "source": [
    "id_cols = id_cols\n",
    "target_col = target\n",
    "exclude_cols = df_train.columns[df_train.columns.str.contains('|'.join(exclude_cols_like), regex=True)]\n",
    "\n",
    "cat_cols = list(set(df_train.columns[df_train.columns.str.contains('|'.join(cat_cols_like), regex=True)]) - set(\n",
    "    id_cols) - set(exclude_cols))\n",
    "\n",
    "num_cols = list(set(df_train.select_dtypes(exclude=['object', 'datetime64']).columns) & set(\n",
    "df_train.columns[(df_train.columns.str.contains('|'.join(num_cols_like), regex=True))]) - set(id_cols) - set(cat_cols) - set(exclude_cols))\n",
    "\n",
    "feature_cols = list(set(list(num_cols) + list(cat_cols)))"
   ],
   "metadata": {
    "collapsed": false
   }
  },
  {
   "cell_type": "code",
   "execution_count": 19,
   "outputs": [
    {
     "data": {
      "text/plain": "Index(['song_release_date', 'song_last_test_any_weeks',\n       'song_last_test_co_weeks', 'song_last_test_omt_weeks', 'std_pop_prior',\n       'mr_pop_prior_date', 'mr_pop_prior_unv_date', 'std_pop_artist_prior'],\n      dtype='object')"
     },
     "execution_count": 19,
     "metadata": {},
     "output_type": "execute_result"
    }
   ],
   "source": [
    "exclude_cols"
   ],
   "metadata": {
    "collapsed": false
   }
  },
  {
   "cell_type": "markdown",
   "source": [
    "##### check missingness by different feature types"
   ],
   "metadata": {
    "collapsed": false
   }
  },
  {
   "cell_type": "code",
   "execution_count": 34,
   "outputs": [],
   "source": [
    "# check missingness by instance (station-song combination) for categorical variables\n",
    "cols_avl_cat = df_train.groupby(['station_id', 'mediabase_id'])[cat_cols].agg(lambda x: 1 - sum(pd.isnull(x))/(1.0*len(x))).reset_index()"
   ],
   "metadata": {
    "collapsed": false
   }
  },
  {
   "cell_type": "code",
   "execution_count": 35,
   "outputs": [
    {
     "data": {
      "text/plain": "         station_id  mediabase_id  taa_quintile  gcr_adj  omt_co_flag  \\\ncount  4.774000e+03  4.774000e+03        4774.0   4774.0       4774.0   \nmean   3.344216e+06  2.450651e+06           1.0      1.0          1.0   \nstd    1.742303e+05  3.943128e+05           0.0      0.0          0.0   \nmin    3.321797e+06  1.085550e+06           1.0      1.0          1.0   \n25%    3.322025e+06  2.355676e+06           1.0      1.0          1.0   \n50%    3.322828e+06  2.583267e+06           1.0      1.0          1.0   \n75%    3.323410e+06  2.720314e+06           1.0      1.0          1.0   \nmax    4.762077e+06  2.848773e+06           1.0      1.0          1.0   \n\n       Market_Name  segment  \ncount       4774.0   4774.0  \nmean           1.0      1.0  \nstd            0.0      0.0  \nmin            1.0      1.0  \n25%            1.0      1.0  \n50%            1.0      1.0  \n75%            1.0      1.0  \nmax            1.0      1.0  ",
      "text/html": "<div>\n<style scoped>\n    .dataframe tbody tr th:only-of-type {\n        vertical-align: middle;\n    }\n\n    .dataframe tbody tr th {\n        vertical-align: top;\n    }\n\n    .dataframe thead th {\n        text-align: right;\n    }\n</style>\n<table border=\"1\" class=\"dataframe\">\n  <thead>\n    <tr style=\"text-align: right;\">\n      <th></th>\n      <th>station_id</th>\n      <th>mediabase_id</th>\n      <th>taa_quintile</th>\n      <th>gcr_adj</th>\n      <th>omt_co_flag</th>\n      <th>Market_Name</th>\n      <th>segment</th>\n    </tr>\n  </thead>\n  <tbody>\n    <tr>\n      <th>count</th>\n      <td>4.774000e+03</td>\n      <td>4.774000e+03</td>\n      <td>4774.0</td>\n      <td>4774.0</td>\n      <td>4774.0</td>\n      <td>4774.0</td>\n      <td>4774.0</td>\n    </tr>\n    <tr>\n      <th>mean</th>\n      <td>3.344216e+06</td>\n      <td>2.450651e+06</td>\n      <td>1.0</td>\n      <td>1.0</td>\n      <td>1.0</td>\n      <td>1.0</td>\n      <td>1.0</td>\n    </tr>\n    <tr>\n      <th>std</th>\n      <td>1.742303e+05</td>\n      <td>3.943128e+05</td>\n      <td>0.0</td>\n      <td>0.0</td>\n      <td>0.0</td>\n      <td>0.0</td>\n      <td>0.0</td>\n    </tr>\n    <tr>\n      <th>min</th>\n      <td>3.321797e+06</td>\n      <td>1.085550e+06</td>\n      <td>1.0</td>\n      <td>1.0</td>\n      <td>1.0</td>\n      <td>1.0</td>\n      <td>1.0</td>\n    </tr>\n    <tr>\n      <th>25%</th>\n      <td>3.322025e+06</td>\n      <td>2.355676e+06</td>\n      <td>1.0</td>\n      <td>1.0</td>\n      <td>1.0</td>\n      <td>1.0</td>\n      <td>1.0</td>\n    </tr>\n    <tr>\n      <th>50%</th>\n      <td>3.322828e+06</td>\n      <td>2.583267e+06</td>\n      <td>1.0</td>\n      <td>1.0</td>\n      <td>1.0</td>\n      <td>1.0</td>\n      <td>1.0</td>\n    </tr>\n    <tr>\n      <th>75%</th>\n      <td>3.323410e+06</td>\n      <td>2.720314e+06</td>\n      <td>1.0</td>\n      <td>1.0</td>\n      <td>1.0</td>\n      <td>1.0</td>\n      <td>1.0</td>\n    </tr>\n    <tr>\n      <th>max</th>\n      <td>4.762077e+06</td>\n      <td>2.848773e+06</td>\n      <td>1.0</td>\n      <td>1.0</td>\n      <td>1.0</td>\n      <td>1.0</td>\n      <td>1.0</td>\n    </tr>\n  </tbody>\n</table>\n</div>"
     },
     "execution_count": 35,
     "metadata": {},
     "output_type": "execute_result"
    }
   ],
   "source": [
    "cols_avl_cat.describe()"
   ],
   "metadata": {
    "collapsed": false
   }
  },
  {
   "cell_type": "code",
   "execution_count": 24,
   "outputs": [
    {
     "data": {
      "text/plain": "      mediabase_id  station_id     week_dt  artist_id    format_code  \\\n2125       1086587     3321797  2022-07-31   26365333  {format_code}   \n2128       1086587     3321797  2022-08-21   26365333  {format_code}   \n2132       1086587     3321797  2022-09-04   26365333  {format_code}   \n2133       1086587     3321797  2022-09-18   26365333  {format_code}   \n2136       1086587     3321797  2022-10-02   26365333  {format_code}   \n2138       1086587     3321797  2022-10-16   26365333  {format_code}   \n2139       1086587     3321797  2022-10-30   26365333  {format_code}   \n2141       1086587     3321797  2022-11-27   26365333  {format_code}   \n2087       1086587     3321797  2022-07-31   26365333  {format_code}   \n2090       1086587     3321797  2022-08-21   26365333  {format_code}   \n2093       1086587     3321797  2022-09-04   26365333  {format_code}   \n2096       1086587     3321797  2022-09-18   26365333  {format_code}   \n2099       1086587     3321797  2022-10-02   26365333  {format_code}   \n2102       1086587     3321797  2022-10-16   26365333  {format_code}   \n2104       1086587     3321797  2022-10-30   26365333  {format_code}   \n2105       1086587     3321797  2022-11-27   26365333  {format_code}   \n2107       1086587     3321797  2022-07-31   26365333  {format_code}   \n2108       1086587     3321797  2022-08-21   26365333  {format_code}   \n2110       1086587     3321797  2022-09-04   26365333  {format_code}   \n2111       1086587     3321797  2022-09-18   26365333  {format_code}   \n2113       1086587     3321797  2022-10-02   26365333  {format_code}   \n2117       1086587     3321797  2022-10-16   26365333  {format_code}   \n2119       1086587     3321797  2022-10-30   26365333  {format_code}   \n2121       1086587     3321797  2022-11-27   26365333  {format_code}   \n2070       1086587     3321797  2022-07-31   26365333  {format_code}   \n2072       1086587     3321797  2022-08-21   26365333  {format_code}   \n2074       1086587     3321797  2022-09-04   26365333  {format_code}   \n2075       1086587     3321797  2022-09-18   26365333  {format_code}   \n2077       1086587     3321797  2022-10-02   26365333  {format_code}   \n2078       1086587     3321797  2022-10-16   26365333  {format_code}   \n2081       1086587     3321797  2022-10-30   26365333  {format_code}   \n2084       1086587     3321797  2022-11-27   26365333  {format_code}   \n2062       1086587     3321797  2022-07-31   26365333  {format_code}   \n2064       1086587     3321797  2022-08-21   26365333  {format_code}   \n2065       1086587     3321797  2022-09-04   26365333  {format_code}   \n2067       1086587     3321797  2022-09-18   26365333  {format_code}   \n2068       1086587     3321797  2022-10-30   26365333  {format_code}   \n\n      FirstLast                       SongTitle Market_Name song_release_date  \\\n2125  KATE BUSH  Running Up That Hill (A Deal..     Seattle        2022-06-01   \n2128  KATE BUSH  Running Up That Hill (A Deal..     Seattle        2022-06-01   \n2132  KATE BUSH  Running Up That Hill (A Deal..     Seattle        2022-06-01   \n2133  KATE BUSH  Running Up That Hill (A Deal..     Seattle        2022-06-01   \n2136  KATE BUSH  Running Up That Hill (A Deal..     Seattle        2022-06-01   \n2138  KATE BUSH  Running Up That Hill (A Deal..     Seattle        2022-06-01   \n2139  KATE BUSH  Running Up That Hill (A Deal..     Seattle        2022-06-01   \n2141  KATE BUSH  Running Up That Hill (A Deal..     Seattle        2022-06-01   \n2087  KATE BUSH  Running Up That Hill (A Deal..     Seattle        2022-06-01   \n2090  KATE BUSH  Running Up That Hill (A Deal..     Seattle        2022-06-01   \n2093  KATE BUSH  Running Up That Hill (A Deal..     Seattle        2022-06-01   \n2096  KATE BUSH  Running Up That Hill (A Deal..     Seattle        2022-06-01   \n2099  KATE BUSH  Running Up That Hill (A Deal..     Seattle        2022-06-01   \n2102  KATE BUSH  Running Up That Hill (A Deal..     Seattle        2022-06-01   \n2104  KATE BUSH  Running Up That Hill (A Deal..     Seattle        2022-06-01   \n2105  KATE BUSH  Running Up That Hill (A Deal..     Seattle        2022-06-01   \n2107  KATE BUSH  Running Up That Hill (A Deal..     Seattle        2022-06-01   \n2108  KATE BUSH  Running Up That Hill (A Deal..     Seattle        2022-06-01   \n2110  KATE BUSH  Running Up That Hill (A Deal..     Seattle        2022-06-01   \n2111  KATE BUSH  Running Up That Hill (A Deal..     Seattle        2022-06-01   \n2113  KATE BUSH  Running Up That Hill (A Deal..     Seattle        2022-06-01   \n2117  KATE BUSH  Running Up That Hill (A Deal..     Seattle        2022-06-01   \n2119  KATE BUSH  Running Up That Hill (A Deal..     Seattle        2022-06-01   \n2121  KATE BUSH  Running Up That Hill (A Deal..     Seattle        2022-06-01   \n2070  KATE BUSH  Running Up That Hill (A Deal..     Seattle        2022-06-01   \n2072  KATE BUSH  Running Up That Hill (A Deal..     Seattle        2022-06-01   \n2074  KATE BUSH  Running Up That Hill (A Deal..     Seattle        2022-06-01   \n2075  KATE BUSH  Running Up That Hill (A Deal..     Seattle        2022-06-01   \n2077  KATE BUSH  Running Up That Hill (A Deal..     Seattle        2022-06-01   \n2078  KATE BUSH  Running Up That Hill (A Deal..     Seattle        2022-06-01   \n2081  KATE BUSH  Running Up That Hill (A Deal..     Seattle        2022-06-01   \n2084  KATE BUSH  Running Up That Hill (A Deal..     Seattle        2022-06-01   \n2062  KATE BUSH  Running Up That Hill (A Deal..     Seattle        2022-06-01   \n2064  KATE BUSH  Running Up That Hill (A Deal..     Seattle        2022-06-01   \n2065  KATE BUSH  Running Up That Hill (A Deal..     Seattle        2022-06-01   \n2067  KATE BUSH  Running Up That Hill (A Deal..     Seattle        2022-06-01   \n2068  KATE BUSH  Running Up That Hill (A Deal..     Seattle        2022-06-01   \n\n      breakout_id  ... mean_pop_artist_prior  std_pop_artist_prior  \\\n2125       428784  ...                   NaN                   NaN   \n2128       428784  ...             64.000000                   NaN   \n2132       428784  ...             71.000000              9.899495   \n2133       428784  ...             71.333333              7.023769   \n2136       428784  ...             72.000000              5.887841   \n2138       428784  ...             70.600000              5.983310   \n2139       428784  ...             71.500000              5.787918   \n2141       428784  ...             72.714286              6.183696   \n2087       428762  ...                   NaN                   NaN   \n2090       428762  ...             59.000000                   NaN   \n2093       428762  ...             70.500000             16.263456   \n2096       428762  ...             70.333333             11.503623   \n2099       428762  ...             71.000000              9.486833   \n2102       428762  ...             69.400000              8.961027   \n2104       428762  ...             69.000000              8.074652   \n2105       428762  ...             70.857143              8.858679   \n2107       428763  ...                   NaN                   NaN   \n2108       428763  ...             63.000000                   NaN   \n2110       428763  ...             71.500000             12.020815   \n2111       428763  ...             72.000000              8.544004   \n2113       428763  ...             72.000000              6.976150   \n2117       428763  ...             70.600000              6.804410   \n2119       428763  ...             70.833333              6.112828   \n2121       428763  ...             72.000000              6.377042   \n2070       414115  ...                   NaN                   NaN   \n2072       414115  ...             62.000000                   NaN   \n2074       414115  ...             67.000000              7.071068   \n2075       414115  ...             69.000000              6.082763   \n2077       414115  ...             67.750000              5.560276   \n2078       414115  ...             67.800000              4.816638   \n2081       414115  ...             69.333333              5.715476   \n2084       414115  ...             71.285714              7.341986   \n2062       413250  ...                   NaN                   NaN   \n2064       413250  ...             80.000000                   NaN   \n2065       413250  ...             77.500000              3.535534   \n2067       413250  ...             73.333333              7.637626   \n2068       413250  ...             67.500000             13.228757   \n\n      count_pop_artist_prior  max_pop_artist_prior_unv  \\\n2125                     NaN                       NaN   \n2128                     1.0                      64.0   \n2132                     2.0                      78.0   \n2133                     3.0                      78.0   \n2136                     4.0                      78.0   \n2138                     5.0                      78.0   \n2139                     6.0                      78.0   \n2141                     7.0                      80.0   \n2087                     NaN                       NaN   \n2090                     1.0                      59.0   \n2093                     2.0                      82.0   \n2096                     3.0                      82.0   \n2099                     4.0                      82.0   \n2102                     5.0                      82.0   \n2104                     6.0                      82.0   \n2105                     7.0                      82.0   \n2107                     NaN                       NaN   \n2108                     1.0                      63.0   \n2110                     2.0                      80.0   \n2111                     3.0                      80.0   \n2113                     4.0                      80.0   \n2117                     5.0                      80.0   \n2119                     6.0                      80.0   \n2121                     7.0                      80.0   \n2070                     NaN                       NaN   \n2072                     1.0                      62.0   \n2074                     2.0                      72.0   \n2075                     3.0                      73.0   \n2077                     4.0                      73.0   \n2078                     5.0                      73.0   \n2081                     6.0                      77.0   \n2084                     7.0                      83.0   \n2062                     NaN                       NaN   \n2064                     1.0                      80.0   \n2065                     2.0                      80.0   \n2067                     3.0                      80.0   \n2068                     4.0                      80.0   \n\n     min_pop_artist_prior_unv mean_pop_artist_prior_unv  \\\n2125                      NaN                       NaN   \n2128                     64.0                 64.000000   \n2132                     64.0                 68.666667   \n2133                     64.0                 70.000000   \n2136                     64.0                 70.800000   \n2138                     64.0                 70.733333   \n2139                     64.0                 70.952381   \n2141                     64.0                 71.392857   \n2087                      NaN                       NaN   \n2090                     59.0                 59.000000   \n2093                     59.0                 66.666667   \n2096                     59.0                 68.500000   \n2099                     59.0                 69.500000   \n2102                     59.0                 69.466667   \n2104                     59.0                 69.333333   \n2105                     59.0                 69.714286   \n2107                      NaN                       NaN   \n2108                     63.0                 63.000000   \n2110                     63.0                 68.666667   \n2111                     63.0                 70.333333   \n2113                     63.0                 71.000000   \n2117                     63.0                 70.866667   \n2119                     63.0                 70.857143   \n2121                     63.0                 71.142857   \n2070                      NaN                       NaN   \n2072                     62.0                 62.000000   \n2074                     62.0                 65.333333   \n2075                     62.0                 67.166667   \n2077                     62.0                 67.400000   \n2078                     62.0                 67.533333   \n2081                     62.0                 68.047619   \n2084                     62.0                 68.857143   \n2062                      NaN                       NaN   \n2064                     80.0                 80.000000   \n2065                     75.0                 78.333333   \n2067                     65.0                 75.833333   \n2068                     50.0                 72.500000   \n\n      count_pop_artist_prior_unv  mr_pop_artist_prior_unv  segment  \\\n2125                         NaN                      NaN     None   \n2128                         1.0                     64.0     None   \n2132                         3.0                     78.0     None   \n2133                         6.0                     72.0     None   \n2136                        10.0                     74.0     None   \n2138                        15.0                     65.0     None   \n2139                        21.0                     76.0     None   \n2141                        28.0                     80.0     None   \n2087                         NaN                      NaN     None   \n2090                         1.0                     59.0     None   \n2093                         3.0                     82.0     None   \n2096                         6.0                     70.0     None   \n2099                        10.0                     73.0     None   \n2102                        15.0                     63.0     None   \n2104                        21.0                     67.0     None   \n2105                        28.0                     82.0     None   \n2107                         NaN                      NaN     None   \n2108                         1.0                     63.0     None   \n2110                         3.0                     80.0     None   \n2111                         6.0                     73.0     None   \n2113                        10.0                     72.0     None   \n2117                        15.0                     65.0     None   \n2119                        21.0                     72.0     None   \n2121                        28.0                     79.0     None   \n2070                         NaN                      NaN     None   \n2072                         1.0                     62.0     None   \n2074                         3.0                     72.0     None   \n2075                         6.0                     73.0     None   \n2077                        10.0                     64.0     None   \n2078                        15.0                     68.0     None   \n2081                        21.0                     77.0     None   \n2084                        28.0                     83.0     None   \n2062                         NaN                      NaN     None   \n2064                         1.0                     80.0     None   \n2065                         3.0                     75.0     None   \n2067                         6.0                     65.0     None   \n2068                        10.0                     50.0     None   \n\n      demo_category  \n2125           None  \n2128           None  \n2132           None  \n2133           None  \n2136           None  \n2138           None  \n2139           None  \n2141           None  \n2087           None  \n2090           None  \n2093           None  \n2096           None  \n2099           None  \n2102           None  \n2104           None  \n2105           None  \n2107           None  \n2108           None  \n2110           None  \n2111           None  \n2113           None  \n2117           None  \n2119           None  \n2121           None  \n2070           None  \n2072           None  \n2074           None  \n2075           None  \n2077           None  \n2078           None  \n2081           None  \n2084           None  \n2062           None  \n2064           None  \n2065           None  \n2067           None  \n2068           None  \n\n[37 rows x 110 columns]",
      "text/html": "<div>\n<style scoped>\n    .dataframe tbody tr th:only-of-type {\n        vertical-align: middle;\n    }\n\n    .dataframe tbody tr th {\n        vertical-align: top;\n    }\n\n    .dataframe thead th {\n        text-align: right;\n    }\n</style>\n<table border=\"1\" class=\"dataframe\">\n  <thead>\n    <tr style=\"text-align: right;\">\n      <th></th>\n      <th>mediabase_id</th>\n      <th>station_id</th>\n      <th>week_dt</th>\n      <th>artist_id</th>\n      <th>format_code</th>\n      <th>FirstLast</th>\n      <th>SongTitle</th>\n      <th>Market_Name</th>\n      <th>song_release_date</th>\n      <th>breakout_id</th>\n      <th>...</th>\n      <th>mean_pop_artist_prior</th>\n      <th>std_pop_artist_prior</th>\n      <th>count_pop_artist_prior</th>\n      <th>max_pop_artist_prior_unv</th>\n      <th>min_pop_artist_prior_unv</th>\n      <th>mean_pop_artist_prior_unv</th>\n      <th>count_pop_artist_prior_unv</th>\n      <th>mr_pop_artist_prior_unv</th>\n      <th>segment</th>\n      <th>demo_category</th>\n    </tr>\n  </thead>\n  <tbody>\n    <tr>\n      <th>2125</th>\n      <td>1086587</td>\n      <td>3321797</td>\n      <td>2022-07-31</td>\n      <td>26365333</td>\n      <td>{format_code}</td>\n      <td>KATE BUSH</td>\n      <td>Running Up That Hill (A Deal..</td>\n      <td>Seattle</td>\n      <td>2022-06-01</td>\n      <td>428784</td>\n      <td>...</td>\n      <td>NaN</td>\n      <td>NaN</td>\n      <td>NaN</td>\n      <td>NaN</td>\n      <td>NaN</td>\n      <td>NaN</td>\n      <td>NaN</td>\n      <td>NaN</td>\n      <td>None</td>\n      <td>None</td>\n    </tr>\n    <tr>\n      <th>2128</th>\n      <td>1086587</td>\n      <td>3321797</td>\n      <td>2022-08-21</td>\n      <td>26365333</td>\n      <td>{format_code}</td>\n      <td>KATE BUSH</td>\n      <td>Running Up That Hill (A Deal..</td>\n      <td>Seattle</td>\n      <td>2022-06-01</td>\n      <td>428784</td>\n      <td>...</td>\n      <td>64.000000</td>\n      <td>NaN</td>\n      <td>1.0</td>\n      <td>64.0</td>\n      <td>64.0</td>\n      <td>64.000000</td>\n      <td>1.0</td>\n      <td>64.0</td>\n      <td>None</td>\n      <td>None</td>\n    </tr>\n    <tr>\n      <th>2132</th>\n      <td>1086587</td>\n      <td>3321797</td>\n      <td>2022-09-04</td>\n      <td>26365333</td>\n      <td>{format_code}</td>\n      <td>KATE BUSH</td>\n      <td>Running Up That Hill (A Deal..</td>\n      <td>Seattle</td>\n      <td>2022-06-01</td>\n      <td>428784</td>\n      <td>...</td>\n      <td>71.000000</td>\n      <td>9.899495</td>\n      <td>2.0</td>\n      <td>78.0</td>\n      <td>64.0</td>\n      <td>68.666667</td>\n      <td>3.0</td>\n      <td>78.0</td>\n      <td>None</td>\n      <td>None</td>\n    </tr>\n    <tr>\n      <th>2133</th>\n      <td>1086587</td>\n      <td>3321797</td>\n      <td>2022-09-18</td>\n      <td>26365333</td>\n      <td>{format_code}</td>\n      <td>KATE BUSH</td>\n      <td>Running Up That Hill (A Deal..</td>\n      <td>Seattle</td>\n      <td>2022-06-01</td>\n      <td>428784</td>\n      <td>...</td>\n      <td>71.333333</td>\n      <td>7.023769</td>\n      <td>3.0</td>\n      <td>78.0</td>\n      <td>64.0</td>\n      <td>70.000000</td>\n      <td>6.0</td>\n      <td>72.0</td>\n      <td>None</td>\n      <td>None</td>\n    </tr>\n    <tr>\n      <th>2136</th>\n      <td>1086587</td>\n      <td>3321797</td>\n      <td>2022-10-02</td>\n      <td>26365333</td>\n      <td>{format_code}</td>\n      <td>KATE BUSH</td>\n      <td>Running Up That Hill (A Deal..</td>\n      <td>Seattle</td>\n      <td>2022-06-01</td>\n      <td>428784</td>\n      <td>...</td>\n      <td>72.000000</td>\n      <td>5.887841</td>\n      <td>4.0</td>\n      <td>78.0</td>\n      <td>64.0</td>\n      <td>70.800000</td>\n      <td>10.0</td>\n      <td>74.0</td>\n      <td>None</td>\n      <td>None</td>\n    </tr>\n    <tr>\n      <th>2138</th>\n      <td>1086587</td>\n      <td>3321797</td>\n      <td>2022-10-16</td>\n      <td>26365333</td>\n      <td>{format_code}</td>\n      <td>KATE BUSH</td>\n      <td>Running Up That Hill (A Deal..</td>\n      <td>Seattle</td>\n      <td>2022-06-01</td>\n      <td>428784</td>\n      <td>...</td>\n      <td>70.600000</td>\n      <td>5.983310</td>\n      <td>5.0</td>\n      <td>78.0</td>\n      <td>64.0</td>\n      <td>70.733333</td>\n      <td>15.0</td>\n      <td>65.0</td>\n      <td>None</td>\n      <td>None</td>\n    </tr>\n    <tr>\n      <th>2139</th>\n      <td>1086587</td>\n      <td>3321797</td>\n      <td>2022-10-30</td>\n      <td>26365333</td>\n      <td>{format_code}</td>\n      <td>KATE BUSH</td>\n      <td>Running Up That Hill (A Deal..</td>\n      <td>Seattle</td>\n      <td>2022-06-01</td>\n      <td>428784</td>\n      <td>...</td>\n      <td>71.500000</td>\n      <td>5.787918</td>\n      <td>6.0</td>\n      <td>78.0</td>\n      <td>64.0</td>\n      <td>70.952381</td>\n      <td>21.0</td>\n      <td>76.0</td>\n      <td>None</td>\n      <td>None</td>\n    </tr>\n    <tr>\n      <th>2141</th>\n      <td>1086587</td>\n      <td>3321797</td>\n      <td>2022-11-27</td>\n      <td>26365333</td>\n      <td>{format_code}</td>\n      <td>KATE BUSH</td>\n      <td>Running Up That Hill (A Deal..</td>\n      <td>Seattle</td>\n      <td>2022-06-01</td>\n      <td>428784</td>\n      <td>...</td>\n      <td>72.714286</td>\n      <td>6.183696</td>\n      <td>7.0</td>\n      <td>80.0</td>\n      <td>64.0</td>\n      <td>71.392857</td>\n      <td>28.0</td>\n      <td>80.0</td>\n      <td>None</td>\n      <td>None</td>\n    </tr>\n    <tr>\n      <th>2087</th>\n      <td>1086587</td>\n      <td>3321797</td>\n      <td>2022-07-31</td>\n      <td>26365333</td>\n      <td>{format_code}</td>\n      <td>KATE BUSH</td>\n      <td>Running Up That Hill (A Deal..</td>\n      <td>Seattle</td>\n      <td>2022-06-01</td>\n      <td>428762</td>\n      <td>...</td>\n      <td>NaN</td>\n      <td>NaN</td>\n      <td>NaN</td>\n      <td>NaN</td>\n      <td>NaN</td>\n      <td>NaN</td>\n      <td>NaN</td>\n      <td>NaN</td>\n      <td>None</td>\n      <td>None</td>\n    </tr>\n    <tr>\n      <th>2090</th>\n      <td>1086587</td>\n      <td>3321797</td>\n      <td>2022-08-21</td>\n      <td>26365333</td>\n      <td>{format_code}</td>\n      <td>KATE BUSH</td>\n      <td>Running Up That Hill (A Deal..</td>\n      <td>Seattle</td>\n      <td>2022-06-01</td>\n      <td>428762</td>\n      <td>...</td>\n      <td>59.000000</td>\n      <td>NaN</td>\n      <td>1.0</td>\n      <td>59.0</td>\n      <td>59.0</td>\n      <td>59.000000</td>\n      <td>1.0</td>\n      <td>59.0</td>\n      <td>None</td>\n      <td>None</td>\n    </tr>\n    <tr>\n      <th>2093</th>\n      <td>1086587</td>\n      <td>3321797</td>\n      <td>2022-09-04</td>\n      <td>26365333</td>\n      <td>{format_code}</td>\n      <td>KATE BUSH</td>\n      <td>Running Up That Hill (A Deal..</td>\n      <td>Seattle</td>\n      <td>2022-06-01</td>\n      <td>428762</td>\n      <td>...</td>\n      <td>70.500000</td>\n      <td>16.263456</td>\n      <td>2.0</td>\n      <td>82.0</td>\n      <td>59.0</td>\n      <td>66.666667</td>\n      <td>3.0</td>\n      <td>82.0</td>\n      <td>None</td>\n      <td>None</td>\n    </tr>\n    <tr>\n      <th>2096</th>\n      <td>1086587</td>\n      <td>3321797</td>\n      <td>2022-09-18</td>\n      <td>26365333</td>\n      <td>{format_code}</td>\n      <td>KATE BUSH</td>\n      <td>Running Up That Hill (A Deal..</td>\n      <td>Seattle</td>\n      <td>2022-06-01</td>\n      <td>428762</td>\n      <td>...</td>\n      <td>70.333333</td>\n      <td>11.503623</td>\n      <td>3.0</td>\n      <td>82.0</td>\n      <td>59.0</td>\n      <td>68.500000</td>\n      <td>6.0</td>\n      <td>70.0</td>\n      <td>None</td>\n      <td>None</td>\n    </tr>\n    <tr>\n      <th>2099</th>\n      <td>1086587</td>\n      <td>3321797</td>\n      <td>2022-10-02</td>\n      <td>26365333</td>\n      <td>{format_code}</td>\n      <td>KATE BUSH</td>\n      <td>Running Up That Hill (A Deal..</td>\n      <td>Seattle</td>\n      <td>2022-06-01</td>\n      <td>428762</td>\n      <td>...</td>\n      <td>71.000000</td>\n      <td>9.486833</td>\n      <td>4.0</td>\n      <td>82.0</td>\n      <td>59.0</td>\n      <td>69.500000</td>\n      <td>10.0</td>\n      <td>73.0</td>\n      <td>None</td>\n      <td>None</td>\n    </tr>\n    <tr>\n      <th>2102</th>\n      <td>1086587</td>\n      <td>3321797</td>\n      <td>2022-10-16</td>\n      <td>26365333</td>\n      <td>{format_code}</td>\n      <td>KATE BUSH</td>\n      <td>Running Up That Hill (A Deal..</td>\n      <td>Seattle</td>\n      <td>2022-06-01</td>\n      <td>428762</td>\n      <td>...</td>\n      <td>69.400000</td>\n      <td>8.961027</td>\n      <td>5.0</td>\n      <td>82.0</td>\n      <td>59.0</td>\n      <td>69.466667</td>\n      <td>15.0</td>\n      <td>63.0</td>\n      <td>None</td>\n      <td>None</td>\n    </tr>\n    <tr>\n      <th>2104</th>\n      <td>1086587</td>\n      <td>3321797</td>\n      <td>2022-10-30</td>\n      <td>26365333</td>\n      <td>{format_code}</td>\n      <td>KATE BUSH</td>\n      <td>Running Up That Hill (A Deal..</td>\n      <td>Seattle</td>\n      <td>2022-06-01</td>\n      <td>428762</td>\n      <td>...</td>\n      <td>69.000000</td>\n      <td>8.074652</td>\n      <td>6.0</td>\n      <td>82.0</td>\n      <td>59.0</td>\n      <td>69.333333</td>\n      <td>21.0</td>\n      <td>67.0</td>\n      <td>None</td>\n      <td>None</td>\n    </tr>\n    <tr>\n      <th>2105</th>\n      <td>1086587</td>\n      <td>3321797</td>\n      <td>2022-11-27</td>\n      <td>26365333</td>\n      <td>{format_code}</td>\n      <td>KATE BUSH</td>\n      <td>Running Up That Hill (A Deal..</td>\n      <td>Seattle</td>\n      <td>2022-06-01</td>\n      <td>428762</td>\n      <td>...</td>\n      <td>70.857143</td>\n      <td>8.858679</td>\n      <td>7.0</td>\n      <td>82.0</td>\n      <td>59.0</td>\n      <td>69.714286</td>\n      <td>28.0</td>\n      <td>82.0</td>\n      <td>None</td>\n      <td>None</td>\n    </tr>\n    <tr>\n      <th>2107</th>\n      <td>1086587</td>\n      <td>3321797</td>\n      <td>2022-07-31</td>\n      <td>26365333</td>\n      <td>{format_code}</td>\n      <td>KATE BUSH</td>\n      <td>Running Up That Hill (A Deal..</td>\n      <td>Seattle</td>\n      <td>2022-06-01</td>\n      <td>428763</td>\n      <td>...</td>\n      <td>NaN</td>\n      <td>NaN</td>\n      <td>NaN</td>\n      <td>NaN</td>\n      <td>NaN</td>\n      <td>NaN</td>\n      <td>NaN</td>\n      <td>NaN</td>\n      <td>None</td>\n      <td>None</td>\n    </tr>\n    <tr>\n      <th>2108</th>\n      <td>1086587</td>\n      <td>3321797</td>\n      <td>2022-08-21</td>\n      <td>26365333</td>\n      <td>{format_code}</td>\n      <td>KATE BUSH</td>\n      <td>Running Up That Hill (A Deal..</td>\n      <td>Seattle</td>\n      <td>2022-06-01</td>\n      <td>428763</td>\n      <td>...</td>\n      <td>63.000000</td>\n      <td>NaN</td>\n      <td>1.0</td>\n      <td>63.0</td>\n      <td>63.0</td>\n      <td>63.000000</td>\n      <td>1.0</td>\n      <td>63.0</td>\n      <td>None</td>\n      <td>None</td>\n    </tr>\n    <tr>\n      <th>2110</th>\n      <td>1086587</td>\n      <td>3321797</td>\n      <td>2022-09-04</td>\n      <td>26365333</td>\n      <td>{format_code}</td>\n      <td>KATE BUSH</td>\n      <td>Running Up That Hill (A Deal..</td>\n      <td>Seattle</td>\n      <td>2022-06-01</td>\n      <td>428763</td>\n      <td>...</td>\n      <td>71.500000</td>\n      <td>12.020815</td>\n      <td>2.0</td>\n      <td>80.0</td>\n      <td>63.0</td>\n      <td>68.666667</td>\n      <td>3.0</td>\n      <td>80.0</td>\n      <td>None</td>\n      <td>None</td>\n    </tr>\n    <tr>\n      <th>2111</th>\n      <td>1086587</td>\n      <td>3321797</td>\n      <td>2022-09-18</td>\n      <td>26365333</td>\n      <td>{format_code}</td>\n      <td>KATE BUSH</td>\n      <td>Running Up That Hill (A Deal..</td>\n      <td>Seattle</td>\n      <td>2022-06-01</td>\n      <td>428763</td>\n      <td>...</td>\n      <td>72.000000</td>\n      <td>8.544004</td>\n      <td>3.0</td>\n      <td>80.0</td>\n      <td>63.0</td>\n      <td>70.333333</td>\n      <td>6.0</td>\n      <td>73.0</td>\n      <td>None</td>\n      <td>None</td>\n    </tr>\n    <tr>\n      <th>2113</th>\n      <td>1086587</td>\n      <td>3321797</td>\n      <td>2022-10-02</td>\n      <td>26365333</td>\n      <td>{format_code}</td>\n      <td>KATE BUSH</td>\n      <td>Running Up That Hill (A Deal..</td>\n      <td>Seattle</td>\n      <td>2022-06-01</td>\n      <td>428763</td>\n      <td>...</td>\n      <td>72.000000</td>\n      <td>6.976150</td>\n      <td>4.0</td>\n      <td>80.0</td>\n      <td>63.0</td>\n      <td>71.000000</td>\n      <td>10.0</td>\n      <td>72.0</td>\n      <td>None</td>\n      <td>None</td>\n    </tr>\n    <tr>\n      <th>2117</th>\n      <td>1086587</td>\n      <td>3321797</td>\n      <td>2022-10-16</td>\n      <td>26365333</td>\n      <td>{format_code}</td>\n      <td>KATE BUSH</td>\n      <td>Running Up That Hill (A Deal..</td>\n      <td>Seattle</td>\n      <td>2022-06-01</td>\n      <td>428763</td>\n      <td>...</td>\n      <td>70.600000</td>\n      <td>6.804410</td>\n      <td>5.0</td>\n      <td>80.0</td>\n      <td>63.0</td>\n      <td>70.866667</td>\n      <td>15.0</td>\n      <td>65.0</td>\n      <td>None</td>\n      <td>None</td>\n    </tr>\n    <tr>\n      <th>2119</th>\n      <td>1086587</td>\n      <td>3321797</td>\n      <td>2022-10-30</td>\n      <td>26365333</td>\n      <td>{format_code}</td>\n      <td>KATE BUSH</td>\n      <td>Running Up That Hill (A Deal..</td>\n      <td>Seattle</td>\n      <td>2022-06-01</td>\n      <td>428763</td>\n      <td>...</td>\n      <td>70.833333</td>\n      <td>6.112828</td>\n      <td>6.0</td>\n      <td>80.0</td>\n      <td>63.0</td>\n      <td>70.857143</td>\n      <td>21.0</td>\n      <td>72.0</td>\n      <td>None</td>\n      <td>None</td>\n    </tr>\n    <tr>\n      <th>2121</th>\n      <td>1086587</td>\n      <td>3321797</td>\n      <td>2022-11-27</td>\n      <td>26365333</td>\n      <td>{format_code}</td>\n      <td>KATE BUSH</td>\n      <td>Running Up That Hill (A Deal..</td>\n      <td>Seattle</td>\n      <td>2022-06-01</td>\n      <td>428763</td>\n      <td>...</td>\n      <td>72.000000</td>\n      <td>6.377042</td>\n      <td>7.0</td>\n      <td>80.0</td>\n      <td>63.0</td>\n      <td>71.142857</td>\n      <td>28.0</td>\n      <td>79.0</td>\n      <td>None</td>\n      <td>None</td>\n    </tr>\n    <tr>\n      <th>2070</th>\n      <td>1086587</td>\n      <td>3321797</td>\n      <td>2022-07-31</td>\n      <td>26365333</td>\n      <td>{format_code}</td>\n      <td>KATE BUSH</td>\n      <td>Running Up That Hill (A Deal..</td>\n      <td>Seattle</td>\n      <td>2022-06-01</td>\n      <td>414115</td>\n      <td>...</td>\n      <td>NaN</td>\n      <td>NaN</td>\n      <td>NaN</td>\n      <td>NaN</td>\n      <td>NaN</td>\n      <td>NaN</td>\n      <td>NaN</td>\n      <td>NaN</td>\n      <td>None</td>\n      <td>None</td>\n    </tr>\n    <tr>\n      <th>2072</th>\n      <td>1086587</td>\n      <td>3321797</td>\n      <td>2022-08-21</td>\n      <td>26365333</td>\n      <td>{format_code}</td>\n      <td>KATE BUSH</td>\n      <td>Running Up That Hill (A Deal..</td>\n      <td>Seattle</td>\n      <td>2022-06-01</td>\n      <td>414115</td>\n      <td>...</td>\n      <td>62.000000</td>\n      <td>NaN</td>\n      <td>1.0</td>\n      <td>62.0</td>\n      <td>62.0</td>\n      <td>62.000000</td>\n      <td>1.0</td>\n      <td>62.0</td>\n      <td>None</td>\n      <td>None</td>\n    </tr>\n    <tr>\n      <th>2074</th>\n      <td>1086587</td>\n      <td>3321797</td>\n      <td>2022-09-04</td>\n      <td>26365333</td>\n      <td>{format_code}</td>\n      <td>KATE BUSH</td>\n      <td>Running Up That Hill (A Deal..</td>\n      <td>Seattle</td>\n      <td>2022-06-01</td>\n      <td>414115</td>\n      <td>...</td>\n      <td>67.000000</td>\n      <td>7.071068</td>\n      <td>2.0</td>\n      <td>72.0</td>\n      <td>62.0</td>\n      <td>65.333333</td>\n      <td>3.0</td>\n      <td>72.0</td>\n      <td>None</td>\n      <td>None</td>\n    </tr>\n    <tr>\n      <th>2075</th>\n      <td>1086587</td>\n      <td>3321797</td>\n      <td>2022-09-18</td>\n      <td>26365333</td>\n      <td>{format_code}</td>\n      <td>KATE BUSH</td>\n      <td>Running Up That Hill (A Deal..</td>\n      <td>Seattle</td>\n      <td>2022-06-01</td>\n      <td>414115</td>\n      <td>...</td>\n      <td>69.000000</td>\n      <td>6.082763</td>\n      <td>3.0</td>\n      <td>73.0</td>\n      <td>62.0</td>\n      <td>67.166667</td>\n      <td>6.0</td>\n      <td>73.0</td>\n      <td>None</td>\n      <td>None</td>\n    </tr>\n    <tr>\n      <th>2077</th>\n      <td>1086587</td>\n      <td>3321797</td>\n      <td>2022-10-02</td>\n      <td>26365333</td>\n      <td>{format_code}</td>\n      <td>KATE BUSH</td>\n      <td>Running Up That Hill (A Deal..</td>\n      <td>Seattle</td>\n      <td>2022-06-01</td>\n      <td>414115</td>\n      <td>...</td>\n      <td>67.750000</td>\n      <td>5.560276</td>\n      <td>4.0</td>\n      <td>73.0</td>\n      <td>62.0</td>\n      <td>67.400000</td>\n      <td>10.0</td>\n      <td>64.0</td>\n      <td>None</td>\n      <td>None</td>\n    </tr>\n    <tr>\n      <th>2078</th>\n      <td>1086587</td>\n      <td>3321797</td>\n      <td>2022-10-16</td>\n      <td>26365333</td>\n      <td>{format_code}</td>\n      <td>KATE BUSH</td>\n      <td>Running Up That Hill (A Deal..</td>\n      <td>Seattle</td>\n      <td>2022-06-01</td>\n      <td>414115</td>\n      <td>...</td>\n      <td>67.800000</td>\n      <td>4.816638</td>\n      <td>5.0</td>\n      <td>73.0</td>\n      <td>62.0</td>\n      <td>67.533333</td>\n      <td>15.0</td>\n      <td>68.0</td>\n      <td>None</td>\n      <td>None</td>\n    </tr>\n    <tr>\n      <th>2081</th>\n      <td>1086587</td>\n      <td>3321797</td>\n      <td>2022-10-30</td>\n      <td>26365333</td>\n      <td>{format_code}</td>\n      <td>KATE BUSH</td>\n      <td>Running Up That Hill (A Deal..</td>\n      <td>Seattle</td>\n      <td>2022-06-01</td>\n      <td>414115</td>\n      <td>...</td>\n      <td>69.333333</td>\n      <td>5.715476</td>\n      <td>6.0</td>\n      <td>77.0</td>\n      <td>62.0</td>\n      <td>68.047619</td>\n      <td>21.0</td>\n      <td>77.0</td>\n      <td>None</td>\n      <td>None</td>\n    </tr>\n    <tr>\n      <th>2084</th>\n      <td>1086587</td>\n      <td>3321797</td>\n      <td>2022-11-27</td>\n      <td>26365333</td>\n      <td>{format_code}</td>\n      <td>KATE BUSH</td>\n      <td>Running Up That Hill (A Deal..</td>\n      <td>Seattle</td>\n      <td>2022-06-01</td>\n      <td>414115</td>\n      <td>...</td>\n      <td>71.285714</td>\n      <td>7.341986</td>\n      <td>7.0</td>\n      <td>83.0</td>\n      <td>62.0</td>\n      <td>68.857143</td>\n      <td>28.0</td>\n      <td>83.0</td>\n      <td>None</td>\n      <td>None</td>\n    </tr>\n    <tr>\n      <th>2062</th>\n      <td>1086587</td>\n      <td>3321797</td>\n      <td>2022-07-31</td>\n      <td>26365333</td>\n      <td>{format_code}</td>\n      <td>KATE BUSH</td>\n      <td>Running Up That Hill (A Deal..</td>\n      <td>Seattle</td>\n      <td>2022-06-01</td>\n      <td>413250</td>\n      <td>...</td>\n      <td>NaN</td>\n      <td>NaN</td>\n      <td>NaN</td>\n      <td>NaN</td>\n      <td>NaN</td>\n      <td>NaN</td>\n      <td>NaN</td>\n      <td>NaN</td>\n      <td>None</td>\n      <td>None</td>\n    </tr>\n    <tr>\n      <th>2064</th>\n      <td>1086587</td>\n      <td>3321797</td>\n      <td>2022-08-21</td>\n      <td>26365333</td>\n      <td>{format_code}</td>\n      <td>KATE BUSH</td>\n      <td>Running Up That Hill (A Deal..</td>\n      <td>Seattle</td>\n      <td>2022-06-01</td>\n      <td>413250</td>\n      <td>...</td>\n      <td>80.000000</td>\n      <td>NaN</td>\n      <td>1.0</td>\n      <td>80.0</td>\n      <td>80.0</td>\n      <td>80.000000</td>\n      <td>1.0</td>\n      <td>80.0</td>\n      <td>None</td>\n      <td>None</td>\n    </tr>\n    <tr>\n      <th>2065</th>\n      <td>1086587</td>\n      <td>3321797</td>\n      <td>2022-09-04</td>\n      <td>26365333</td>\n      <td>{format_code}</td>\n      <td>KATE BUSH</td>\n      <td>Running Up That Hill (A Deal..</td>\n      <td>Seattle</td>\n      <td>2022-06-01</td>\n      <td>413250</td>\n      <td>...</td>\n      <td>77.500000</td>\n      <td>3.535534</td>\n      <td>2.0</td>\n      <td>80.0</td>\n      <td>75.0</td>\n      <td>78.333333</td>\n      <td>3.0</td>\n      <td>75.0</td>\n      <td>None</td>\n      <td>None</td>\n    </tr>\n    <tr>\n      <th>2067</th>\n      <td>1086587</td>\n      <td>3321797</td>\n      <td>2022-09-18</td>\n      <td>26365333</td>\n      <td>{format_code}</td>\n      <td>KATE BUSH</td>\n      <td>Running Up That Hill (A Deal..</td>\n      <td>Seattle</td>\n      <td>2022-06-01</td>\n      <td>413250</td>\n      <td>...</td>\n      <td>73.333333</td>\n      <td>7.637626</td>\n      <td>3.0</td>\n      <td>80.0</td>\n      <td>65.0</td>\n      <td>75.833333</td>\n      <td>6.0</td>\n      <td>65.0</td>\n      <td>None</td>\n      <td>None</td>\n    </tr>\n    <tr>\n      <th>2068</th>\n      <td>1086587</td>\n      <td>3321797</td>\n      <td>2022-10-30</td>\n      <td>26365333</td>\n      <td>{format_code}</td>\n      <td>KATE BUSH</td>\n      <td>Running Up That Hill (A Deal..</td>\n      <td>Seattle</td>\n      <td>2022-06-01</td>\n      <td>413250</td>\n      <td>...</td>\n      <td>67.500000</td>\n      <td>13.228757</td>\n      <td>4.0</td>\n      <td>80.0</td>\n      <td>50.0</td>\n      <td>72.500000</td>\n      <td>10.0</td>\n      <td>50.0</td>\n      <td>None</td>\n      <td>None</td>\n    </tr>\n  </tbody>\n</table>\n<p>37 rows × 110 columns</p>\n</div>"
     },
     "execution_count": 24,
     "metadata": {},
     "output_type": "execute_result"
    }
   ],
   "source": [
    "df_train[(df_train['station_id'] == 3321797) & (df_train['mediabase_id'] == 1086587) & (pd.isna(df_train['segment']))]"
   ],
   "metadata": {
    "collapsed": false
   }
  },
  {
   "cell_type": "code",
   "execution_count": 72,
   "outputs": [],
   "source": [
    "# Investigate taa_quintile\n",
    "# df_temp = df_train[pd.isna(df_train['taa_quintile'])][['station_id', 'mediabase_id', 'week_dt']]\n",
    "# len(df_temp)\n",
    "# df_temp.groupby(['week_dt']).agg({'mediabase_id':len}).sort_values(by=['mediabase_id'], ascending=False)\n",
    "# df_temp.groupby(['mediabase_id']).agg({'week_dt':len}).sort_values(by=['week_dt'], ascending=False)\n",
    "# df_temp.groupby(['station_id', 'mediabase_id']).agg({'week_dt':len}).sort_values(by=['week_dt'], ascending=False)\n",
    "# idx = (df_train['station_id'] == 3323400) & (df_train['mediabase_id'] == 2591543)\n",
    "# df_train.loc[idx].groupby(['week_dt'])['mediabase_id'].count()\n",
    "# idx = (df_train['station_id'] == 3323400) & (df_train['mediabase_id'] == 2591543) & (pd.isna(df_train['taa_quintile'])) & (df_train['breakout_name'] == 'Total')\n",
    "# df_train.loc[idx]"
   ],
   "metadata": {
    "collapsed": false
   }
  },
  {
   "cell_type": "code",
   "execution_count": 149,
   "outputs": [
    {
     "data": {
      "text/plain": "[datetime.date(2020, 11, 22), datetime.date(2021, 1, 24)]"
     },
     "execution_count": 149,
     "metadata": {},
     "output_type": "execute_result"
    }
   ],
   "source": [
    "# Investigate gcr and gcr_adj\n",
    "# df_temp = df_train[(pd.isna(df_train['gcr_adj'])) & (~pd.isna(df_train['gcr']))][['station_id', 'mediabase_id', 'week_dt']]\n",
    "# len(df_temp)\n",
    "# print(df_temp.groupby(['week_dt']).agg({'mediabase_id':len}).sort_values(by=['mediabase_id'], ascending=False))\n",
    "# print(df_temp.groupby(['mediabase_id']).agg({'week_dt':len}).sort_values(by=['week_dt'], ascending=False))\n",
    "# print(df_temp.groupby(['station_id', 'mediabase_id']).agg({'week_dt':len}).sort_values(by=['week_dt'], ascending=False))\n",
    "# idx = (df_train['station_id'] == 3322002) & (df_train['mediabase_id'] == 2294907)\n",
    "# df_train.loc[idx].groupby(['week_dt'])['mediabase_id'].count()\n",
    "# idx = (df_train['station_id'] == 3323404) & (df_train['mediabase_id'] == 2629560) & (pd.isna(df_train['gcr_adj'])) & (df_train['breakout_name'] == 'Total')\n",
    "# df_train.loc[idx]\n",
    "# [np.min(df_temp['week_dt']), np.max(df_temp['week_dt'])]"
   ],
   "metadata": {
    "collapsed": false
   }
  },
  {
   "cell_type": "markdown",
   "source": [
    "###### Investigate Numeric Columns"
   ],
   "metadata": {
    "collapsed": false
   }
  },
  {
   "cell_type": "code",
   "execution_count": 20,
   "outputs": [],
   "source": [
    "# Investigate Numeric Columns\n",
    "num_cols_spins = [col for col in num_cols if 'spins' in col]\n",
    "num_cols_pop = [col for col in num_cols if 'pop' in col]\n",
    "num_cols_other = list(set(num_cols) - set(num_cols_spins) - set(num_cols_pop))\n",
    "num_cols_spins_perc = [i for i in num_cols_spins if (('perc_diff_' in i) or ('per_diff' in i))]\n",
    "num_cols_spins_nonperc = list(set(num_cols_spins) - set(num_cols_spins_perc))"
   ],
   "metadata": {
    "collapsed": false
   }
  },
  {
   "cell_type": "code",
   "execution_count": 17,
   "outputs": [
    {
     "data": {
      "text/plain": "[75, 52, 19, 4]"
     },
     "execution_count": 17,
     "metadata": {},
     "output_type": "execute_result"
    }
   ],
   "source": [
    "[len(num_cols), len(num_cols_spins), len(num_cols_pop), len(num_cols_other)]"
   ],
   "metadata": {
    "collapsed": false
   }
  },
  {
   "cell_type": "code",
   "execution_count": 18,
   "outputs": [
    {
     "data": {
      "text/plain": "['artist_count', 'feat_artist', 'song_age_weeks', 'feat_artist_song']"
     },
     "execution_count": 18,
     "metadata": {},
     "output_type": "execute_result"
    }
   ],
   "source": [
    "num_cols_other"
   ],
   "metadata": {
    "collapsed": false
   }
  },
  {
   "cell_type": "code",
   "execution_count": 19,
   "outputs": [
    {
     "data": {
      "text/plain": "['min_pop_prior',\n 'mean_pop_prior_unv',\n 'min_pop_artist_prior_unv',\n 'count_pop_artist_prior_unv',\n 'max_pop_artist_prior_unv',\n 'mean_pop_artist_prior_unv',\n 'mr_pop_prior_unv',\n 'max_pop_prior',\n 'mr_pop_prior',\n 'count_pop_artist_prior',\n 'max_pop_artist_prior',\n 'min_pop_artist_prior',\n 'mr_pop_artist_prior_unv',\n 'mean_pop_artist_prior',\n 'med_pop_prior',\n 'min_pop_prior_unv',\n 'count_pop_prior_unv',\n 'mean_pop_prior',\n 'max_pop_prior_unv']"
     },
     "execution_count": 19,
     "metadata": {},
     "output_type": "execute_result"
    }
   ],
   "source": [
    "num_cols_pop"
   ],
   "metadata": {
    "collapsed": false
   }
  },
  {
   "cell_type": "code",
   "execution_count": 20,
   "outputs": [
    {
     "data": {
      "text/plain": "(377628, 110)"
     },
     "execution_count": 20,
     "metadata": {},
     "output_type": "execute_result"
    }
   ],
   "source": [
    "df_train.shape"
   ],
   "metadata": {
    "collapsed": false
   }
  },
  {
   "cell_type": "code",
   "execution_count": 68,
   "outputs": [
    {
     "name": "stdout",
     "output_type": "stream",
     "text": [
      "614649\n"
     ]
    }
   ],
   "source": [
    "print(581054 + 33595)"
   ],
   "metadata": {
    "collapsed": false
   }
  },
  {
   "cell_type": "code",
   "execution_count": 21,
   "outputs": [],
   "source": [
    "# Backfill pop based data\n",
    "df_train[num_cols_pop] = df_train.groupby(['station_id', 'mediabase_id', 'breakout_id'])[num_cols_pop].bfill()"
   ],
   "metadata": {
    "collapsed": false
   }
  },
  {
   "cell_type": "code",
   "execution_count": 22,
   "outputs": [],
   "source": [
    "# Fill missing perc spin diffs with 1.0\n",
    "df_train[num_cols_spins_perc] = df_train[num_cols_spins_perc].transform(lambda x: x.fillna(1.0))"
   ],
   "metadata": {
    "collapsed": false
   }
  },
  {
   "cell_type": "code",
   "execution_count": 23,
   "outputs": [],
   "source": [
    "# Backfill non perc diff spins diff\n",
    "df_train[num_cols_spins_nonperc] = df_train.groupby(['station_id', 'mediabase_id', 'breakout_id'])[num_cols_spins_nonperc].bfill()"
   ],
   "metadata": {
    "collapsed": false
   }
  },
  {
   "cell_type": "code",
   "execution_count": 43,
   "outputs": [
    {
     "data": {
      "text/plain": "['avg_market_spins_prior',\n 'avg_station_artist_spins_prior',\n 'mr_market_spins_spins',\n 'mr_song_univ_spins_prior',\n 'market_artist_spins',\n 'song_univ_spins',\n 'avg_artist_univ_spins_prior',\n 'total_market_artist_spins_prior',\n 'total_station_artist_spins_prior',\n 'song_market_weeks_since_first_spins',\n 'diff_spins_song_market_prior',\n 'song_weeks_since_last_spins',\n 'station_spins',\n 'mr_artist_univ_spins',\n 'diff_market_spins_spins_prior',\n 'avg_song_univ_spins_prior',\n 'artist_weeks_since_first_spins',\n 'total_market_spins_prior',\n 'diff_artist_univ_spins_prior',\n 'diff_spins_song_station_prior',\n 'mr_spins_artist_station_prior',\n 'format_spins',\n 'artist_station_weeks_since_first_spins',\n 'artist_univ_spins',\n 'song_weeks_since_first_spins',\n 'diff_market_artist_spins_prior',\n 'diff_spins_artist_station_prior',\n 'spins_non_on',\n 'total_spins_song_station_prior',\n 'diff_song_univ_spins_prior',\n 'total_song_univ_spins_prior',\n 'avg_spins_song_station_prior',\n 'spins_total',\n 'avg_market_artist_spins_prior',\n 'song_station_weeks_since_last_spins',\n 'spins_am_pm_dr',\n 'total_spins_non_on_song_station_prior',\n 'format_artist_spins',\n 'mr_spins_song_market_prior',\n 'market_spins',\n 'song_station_weeks_since_first_spins',\n 'mr_spins_song_station_prior',\n 'station_artist_spins',\n 'total_artist_univ_spins_prior',\n 'mr_market_artist_spins_prior']"
     },
     "execution_count": 43,
     "metadata": {},
     "output_type": "execute_result"
    }
   ],
   "source": [
    "num_cols_spins_nonperc"
   ],
   "metadata": {
    "collapsed": false
   }
  },
  {
   "cell_type": "code",
   "execution_count": 24,
   "outputs": [],
   "source": [
    "# check missingness by instance (station-song combination) for categorical variables\n",
    "cols_avl_num = df_train.groupby(['station_id', 'mediabase_id', 'breakout_name'])[num_cols].agg(lambda x: 1 - sum(pd.isnull(x))/(1.0*len(x))).reset_index()"
   ],
   "metadata": {
    "collapsed": false
   }
  },
  {
   "cell_type": "code",
   "execution_count": 25,
   "outputs": [],
   "source": [
    "cols_avl_num = cols_avl_num.join(pd.DataFrame(df_train.groupby(['station_id', 'mediabase_id', 'breakout_name']).count()['week_dt']), on=['station_id', 'mediabase_id', 'breakout_name'], rsuffix='_r')"
   ],
   "metadata": {
    "collapsed": false
   }
  },
  {
   "cell_type": "code",
   "execution_count": 26,
   "outputs": [
    {
     "data": {
      "text/plain": "                                index    0\n0                       min_pop_prior  1.0\n53                      med_pop_prior  1.0\n52       song_weeks_since_first_spins  1.0\n51                      station_spins  1.0\n50  per_diff_market_spins_spins_prior  1.0\n..                                ...  ...\n22   total_station_artist_spins_prior  1.0\n21                      max_pop_prior  1.0\n20                  artist_univ_spins  1.0\n18                       format_spins  1.0\n74                        spins_total  1.0\n\n[75 rows x 2 columns]",
      "text/html": "<div>\n<style scoped>\n    .dataframe tbody tr th:only-of-type {\n        vertical-align: middle;\n    }\n\n    .dataframe tbody tr th {\n        vertical-align: top;\n    }\n\n    .dataframe thead th {\n        text-align: right;\n    }\n</style>\n<table border=\"1\" class=\"dataframe\">\n  <thead>\n    <tr style=\"text-align: right;\">\n      <th></th>\n      <th>index</th>\n      <th>0</th>\n    </tr>\n  </thead>\n  <tbody>\n    <tr>\n      <th>0</th>\n      <td>min_pop_prior</td>\n      <td>1.0</td>\n    </tr>\n    <tr>\n      <th>53</th>\n      <td>med_pop_prior</td>\n      <td>1.0</td>\n    </tr>\n    <tr>\n      <th>52</th>\n      <td>song_weeks_since_first_spins</td>\n      <td>1.0</td>\n    </tr>\n    <tr>\n      <th>51</th>\n      <td>station_spins</td>\n      <td>1.0</td>\n    </tr>\n    <tr>\n      <th>50</th>\n      <td>per_diff_market_spins_spins_prior</td>\n      <td>1.0</td>\n    </tr>\n    <tr>\n      <th>...</th>\n      <td>...</td>\n      <td>...</td>\n    </tr>\n    <tr>\n      <th>22</th>\n      <td>total_station_artist_spins_prior</td>\n      <td>1.0</td>\n    </tr>\n    <tr>\n      <th>21</th>\n      <td>max_pop_prior</td>\n      <td>1.0</td>\n    </tr>\n    <tr>\n      <th>20</th>\n      <td>artist_univ_spins</td>\n      <td>1.0</td>\n    </tr>\n    <tr>\n      <th>18</th>\n      <td>format_spins</td>\n      <td>1.0</td>\n    </tr>\n    <tr>\n      <th>74</th>\n      <td>spins_total</td>\n      <td>1.0</td>\n    </tr>\n  </tbody>\n</table>\n<p>75 rows × 2 columns</p>\n</div>"
     },
     "execution_count": 26,
     "metadata": {},
     "output_type": "execute_result"
    }
   ],
   "source": [
    "cols_avl_num[num_cols].mean().reset_index().sort_values(by=[0])"
   ],
   "metadata": {
    "collapsed": false
   }
  },
  {
   "cell_type": "code",
   "execution_count": 48,
   "outputs": [
    {
     "data": {
      "text/plain": "(377628, 110)"
     },
     "execution_count": 48,
     "metadata": {},
     "output_type": "execute_result"
    }
   ],
   "source": [
    "idx = df_train[cat_cols + num_cols].dropna(axis=1).index\n",
    "df_train.loc[idx].shape"
   ],
   "metadata": {
    "collapsed": false
   }
  },
  {
   "cell_type": "code",
   "execution_count": 49,
   "outputs": [
    {
     "data": {
      "text/plain": "(377628, 110)"
     },
     "execution_count": 49,
     "metadata": {},
     "output_type": "execute_result"
    }
   ],
   "source": [
    "df_train.shape"
   ],
   "metadata": {
    "collapsed": false
   }
  },
  {
   "cell_type": "code",
   "execution_count": 93,
   "outputs": [
    {
     "data": {
      "text/plain": "       station_id  mediabase_id breakout_name  week_dt\n2788      3321799       1388281         Total        2\n2812      3321799       1640575         Total        2\n7090      3322002       1243640         Total        2\n7100      3322002       1249237         Total        2\n7134      3322002       1261285         Total        3\n...           ...           ...           ...      ...\n56105     3323602       2397182         Total        2\n56124     3323602       2422489         Total        3\n56130     3323602       2422949         Total        2\n56179     3323602       2445876         Total        3\n56329     3323602       2542279         Total        3\n\n[282 rows x 4 columns]",
      "text/html": "<div>\n<style scoped>\n    .dataframe tbody tr th:only-of-type {\n        vertical-align: middle;\n    }\n\n    .dataframe tbody tr th {\n        vertical-align: top;\n    }\n\n    .dataframe thead th {\n        text-align: right;\n    }\n</style>\n<table border=\"1\" class=\"dataframe\">\n  <thead>\n    <tr style=\"text-align: right;\">\n      <th></th>\n      <th>station_id</th>\n      <th>mediabase_id</th>\n      <th>breakout_name</th>\n      <th>week_dt</th>\n    </tr>\n  </thead>\n  <tbody>\n    <tr>\n      <th>2788</th>\n      <td>3321799</td>\n      <td>1388281</td>\n      <td>Total</td>\n      <td>2</td>\n    </tr>\n    <tr>\n      <th>2812</th>\n      <td>3321799</td>\n      <td>1640575</td>\n      <td>Total</td>\n      <td>2</td>\n    </tr>\n    <tr>\n      <th>7090</th>\n      <td>3322002</td>\n      <td>1243640</td>\n      <td>Total</td>\n      <td>2</td>\n    </tr>\n    <tr>\n      <th>7100</th>\n      <td>3322002</td>\n      <td>1249237</td>\n      <td>Total</td>\n      <td>2</td>\n    </tr>\n    <tr>\n      <th>7134</th>\n      <td>3322002</td>\n      <td>1261285</td>\n      <td>Total</td>\n      <td>3</td>\n    </tr>\n    <tr>\n      <th>...</th>\n      <td>...</td>\n      <td>...</td>\n      <td>...</td>\n      <td>...</td>\n    </tr>\n    <tr>\n      <th>56105</th>\n      <td>3323602</td>\n      <td>2397182</td>\n      <td>Total</td>\n      <td>2</td>\n    </tr>\n    <tr>\n      <th>56124</th>\n      <td>3323602</td>\n      <td>2422489</td>\n      <td>Total</td>\n      <td>3</td>\n    </tr>\n    <tr>\n      <th>56130</th>\n      <td>3323602</td>\n      <td>2422949</td>\n      <td>Total</td>\n      <td>2</td>\n    </tr>\n    <tr>\n      <th>56179</th>\n      <td>3323602</td>\n      <td>2445876</td>\n      <td>Total</td>\n      <td>3</td>\n    </tr>\n    <tr>\n      <th>56329</th>\n      <td>3323602</td>\n      <td>2542279</td>\n      <td>Total</td>\n      <td>3</td>\n    </tr>\n  </tbody>\n</table>\n<p>282 rows × 4 columns</p>\n</div>"
     },
     "execution_count": 93,
     "metadata": {},
     "output_type": "execute_result"
    }
   ],
   "source": [
    "cols_avl_num[(cols_avl_num['song_last_test_co_weeks'] < 1) & (cols_avl_num['breakout_name'] == 'Total')][['station_id', 'mediabase_id', 'breakout_name', 'week_dt']]"
   ],
   "metadata": {
    "collapsed": false
   }
  },
  {
   "cell_type": "code",
   "execution_count": 95,
   "outputs": [
    {
     "data": {
      "text/plain": "       station_id  mediabase_id breakout_name     week_dt  \\\n64814     3323602       2348056         Total  2020-11-22   \n64815     3323602       2348056         Total  2021-02-07   \n64816     3323602       2348056         Total  2021-09-26   \n64817     3323602       2348056         Total  2022-08-21   \n\n       song_last_test_any_weeks  song_last_test_co_weeks  \\\n64814                       0.0                      NaN   \n64815                       0.0                      0.0   \n64816                       0.0                      8.0   \n64817                       0.0                      0.0   \n\n       song_last_test_omt_weeks  \n64814                       0.0  \n64815                       1.0  \n64816                       0.0  \n64817                       1.0  ",
      "text/html": "<div>\n<style scoped>\n    .dataframe tbody tr th:only-of-type {\n        vertical-align: middle;\n    }\n\n    .dataframe tbody tr th {\n        vertical-align: top;\n    }\n\n    .dataframe thead th {\n        text-align: right;\n    }\n</style>\n<table border=\"1\" class=\"dataframe\">\n  <thead>\n    <tr style=\"text-align: right;\">\n      <th></th>\n      <th>station_id</th>\n      <th>mediabase_id</th>\n      <th>breakout_name</th>\n      <th>week_dt</th>\n      <th>song_last_test_any_weeks</th>\n      <th>song_last_test_co_weeks</th>\n      <th>song_last_test_omt_weeks</th>\n    </tr>\n  </thead>\n  <tbody>\n    <tr>\n      <th>64814</th>\n      <td>3323602</td>\n      <td>2348056</td>\n      <td>Total</td>\n      <td>2020-11-22</td>\n      <td>0.0</td>\n      <td>NaN</td>\n      <td>0.0</td>\n    </tr>\n    <tr>\n      <th>64815</th>\n      <td>3323602</td>\n      <td>2348056</td>\n      <td>Total</td>\n      <td>2021-02-07</td>\n      <td>0.0</td>\n      <td>0.0</td>\n      <td>1.0</td>\n    </tr>\n    <tr>\n      <th>64816</th>\n      <td>3323602</td>\n      <td>2348056</td>\n      <td>Total</td>\n      <td>2021-09-26</td>\n      <td>0.0</td>\n      <td>8.0</td>\n      <td>0.0</td>\n    </tr>\n    <tr>\n      <th>64817</th>\n      <td>3323602</td>\n      <td>2348056</td>\n      <td>Total</td>\n      <td>2022-08-21</td>\n      <td>0.0</td>\n      <td>0.0</td>\n      <td>1.0</td>\n    </tr>\n  </tbody>\n</table>\n</div>"
     },
     "execution_count": 95,
     "metadata": {},
     "output_type": "execute_result"
    }
   ],
   "source": [
    "df_train[(df_train['station_id'] == 3323602) & (df_train['mediabase_id'] == 2348056) & (df_train['breakout_name'] == 'Total')][['station_id', 'mediabase_id', 'breakout_name', 'week_dt', 'song_last_test_any_weeks','song_last_test_co_weeks', 'song_last_test_omt_weeks']]"
   ],
   "metadata": {
    "collapsed": false
   }
  },
  {
   "cell_type": "markdown",
   "source": [
    "### Prep Data and create train/test splits"
   ],
   "metadata": {
    "collapsed": false
   }
  },
  {
   "cell_type": "code",
   "execution_count": 60,
   "outputs": [
    {
     "data": {
      "text/plain": "['mediabase_id',\n 'station_id',\n 'week_dt',\n 'breakout_id',\n 'breakout_name',\n 'demo_category',\n 'pop_co',\n 'pop_omt',\n 'gcr']"
     },
     "execution_count": 60,
     "metadata": {},
     "output_type": "execute_result"
    }
   ],
   "source": [
    "id_cols"
   ],
   "metadata": {
    "collapsed": false
   }
  },
  {
   "cell_type": "code",
   "execution_count": 46,
   "outputs": [],
   "source": [
    "# Extract train data\n",
    "[np.min(df_train['week_dt']),pd.to_datetime(np.min(df_train['week_dt'])) + np.timedelta64(2,'Y'), np.max(df_train['week_dt'])]\n",
    "scoring_date = pd.to_datetime('2022-11-22')\n",
    "train_idx = df_train['week_dt'] < scoring_date.date()\n",
    "\n",
    "df_train_final = df_train.loc[train_idx][id_cols + feature_cols + target_col]\n",
    "X_train = pd.get_dummies(df_train_final[feature_cols], columns=cat_cols)\n",
    "y_train = df_train_final[target]"
   ],
   "metadata": {
    "collapsed": false
   }
  },
  {
   "cell_type": "code",
   "execution_count": 64,
   "outputs": [],
   "source": [
    "demo_cats = list(set(breakout_category.values()) - set(['Total']))"
   ],
   "metadata": {
    "collapsed": false
   }
  },
  {
   "cell_type": "code",
   "execution_count": 30,
   "outputs": [
    {
     "data": {
      "text/plain": "(369153, 125)"
     },
     "execution_count": 30,
     "metadata": {},
     "output_type": "execute_result"
    }
   ],
   "source": [
    "X_train.shape"
   ],
   "metadata": {
    "collapsed": false
   }
  },
  {
   "cell_type": "code",
   "execution_count": 32,
   "outputs": [],
   "source": [
    "# imports for model training\n",
    "from sklearn.ensemble import GradientBoostingRegressor\n",
    "from sklearn.model_selection import RandomizedSearchCV, GroupKFold\n",
    "from sklearn.metrics import make_scorer, mean_pinball_loss"
   ],
   "metadata": {
    "collapsed": false
   }
  },
  {
   "cell_type": "code",
   "execution_count": 34,
   "outputs": [],
   "source": [
    "low_alpha = 0.05\n",
    "high_alpha = 0.95\n",
    "\n",
    "param_grid = dict(\n",
    "    learning_rate=[.2, .1, .05],\n",
    "    n_estimators=[5, 10, 15],\n",
    "    max_depth=[2, 4, 6],\n",
    "    min_samples_leaf=[5, 10, 20],\n",
    "    min_samples_split=[5, 10, 20]\n",
    ")\n",
    "\n",
    "n_iter = 50\n",
    "n_splits = 5"
   ],
   "metadata": {
    "collapsed": false
   }
  },
  {
   "cell_type": "code",
   "execution_count": 66,
   "outputs": [],
   "source": [
    "import time\n",
    "demo_cols_all = [col for col in X_train.columns if 'segment_' in col]"
   ],
   "metadata": {
    "collapsed": false
   }
  },
  {
   "cell_type": "code",
   "execution_count": 34,
   "outputs": [
    {
     "name": "stdout",
     "output_type": "stream",
     "text": [
      "Core-Cume: 85772\n"
     ]
    },
    {
     "ename": "NameError",
     "evalue": "name 'GroupKFold' is not defined",
     "output_type": "error",
     "traceback": [
      "\u001B[0;31m---------------------------------------------------------------------------\u001B[0m",
      "\u001B[0;31mNameError\u001B[0m                                 Traceback (most recent call last)",
      "Cell \u001B[0;32mIn[34], line 23\u001B[0m\n\u001B[1;32m     18\u001B[0m y \u001B[38;5;241m=\u001B[39m y_train\u001B[38;5;241m.\u001B[39mloc[idx]\n\u001B[1;32m     20\u001B[0m \u001B[38;5;66;03m# quantile regressor\u001B[39;00m\n\u001B[1;32m     21\u001B[0m \n\u001B[1;32m     22\u001B[0m \u001B[38;5;66;03m# gradient boosted quantile regressor\u001B[39;00m\n\u001B[0;32m---> 23\u001B[0m group_kfold \u001B[38;5;241m=\u001B[39m \u001B[43mGroupKFold\u001B[49m(n_splits\u001B[38;5;241m=\u001B[39mn_splits)\n\u001B[1;32m     25\u001B[0m \u001B[38;5;66;03m# train model for upper threshold given features\u001B[39;00m\n\u001B[1;32m     26\u001B[0m cv \u001B[38;5;241m=\u001B[39m group_kfold\u001B[38;5;241m.\u001B[39msplit(X\u001B[38;5;241m.\u001B[39mloc[idx], y\u001B[38;5;241m.\u001B[39mloc[idx], df_train_final\u001B[38;5;241m.\u001B[39mloc[idx][\u001B[38;5;124m'\u001B[39m\u001B[38;5;124mmediabase_id\u001B[39m\u001B[38;5;124m'\u001B[39m])\n",
      "\u001B[0;31mNameError\u001B[0m: name 'GroupKFold' is not defined"
     ]
    }
   ],
   "source": [
    "best_scores = {}\n",
    "best_estimators = {}\n",
    "\n",
    "for cat in demo_cats:\n",
    "    tic = time.perf_counter()\n",
    "    idx = (df_train_final['demo_category'] == cat)\n",
    "    print(cat + ': ' + str(sum(idx)))\n",
    "\n",
    "    # extract relevant segment indicator columns\n",
    "    demo_cols_cat = ['segment_' + i for i in list(pd.unique(df_train_final.loc[idx]['segment']))]\n",
    "    demo_cols_excl = list(set(demo_cols_all) - set(demo_cols_cat))\n",
    "    feature_cols_cat = list(set(X_train.columns) - set(demo_cols_excl))\n",
    "\n",
    "    # create features and target\n",
    "    X = X_train.loc[idx][feature_cols_cat]\n",
    "    y = y_train.loc[idx]\n",
    "\n",
    "    # quantile regressor\n",
    "\n",
    "    # gradient boosted quantile regressor\n",
    "    group_kfold = GroupKFold(n_splits=n_splits)\n",
    "\n",
    "    # train model for upper threshold given features\n",
    "    cv = group_kfold.split(X.loc[idx], y.loc[idx], df_train_final.loc[idx]['mediabase_id'])\n",
    "    neg_mean_pinball_loss_high = make_scorer(\n",
    "        mean_pinball_loss,\n",
    "        alpha=high_alpha,\n",
    "        greater_is_better=False,  # maximize the negative loss\n",
    "    )\n",
    "\n",
    "    model_high_thresh = GradientBoostingRegressor(loss=\"quantile\", alpha=high_alpha,\n",
    "                                                  random_state=0)\n",
    "\n",
    "    rs_high_thresh = RandomizedSearchCV(\n",
    "        model_high_thresh,\n",
    "        param_grid,\n",
    "        n_iter=n_iter,\n",
    "        scoring=neg_mean_pinball_loss_high,\n",
    "        cv=cv,\n",
    "        verbose=1,\n",
    "        random_state=0,\n",
    "        n_jobs=-1\n",
    "    )\n",
    "\n",
    "    rs_high_thresh.fit(X.loc[idx], np.ravel(y.loc[idx]))\n",
    "    print(cat + \": Fitting for upper wobble threshold completed\")\n",
    "\n",
    "    # train model for lower threshold given features\n",
    "    cv = group_kfold.split(X.loc[idx], y.loc[idx], df_train_final.loc[idx]['mediabase_id'])\n",
    "    neg_mean_pinball_loss_low = make_scorer(\n",
    "        mean_pinball_loss,\n",
    "        alpha=low_alpha,\n",
    "        greater_is_better=False,  # maximize the negative loss\n",
    "    )\n",
    "\n",
    "    model_low_thresh = GradientBoostingRegressor(loss=\"quantile\", alpha=low_alpha,\n",
    "                                                 random_state=0)\n",
    "\n",
    "    rs_low_thresh = RandomizedSearchCV(\n",
    "        model_low_thresh,\n",
    "        param_grid,\n",
    "        n_iter=n_iter,\n",
    "        scoring=neg_mean_pinball_loss_low,\n",
    "        cv=cv,\n",
    "        verbose=1,\n",
    "        random_state=0,\n",
    "        n_jobs=-1\n",
    "    )\n",
    "\n",
    "    rs_low_thresh.fit(X.loc[idx], np.ravel(y.loc[idx]))\n",
    "    print(cat + \": Fitting for lower wobble threshold completed\")\n",
    "\n",
    "    # train model for mean pop score given features\n",
    "    cv = group_kfold.split(X.loc[idx], y.loc[idx], df_train_final.loc[idx]['mediabase_id'])\n",
    "    model_mean = GradientBoostingRegressor(loss=\"squared_error\")\n",
    "\n",
    "    rs_mean = RandomizedSearchCV(\n",
    "        model_mean,\n",
    "        param_grid,\n",
    "        n_iter=n_iter,\n",
    "        scoring='neg_mean_absolute_error',\n",
    "        cv=cv,\n",
    "        verbose=1,\n",
    "        random_state=0,\n",
    "        n_jobs=-1\n",
    "    )\n",
    "\n",
    "    rs_mean.fit(X.loc[idx], np.ravel(y.loc[idx]))\n",
    "    print(cat + \": Fitting for mean pop completed\")\n",
    "\n",
    "    toc = time.perf_counter()\n",
    "    time_elapsed = toc-tic\n",
    "    print('Total time elapsed for ' + cat + ': ' + '%.2f'%time_elapsed)\n",
    "\n",
    "    best_scores[cat] = [rs_low_thresh.best_score_, rs_mean.best_score_, rs_high_thresh.best_score_]\n",
    "    best_estimators[cat] = [rs_low_thresh.best_estimator_, rs_mean.best_estimator_, rs_high_thresh.best_estimator_]"
   ],
   "metadata": {
    "collapsed": false
   }
  },
  {
   "cell_type": "code",
   "execution_count": 51,
   "outputs": [],
   "source": [
    "import pickle\n",
    "pickle.dump(best_scores, open('best_scores_all.pkl', \"wb\"))\n",
    "pickle.dump(best_estimators, open('best_estimators_all.pkl', \"wb\"))"
   ],
   "metadata": {
    "collapsed": false
   }
  },
  {
   "cell_type": "code",
   "execution_count": 21,
   "outputs": [],
   "source": [
    "best_estimators = pd.read_pickle('best_estimators_all.pkl')"
   ],
   "metadata": {
    "collapsed": false
   }
  },
  {
   "cell_type": "code",
   "execution_count": 23,
   "outputs": [
    {
     "data": {
      "text/plain": "{'Age': [GradientBoostingRegressor(alpha=0.05, learning_rate=0.2, loss='quantile',\n                            max_depth=6, min_samples_leaf=10,\n                            min_samples_split=20, n_estimators=15,\n                            random_state=0),\n  GradientBoostingRegressor(learning_rate=0.2, max_depth=6, min_samples_leaf=10,\n                            min_samples_split=20, n_estimators=15),\n  GradientBoostingRegressor(alpha=0.95, learning_rate=0.2, loss='quantile',\n                            max_depth=6, min_samples_leaf=10,\n                            min_samples_split=20, n_estimators=15,\n                            random_state=0)],\n 'Gender': [GradientBoostingRegressor(alpha=0.05, learning_rate=0.2, loss='quantile',\n                            max_depth=6, min_samples_leaf=10,\n                            min_samples_split=20, n_estimators=15,\n                            random_state=0),\n  GradientBoostingRegressor(learning_rate=0.2, max_depth=6, min_samples_leaf=10,\n                            min_samples_split=20, n_estimators=15),\n  GradientBoostingRegressor(alpha=0.95, learning_rate=0.2, loss='quantile',\n                            max_depth=6, min_samples_leaf=10,\n                            min_samples_split=20, n_estimators=15,\n                            random_state=0)],\n 'Race': [GradientBoostingRegressor(alpha=0.05, learning_rate=0.2, loss='quantile',\n                            max_depth=6, min_samples_leaf=10,\n                            min_samples_split=20, n_estimators=15,\n                            random_state=0),\n  GradientBoostingRegressor(learning_rate=0.2, max_depth=6, min_samples_leaf=10,\n                            min_samples_split=20, n_estimators=15),\n  GradientBoostingRegressor(alpha=0.95, learning_rate=0.2, loss='quantile',\n                            max_depth=6, min_samples_leaf=10,\n                            min_samples_split=20, n_estimators=15,\n                            random_state=0)],\n 'Core-Cume': [GradientBoostingRegressor(alpha=0.05, learning_rate=0.2, loss='quantile',\n                            max_depth=6, min_samples_leaf=10,\n                            min_samples_split=20, n_estimators=15,\n                            random_state=0),\n  GradientBoostingRegressor(learning_rate=0.2, max_depth=6, min_samples_leaf=10,\n                            min_samples_split=20, n_estimators=15),\n  GradientBoostingRegressor(alpha=0.95, learning_rate=0.2, loss='quantile',\n                            max_depth=6, min_samples_leaf=10,\n                            min_samples_split=20, n_estimators=15,\n                            random_state=0)]}"
     },
     "execution_count": 23,
     "metadata": {},
     "output_type": "execute_result"
    }
   ],
   "source": [
    "best_estimators"
   ],
   "metadata": {
    "collapsed": false
   }
  },
  {
   "cell_type": "markdown",
   "source": [
    "### Prep scoring data & score\n"
   ],
   "metadata": {
    "collapsed": false
   }
  },
  {
   "cell_type": "code",
   "execution_count": 24,
   "outputs": [],
   "source": [
    "test_data_query = '''\n",
    "Select *\n",
    "from adds_temp.demo_rr_features_h1 as rdfh\n",
    "where week_dt >= '2022-11-22'\n",
    "'''"
   ],
   "metadata": {
    "collapsed": false
   }
  },
  {
   "cell_type": "code",
   "execution_count": 25,
   "outputs": [],
   "source": [
    "engine = postgresql_engine(user, pwd, host, port, dbname)\n",
    "with engine.connect() as conn:\n",
    "    with conn.connect():\n",
    "        df_test = pd.read_sql(test_data_query + filter_rules, conn)"
   ],
   "metadata": {
    "collapsed": false
   }
  },
  {
   "cell_type": "code",
   "execution_count": 27,
   "outputs": [
    {
     "data": {
      "text/plain": "(659835, 108)"
     },
     "execution_count": 27,
     "metadata": {},
     "output_type": "execute_result"
    }
   ],
   "source": [
    "df_test.shape"
   ],
   "metadata": {
    "collapsed": false
   }
  },
  {
   "cell_type": "code",
   "execution_count": null,
   "outputs": [],
   "source": [
    "df_test.to_pickle('df_score_2021_01_09_2020_11_28.pkl')"
   ],
   "metadata": {
    "collapsed": false
   }
  },
  {
   "cell_type": "code",
   "execution_count": 24,
   "outputs": [],
   "source": [
    "df_test = pd.read_pickle('df_score_2021_01_09_2020_11_28.pkl')"
   ],
   "metadata": {
    "collapsed": false
   }
  },
  {
   "cell_type": "code",
   "execution_count": 28,
   "outputs": [],
   "source": [
    "# create segment and category fields\n",
    "df_test['segment'] = df_test['breakout_name'].apply(func=(lambda x: breakout_map[x] if (x in breakout_map.keys()) else None))\n",
    "df_test['demo_category'] = df_test['breakout_name'].apply(func=(lambda x: breakout_category[x] if x in breakout_category.keys() else None))"
   ],
   "metadata": {
    "collapsed": false
   }
  },
  {
   "cell_type": "code",
   "execution_count": 29,
   "outputs": [],
   "source": [
    "# drop misc female breakouts\n",
    "drop_idx = df_test[(df_test['segment'] == 'Female') | (pd.isna(df_test['segment']))].index\n",
    "df_test.drop(drop_idx, inplace=True)"
   ],
   "metadata": {
    "collapsed": false
   }
  },
  {
   "cell_type": "code",
   "execution_count": 47,
   "outputs": [],
   "source": [
    "# Backfill pop based data\n",
    "df_test[num_cols_pop] = df_test.groupby(['station_id', 'mediabase_id', 'breakout_id'])[num_cols_pop].bfill()"
   ],
   "metadata": {
    "collapsed": false
   }
  },
  {
   "cell_type": "code",
   "execution_count": 48,
   "outputs": [],
   "source": [
    "# Fill missing perc spin diffs with 1.0\n",
    "df_test[num_cols_spins_perc] = df_test[num_cols_spins_perc].transform(lambda x: x.fillna(1.0))"
   ],
   "metadata": {
    "collapsed": false
   }
  },
  {
   "cell_type": "code",
   "execution_count": 49,
   "outputs": [],
   "source": [
    "# Backfill non perc diff spins diff\n",
    "df_test[num_cols_spins_nonperc] = df_test.groupby(['station_id', 'mediabase_id', 'breakout_id'])[num_cols_spins_nonperc].bfill()"
   ],
   "metadata": {
    "collapsed": false
   }
  },
  {
   "cell_type": "code",
   "execution_count": 50,
   "outputs": [
    {
     "data": {
      "text/plain": "array([datetime.date(2022, 12, 4), datetime.date(2022, 12, 11),\n       datetime.date(2022, 12, 18), datetime.date(2022, 12, 25),\n       datetime.date(2023, 1, 1), datetime.date(2023, 1, 8),\n       datetime.date(2023, 1, 15), datetime.date(2023, 1, 22)],\n      dtype=object)"
     },
     "execution_count": 50,
     "metadata": {},
     "output_type": "execute_result"
    }
   ],
   "source": [
    "pd.unique(df_test['week_dt'])"
   ],
   "metadata": {
    "collapsed": false
   }
  },
  {
   "cell_type": "code",
   "execution_count": 39,
   "outputs": [],
   "source": [
    "drop_idx = df_test[pd.to_datetime(df_test['week_dt']) == pd.to_datetime('2022-11-27')].index\n",
    "df_test.drop(drop_idx, inplace=True)"
   ],
   "metadata": {
    "collapsed": false
   }
  },
  {
   "cell_type": "code",
   "execution_count": 51,
   "outputs": [
    {
     "data": {
      "text/plain": "week_dt\n2022-12-04    291\n2022-12-11    290\n2022-12-18    290\n2022-12-25    288\n2023-01-01    290\n2023-01-08    294\n2023-01-15    292\n2023-01-22    289\ndtype: int64"
     },
     "execution_count": 51,
     "metadata": {},
     "output_type": "execute_result"
    }
   ],
   "source": [
    "df_test[(df_test['station_id'] == 3322022) & (df_test['breakout_name'] == 'Total')].groupby(['week_dt']).apply(lambda x: len(pd.unique(x['mediabase_id'])))"
   ],
   "metadata": {
    "collapsed": false
   }
  },
  {
   "cell_type": "code",
   "execution_count": 41,
   "outputs": [
    {
     "data": {
      "text/plain": "week_dt\n2022-12-04    291\n2022-12-11    290\n2022-12-18    290\n2022-12-25    288\n2023-01-01    290\n2023-01-08    294\n2023-01-15    292\n2023-01-22    289\nName: mediabase_id, dtype: int64"
     },
     "execution_count": 41,
     "metadata": {},
     "output_type": "execute_result"
    }
   ],
   "source": [
    "df_test[(df_test['station_id'] == 3322022) & (df_test['breakout_name'] == 'Total')].groupby(['week_dt'])['mediabase_id'].count()"
   ],
   "metadata": {
    "collapsed": false
   }
  },
  {
   "cell_type": "code",
   "execution_count": 52,
   "outputs": [
    {
     "data": {
      "text/plain": "max_pop_artist_prior                 0.997058\nmean_pop_artist_prior                0.997058\ncount_pop_artist_prior               0.997058\nmax_pop_prior                        0.997058\nmr_pop_prior                         0.997058\n                                       ...   \nmax_pop_artist_prior_unv             1.000000\nperc_diff_spins_song_market_prior    1.000000\nmr_spins_song_station_prior          1.000000\navg_artist_univ_spins_prior          1.000000\nmr_pop_artist_prior_unv              1.000000\nLength: 75, dtype: float64"
     },
     "execution_count": 52,
     "metadata": {},
     "output_type": "execute_result"
    }
   ],
   "source": [
    "df_test[df_test['station_id'] == 3322022][num_cols].apply(lambda x: 1 - pd.isnull(x).sum()/len(x)).sort_values()"
   ],
   "metadata": {
    "collapsed": false
   }
  },
  {
   "cell_type": "code",
   "execution_count": 73,
   "outputs": [
    {
     "data": {
      "text/plain": "gcr_adj         1.0\nMarket_Name     1.0\nomt_co_flag     1.0\nsegment         1.0\ntaa_quintile    1.0\ndtype: float64"
     },
     "execution_count": 73,
     "metadata": {},
     "output_type": "execute_result"
    }
   ],
   "source": [
    "df_test[df_test['station_id'] == 3322022][cat_cols].apply(lambda x: 1 - pd.isnull(x).sum()/len(x)).sort_values()"
   ],
   "metadata": {
    "collapsed": false
   }
  },
  {
   "cell_type": "code",
   "execution_count": 72,
   "outputs": [],
   "source": [
    "df_test['omt_co_flag'] = df_test['omt_co_flag'].fillna(0)"
   ],
   "metadata": {
    "collapsed": false
   }
  },
  {
   "cell_type": "code",
   "execution_count": 44,
   "outputs": [
    {
     "data": {
      "text/plain": "12614     1181047\n14449     1186003\n51243     1375592\n138309    1767066\n163169    1855587\n174158    1904766\n189505    1961471\n208760    2050851\n211069    2062455\n236509    2154641\n240792    2173957\n261955    2256903\n284770    2306701\n291654    2339915\n308668    2387396\n344461    2457068\n397581    2554446\n409235    2582475\n416020    2584541\n428816    2605093\n476648    2691407\n487368    2697903\n492701    2708592\n501968    2716380\n508605    2720314\n511664    2720326\n522782    2723707\n530376    2738262\n539381    2742545\n542715    2744465\n560968    2768404\n581184    2789100\n586920    2794968\n593556    2798183\n601067    2804653\n611107    2808913\n614711    2797282\n628348    2813036\n632362    2819942\n633886    2823991\n635132    2827240\n638538    2831030\n639893    2820569\n642133    2831617\n646485    2833906\n648200    2838198\n651249    2841905\n651887    2848768\n656077    2848773\n656628    2850510\n657773    2863849\nName: mediabase_id, dtype: int64"
     },
     "execution_count": 44,
     "metadata": {},
     "output_type": "execute_result"
    }
   ],
   "source": [
    "df_test[pd.isna(df_test['med_pop_prior'])]['mediabase_id'].drop_duplicates()"
   ],
   "metadata": {
    "collapsed": false
   }
  },
  {
   "cell_type": "code",
   "execution_count": 101,
   "outputs": [
    {
     "data": {
      "text/plain": "       mediabase_id  station_id     week_dt  breakout_id breakout_name  \\\n36963       1354780     3322916  2022-11-27            1         Total   \n36964       1354780     3322916  2022-12-04            1         Total   \n36965       1354780     3322916  2022-12-11            1         Total   \n36966       1354780     3322916  2022-12-18            1         Total   \n36967       1354780     3322916  2022-12-25            1         Total   \n36968       1354780     3322916  2023-01-01            1         Total   \n36969       1354780     3322916  2023-01-08            1         Total   \n\n      demo_category  pop_co pop_omt gcr  med_pop_prior  \n36963         Total     NaN    None   G            NaN  \n36964         Total     NaN    None   G            NaN  \n36965         Total     NaN    None   G            NaN  \n36966         Total     NaN    None   G            NaN  \n36967         Total     NaN    None   G            NaN  \n36968         Total     NaN    None   G            NaN  \n36969         Total   109.0    None   G            NaN  ",
      "text/html": "<div>\n<style scoped>\n    .dataframe tbody tr th:only-of-type {\n        vertical-align: middle;\n    }\n\n    .dataframe tbody tr th {\n        vertical-align: top;\n    }\n\n    .dataframe thead th {\n        text-align: right;\n    }\n</style>\n<table border=\"1\" class=\"dataframe\">\n  <thead>\n    <tr style=\"text-align: right;\">\n      <th></th>\n      <th>mediabase_id</th>\n      <th>station_id</th>\n      <th>week_dt</th>\n      <th>breakout_id</th>\n      <th>breakout_name</th>\n      <th>demo_category</th>\n      <th>pop_co</th>\n      <th>pop_omt</th>\n      <th>gcr</th>\n      <th>med_pop_prior</th>\n    </tr>\n  </thead>\n  <tbody>\n    <tr>\n      <th>36963</th>\n      <td>1354780</td>\n      <td>3322916</td>\n      <td>2022-11-27</td>\n      <td>1</td>\n      <td>Total</td>\n      <td>Total</td>\n      <td>NaN</td>\n      <td>None</td>\n      <td>G</td>\n      <td>NaN</td>\n    </tr>\n    <tr>\n      <th>36964</th>\n      <td>1354780</td>\n      <td>3322916</td>\n      <td>2022-12-04</td>\n      <td>1</td>\n      <td>Total</td>\n      <td>Total</td>\n      <td>NaN</td>\n      <td>None</td>\n      <td>G</td>\n      <td>NaN</td>\n    </tr>\n    <tr>\n      <th>36965</th>\n      <td>1354780</td>\n      <td>3322916</td>\n      <td>2022-12-11</td>\n      <td>1</td>\n      <td>Total</td>\n      <td>Total</td>\n      <td>NaN</td>\n      <td>None</td>\n      <td>G</td>\n      <td>NaN</td>\n    </tr>\n    <tr>\n      <th>36966</th>\n      <td>1354780</td>\n      <td>3322916</td>\n      <td>2022-12-18</td>\n      <td>1</td>\n      <td>Total</td>\n      <td>Total</td>\n      <td>NaN</td>\n      <td>None</td>\n      <td>G</td>\n      <td>NaN</td>\n    </tr>\n    <tr>\n      <th>36967</th>\n      <td>1354780</td>\n      <td>3322916</td>\n      <td>2022-12-25</td>\n      <td>1</td>\n      <td>Total</td>\n      <td>Total</td>\n      <td>NaN</td>\n      <td>None</td>\n      <td>G</td>\n      <td>NaN</td>\n    </tr>\n    <tr>\n      <th>36968</th>\n      <td>1354780</td>\n      <td>3322916</td>\n      <td>2023-01-01</td>\n      <td>1</td>\n      <td>Total</td>\n      <td>Total</td>\n      <td>NaN</td>\n      <td>None</td>\n      <td>G</td>\n      <td>NaN</td>\n    </tr>\n    <tr>\n      <th>36969</th>\n      <td>1354780</td>\n      <td>3322916</td>\n      <td>2023-01-08</td>\n      <td>1</td>\n      <td>Total</td>\n      <td>Total</td>\n      <td>109.0</td>\n      <td>None</td>\n      <td>G</td>\n      <td>NaN</td>\n    </tr>\n  </tbody>\n</table>\n</div>"
     },
     "execution_count": 101,
     "metadata": {},
     "output_type": "execute_result"
    }
   ],
   "source": [
    "df_test[(df_test['mediabase_id'] == 1354780) & (df_test['breakout_name'] == 'Total') & (df_test['station_id'] == 3322916)][id_cols + ['med_pop_prior']]"
   ],
   "metadata": {
    "collapsed": false
   }
  },
  {
   "cell_type": "code",
   "execution_count": 54,
   "outputs": [
    {
     "data": {
      "text/plain": "(385772, 110)"
     },
     "execution_count": 54,
     "metadata": {},
     "output_type": "execute_result"
    }
   ],
   "source": [
    "df_test.shape"
   ],
   "metadata": {
    "collapsed": false
   }
  },
  {
   "cell_type": "code",
   "execution_count": 81,
   "outputs": [],
   "source": [
    "drop_idx = list(set(df_test.index) - set(df_test[feature_cols].dropna().index))\n",
    "df_test.drop(drop_idx, inplace=True)"
   ],
   "metadata": {
    "collapsed": false
   }
  },
  {
   "cell_type": "markdown",
   "source": [
    "#### score KIIS-FM"
   ],
   "metadata": {
    "collapsed": false
   }
  },
  {
   "cell_type": "code",
   "execution_count": 82,
   "outputs": [],
   "source": [
    "scoring_date = pd.to_datetime('2022-12-04')\n",
    "test_idx = (df_test['week_dt'] >= scoring_date.date()) & (df_test['station_id'] == 3322022)\n",
    "\n",
    "df_test_final = df_test.loc[test_idx][id_cols + feature_cols + target_col]\n",
    "X_test = pd.get_dummies(df_test_final[feature_cols], columns=cat_cols)\n",
    "\n",
    "missing_cols = list(set(X_train.columns) - set(X_test.columns))\n",
    "\n",
    "y_test = df_test_final[target]"
   ],
   "metadata": {
    "collapsed": false
   }
  },
  {
   "cell_type": "code",
   "execution_count": 75,
   "outputs": [
    {
     "data": {
      "text/plain": "        mediabase_id  station_id     week_dt  breakout_id breakout_name  \\\n2267         1088410     3322022  2022-12-18       400756      Hispanic   \n2268         1088410     3322022  2022-12-25       400756      Hispanic   \n2269         1088410     3322022  2023-01-01       400756      Hispanic   \n2270         1088410     3322022  2023-01-08       400756      Hispanic   \n2271         1088410     3322022  2023-01-15       400756      Hispanic   \n...              ...         ...         ...          ...           ...   \n659614       2754544     3322022  2022-12-25       414582           WAO   \n659615       2754544     3322022  2023-01-01       414582           WAO   \n659616       2754544     3322022  2023-01-08       414582           WAO   \n659617       2754544     3322022  2023-01-15       414582           WAO   \n659618       2754544     3322022  2023-01-22       414582           WAO   \n\n       demo_category  pop_co pop_omt gcr  mean_pop_prior  ...  \\\n2267            Race     NaN    None   G       99.000000  ...   \n2268            Race     NaN    None   G       99.000000  ...   \n2269            Race     NaN    None   G       99.000000  ...   \n2270            Race     NaN    None   G       99.000000  ...   \n2271            Race     NaN    None   G       99.000000  ...   \n...              ...     ...     ...  ..             ...  ...   \n659614          Race     NaN    None   R       75.652174  ...   \n659615          Race     NaN    None   R       75.652174  ...   \n659616          Race     NaN    None   R       75.652174  ...   \n659617          Race     NaN    None   R       75.652174  ...   \n659618          Race     NaN    None   R       75.652174  ...   \n\n        mr_market_spins_spins  market_spins diff_spins_song_market_prior  \\\n2267                      172           175                            6   \n2268                      175            50                          -11   \n2269                       50             0                           -1   \n2270                        0             0                            0   \n2271                        0             0                            0   \n...                       ...           ...                          ...   \n659614                     71            57                            2   \n659615                     57            67                           -2   \n659616                     67             0                           -2   \n659617                      0             0                            0   \n659618                      0             0                            0   \n\n        max_pop_artist_prior_unv  mr_spins_song_station_prior  gcr_adj  \\\n2267                        99.0                            6        G   \n2268                        99.0                           12        G   \n2269                        99.0                            1        G   \n2270                        99.0                            0        G   \n2271                        99.0                            0        G   \n...                          ...                          ...      ...   \n659614                      96.0                            2        R   \n659615                      96.0                            4        R   \n659616                      96.0                            2        R   \n659617                      96.0                            0        R   \n659618                      96.0                            0        R   \n\n        diff_song_univ_spins_prior  min_pop_artist_prior_unv  format_spins  \\\n2267                           3.0                      99.0            17   \n2268                        -125.0                      99.0             1   \n2269                         -50.0                      99.0             0   \n2270                           0.0                      99.0             0   \n2271                           0.0                      99.0             0   \n...                            ...                       ...           ...   \n659614                       433.0                      54.0           210   \n659615                        30.0                      54.0           181   \n659616                      -761.0                      54.0           103   \n659617                       157.0                      54.0           118   \n659618                      -243.0                      54.0            77   \n\n        pop_all  \n2267        NaN  \n2268        NaN  \n2269        NaN  \n2270        NaN  \n2271        NaN  \n...         ...  \n659614      NaN  \n659615      NaN  \n659616      NaN  \n659617      NaN  \n659618      NaN  \n\n[19372 rows x 90 columns]",
      "text/html": "<div>\n<style scoped>\n    .dataframe tbody tr th:only-of-type {\n        vertical-align: middle;\n    }\n\n    .dataframe tbody tr th {\n        vertical-align: top;\n    }\n\n    .dataframe thead th {\n        text-align: right;\n    }\n</style>\n<table border=\"1\" class=\"dataframe\">\n  <thead>\n    <tr style=\"text-align: right;\">\n      <th></th>\n      <th>mediabase_id</th>\n      <th>station_id</th>\n      <th>week_dt</th>\n      <th>breakout_id</th>\n      <th>breakout_name</th>\n      <th>demo_category</th>\n      <th>pop_co</th>\n      <th>pop_omt</th>\n      <th>gcr</th>\n      <th>mean_pop_prior</th>\n      <th>...</th>\n      <th>mr_market_spins_spins</th>\n      <th>market_spins</th>\n      <th>diff_spins_song_market_prior</th>\n      <th>max_pop_artist_prior_unv</th>\n      <th>mr_spins_song_station_prior</th>\n      <th>gcr_adj</th>\n      <th>diff_song_univ_spins_prior</th>\n      <th>min_pop_artist_prior_unv</th>\n      <th>format_spins</th>\n      <th>pop_all</th>\n    </tr>\n  </thead>\n  <tbody>\n    <tr>\n      <th>2267</th>\n      <td>1088410</td>\n      <td>3322022</td>\n      <td>2022-12-18</td>\n      <td>400756</td>\n      <td>Hispanic</td>\n      <td>Race</td>\n      <td>NaN</td>\n      <td>None</td>\n      <td>G</td>\n      <td>99.000000</td>\n      <td>...</td>\n      <td>172</td>\n      <td>175</td>\n      <td>6</td>\n      <td>99.0</td>\n      <td>6</td>\n      <td>G</td>\n      <td>3.0</td>\n      <td>99.0</td>\n      <td>17</td>\n      <td>NaN</td>\n    </tr>\n    <tr>\n      <th>2268</th>\n      <td>1088410</td>\n      <td>3322022</td>\n      <td>2022-12-25</td>\n      <td>400756</td>\n      <td>Hispanic</td>\n      <td>Race</td>\n      <td>NaN</td>\n      <td>None</td>\n      <td>G</td>\n      <td>99.000000</td>\n      <td>...</td>\n      <td>175</td>\n      <td>50</td>\n      <td>-11</td>\n      <td>99.0</td>\n      <td>12</td>\n      <td>G</td>\n      <td>-125.0</td>\n      <td>99.0</td>\n      <td>1</td>\n      <td>NaN</td>\n    </tr>\n    <tr>\n      <th>2269</th>\n      <td>1088410</td>\n      <td>3322022</td>\n      <td>2023-01-01</td>\n      <td>400756</td>\n      <td>Hispanic</td>\n      <td>Race</td>\n      <td>NaN</td>\n      <td>None</td>\n      <td>G</td>\n      <td>99.000000</td>\n      <td>...</td>\n      <td>50</td>\n      <td>0</td>\n      <td>-1</td>\n      <td>99.0</td>\n      <td>1</td>\n      <td>G</td>\n      <td>-50.0</td>\n      <td>99.0</td>\n      <td>0</td>\n      <td>NaN</td>\n    </tr>\n    <tr>\n      <th>2270</th>\n      <td>1088410</td>\n      <td>3322022</td>\n      <td>2023-01-08</td>\n      <td>400756</td>\n      <td>Hispanic</td>\n      <td>Race</td>\n      <td>NaN</td>\n      <td>None</td>\n      <td>G</td>\n      <td>99.000000</td>\n      <td>...</td>\n      <td>0</td>\n      <td>0</td>\n      <td>0</td>\n      <td>99.0</td>\n      <td>0</td>\n      <td>G</td>\n      <td>0.0</td>\n      <td>99.0</td>\n      <td>0</td>\n      <td>NaN</td>\n    </tr>\n    <tr>\n      <th>2271</th>\n      <td>1088410</td>\n      <td>3322022</td>\n      <td>2023-01-15</td>\n      <td>400756</td>\n      <td>Hispanic</td>\n      <td>Race</td>\n      <td>NaN</td>\n      <td>None</td>\n      <td>G</td>\n      <td>99.000000</td>\n      <td>...</td>\n      <td>0</td>\n      <td>0</td>\n      <td>0</td>\n      <td>99.0</td>\n      <td>0</td>\n      <td>G</td>\n      <td>0.0</td>\n      <td>99.0</td>\n      <td>0</td>\n      <td>NaN</td>\n    </tr>\n    <tr>\n      <th>...</th>\n      <td>...</td>\n      <td>...</td>\n      <td>...</td>\n      <td>...</td>\n      <td>...</td>\n      <td>...</td>\n      <td>...</td>\n      <td>...</td>\n      <td>...</td>\n      <td>...</td>\n      <td>...</td>\n      <td>...</td>\n      <td>...</td>\n      <td>...</td>\n      <td>...</td>\n      <td>...</td>\n      <td>...</td>\n      <td>...</td>\n      <td>...</td>\n      <td>...</td>\n      <td>...</td>\n    </tr>\n    <tr>\n      <th>659614</th>\n      <td>2754544</td>\n      <td>3322022</td>\n      <td>2022-12-25</td>\n      <td>414582</td>\n      <td>WAO</td>\n      <td>Race</td>\n      <td>NaN</td>\n      <td>None</td>\n      <td>R</td>\n      <td>75.652174</td>\n      <td>...</td>\n      <td>71</td>\n      <td>57</td>\n      <td>2</td>\n      <td>96.0</td>\n      <td>2</td>\n      <td>R</td>\n      <td>433.0</td>\n      <td>54.0</td>\n      <td>210</td>\n      <td>NaN</td>\n    </tr>\n    <tr>\n      <th>659615</th>\n      <td>2754544</td>\n      <td>3322022</td>\n      <td>2023-01-01</td>\n      <td>414582</td>\n      <td>WAO</td>\n      <td>Race</td>\n      <td>NaN</td>\n      <td>None</td>\n      <td>R</td>\n      <td>75.652174</td>\n      <td>...</td>\n      <td>57</td>\n      <td>67</td>\n      <td>-2</td>\n      <td>96.0</td>\n      <td>4</td>\n      <td>R</td>\n      <td>30.0</td>\n      <td>54.0</td>\n      <td>181</td>\n      <td>NaN</td>\n    </tr>\n    <tr>\n      <th>659616</th>\n      <td>2754544</td>\n      <td>3322022</td>\n      <td>2023-01-08</td>\n      <td>414582</td>\n      <td>WAO</td>\n      <td>Race</td>\n      <td>NaN</td>\n      <td>None</td>\n      <td>R</td>\n      <td>75.652174</td>\n      <td>...</td>\n      <td>67</td>\n      <td>0</td>\n      <td>-2</td>\n      <td>96.0</td>\n      <td>2</td>\n      <td>R</td>\n      <td>-761.0</td>\n      <td>54.0</td>\n      <td>103</td>\n      <td>NaN</td>\n    </tr>\n    <tr>\n      <th>659617</th>\n      <td>2754544</td>\n      <td>3322022</td>\n      <td>2023-01-15</td>\n      <td>414582</td>\n      <td>WAO</td>\n      <td>Race</td>\n      <td>NaN</td>\n      <td>None</td>\n      <td>R</td>\n      <td>75.652174</td>\n      <td>...</td>\n      <td>0</td>\n      <td>0</td>\n      <td>0</td>\n      <td>96.0</td>\n      <td>0</td>\n      <td>R</td>\n      <td>157.0</td>\n      <td>54.0</td>\n      <td>118</td>\n      <td>NaN</td>\n    </tr>\n    <tr>\n      <th>659618</th>\n      <td>2754544</td>\n      <td>3322022</td>\n      <td>2023-01-22</td>\n      <td>414582</td>\n      <td>WAO</td>\n      <td>Race</td>\n      <td>NaN</td>\n      <td>None</td>\n      <td>R</td>\n      <td>75.652174</td>\n      <td>...</td>\n      <td>0</td>\n      <td>0</td>\n      <td>0</td>\n      <td>96.0</td>\n      <td>0</td>\n      <td>R</td>\n      <td>-243.0</td>\n      <td>54.0</td>\n      <td>77</td>\n      <td>NaN</td>\n    </tr>\n  </tbody>\n</table>\n<p>19372 rows × 90 columns</p>\n</div>"
     },
     "execution_count": 75,
     "metadata": {},
     "output_type": "execute_result"
    }
   ],
   "source": [
    "df_test_final"
   ],
   "metadata": {
    "collapsed": false
   }
  },
  {
   "cell_type": "code",
   "execution_count": 76,
   "outputs": [
    {
     "data": {
      "text/plain": "        mean_pop_prior  song_weeks_since_last_spins  \\\n2267         99.000000                          1.0   \n2268         99.000000                          1.0   \n2269         99.000000                          1.0   \n2270         99.000000                          2.0   \n2271         99.000000                          3.0   \n...                ...                          ...   \n659614       75.652174                          1.0   \n659615       75.652174                          0.0   \n659616       75.652174                          1.0   \n659617       75.652174                          0.0   \n659618       75.652174                          1.0   \n\n        total_spins_song_station_prior omt_co_flag  \\\n2267                             806.0           0   \n2268                             823.0           0   \n2269                             824.0           0   \n2270                             824.0           0   \n2271                             824.0           0   \n...                                ...         ...   \n659614                          1544.0           0   \n659615                          1548.0           0   \n659616                          1550.0           0   \n659617                          1550.0           0   \n659618                          1550.0           0   \n\n        per_diff_market_artist_spins_prior  mr_pop_prior_unv  \\\n2267                              0.017442              99.0   \n2268                             -0.714286              99.0   \n2269                             -1.000000              99.0   \n2270                              1.000000              99.0   \n2271                              1.000000              99.0   \n...                                    ...               ...   \n659614                           -0.197183              88.0   \n659615                            0.175439              88.0   \n659616                           -1.000000              84.0   \n659617                            1.000000              84.0   \n659618                            1.000000              84.0   \n\n        mr_market_artist_spins_prior  min_pop_prior_unv  feat_artist_song  \\\n2267                             172               99.0                 1   \n2268                             175               99.0                 1   \n2269                              50               99.0                 1   \n2270                               0               99.0                 1   \n2271                               0               99.0                 1   \n...                              ...                ...               ...   \n659614                            71               54.0                 1   \n659615                            57               54.0                 1   \n659616                            67               54.0                 1   \n659617                             0               54.0                 1   \n659618                             0               54.0                 1   \n\n        market_artist_spins  ...  taa_quintile  mr_market_spins_spins  \\\n2267                    175  ...             5                    172   \n2268                     50  ...             5                    175   \n2269                      0  ...             5                     50   \n2270                      0  ...             5                      0   \n2271                      0  ...             5                      0   \n...                     ...  ...           ...                    ...   \n659614                   57  ...             2                     71   \n659615                   67  ...             2                     57   \n659616                    0  ...             2                     67   \n659617                    0  ...             2                      0   \n659618                   31  ...             2                      0   \n\n        market_spins  diff_spins_song_market_prior  max_pop_artist_prior_unv  \\\n2267             175                             6                      99.0   \n2268              50                           -11                      99.0   \n2269               0                            -1                      99.0   \n2270               0                             0                      99.0   \n2271               0                             0                      99.0   \n...              ...                           ...                       ...   \n659614            57                             2                      96.0   \n659615            67                            -2                      96.0   \n659616             0                            -2                      96.0   \n659617             0                             0                      96.0   \n659618             0                             0                      96.0   \n\n        mr_spins_song_station_prior  gcr_adj  diff_song_univ_spins_prior  \\\n2267                              6        G                         3.0   \n2268                             12        G                      -125.0   \n2269                              1        G                       -50.0   \n2270                              0        G                         0.0   \n2271                              0        G                         0.0   \n...                             ...      ...                         ...   \n659614                            2        R                       433.0   \n659615                            4        R                        30.0   \n659616                            2        R                      -761.0   \n659617                            0        R                       157.0   \n659618                            0        R                      -243.0   \n\n        min_pop_artist_prior_unv  format_spins  \n2267                        99.0            17  \n2268                        99.0             1  \n2269                        99.0             0  \n2270                        99.0             0  \n2271                        99.0             0  \n...                          ...           ...  \n659614                      54.0           210  \n659615                      54.0           181  \n659616                      54.0           103  \n659617                      54.0           118  \n659618                      54.0            77  \n\n[19315 rows x 80 columns]",
      "text/html": "<div>\n<style scoped>\n    .dataframe tbody tr th:only-of-type {\n        vertical-align: middle;\n    }\n\n    .dataframe tbody tr th {\n        vertical-align: top;\n    }\n\n    .dataframe thead th {\n        text-align: right;\n    }\n</style>\n<table border=\"1\" class=\"dataframe\">\n  <thead>\n    <tr style=\"text-align: right;\">\n      <th></th>\n      <th>mean_pop_prior</th>\n      <th>song_weeks_since_last_spins</th>\n      <th>total_spins_song_station_prior</th>\n      <th>omt_co_flag</th>\n      <th>per_diff_market_artist_spins_prior</th>\n      <th>mr_pop_prior_unv</th>\n      <th>mr_market_artist_spins_prior</th>\n      <th>min_pop_prior_unv</th>\n      <th>feat_artist_song</th>\n      <th>market_artist_spins</th>\n      <th>...</th>\n      <th>taa_quintile</th>\n      <th>mr_market_spins_spins</th>\n      <th>market_spins</th>\n      <th>diff_spins_song_market_prior</th>\n      <th>max_pop_artist_prior_unv</th>\n      <th>mr_spins_song_station_prior</th>\n      <th>gcr_adj</th>\n      <th>diff_song_univ_spins_prior</th>\n      <th>min_pop_artist_prior_unv</th>\n      <th>format_spins</th>\n    </tr>\n  </thead>\n  <tbody>\n    <tr>\n      <th>2267</th>\n      <td>99.000000</td>\n      <td>1.0</td>\n      <td>806.0</td>\n      <td>0</td>\n      <td>0.017442</td>\n      <td>99.0</td>\n      <td>172</td>\n      <td>99.0</td>\n      <td>1</td>\n      <td>175</td>\n      <td>...</td>\n      <td>5</td>\n      <td>172</td>\n      <td>175</td>\n      <td>6</td>\n      <td>99.0</td>\n      <td>6</td>\n      <td>G</td>\n      <td>3.0</td>\n      <td>99.0</td>\n      <td>17</td>\n    </tr>\n    <tr>\n      <th>2268</th>\n      <td>99.000000</td>\n      <td>1.0</td>\n      <td>823.0</td>\n      <td>0</td>\n      <td>-0.714286</td>\n      <td>99.0</td>\n      <td>175</td>\n      <td>99.0</td>\n      <td>1</td>\n      <td>50</td>\n      <td>...</td>\n      <td>5</td>\n      <td>175</td>\n      <td>50</td>\n      <td>-11</td>\n      <td>99.0</td>\n      <td>12</td>\n      <td>G</td>\n      <td>-125.0</td>\n      <td>99.0</td>\n      <td>1</td>\n    </tr>\n    <tr>\n      <th>2269</th>\n      <td>99.000000</td>\n      <td>1.0</td>\n      <td>824.0</td>\n      <td>0</td>\n      <td>-1.000000</td>\n      <td>99.0</td>\n      <td>50</td>\n      <td>99.0</td>\n      <td>1</td>\n      <td>0</td>\n      <td>...</td>\n      <td>5</td>\n      <td>50</td>\n      <td>0</td>\n      <td>-1</td>\n      <td>99.0</td>\n      <td>1</td>\n      <td>G</td>\n      <td>-50.0</td>\n      <td>99.0</td>\n      <td>0</td>\n    </tr>\n    <tr>\n      <th>2270</th>\n      <td>99.000000</td>\n      <td>2.0</td>\n      <td>824.0</td>\n      <td>0</td>\n      <td>1.000000</td>\n      <td>99.0</td>\n      <td>0</td>\n      <td>99.0</td>\n      <td>1</td>\n      <td>0</td>\n      <td>...</td>\n      <td>5</td>\n      <td>0</td>\n      <td>0</td>\n      <td>0</td>\n      <td>99.0</td>\n      <td>0</td>\n      <td>G</td>\n      <td>0.0</td>\n      <td>99.0</td>\n      <td>0</td>\n    </tr>\n    <tr>\n      <th>2271</th>\n      <td>99.000000</td>\n      <td>3.0</td>\n      <td>824.0</td>\n      <td>0</td>\n      <td>1.000000</td>\n      <td>99.0</td>\n      <td>0</td>\n      <td>99.0</td>\n      <td>1</td>\n      <td>0</td>\n      <td>...</td>\n      <td>5</td>\n      <td>0</td>\n      <td>0</td>\n      <td>0</td>\n      <td>99.0</td>\n      <td>0</td>\n      <td>G</td>\n      <td>0.0</td>\n      <td>99.0</td>\n      <td>0</td>\n    </tr>\n    <tr>\n      <th>...</th>\n      <td>...</td>\n      <td>...</td>\n      <td>...</td>\n      <td>...</td>\n      <td>...</td>\n      <td>...</td>\n      <td>...</td>\n      <td>...</td>\n      <td>...</td>\n      <td>...</td>\n      <td>...</td>\n      <td>...</td>\n      <td>...</td>\n      <td>...</td>\n      <td>...</td>\n      <td>...</td>\n      <td>...</td>\n      <td>...</td>\n      <td>...</td>\n      <td>...</td>\n      <td>...</td>\n    </tr>\n    <tr>\n      <th>659614</th>\n      <td>75.652174</td>\n      <td>1.0</td>\n      <td>1544.0</td>\n      <td>0</td>\n      <td>-0.197183</td>\n      <td>88.0</td>\n      <td>71</td>\n      <td>54.0</td>\n      <td>1</td>\n      <td>57</td>\n      <td>...</td>\n      <td>2</td>\n      <td>71</td>\n      <td>57</td>\n      <td>2</td>\n      <td>96.0</td>\n      <td>2</td>\n      <td>R</td>\n      <td>433.0</td>\n      <td>54.0</td>\n      <td>210</td>\n    </tr>\n    <tr>\n      <th>659615</th>\n      <td>75.652174</td>\n      <td>0.0</td>\n      <td>1548.0</td>\n      <td>0</td>\n      <td>0.175439</td>\n      <td>88.0</td>\n      <td>57</td>\n      <td>54.0</td>\n      <td>1</td>\n      <td>67</td>\n      <td>...</td>\n      <td>2</td>\n      <td>57</td>\n      <td>67</td>\n      <td>-2</td>\n      <td>96.0</td>\n      <td>4</td>\n      <td>R</td>\n      <td>30.0</td>\n      <td>54.0</td>\n      <td>181</td>\n    </tr>\n    <tr>\n      <th>659616</th>\n      <td>75.652174</td>\n      <td>1.0</td>\n      <td>1550.0</td>\n      <td>0</td>\n      <td>-1.000000</td>\n      <td>84.0</td>\n      <td>67</td>\n      <td>54.0</td>\n      <td>1</td>\n      <td>0</td>\n      <td>...</td>\n      <td>2</td>\n      <td>67</td>\n      <td>0</td>\n      <td>-2</td>\n      <td>96.0</td>\n      <td>2</td>\n      <td>R</td>\n      <td>-761.0</td>\n      <td>54.0</td>\n      <td>103</td>\n    </tr>\n    <tr>\n      <th>659617</th>\n      <td>75.652174</td>\n      <td>0.0</td>\n      <td>1550.0</td>\n      <td>0</td>\n      <td>1.000000</td>\n      <td>84.0</td>\n      <td>0</td>\n      <td>54.0</td>\n      <td>1</td>\n      <td>0</td>\n      <td>...</td>\n      <td>2</td>\n      <td>0</td>\n      <td>0</td>\n      <td>0</td>\n      <td>96.0</td>\n      <td>0</td>\n      <td>R</td>\n      <td>157.0</td>\n      <td>54.0</td>\n      <td>118</td>\n    </tr>\n    <tr>\n      <th>659618</th>\n      <td>75.652174</td>\n      <td>1.0</td>\n      <td>1550.0</td>\n      <td>0</td>\n      <td>1.000000</td>\n      <td>84.0</td>\n      <td>0</td>\n      <td>54.0</td>\n      <td>1</td>\n      <td>31</td>\n      <td>...</td>\n      <td>2</td>\n      <td>0</td>\n      <td>0</td>\n      <td>0</td>\n      <td>96.0</td>\n      <td>0</td>\n      <td>R</td>\n      <td>-243.0</td>\n      <td>54.0</td>\n      <td>77</td>\n    </tr>\n  </tbody>\n</table>\n<p>19315 rows × 80 columns</p>\n</div>"
     },
     "execution_count": 76,
     "metadata": {},
     "output_type": "execute_result"
    }
   ],
   "source": [
    "df_test_final[feature_cols].dropna()"
   ],
   "metadata": {
    "collapsed": false
   }
  },
  {
   "cell_type": "code",
   "execution_count": 83,
   "outputs": [
    {
     "data": {
      "text/plain": "{'Market_Name_Atlanta',\n 'Market_Name_Austin',\n 'Market_Name_Baltimore',\n 'Market_Name_Boston',\n 'Market_Name_Charlotte',\n 'Market_Name_Chicago',\n 'Market_Name_Cincinnati',\n 'Market_Name_Columbus, OH',\n 'Market_Name_Dallas',\n 'Market_Name_Denver',\n 'Market_Name_Detroit',\n 'Market_Name_Miami',\n 'Market_Name_Minneapolis',\n 'Market_Name_Nashville',\n 'Market_Name_New York',\n 'Market_Name_Orlando',\n 'Market_Name_Philadelphia',\n 'Market_Name_Phoenix',\n 'Market_Name_Pittsburgh',\n 'Market_Name_Portland, OR',\n 'Market_Name_Raleigh',\n 'Market_Name_Salt Lake City',\n 'Market_Name_San Diego',\n 'Market_Name_San Francisco',\n 'Market_Name_Seattle',\n 'Market_Name_St. Louis',\n 'Market_Name_Tampa',\n 'Market_Name_Washington, DC',\n 'omt_co_flag_OMT_CO',\n 'omt_co_flag_OMT_only',\n 'segment_AA'}"
     },
     "execution_count": 83,
     "metadata": {},
     "output_type": "execute_result"
    }
   ],
   "source": [
    "set(X_train.columns) - set(X_test.columns)"
   ],
   "metadata": {
    "collapsed": false
   }
  },
  {
   "cell_type": "code",
   "execution_count": 84,
   "outputs": [],
   "source": [
    "for i in missing_cols:\n",
    "    X_test[i] = 0"
   ],
   "metadata": {
    "collapsed": false
   }
  },
  {
   "cell_type": "code",
   "execution_count": 85,
   "outputs": [],
   "source": [
    "X_test = X_test[X_train.columns]"
   ],
   "metadata": {
    "collapsed": false
   }
  },
  {
   "cell_type": "code",
   "execution_count": 62,
   "outputs": [
    {
     "data": {
      "text/plain": "array([0, 1], dtype=uint8)"
     },
     "execution_count": 62,
     "metadata": {},
     "output_type": "execute_result"
    }
   ],
   "source": [
    "pd.unique(X_test['omt_co_flag_CO_only'])"
   ],
   "metadata": {
    "collapsed": false
   }
  },
  {
   "cell_type": "code",
   "execution_count": 86,
   "outputs": [
    {
     "name": "stdout",
     "output_type": "stream",
     "text": [
      "Core-Cume: 4638\n",
      "Age: 4638\n",
      "Race: 4598\n",
      "Gender: 3122\n"
     ]
    }
   ],
   "source": [
    "df_out = pd.DataFrame(columns=['lower_wob_thresh', 'mean_pop_predicted', 'upper_wobble_thresh'])\n",
    "for cat in demo_cats:\n",
    "    #tic = time.perf_counter()\n",
    "    idx = (df_test_final['demo_category'] == cat)\n",
    "    print(cat + ': ' + str(sum(idx)))\n",
    "\n",
    "    # extract relevant segment indicator columns\n",
    "    demo_cols_cat = ['segment_' + i for i in list(pd.unique(df_test_final.loc[idx]['segment']))]\n",
    "    demo_cols_excl = list(set(demo_cols_all) - set(demo_cols_cat))\n",
    "    feature_cols_cat = list(set(X_test.columns) - set(demo_cols_excl))\n",
    "\n",
    "    # create features and target\n",
    "    X = X_test.loc[idx][feature_cols_cat]\n",
    "    if cat == 'Race':\n",
    "        X['segment_AA'] = 0\n",
    "    y = y_test.loc[idx]\n",
    "    #print(X)\n",
    "\n",
    "    # create empty dataframe\n",
    "    df_temp = pd.DataFrame()\n",
    "    # predict using estimator\n",
    "\n",
    "    #re-arrange features\n",
    "\n",
    "    df_temp['lower_wob_thresh'] = pd.DataFrame(best_estimators[cat][0].predict(X[best_estimators[cat][0].feature_names_in_]), index=X_test.loc[idx].index)\n",
    "    df_temp['mean_pop_predicted'] = pd.DataFrame(best_estimators[cat][1].predict(X[best_estimators[cat][1].feature_names_in_]), index=X_test.loc[idx].index)\n",
    "    df_temp['upper_wobble_thresh'] = pd.DataFrame(best_estimators[cat][2].predict(X[best_estimators[cat][2].feature_names_in_]), index=X_test.loc[idx].index)\n",
    "\n",
    "    df_out = pd.concat([df_out,df_temp], axis=0)"
   ],
   "metadata": {
    "collapsed": false
   }
  },
  {
   "cell_type": "code",
   "execution_count": 45,
   "outputs": [
    {
     "data": {
      "text/plain": "        lower_wob_thresh  mean_pop_predicted  upper_wobble_thresh\n1359           68.511838           82.960296            98.077451\n1360           69.581628           82.973632            98.077451\n1361           69.018166           83.449665            98.077451\n1362           69.018166           83.449665            98.077451\n1363           69.747890           83.639983            98.077451\n...                  ...                 ...                  ...\n518289         55.041558           73.456735            88.718066\n519671         71.085823           79.251774            87.379395\n519672         70.970772           79.251774            87.495749\n519683         54.196172           57.071973            75.961581\n519684         50.072922           57.071973            76.077935\n\n[14909 rows x 3 columns]",
      "text/html": "<div>\n<style scoped>\n    .dataframe tbody tr th:only-of-type {\n        vertical-align: middle;\n    }\n\n    .dataframe tbody tr th {\n        vertical-align: top;\n    }\n\n    .dataframe thead th {\n        text-align: right;\n    }\n</style>\n<table border=\"1\" class=\"dataframe\">\n  <thead>\n    <tr style=\"text-align: right;\">\n      <th></th>\n      <th>lower_wob_thresh</th>\n      <th>mean_pop_predicted</th>\n      <th>upper_wobble_thresh</th>\n    </tr>\n  </thead>\n  <tbody>\n    <tr>\n      <th>1359</th>\n      <td>68.511838</td>\n      <td>82.960296</td>\n      <td>98.077451</td>\n    </tr>\n    <tr>\n      <th>1360</th>\n      <td>69.581628</td>\n      <td>82.973632</td>\n      <td>98.077451</td>\n    </tr>\n    <tr>\n      <th>1361</th>\n      <td>69.018166</td>\n      <td>83.449665</td>\n      <td>98.077451</td>\n    </tr>\n    <tr>\n      <th>1362</th>\n      <td>69.018166</td>\n      <td>83.449665</td>\n      <td>98.077451</td>\n    </tr>\n    <tr>\n      <th>1363</th>\n      <td>69.747890</td>\n      <td>83.639983</td>\n      <td>98.077451</td>\n    </tr>\n    <tr>\n      <th>...</th>\n      <td>...</td>\n      <td>...</td>\n      <td>...</td>\n    </tr>\n    <tr>\n      <th>518289</th>\n      <td>55.041558</td>\n      <td>73.456735</td>\n      <td>88.718066</td>\n    </tr>\n    <tr>\n      <th>519671</th>\n      <td>71.085823</td>\n      <td>79.251774</td>\n      <td>87.379395</td>\n    </tr>\n    <tr>\n      <th>519672</th>\n      <td>70.970772</td>\n      <td>79.251774</td>\n      <td>87.495749</td>\n    </tr>\n    <tr>\n      <th>519683</th>\n      <td>54.196172</td>\n      <td>57.071973</td>\n      <td>75.961581</td>\n    </tr>\n    <tr>\n      <th>519684</th>\n      <td>50.072922</td>\n      <td>57.071973</td>\n      <td>76.077935</td>\n    </tr>\n  </tbody>\n</table>\n<p>14909 rows × 3 columns</p>\n</div>"
     },
     "execution_count": 45,
     "metadata": {},
     "output_type": "execute_result"
    }
   ],
   "source": [
    "df_out"
   ],
   "metadata": {
    "collapsed": false
   }
  },
  {
   "cell_type": "markdown",
   "source": [
    "#### score format alone without KIIS-FM"
   ],
   "metadata": {
    "collapsed": false
   }
  },
  {
   "cell_type": "code",
   "execution_count": 87,
   "outputs": [],
   "source": [
    "scoring_date = pd.to_datetime('2022-12-04')\n",
    "test_idx_fmt = (df_test['week_dt'] >= scoring_date.date())\n",
    "\n",
    "df_test_final_fmt = df_test.loc[test_idx_fmt][id_cols + ['total_respondents'] + feature_cols + target_col]\n",
    "X_test_fmt = pd.get_dummies(df_test_final_fmt[feature_cols], columns=cat_cols)\n",
    "\n",
    "missing_cols_fmt = list(set(X_train.columns) - set(X_test_fmt.columns))\n",
    "\n",
    "y_test_fmt = df_test_final_fmt[target]"
   ],
   "metadata": {
    "collapsed": false
   }
  },
  {
   "cell_type": "code",
   "execution_count": 88,
   "outputs": [
    {
     "data": {
      "text/plain": "['omt_co_flag_OMT_only', 'omt_co_flag_OMT_CO']"
     },
     "execution_count": 88,
     "metadata": {},
     "output_type": "execute_result"
    }
   ],
   "source": [
    "missing_cols_fmt"
   ],
   "metadata": {
    "collapsed": false
   }
  },
  {
   "cell_type": "code",
   "execution_count": 89,
   "outputs": [],
   "source": [
    "for i in missing_cols_fmt:\n",
    "    X_test_fmt[i] = 0"
   ],
   "metadata": {
    "collapsed": false
   }
  },
  {
   "cell_type": "code",
   "execution_count": 90,
   "outputs": [],
   "source": [
    "X_test_fmt = X_test_fmt[X_train.columns]"
   ],
   "metadata": {
    "collapsed": false
   }
  },
  {
   "cell_type": "code",
   "execution_count": 91,
   "outputs": [
    {
     "name": "stdout",
     "output_type": "stream",
     "text": [
      "Core-Cume: 95115\n",
      "Core-Cume: 95115\n",
      "Age: 95144\n",
      "Age: 95144\n",
      "Race: 69062\n",
      "Race: 69062\n",
      "Gender: 76870\n",
      "Gender: 76870\n"
     ]
    }
   ],
   "source": [
    "df_out_fmt = pd.DataFrame(columns=['lower_wob_thresh', 'mean_pop_predicted', 'upper_wobble_thresh'])\n",
    "for cat in demo_cats:\n",
    "    #tic = time.perf_counter()\n",
    "    idx = (df_test_final_fmt['demo_category'] == cat)\n",
    "    print(cat + ': ' + str(sum(idx)))\n",
    "\n",
    "    # extract relevant segment indicator columns\n",
    "    demo_cols_cat = ['segment_' + i for i in list(pd.unique(df_test_final_fmt.loc[idx]['segment']))]\n",
    "    demo_cols_excl = list(set(demo_cols_all) - set(demo_cols_cat))\n",
    "    feature_cols_cat = list(set(X_test.columns) - set(demo_cols_excl))\n",
    "\n",
    "    # create features and target\n",
    "\n",
    "    X = X_test_fmt.loc[idx][feature_cols_cat]\n",
    "    X.dropna(inplace=True)\n",
    "    idx_new = X.index\n",
    "    print(cat + ': ' + str(len(idx_new)))\n",
    "    y = y_test_fmt.loc[idx_new]\n",
    "    #print(X)\n",
    "\n",
    "    # create empty dataframe\n",
    "    df_temp_fmt = pd.DataFrame()\n",
    "    # predict using estimator\n",
    "\n",
    "    #re-arrange features\n",
    "\n",
    "    df_temp_fmt['lower_wob_thresh'] = pd.DataFrame(best_estimators[cat][0].predict(X[best_estimators[cat][0].feature_names_in_]), index=X_test_fmt.loc[idx_new].index)\n",
    "    df_temp_fmt['mean_pop_predicted'] = pd.DataFrame(best_estimators[cat][1].predict(X[best_estimators[cat][1].feature_names_in_]), index=X_test_fmt.loc[idx_new].index)\n",
    "    df_temp_fmt['upper_wobble_thresh'] = pd.DataFrame(best_estimators[cat][2].predict(X[best_estimators[cat][2].feature_names_in_]), index=X_test_fmt.loc[idx_new].index)\n",
    "\n",
    "    df_out_fmt = pd.concat([df_out_fmt,df_temp_fmt], axis=0)"
   ],
   "metadata": {
    "collapsed": false
   }
  },
  {
   "cell_type": "code",
   "execution_count": 92,
   "outputs": [
    {
     "data": {
      "text/plain": "        lower_wob_thresh  mean_pop_predicted  upper_wobble_thresh\n29             70.915061           92.427825           103.928914\n30             72.044496           92.427825           103.928914\n31             70.349429           92.427825           103.928914\n32             72.044496           92.427825           103.928914\n33             72.044496           92.427825           103.928914\n...                  ...                 ...                  ...\n659767         57.810650           76.479388            89.565672\n659768         57.644389           76.416436            89.811995\n659769         57.726578           76.128290            89.811995\n659770         57.644389           76.416436            89.811995\n659771         57.726578           76.128290            89.811995\n\n[336191 rows x 3 columns]",
      "text/html": "<div>\n<style scoped>\n    .dataframe tbody tr th:only-of-type {\n        vertical-align: middle;\n    }\n\n    .dataframe tbody tr th {\n        vertical-align: top;\n    }\n\n    .dataframe thead th {\n        text-align: right;\n    }\n</style>\n<table border=\"1\" class=\"dataframe\">\n  <thead>\n    <tr style=\"text-align: right;\">\n      <th></th>\n      <th>lower_wob_thresh</th>\n      <th>mean_pop_predicted</th>\n      <th>upper_wobble_thresh</th>\n    </tr>\n  </thead>\n  <tbody>\n    <tr>\n      <th>29</th>\n      <td>70.915061</td>\n      <td>92.427825</td>\n      <td>103.928914</td>\n    </tr>\n    <tr>\n      <th>30</th>\n      <td>72.044496</td>\n      <td>92.427825</td>\n      <td>103.928914</td>\n    </tr>\n    <tr>\n      <th>31</th>\n      <td>70.349429</td>\n      <td>92.427825</td>\n      <td>103.928914</td>\n    </tr>\n    <tr>\n      <th>32</th>\n      <td>72.044496</td>\n      <td>92.427825</td>\n      <td>103.928914</td>\n    </tr>\n    <tr>\n      <th>33</th>\n      <td>72.044496</td>\n      <td>92.427825</td>\n      <td>103.928914</td>\n    </tr>\n    <tr>\n      <th>...</th>\n      <td>...</td>\n      <td>...</td>\n      <td>...</td>\n    </tr>\n    <tr>\n      <th>659767</th>\n      <td>57.810650</td>\n      <td>76.479388</td>\n      <td>89.565672</td>\n    </tr>\n    <tr>\n      <th>659768</th>\n      <td>57.644389</td>\n      <td>76.416436</td>\n      <td>89.811995</td>\n    </tr>\n    <tr>\n      <th>659769</th>\n      <td>57.726578</td>\n      <td>76.128290</td>\n      <td>89.811995</td>\n    </tr>\n    <tr>\n      <th>659770</th>\n      <td>57.644389</td>\n      <td>76.416436</td>\n      <td>89.811995</td>\n    </tr>\n    <tr>\n      <th>659771</th>\n      <td>57.726578</td>\n      <td>76.128290</td>\n      <td>89.811995</td>\n    </tr>\n  </tbody>\n</table>\n<p>336191 rows × 3 columns</p>\n</div>"
     },
     "execution_count": 92,
     "metadata": {},
     "output_type": "execute_result"
    }
   ],
   "source": [
    "df_out_fmt"
   ],
   "metadata": {
    "collapsed": false
   }
  },
  {
   "cell_type": "code",
   "execution_count": 93,
   "outputs": [],
   "source": [
    "df_out.to_pickle('df_out_stage_01222023_01292021.pkl')\n",
    "df_out_fmt.to_pickle('df_out_fmt_stage_01222023_01292021.pkl')"
   ],
   "metadata": {
    "collapsed": false
   }
  },
  {
   "cell_type": "markdown",
   "source": [
    "### Process output & write to Excel"
   ],
   "metadata": {
    "collapsed": false
   }
  },
  {
   "cell_type": "code",
   "execution_count": 94,
   "outputs": [],
   "source": [
    "df_out_final = df_test_final[id_cols + ['taa_quintile']].join(df_out, how='left')"
   ],
   "metadata": {
    "collapsed": false
   }
  },
  {
   "cell_type": "code",
   "execution_count": 95,
   "outputs": [],
   "source": [
    "df_out_final['segment'] = df_out_final['breakout_name'].apply(func=(lambda x: breakout_map[x] if (x in breakout_map.keys()) else None))"
   ],
   "metadata": {
    "collapsed": false
   }
  },
  {
   "cell_type": "code",
   "execution_count": 96,
   "outputs": [],
   "source": [
    "df_out_final_fmt = df_test_final_fmt[id_cols + ['taa_quintile']].join(df_out_fmt, how='left')"
   ],
   "metadata": {
    "collapsed": false
   }
  },
  {
   "cell_type": "code",
   "execution_count": 97,
   "outputs": [],
   "source": [
    "df_out_final_fmt['segment'] = df_out_final_fmt['breakout_name'].apply(func=(lambda x: breakout_map[x] if (x in breakout_map.keys()) else None))"
   ],
   "metadata": {
    "collapsed": false
   }
  },
  {
   "cell_type": "code",
   "execution_count": 98,
   "outputs": [
    {
     "data": {
      "text/plain": "        mediabase_id  station_id     week_dt  breakout_id breakout_name  \\\n2267         1088410     3322022  2022-12-18       400756      Hispanic   \n2268         1088410     3322022  2022-12-25       400756      Hispanic   \n2269         1088410     3322022  2023-01-01       400756      Hispanic   \n2270         1088410     3322022  2023-01-08       400756      Hispanic   \n2271         1088410     3322022  2023-01-15       400756      Hispanic   \n...              ...         ...         ...          ...           ...   \n659614       2754544     3322022  2022-12-25       414582           WAO   \n659615       2754544     3322022  2023-01-01       414582           WAO   \n659616       2754544     3322022  2023-01-08       414582           WAO   \n659617       2754544     3322022  2023-01-15       414582           WAO   \n659618       2754544     3322022  2023-01-22       414582           WAO   \n\n       demo_category  pop_co pop_omt gcr  taa_quintile  lower_wob_thresh  \\\n2267            Race     NaN    None   G             5         76.882964   \n2268            Race     NaN    None   G             5         73.364436   \n2269            Race     NaN    None   G             5         76.675495   \n2270            Race     NaN    None   G             5         74.410205   \n2271            Race     NaN    None   G             5         74.410205   \n...              ...     ...     ...  ..           ...               ...   \n659614          Race     NaN    None   R             2         59.185196   \n659615          Race     NaN    None   R             2         58.788332   \n659616          Race     NaN    None   R             2         58.607518   \n659617          Race     NaN    None   R             2         58.788332   \n659618          Race     NaN    None   R             2         58.607518   \n\n        mean_pop_predicted  upper_wobble_thresh   segment  \n2267             98.076248           104.457429  Hispanic  \n2268             98.076248           104.123936  Hispanic  \n2269             99.530475           104.123936  Hispanic  \n2270             99.530475           104.457429  Hispanic  \n2271             99.530475           104.457429  Hispanic  \n...                    ...                  ...       ...  \n659614           76.007226            92.769153     White  \n659615           75.987736            92.769153     White  \n659616           75.987736            92.769153     White  \n659617           76.007226            92.769153     White  \n659618           75.987736            92.769153     White  \n\n[19315 rows x 14 columns]",
      "text/html": "<div>\n<style scoped>\n    .dataframe tbody tr th:only-of-type {\n        vertical-align: middle;\n    }\n\n    .dataframe tbody tr th {\n        vertical-align: top;\n    }\n\n    .dataframe thead th {\n        text-align: right;\n    }\n</style>\n<table border=\"1\" class=\"dataframe\">\n  <thead>\n    <tr style=\"text-align: right;\">\n      <th></th>\n      <th>mediabase_id</th>\n      <th>station_id</th>\n      <th>week_dt</th>\n      <th>breakout_id</th>\n      <th>breakout_name</th>\n      <th>demo_category</th>\n      <th>pop_co</th>\n      <th>pop_omt</th>\n      <th>gcr</th>\n      <th>taa_quintile</th>\n      <th>lower_wob_thresh</th>\n      <th>mean_pop_predicted</th>\n      <th>upper_wobble_thresh</th>\n      <th>segment</th>\n    </tr>\n  </thead>\n  <tbody>\n    <tr>\n      <th>2267</th>\n      <td>1088410</td>\n      <td>3322022</td>\n      <td>2022-12-18</td>\n      <td>400756</td>\n      <td>Hispanic</td>\n      <td>Race</td>\n      <td>NaN</td>\n      <td>None</td>\n      <td>G</td>\n      <td>5</td>\n      <td>76.882964</td>\n      <td>98.076248</td>\n      <td>104.457429</td>\n      <td>Hispanic</td>\n    </tr>\n    <tr>\n      <th>2268</th>\n      <td>1088410</td>\n      <td>3322022</td>\n      <td>2022-12-25</td>\n      <td>400756</td>\n      <td>Hispanic</td>\n      <td>Race</td>\n      <td>NaN</td>\n      <td>None</td>\n      <td>G</td>\n      <td>5</td>\n      <td>73.364436</td>\n      <td>98.076248</td>\n      <td>104.123936</td>\n      <td>Hispanic</td>\n    </tr>\n    <tr>\n      <th>2269</th>\n      <td>1088410</td>\n      <td>3322022</td>\n      <td>2023-01-01</td>\n      <td>400756</td>\n      <td>Hispanic</td>\n      <td>Race</td>\n      <td>NaN</td>\n      <td>None</td>\n      <td>G</td>\n      <td>5</td>\n      <td>76.675495</td>\n      <td>99.530475</td>\n      <td>104.123936</td>\n      <td>Hispanic</td>\n    </tr>\n    <tr>\n      <th>2270</th>\n      <td>1088410</td>\n      <td>3322022</td>\n      <td>2023-01-08</td>\n      <td>400756</td>\n      <td>Hispanic</td>\n      <td>Race</td>\n      <td>NaN</td>\n      <td>None</td>\n      <td>G</td>\n      <td>5</td>\n      <td>74.410205</td>\n      <td>99.530475</td>\n      <td>104.457429</td>\n      <td>Hispanic</td>\n    </tr>\n    <tr>\n      <th>2271</th>\n      <td>1088410</td>\n      <td>3322022</td>\n      <td>2023-01-15</td>\n      <td>400756</td>\n      <td>Hispanic</td>\n      <td>Race</td>\n      <td>NaN</td>\n      <td>None</td>\n      <td>G</td>\n      <td>5</td>\n      <td>74.410205</td>\n      <td>99.530475</td>\n      <td>104.457429</td>\n      <td>Hispanic</td>\n    </tr>\n    <tr>\n      <th>...</th>\n      <td>...</td>\n      <td>...</td>\n      <td>...</td>\n      <td>...</td>\n      <td>...</td>\n      <td>...</td>\n      <td>...</td>\n      <td>...</td>\n      <td>...</td>\n      <td>...</td>\n      <td>...</td>\n      <td>...</td>\n      <td>...</td>\n      <td>...</td>\n    </tr>\n    <tr>\n      <th>659614</th>\n      <td>2754544</td>\n      <td>3322022</td>\n      <td>2022-12-25</td>\n      <td>414582</td>\n      <td>WAO</td>\n      <td>Race</td>\n      <td>NaN</td>\n      <td>None</td>\n      <td>R</td>\n      <td>2</td>\n      <td>59.185196</td>\n      <td>76.007226</td>\n      <td>92.769153</td>\n      <td>White</td>\n    </tr>\n    <tr>\n      <th>659615</th>\n      <td>2754544</td>\n      <td>3322022</td>\n      <td>2023-01-01</td>\n      <td>414582</td>\n      <td>WAO</td>\n      <td>Race</td>\n      <td>NaN</td>\n      <td>None</td>\n      <td>R</td>\n      <td>2</td>\n      <td>58.788332</td>\n      <td>75.987736</td>\n      <td>92.769153</td>\n      <td>White</td>\n    </tr>\n    <tr>\n      <th>659616</th>\n      <td>2754544</td>\n      <td>3322022</td>\n      <td>2023-01-08</td>\n      <td>414582</td>\n      <td>WAO</td>\n      <td>Race</td>\n      <td>NaN</td>\n      <td>None</td>\n      <td>R</td>\n      <td>2</td>\n      <td>58.607518</td>\n      <td>75.987736</td>\n      <td>92.769153</td>\n      <td>White</td>\n    </tr>\n    <tr>\n      <th>659617</th>\n      <td>2754544</td>\n      <td>3322022</td>\n      <td>2023-01-15</td>\n      <td>414582</td>\n      <td>WAO</td>\n      <td>Race</td>\n      <td>NaN</td>\n      <td>None</td>\n      <td>R</td>\n      <td>2</td>\n      <td>58.788332</td>\n      <td>76.007226</td>\n      <td>92.769153</td>\n      <td>White</td>\n    </tr>\n    <tr>\n      <th>659618</th>\n      <td>2754544</td>\n      <td>3322022</td>\n      <td>2023-01-22</td>\n      <td>414582</td>\n      <td>WAO</td>\n      <td>Race</td>\n      <td>NaN</td>\n      <td>None</td>\n      <td>R</td>\n      <td>2</td>\n      <td>58.607518</td>\n      <td>75.987736</td>\n      <td>92.769153</td>\n      <td>White</td>\n    </tr>\n  </tbody>\n</table>\n<p>19315 rows × 14 columns</p>\n</div>"
     },
     "execution_count": 98,
     "metadata": {},
     "output_type": "execute_result"
    }
   ],
   "source": [
    "df_out_final"
   ],
   "metadata": {
    "collapsed": false
   }
  },
  {
   "cell_type": "code",
   "execution_count": 99,
   "outputs": [],
   "source": [
    "# song-artist lookup\n",
    "song_query = '''\n",
    "Select mediabase_id, song_name, artist_name\n",
    "from data.songs_v as sv\n",
    "'''\n",
    "engine = postgresql_engine(user, pwd, host, port, dbname)\n",
    "with engine.connect() as conn:\n",
    "    with conn.begin():\n",
    "        df_song_lookup = pd.read_sql(song_query, con=conn)"
   ],
   "metadata": {
    "collapsed": false
   }
  },
  {
   "cell_type": "code",
   "execution_count": 100,
   "outputs": [],
   "source": [
    "station_query = '''\n",
    "Select distinct station_id, call_letters\n",
    "from data.stations_v as sv\n",
    "'''\n",
    "\n",
    "engine = postgresql_engine(user, pwd, host, port, dbname)\n",
    "with engine.connect() as conn:\n",
    "    with conn.begin():\n",
    "        df_station_lookup = pd.read_sql(station_query, con=conn)"
   ],
   "metadata": {
    "collapsed": false
   }
  },
  {
   "cell_type": "code",
   "execution_count": 101,
   "outputs": [],
   "source": [
    "df_song_lookup.set_index(['mediabase_id'], inplace=True)"
   ],
   "metadata": {
    "collapsed": false
   }
  },
  {
   "cell_type": "code",
   "execution_count": 102,
   "outputs": [],
   "source": [
    "df_station_lookup.set_index(['station_id'], inplace=True)"
   ],
   "metadata": {
    "collapsed": false
   }
  },
  {
   "cell_type": "code",
   "execution_count": 103,
   "outputs": [],
   "source": [
    "df_song_lookup['song_artist']  = df_song_lookup['song_name'] + ' (' + df_song_lookup['artist_name'] + ')'"
   ],
   "metadata": {
    "collapsed": false
   }
  },
  {
   "cell_type": "code",
   "execution_count": 104,
   "outputs": [
    {
     "data": {
      "text/plain": "                           song_name                   artist_name  \\\nmediabase_id                                                         \n1929447              Burnin' It Down                   STEVE EARLE   \n1090491              Into The Mystic                  VAN MORRISON   \n2318924          Young Black America                     MEEK MILL   \n2873870                   Weightless                    ARLO PARKS   \n2131197       Hero Of The Day (Live)                     METALLICA   \n...                              ...                           ...   \n2620719               Get On My Wave  ANDREW MCMAHON IN WILDERNESS   \n2667991                 Exaggeration                     JUAN HAZE   \n2438195                   Every Week                          DQ4E   \n2623051          Your Story Is Over!                        AYREON   \n2580022             Greatness Of God             RANCE ALLEN GROUP   \n\n                                                song_artist  \nmediabase_id                                                 \n1929447                       Burnin' It Down (STEVE EARLE)  \n1090491                      Into The Mystic (VAN MORRISON)  \n2318924                     Young Black America (MEEK MILL)  \n2873870                             Weightless (ARLO PARKS)  \n2131197                  Hero Of The Day (Live) (METALLICA)  \n...                                                     ...  \n2620719       Get On My Wave (ANDREW MCMAHON IN WILDERNESS)  \n2667991                            Exaggeration (JUAN HAZE)  \n2438195                                   Every Week (DQ4E)  \n2623051                        Your Story Is Over! (AYREON)  \n2580022                Greatness Of God (RANCE ALLEN GROUP)  \n\n[1546269 rows x 3 columns]",
      "text/html": "<div>\n<style scoped>\n    .dataframe tbody tr th:only-of-type {\n        vertical-align: middle;\n    }\n\n    .dataframe tbody tr th {\n        vertical-align: top;\n    }\n\n    .dataframe thead th {\n        text-align: right;\n    }\n</style>\n<table border=\"1\" class=\"dataframe\">\n  <thead>\n    <tr style=\"text-align: right;\">\n      <th></th>\n      <th>song_name</th>\n      <th>artist_name</th>\n      <th>song_artist</th>\n    </tr>\n    <tr>\n      <th>mediabase_id</th>\n      <th></th>\n      <th></th>\n      <th></th>\n    </tr>\n  </thead>\n  <tbody>\n    <tr>\n      <th>1929447</th>\n      <td>Burnin' It Down</td>\n      <td>STEVE EARLE</td>\n      <td>Burnin' It Down (STEVE EARLE)</td>\n    </tr>\n    <tr>\n      <th>1090491</th>\n      <td>Into The Mystic</td>\n      <td>VAN MORRISON</td>\n      <td>Into The Mystic (VAN MORRISON)</td>\n    </tr>\n    <tr>\n      <th>2318924</th>\n      <td>Young Black America</td>\n      <td>MEEK MILL</td>\n      <td>Young Black America (MEEK MILL)</td>\n    </tr>\n    <tr>\n      <th>2873870</th>\n      <td>Weightless</td>\n      <td>ARLO PARKS</td>\n      <td>Weightless (ARLO PARKS)</td>\n    </tr>\n    <tr>\n      <th>2131197</th>\n      <td>Hero Of The Day (Live)</td>\n      <td>METALLICA</td>\n      <td>Hero Of The Day (Live) (METALLICA)</td>\n    </tr>\n    <tr>\n      <th>...</th>\n      <td>...</td>\n      <td>...</td>\n      <td>...</td>\n    </tr>\n    <tr>\n      <th>2620719</th>\n      <td>Get On My Wave</td>\n      <td>ANDREW MCMAHON IN WILDERNESS</td>\n      <td>Get On My Wave (ANDREW MCMAHON IN WILDERNESS)</td>\n    </tr>\n    <tr>\n      <th>2667991</th>\n      <td>Exaggeration</td>\n      <td>JUAN HAZE</td>\n      <td>Exaggeration (JUAN HAZE)</td>\n    </tr>\n    <tr>\n      <th>2438195</th>\n      <td>Every Week</td>\n      <td>DQ4E</td>\n      <td>Every Week (DQ4E)</td>\n    </tr>\n    <tr>\n      <th>2623051</th>\n      <td>Your Story Is Over!</td>\n      <td>AYREON</td>\n      <td>Your Story Is Over! (AYREON)</td>\n    </tr>\n    <tr>\n      <th>2580022</th>\n      <td>Greatness Of God</td>\n      <td>RANCE ALLEN GROUP</td>\n      <td>Greatness Of God (RANCE ALLEN GROUP)</td>\n    </tr>\n  </tbody>\n</table>\n<p>1546269 rows × 3 columns</p>\n</div>"
     },
     "execution_count": 104,
     "metadata": {},
     "output_type": "execute_result"
    }
   ],
   "source": [
    "df_song_lookup"
   ],
   "metadata": {
    "collapsed": false
   }
  },
  {
   "cell_type": "code",
   "execution_count": 105,
   "outputs": [],
   "source": [
    "df_out_final['song_artist'] = df_out_final.join(df_song_lookup, on=['mediabase_id'], how='left')['song_artist']"
   ],
   "metadata": {
    "collapsed": false
   }
  },
  {
   "cell_type": "code",
   "execution_count": 106,
   "outputs": [],
   "source": [
    "df_out_final['call_letters'] = df_out_final.join(df_station_lookup, on=['station_id'], how='left')['call_letters']"
   ],
   "metadata": {
    "collapsed": false
   }
  },
  {
   "cell_type": "code",
   "execution_count": 107,
   "outputs": [],
   "source": [
    "df_out_final['wobble_flag'] = df_out_final.apply(lambda x: int((x['pop_co'] < np.floor(x['lower_wob_thresh'])) | (x['pop_co'] > np.ceil(x['upper_wobble_thresh']))), axis=1)"
   ],
   "metadata": {
    "collapsed": false
   }
  },
  {
   "cell_type": "code",
   "execution_count": 111,
   "outputs": [],
   "source": [
    "df_out_final.to_pickle('df_out_final_KIIS-FM_2022_12_04_2023_01_22.pkl')"
   ],
   "metadata": {
    "collapsed": false
   }
  },
  {
   "cell_type": "code",
   "execution_count": 108,
   "outputs": [],
   "source": [
    "df_out_final_fmt['song_artist'] = df_out_final_fmt.join(df_song_lookup, on=['mediabase_id'], how='left')['song_artist']"
   ],
   "metadata": {
    "collapsed": false
   }
  },
  {
   "cell_type": "code",
   "execution_count": 109,
   "outputs": [],
   "source": [
    "df_out_final_fmt['call_letters'] = df_out_final_fmt.join(df_station_lookup, on=['station_id'], how='left')['call_letters']"
   ],
   "metadata": {
    "collapsed": false
   }
  },
  {
   "cell_type": "code",
   "execution_count": 110,
   "outputs": [],
   "source": [
    "df_out_final_fmt['wobble_flag'] = df_out_final_fmt.apply(lambda x: int((x['pop_co'] < np.floor(x['lower_wob_thresh'])) | (x['pop_co'] > np.ceil(x['upper_wobble_thresh']))), axis=1)"
   ],
   "metadata": {
    "collapsed": false
   }
  },
  {
   "cell_type": "code",
   "execution_count": 112,
   "outputs": [],
   "source": [
    "df_out_final_fmt.to_pickle('df_out_final_H1_2022_12_04_2023_01_22.pkl')"
   ],
   "metadata": {
    "collapsed": false
   }
  },
  {
   "cell_type": "markdown",
   "source": [
    "### Read pre-written files"
   ],
   "metadata": {
    "collapsed": false
   }
  },
  {
   "cell_type": "code",
   "execution_count": 126,
   "outputs": [],
   "source": [
    "df_out_final = pd.read_pickle('df_out_final_KIIS-FM_2022_12_04_2023_01_22.pkl')"
   ],
   "metadata": {
    "collapsed": false
   }
  },
  {
   "cell_type": "code",
   "execution_count": 125,
   "outputs": [],
   "source": [
    "df_out_final_fmt = pd.read_pickle('df_out_final_H1_2022_12_04_2023_01_22.pkl')"
   ],
   "metadata": {
    "collapsed": false
   }
  },
  {
   "cell_type": "code",
   "execution_count": 113,
   "outputs": [
    {
     "data": {
      "text/plain": "        mediabase_id  station_id     week_dt  breakout_id breakout_name  \\\n2            1085550     3322808  2022-12-04       412759     F (18-24)   \n3            1085550     3322808  2022-12-11       412759     F (18-24)   \n4            1085550     3322808  2022-12-18       412759     F (18-24)   \n5            1085550     3322808  2022-12-25       412759     F (18-24)   \n6            1085550     3322808  2023-01-01       412759     F (18-24)   \n...              ...         ...         ...          ...           ...   \n659830       2754544     3322204  2022-12-25       401515         *Old*   \n659831       2754544     3322204  2023-01-01       401515         *Old*   \n659832       2754544     3322204  2023-01-08       401515         *Old*   \n659833       2754544     3322204  2023-01-15       401515         *Old*   \n659834       2754544     3322204  2023-01-22       401515         *Old*   \n\n       demo_category  pop_co pop_omt gcr  taa_quintile  lower_wob_thresh  \\\n2             Gender     NaN    None   G             5         69.020207   \n3             Gender     NaN    None   G             5         71.647261   \n4             Gender     NaN    None   G             5         69.020207   \n5             Gender     NaN    None   G             5         71.647261   \n6             Gender     NaN    None   G             5         71.647261   \n...              ...     ...     ...  ..           ...               ...   \n659830           Age     NaN    None   R             2         57.644843   \n659831           Age     NaN    None   R             2         57.428034   \n659832           Age     NaN    None   R             2         57.002017   \n659833           Age     NaN    None   R             2         57.002017   \n659834           Age    87.0    None   R             2         57.002017   \n\n        mean_pop_predicted  upper_wobble_thresh         segment  \\\n2                89.997511            98.529371  Female_(18-24)   \n3                89.997511            98.699385  Female_(18-24)   \n4                90.223598            98.529371  Female_(18-24)   \n5                89.997511            98.699385  Female_(18-24)   \n6                89.997511            98.699385  Female_(18-24)   \n...                    ...                  ...             ...   \n659830           79.531999            94.185463             Old   \n659831           78.403516            93.442238             Old   \n659832           78.105013            93.442238             Old   \n659833           78.907983            93.787264             Old   \n659834           78.026508            93.442238             Old   \n\n                                           song_artist call_letters  \\\n2                             In The End (LINKIN PARK)      KZHT-FM   \n3                             In The End (LINKIN PARK)      KZHT-FM   \n4                             In The End (LINKIN PARK)      KZHT-FM   \n5                             In The End (LINKIN PARK)      KZHT-FM   \n6                             In The End (LINKIN PARK)      KZHT-FM   \n...                                                ...          ...   \n659830  Enemy From League Of Legends (IMAGINE DRAGONS)      WHQC-FM   \n659831  Enemy From League Of Legends (IMAGINE DRAGONS)      WHQC-FM   \n659832  Enemy From League Of Legends (IMAGINE DRAGONS)      WHQC-FM   \n659833  Enemy From League Of Legends (IMAGINE DRAGONS)      WHQC-FM   \n659834  Enemy From League Of Legends (IMAGINE DRAGONS)      WHQC-FM   \n\n        wobble_flag  \n2                 0  \n3                 0  \n4                 0  \n5                 0  \n6                 0  \n...             ...  \n659830            0  \n659831            0  \n659832            0  \n659833            0  \n659834            0  \n\n[383760 rows x 17 columns]",
      "text/html": "<div>\n<style scoped>\n    .dataframe tbody tr th:only-of-type {\n        vertical-align: middle;\n    }\n\n    .dataframe tbody tr th {\n        vertical-align: top;\n    }\n\n    .dataframe thead th {\n        text-align: right;\n    }\n</style>\n<table border=\"1\" class=\"dataframe\">\n  <thead>\n    <tr style=\"text-align: right;\">\n      <th></th>\n      <th>mediabase_id</th>\n      <th>station_id</th>\n      <th>week_dt</th>\n      <th>breakout_id</th>\n      <th>breakout_name</th>\n      <th>demo_category</th>\n      <th>pop_co</th>\n      <th>pop_omt</th>\n      <th>gcr</th>\n      <th>taa_quintile</th>\n      <th>lower_wob_thresh</th>\n      <th>mean_pop_predicted</th>\n      <th>upper_wobble_thresh</th>\n      <th>segment</th>\n      <th>song_artist</th>\n      <th>call_letters</th>\n      <th>wobble_flag</th>\n    </tr>\n  </thead>\n  <tbody>\n    <tr>\n      <th>2</th>\n      <td>1085550</td>\n      <td>3322808</td>\n      <td>2022-12-04</td>\n      <td>412759</td>\n      <td>F (18-24)</td>\n      <td>Gender</td>\n      <td>NaN</td>\n      <td>None</td>\n      <td>G</td>\n      <td>5</td>\n      <td>69.020207</td>\n      <td>89.997511</td>\n      <td>98.529371</td>\n      <td>Female_(18-24)</td>\n      <td>In The End (LINKIN PARK)</td>\n      <td>KZHT-FM</td>\n      <td>0</td>\n    </tr>\n    <tr>\n      <th>3</th>\n      <td>1085550</td>\n      <td>3322808</td>\n      <td>2022-12-11</td>\n      <td>412759</td>\n      <td>F (18-24)</td>\n      <td>Gender</td>\n      <td>NaN</td>\n      <td>None</td>\n      <td>G</td>\n      <td>5</td>\n      <td>71.647261</td>\n      <td>89.997511</td>\n      <td>98.699385</td>\n      <td>Female_(18-24)</td>\n      <td>In The End (LINKIN PARK)</td>\n      <td>KZHT-FM</td>\n      <td>0</td>\n    </tr>\n    <tr>\n      <th>4</th>\n      <td>1085550</td>\n      <td>3322808</td>\n      <td>2022-12-18</td>\n      <td>412759</td>\n      <td>F (18-24)</td>\n      <td>Gender</td>\n      <td>NaN</td>\n      <td>None</td>\n      <td>G</td>\n      <td>5</td>\n      <td>69.020207</td>\n      <td>90.223598</td>\n      <td>98.529371</td>\n      <td>Female_(18-24)</td>\n      <td>In The End (LINKIN PARK)</td>\n      <td>KZHT-FM</td>\n      <td>0</td>\n    </tr>\n    <tr>\n      <th>5</th>\n      <td>1085550</td>\n      <td>3322808</td>\n      <td>2022-12-25</td>\n      <td>412759</td>\n      <td>F (18-24)</td>\n      <td>Gender</td>\n      <td>NaN</td>\n      <td>None</td>\n      <td>G</td>\n      <td>5</td>\n      <td>71.647261</td>\n      <td>89.997511</td>\n      <td>98.699385</td>\n      <td>Female_(18-24)</td>\n      <td>In The End (LINKIN PARK)</td>\n      <td>KZHT-FM</td>\n      <td>0</td>\n    </tr>\n    <tr>\n      <th>6</th>\n      <td>1085550</td>\n      <td>3322808</td>\n      <td>2023-01-01</td>\n      <td>412759</td>\n      <td>F (18-24)</td>\n      <td>Gender</td>\n      <td>NaN</td>\n      <td>None</td>\n      <td>G</td>\n      <td>5</td>\n      <td>71.647261</td>\n      <td>89.997511</td>\n      <td>98.699385</td>\n      <td>Female_(18-24)</td>\n      <td>In The End (LINKIN PARK)</td>\n      <td>KZHT-FM</td>\n      <td>0</td>\n    </tr>\n    <tr>\n      <th>...</th>\n      <td>...</td>\n      <td>...</td>\n      <td>...</td>\n      <td>...</td>\n      <td>...</td>\n      <td>...</td>\n      <td>...</td>\n      <td>...</td>\n      <td>...</td>\n      <td>...</td>\n      <td>...</td>\n      <td>...</td>\n      <td>...</td>\n      <td>...</td>\n      <td>...</td>\n      <td>...</td>\n      <td>...</td>\n    </tr>\n    <tr>\n      <th>659830</th>\n      <td>2754544</td>\n      <td>3322204</td>\n      <td>2022-12-25</td>\n      <td>401515</td>\n      <td>*Old*</td>\n      <td>Age</td>\n      <td>NaN</td>\n      <td>None</td>\n      <td>R</td>\n      <td>2</td>\n      <td>57.644843</td>\n      <td>79.531999</td>\n      <td>94.185463</td>\n      <td>Old</td>\n      <td>Enemy From League Of Legends (IMAGINE DRAGONS)</td>\n      <td>WHQC-FM</td>\n      <td>0</td>\n    </tr>\n    <tr>\n      <th>659831</th>\n      <td>2754544</td>\n      <td>3322204</td>\n      <td>2023-01-01</td>\n      <td>401515</td>\n      <td>*Old*</td>\n      <td>Age</td>\n      <td>NaN</td>\n      <td>None</td>\n      <td>R</td>\n      <td>2</td>\n      <td>57.428034</td>\n      <td>78.403516</td>\n      <td>93.442238</td>\n      <td>Old</td>\n      <td>Enemy From League Of Legends (IMAGINE DRAGONS)</td>\n      <td>WHQC-FM</td>\n      <td>0</td>\n    </tr>\n    <tr>\n      <th>659832</th>\n      <td>2754544</td>\n      <td>3322204</td>\n      <td>2023-01-08</td>\n      <td>401515</td>\n      <td>*Old*</td>\n      <td>Age</td>\n      <td>NaN</td>\n      <td>None</td>\n      <td>R</td>\n      <td>2</td>\n      <td>57.002017</td>\n      <td>78.105013</td>\n      <td>93.442238</td>\n      <td>Old</td>\n      <td>Enemy From League Of Legends (IMAGINE DRAGONS)</td>\n      <td>WHQC-FM</td>\n      <td>0</td>\n    </tr>\n    <tr>\n      <th>659833</th>\n      <td>2754544</td>\n      <td>3322204</td>\n      <td>2023-01-15</td>\n      <td>401515</td>\n      <td>*Old*</td>\n      <td>Age</td>\n      <td>NaN</td>\n      <td>None</td>\n      <td>R</td>\n      <td>2</td>\n      <td>57.002017</td>\n      <td>78.907983</td>\n      <td>93.787264</td>\n      <td>Old</td>\n      <td>Enemy From League Of Legends (IMAGINE DRAGONS)</td>\n      <td>WHQC-FM</td>\n      <td>0</td>\n    </tr>\n    <tr>\n      <th>659834</th>\n      <td>2754544</td>\n      <td>3322204</td>\n      <td>2023-01-22</td>\n      <td>401515</td>\n      <td>*Old*</td>\n      <td>Age</td>\n      <td>87.0</td>\n      <td>None</td>\n      <td>R</td>\n      <td>2</td>\n      <td>57.002017</td>\n      <td>78.026508</td>\n      <td>93.442238</td>\n      <td>Old</td>\n      <td>Enemy From League Of Legends (IMAGINE DRAGONS)</td>\n      <td>WHQC-FM</td>\n      <td>0</td>\n    </tr>\n  </tbody>\n</table>\n<p>383760 rows × 17 columns</p>\n</div>"
     },
     "execution_count": 113,
     "metadata": {},
     "output_type": "execute_result"
    }
   ],
   "source": [
    "df_out_final_fmt"
   ],
   "metadata": {
    "collapsed": false
   }
  },
  {
   "cell_type": "code",
   "execution_count": 120,
   "outputs": [
    {
     "data": {
      "text/plain": "array([datetime.date(2022, 12, 18), datetime.date(2022, 12, 25),\n       datetime.date(2023, 1, 1), datetime.date(2023, 1, 8),\n       datetime.date(2023, 1, 15), datetime.date(2023, 1, 22),\n       datetime.date(2022, 12, 4), datetime.date(2022, 12, 11)],\n      dtype=object)"
     },
     "execution_count": 120,
     "metadata": {},
     "output_type": "execute_result"
    }
   ],
   "source": [
    "pd.unique(df_out_final['week_dt'])"
   ],
   "metadata": {
    "collapsed": false
   }
  },
  {
   "cell_type": "markdown",
   "source": [
    "#### wobbles report"
   ],
   "metadata": {
    "collapsed": false
   }
  },
  {
   "cell_type": "code",
   "execution_count": 114,
   "outputs": [],
   "source": [
    "df_instances = df_out_final[(df_out_final['breakout_id'] > 1) & (df_out_final['wobble_flag'] == 1)][['station_id', 'mediabase_id']].drop_duplicates()"
   ],
   "metadata": {
    "collapsed": false
   }
  },
  {
   "cell_type": "code",
   "execution_count": 115,
   "outputs": [
    {
     "data": {
      "text/plain": "        station_id  mediabase_id\n23666      3322022       1234685\n222630     3322022       2073734\n272809     3322022       2256903\n418725     3322022       2582475\n419919     3322022       2591406\n423186     3322022       2597601\n451907     3322022       2654543\n487906     3322022       2703939\n499536     3322022       2716380\n505971     3322022       2720314\n558333     3322022       2768404\n563091     3322022       2771802\n584699     3322022       2794968\n598496     3322022       2804653\n602412     3322022       2808665\n612032     3322022       2813036\n626080     3322022       2819942\n629329     3322022       2820569\n635028     3322022       2827240\n636818     3322022       2831030\n640228     3322022       2821178\n642357     3322022       2833813\n643149     3322022       2831617\n648955     3322022       2841905\n653564     3322022       2848773\n656579     3322022       2850510\n658845     3322022       2833906",
      "text/html": "<div>\n<style scoped>\n    .dataframe tbody tr th:only-of-type {\n        vertical-align: middle;\n    }\n\n    .dataframe tbody tr th {\n        vertical-align: top;\n    }\n\n    .dataframe thead th {\n        text-align: right;\n    }\n</style>\n<table border=\"1\" class=\"dataframe\">\n  <thead>\n    <tr style=\"text-align: right;\">\n      <th></th>\n      <th>station_id</th>\n      <th>mediabase_id</th>\n    </tr>\n  </thead>\n  <tbody>\n    <tr>\n      <th>23666</th>\n      <td>3322022</td>\n      <td>1234685</td>\n    </tr>\n    <tr>\n      <th>222630</th>\n      <td>3322022</td>\n      <td>2073734</td>\n    </tr>\n    <tr>\n      <th>272809</th>\n      <td>3322022</td>\n      <td>2256903</td>\n    </tr>\n    <tr>\n      <th>418725</th>\n      <td>3322022</td>\n      <td>2582475</td>\n    </tr>\n    <tr>\n      <th>419919</th>\n      <td>3322022</td>\n      <td>2591406</td>\n    </tr>\n    <tr>\n      <th>423186</th>\n      <td>3322022</td>\n      <td>2597601</td>\n    </tr>\n    <tr>\n      <th>451907</th>\n      <td>3322022</td>\n      <td>2654543</td>\n    </tr>\n    <tr>\n      <th>487906</th>\n      <td>3322022</td>\n      <td>2703939</td>\n    </tr>\n    <tr>\n      <th>499536</th>\n      <td>3322022</td>\n      <td>2716380</td>\n    </tr>\n    <tr>\n      <th>505971</th>\n      <td>3322022</td>\n      <td>2720314</td>\n    </tr>\n    <tr>\n      <th>558333</th>\n      <td>3322022</td>\n      <td>2768404</td>\n    </tr>\n    <tr>\n      <th>563091</th>\n      <td>3322022</td>\n      <td>2771802</td>\n    </tr>\n    <tr>\n      <th>584699</th>\n      <td>3322022</td>\n      <td>2794968</td>\n    </tr>\n    <tr>\n      <th>598496</th>\n      <td>3322022</td>\n      <td>2804653</td>\n    </tr>\n    <tr>\n      <th>602412</th>\n      <td>3322022</td>\n      <td>2808665</td>\n    </tr>\n    <tr>\n      <th>612032</th>\n      <td>3322022</td>\n      <td>2813036</td>\n    </tr>\n    <tr>\n      <th>626080</th>\n      <td>3322022</td>\n      <td>2819942</td>\n    </tr>\n    <tr>\n      <th>629329</th>\n      <td>3322022</td>\n      <td>2820569</td>\n    </tr>\n    <tr>\n      <th>635028</th>\n      <td>3322022</td>\n      <td>2827240</td>\n    </tr>\n    <tr>\n      <th>636818</th>\n      <td>3322022</td>\n      <td>2831030</td>\n    </tr>\n    <tr>\n      <th>640228</th>\n      <td>3322022</td>\n      <td>2821178</td>\n    </tr>\n    <tr>\n      <th>642357</th>\n      <td>3322022</td>\n      <td>2833813</td>\n    </tr>\n    <tr>\n      <th>643149</th>\n      <td>3322022</td>\n      <td>2831617</td>\n    </tr>\n    <tr>\n      <th>648955</th>\n      <td>3322022</td>\n      <td>2841905</td>\n    </tr>\n    <tr>\n      <th>653564</th>\n      <td>3322022</td>\n      <td>2848773</td>\n    </tr>\n    <tr>\n      <th>656579</th>\n      <td>3322022</td>\n      <td>2850510</td>\n    </tr>\n    <tr>\n      <th>658845</th>\n      <td>3322022</td>\n      <td>2833906</td>\n    </tr>\n  </tbody>\n</table>\n</div>"
     },
     "execution_count": 115,
     "metadata": {},
     "output_type": "execute_result"
    }
   ],
   "source": [
    "df_instances"
   ],
   "metadata": {
    "collapsed": false
   }
  },
  {
   "cell_type": "code",
   "execution_count": 116,
   "outputs": [],
   "source": [
    "df_wobble = df_instances.join(df_out_final[(df_out_final['breakout_id'] > 0) & (~pd.isna(df_out_final['pop_co']))].set_index(['mediabase_id', 'station_id']), on = ['mediabase_id', 'station_id'], how='left')"
   ],
   "metadata": {
    "collapsed": false
   }
  },
  {
   "cell_type": "code",
   "execution_count": 129,
   "outputs": [
    {
     "data": {
      "text/plain": "595"
     },
     "execution_count": 129,
     "metadata": {},
     "output_type": "execute_result"
    }
   ],
   "source": [
    "len(df_wobble)"
   ],
   "metadata": {
    "collapsed": false
   }
  },
  {
   "cell_type": "code",
   "execution_count": 132,
   "outputs": [],
   "source": [
    "df_wobble = df_wobble.join(df_test.set_index(['mediabase_id', 'station_id', 'week_dt', 'breakout_id'])[['spins_non_on', 'market_spins']], on=['mediabase_id', 'station_id', 'week_dt', 'breakout_id'], how='left')"
   ],
   "metadata": {
    "collapsed": false
   }
  },
  {
   "cell_type": "code",
   "execution_count": 134,
   "outputs": [],
   "source": [
    "taa_query = '''\n",
    "Select mediabase_id, station_id, week_dt, taa\n",
    "from dbo.rr_scores_adds_from_prod as rsafp\n",
    "where week_dt >= '2022-12-04'\n",
    "and format='H1'\n",
    "and station_id = 3322022\n",
    "'''\n",
    "\n",
    "engine = postgresql_engine(user, pwd, host, port, dbname)\n",
    "with engine.connect() as conn:\n",
    "    with conn.begin():\n",
    "        df_taa_lookup = pd.read_sql(taa_query, con=conn)"
   ],
   "metadata": {
    "collapsed": false
   }
  },
  {
   "cell_type": "code",
   "execution_count": 137,
   "outputs": [],
   "source": [
    "df_wobble = df_wobble.join(df_taa_lookup.set_index(['mediabase_id', 'station_id', 'week_dt'])['taa'], on=['mediabase_id', 'station_id', 'week_dt'], how='left')"
   ],
   "metadata": {
    "collapsed": false
   }
  },
  {
   "cell_type": "code",
   "execution_count": 145,
   "outputs": [],
   "source": [
    "df_wobble['score_date'] = df_wobble['week_dt'] + np.timedelta64(8, 'D')"
   ],
   "metadata": {
    "collapsed": false
   }
  },
  {
   "cell_type": "code",
   "execution_count": 146,
   "outputs": [
    {
     "data": {
      "text/plain": "        score_date     week_dt\n23666   2023-01-23  2023-01-15\n272809  2023-01-02  2022-12-25\n272809  2023-01-09  2023-01-01\n272809  2023-01-30  2023-01-22",
      "text/html": "<div>\n<style scoped>\n    .dataframe tbody tr th:only-of-type {\n        vertical-align: middle;\n    }\n\n    .dataframe tbody tr th {\n        vertical-align: top;\n    }\n\n    .dataframe thead th {\n        text-align: right;\n    }\n</style>\n<table border=\"1\" class=\"dataframe\">\n  <thead>\n    <tr style=\"text-align: right;\">\n      <th></th>\n      <th>score_date</th>\n      <th>week_dt</th>\n    </tr>\n  </thead>\n  <tbody>\n    <tr>\n      <th>23666</th>\n      <td>2023-01-23</td>\n      <td>2023-01-15</td>\n    </tr>\n    <tr>\n      <th>272809</th>\n      <td>2023-01-02</td>\n      <td>2022-12-25</td>\n    </tr>\n    <tr>\n      <th>272809</th>\n      <td>2023-01-09</td>\n      <td>2023-01-01</td>\n    </tr>\n    <tr>\n      <th>272809</th>\n      <td>2023-01-30</td>\n      <td>2023-01-22</td>\n    </tr>\n  </tbody>\n</table>\n</div>"
     },
     "execution_count": 146,
     "metadata": {},
     "output_type": "execute_result"
    }
   ],
   "source": [
    "df_wobble[['score_date', 'week_dt']].drop_duplicates()"
   ],
   "metadata": {
    "collapsed": false
   }
  },
  {
   "cell_type": "code",
   "execution_count": 147,
   "outputs": [],
   "source": [
    "df_wobble_out = df_wobble.pivot(index=['call_letters', 'song_artist', 'score_date', 'gcr', 'market_spins', 'spins_non_on', 'taa'], columns=['breakout_name'], values=['pop_co', 'wobble_flag'])"
   ],
   "metadata": {
    "collapsed": false
   }
  },
  {
   "cell_type": "code",
   "execution_count": 148,
   "outputs": [
    {
     "data": {
      "text/plain": "                                                                                             pop_co  \\\nbreakout_name                                                                                *Core*   \ncall_letters song_artist                     score_date gcr market_spins spins_non_on taa             \nKIIS-FM      Anti-Hero (TAYLOR SWIFT)        2023-01-02 C   213          83           7.9582   81.0   \n                                             2023-01-09 C   199          74           7.7473   69.0   \n                                             2023-01-23 C   192          49           7.5557   70.0   \n                                             2023-01-30 C   161          29           7.5274   76.0   \n             As It Was (HARRY STYLES)        2023-01-02 C   203          81           9.2475   86.0   \n...                                                                                             ...   \n             Woman (DOJA CAT)                2023-01-02 R   58           40           8.9875   96.0   \n                                             2023-01-09 R   40           28           8.8104   79.0   \n                                             2023-01-23 R   24           16           8.4411   76.0   \n                                             2023-01-30 R   31           23           8.4996   96.0   \n             You Broke Me First (TATE MCRAE) 2023-01-09 R   10           7            7.9055   71.0   \n\n                                                                                                     \\\nbreakout_name                                                                                 *Old*   \ncall_letters song_artist                     score_date gcr market_spins spins_non_on taa             \nKIIS-FM      Anti-Hero (TAYLOR SWIFT)        2023-01-02 C   213          83           7.9582   86.0   \n                                             2023-01-09 C   199          74           7.7473   94.0   \n                                             2023-01-23 C   192          49           7.5557   88.0   \n                                             2023-01-30 C   161          29           7.5274   95.0   \n             As It Was (HARRY STYLES)        2023-01-02 C   203          81           9.2475   89.0   \n...                                                                                             ...   \n             Woman (DOJA CAT)                2023-01-02 R   58           40           8.9875  106.0   \n                                             2023-01-09 R   40           28           8.8104   88.0   \n                                             2023-01-23 R   24           16           8.4411  103.0   \n                                             2023-01-30 R   31           23           8.4996   87.0   \n             You Broke Me First (TATE MCRAE) 2023-01-09 R   10           7            7.9055   97.0   \n\n                                                                                                      \\\nbreakout_name                                                                                *Young*   \ncall_letters song_artist                     score_date gcr market_spins spins_non_on taa              \nKIIS-FM      Anti-Hero (TAYLOR SWIFT)        2023-01-02 C   213          83           7.9582    67.0   \n                                             2023-01-09 C   199          74           7.7473    56.0   \n                                             2023-01-23 C   192          49           7.5557    55.0   \n                                             2023-01-30 C   161          29           7.5274    58.0   \n             As It Was (HARRY STYLES)        2023-01-02 C   203          81           9.2475    73.0   \n...                                                                                              ...   \n             Woman (DOJA CAT)                2023-01-02 R   58           40           8.9875    84.0   \n                                             2023-01-09 R   40           28           8.8104    74.0   \n                                             2023-01-23 R   24           16           8.4411    73.0   \n                                             2023-01-30 R   31           23           8.4996    94.0   \n             You Broke Me First (TATE MCRAE) 2023-01-09 R   10           7            7.9055    64.0   \n\n                                                                                                        \\\nbreakout_name                                                                                F (18-24)   \ncall_letters song_artist                     score_date gcr market_spins spins_non_on taa                \nKIIS-FM      Anti-Hero (TAYLOR SWIFT)        2023-01-02 C   213          83           7.9582      78.0   \n                                             2023-01-09 C   199          74           7.7473      56.0   \n                                             2023-01-23 C   192          49           7.5557      57.0   \n                                             2023-01-30 C   161          29           7.5274      60.0   \n             As It Was (HARRY STYLES)        2023-01-02 C   203          81           9.2475      80.0   \n...                                                                                                ...   \n             Woman (DOJA CAT)                2023-01-02 R   58           40           8.9875      82.0   \n                                             2023-01-09 R   40           28           8.8104      71.0   \n                                             2023-01-23 R   24           16           8.4411      74.0   \n                                             2023-01-30 R   31           23           8.4996      96.0   \n             You Broke Me First (TATE MCRAE) 2023-01-09 R   10           7            7.9055      71.0   \n\n                                                                                                       \\\nbreakout_name                                                                                Hispanic   \ncall_letters song_artist                     score_date gcr market_spins spins_non_on taa               \nKIIS-FM      Anti-Hero (TAYLOR SWIFT)        2023-01-02 C   213          83           7.9582     69.0   \n                                             2023-01-09 C   199          74           7.7473     74.0   \n                                             2023-01-23 C   192          49           7.5557     66.0   \n                                             2023-01-30 C   161          29           7.5274     70.0   \n             As It Was (HARRY STYLES)        2023-01-02 C   203          81           9.2475     85.0   \n...                                                                                               ...   \n             Woman (DOJA CAT)                2023-01-02 R   58           40           8.9875     90.0   \n                                             2023-01-09 R   40           28           8.8104     90.0   \n                                             2023-01-23 R   24           16           8.4411     88.0   \n                                             2023-01-30 R   31           23           8.4996     97.0   \n             You Broke Me First (TATE MCRAE) 2023-01-09 R   10           7            7.9055     75.0   \n\n                                                                                                    \\\nbreakout_name                                                                                Total   \ncall_letters song_artist                     score_date gcr market_spins spins_non_on taa            \nKIIS-FM      Anti-Hero (TAYLOR SWIFT)        2023-01-02 C   213          83           7.9582  74.0   \n                                             2023-01-09 C   199          74           7.7473  68.0   \n                                             2023-01-23 C   192          49           7.5557  66.0   \n                                             2023-01-30 C   161          29           7.5274  76.0   \n             As It Was (HARRY STYLES)        2023-01-02 C   203          81           9.2475  78.0   \n...                                                                                            ...   \n             Woman (DOJA CAT)                2023-01-02 R   58           40           8.9875  91.0   \n                                             2023-01-09 R   40           28           8.8104  78.0   \n                                             2023-01-23 R   24           16           8.4411  83.0   \n                                             2023-01-30 R   31           23           8.4996  91.0   \n             You Broke Me First (TATE MCRAE) 2023-01-09 R   10           7            7.9055  75.0   \n\n                                                                                                    \\\nbreakout_name                                                                                  WAO   \ncall_letters song_artist                     score_date gcr market_spins spins_non_on taa            \nKIIS-FM      Anti-Hero (TAYLOR SWIFT)        2023-01-02 C   213          83           7.9582  84.0   \n                                             2023-01-09 C   199          74           7.7473  55.0   \n                                             2023-01-23 C   192          49           7.5557  69.0   \n                                             2023-01-30 C   161          29           7.5274  89.0   \n             As It Was (HARRY STYLES)        2023-01-02 C   203          81           9.2475  61.0   \n...                                                                                            ...   \n             Woman (DOJA CAT)                2023-01-02 R   58           40           8.9875  93.0   \n                                             2023-01-09 R   40           28           8.8104  50.0   \n                                             2023-01-23 R   24           16           8.4411  67.0   \n                                             2023-01-30 R   31           23           8.4996  75.0   \n             You Broke Me First (TATE MCRAE) 2023-01-09 R   10           7            7.9055  75.0   \n\n                                                                                             wobble_flag  \\\nbreakout_name                                                                                     *Core*   \ncall_letters song_artist                     score_date gcr market_spins spins_non_on taa                  \nKIIS-FM      Anti-Hero (TAYLOR SWIFT)        2023-01-02 C   213          83           7.9582         0.0   \n                                             2023-01-09 C   199          74           7.7473         0.0   \n                                             2023-01-23 C   192          49           7.5557         0.0   \n                                             2023-01-30 C   161          29           7.5274         0.0   \n             As It Was (HARRY STYLES)        2023-01-02 C   203          81           9.2475         0.0   \n...                                                                                                  ...   \n             Woman (DOJA CAT)                2023-01-02 R   58           40           8.9875         0.0   \n                                             2023-01-09 R   40           28           8.8104         0.0   \n                                             2023-01-23 R   24           16           8.4411         0.0   \n                                             2023-01-30 R   31           23           8.4996         0.0   \n             You Broke Me First (TATE MCRAE) 2023-01-09 R   10           7            7.9055         0.0   \n\n                                                                                                    \\\nbreakout_name                                                                                *Old*   \ncall_letters song_artist                     score_date gcr market_spins spins_non_on taa            \nKIIS-FM      Anti-Hero (TAYLOR SWIFT)        2023-01-02 C   213          83           7.9582   0.0   \n                                             2023-01-09 C   199          74           7.7473   0.0   \n                                             2023-01-23 C   192          49           7.5557   0.0   \n                                             2023-01-30 C   161          29           7.5274   0.0   \n             As It Was (HARRY STYLES)        2023-01-02 C   203          81           9.2475   0.0   \n...                                                                                            ...   \n             Woman (DOJA CAT)                2023-01-02 R   58           40           8.9875   0.0   \n                                             2023-01-09 R   40           28           8.8104   0.0   \n                                             2023-01-23 R   24           16           8.4411   0.0   \n                                             2023-01-30 R   31           23           8.4996   0.0   \n             You Broke Me First (TATE MCRAE) 2023-01-09 R   10           7            7.9055   1.0   \n\n                                                                                                      \\\nbreakout_name                                                                                *Young*   \ncall_letters song_artist                     score_date gcr market_spins spins_non_on taa              \nKIIS-FM      Anti-Hero (TAYLOR SWIFT)        2023-01-02 C   213          83           7.9582     0.0   \n                                             2023-01-09 C   199          74           7.7473     0.0   \n                                             2023-01-23 C   192          49           7.5557     0.0   \n                                             2023-01-30 C   161          29           7.5274     0.0   \n             As It Was (HARRY STYLES)        2023-01-02 C   203          81           9.2475     0.0   \n...                                                                                              ...   \n             Woman (DOJA CAT)                2023-01-02 R   58           40           8.9875     0.0   \n                                             2023-01-09 R   40           28           8.8104     0.0   \n                                             2023-01-23 R   24           16           8.4411     0.0   \n                                             2023-01-30 R   31           23           8.4996     0.0   \n             You Broke Me First (TATE MCRAE) 2023-01-09 R   10           7            7.9055     0.0   \n\n                                                                                                        \\\nbreakout_name                                                                                F (18-24)   \ncall_letters song_artist                     score_date gcr market_spins spins_non_on taa                \nKIIS-FM      Anti-Hero (TAYLOR SWIFT)        2023-01-02 C   213          83           7.9582       0.0   \n                                             2023-01-09 C   199          74           7.7473       1.0   \n                                             2023-01-23 C   192          49           7.5557       0.0   \n                                             2023-01-30 C   161          29           7.5274       0.0   \n             As It Was (HARRY STYLES)        2023-01-02 C   203          81           9.2475       0.0   \n...                                                                                                ...   \n             Woman (DOJA CAT)                2023-01-02 R   58           40           8.9875       0.0   \n                                             2023-01-09 R   40           28           8.8104       0.0   \n                                             2023-01-23 R   24           16           8.4411       0.0   \n                                             2023-01-30 R   31           23           8.4996       0.0   \n             You Broke Me First (TATE MCRAE) 2023-01-09 R   10           7            7.9055       0.0   \n\n                                                                                                       \\\nbreakout_name                                                                                Hispanic   \ncall_letters song_artist                     score_date gcr market_spins spins_non_on taa               \nKIIS-FM      Anti-Hero (TAYLOR SWIFT)        2023-01-02 C   213          83           7.9582      0.0   \n                                             2023-01-09 C   199          74           7.7473      0.0   \n                                             2023-01-23 C   192          49           7.5557      0.0   \n                                             2023-01-30 C   161          29           7.5274      0.0   \n             As It Was (HARRY STYLES)        2023-01-02 C   203          81           9.2475      0.0   \n...                                                                                               ...   \n             Woman (DOJA CAT)                2023-01-02 R   58           40           8.9875      0.0   \n                                             2023-01-09 R   40           28           8.8104      0.0   \n                                             2023-01-23 R   24           16           8.4411      0.0   \n                                             2023-01-30 R   31           23           8.4996      0.0   \n             You Broke Me First (TATE MCRAE) 2023-01-09 R   10           7            7.9055      0.0   \n\n                                                                                                    \\\nbreakout_name                                                                                Total   \ncall_letters song_artist                     score_date gcr market_spins spins_non_on taa            \nKIIS-FM      Anti-Hero (TAYLOR SWIFT)        2023-01-02 C   213          83           7.9582   0.0   \n                                             2023-01-09 C   199          74           7.7473   0.0   \n                                             2023-01-23 C   192          49           7.5557   0.0   \n                                             2023-01-30 C   161          29           7.5274   0.0   \n             As It Was (HARRY STYLES)        2023-01-02 C   203          81           9.2475   0.0   \n...                                                                                            ...   \n             Woman (DOJA CAT)                2023-01-02 R   58           40           8.9875   0.0   \n                                             2023-01-09 R   40           28           8.8104   0.0   \n                                             2023-01-23 R   24           16           8.4411   0.0   \n                                             2023-01-30 R   31           23           8.4996   0.0   \n             You Broke Me First (TATE MCRAE) 2023-01-09 R   10           7            7.9055   0.0   \n\n                                                                                                   \nbreakout_name                                                                                 WAO  \ncall_letters song_artist                     score_date gcr market_spins spins_non_on taa          \nKIIS-FM      Anti-Hero (TAYLOR SWIFT)        2023-01-02 C   213          83           7.9582  0.0  \n                                             2023-01-09 C   199          74           7.7473  1.0  \n                                             2023-01-23 C   192          49           7.5557  0.0  \n                                             2023-01-30 C   161          29           7.5274  1.0  \n             As It Was (HARRY STYLES)        2023-01-02 C   203          81           9.2475  0.0  \n...                                                                                           ...  \n             Woman (DOJA CAT)                2023-01-02 R   58           40           8.9875  0.0  \n                                             2023-01-09 R   40           28           8.8104  1.0  \n                                             2023-01-23 R   24           16           8.4411  0.0  \n                                             2023-01-30 R   31           23           8.4996  0.0  \n             You Broke Me First (TATE MCRAE) 2023-01-09 R   10           7            7.9055  0.0  \n\n[85 rows x 14 columns]",
      "text/html": "<div>\n<style scoped>\n    .dataframe tbody tr th:only-of-type {\n        vertical-align: middle;\n    }\n\n    .dataframe tbody tr th {\n        vertical-align: top;\n    }\n\n    .dataframe thead tr th {\n        text-align: left;\n    }\n\n    .dataframe thead tr:last-of-type th {\n        text-align: right;\n    }\n</style>\n<table border=\"1\" class=\"dataframe\">\n  <thead>\n    <tr>\n      <th></th>\n      <th></th>\n      <th></th>\n      <th></th>\n      <th></th>\n      <th></th>\n      <th></th>\n      <th colspan=\"7\" halign=\"left\">pop_co</th>\n      <th colspan=\"7\" halign=\"left\">wobble_flag</th>\n    </tr>\n    <tr>\n      <th></th>\n      <th></th>\n      <th></th>\n      <th></th>\n      <th></th>\n      <th></th>\n      <th>breakout_name</th>\n      <th>*Core*</th>\n      <th>*Old*</th>\n      <th>*Young*</th>\n      <th>F (18-24)</th>\n      <th>Hispanic</th>\n      <th>Total</th>\n      <th>WAO</th>\n      <th>*Core*</th>\n      <th>*Old*</th>\n      <th>*Young*</th>\n      <th>F (18-24)</th>\n      <th>Hispanic</th>\n      <th>Total</th>\n      <th>WAO</th>\n    </tr>\n    <tr>\n      <th>call_letters</th>\n      <th>song_artist</th>\n      <th>score_date</th>\n      <th>gcr</th>\n      <th>market_spins</th>\n      <th>spins_non_on</th>\n      <th>taa</th>\n      <th></th>\n      <th></th>\n      <th></th>\n      <th></th>\n      <th></th>\n      <th></th>\n      <th></th>\n      <th></th>\n      <th></th>\n      <th></th>\n      <th></th>\n      <th></th>\n      <th></th>\n      <th></th>\n    </tr>\n  </thead>\n  <tbody>\n    <tr>\n      <th rowspan=\"11\" valign=\"top\">KIIS-FM</th>\n      <th rowspan=\"4\" valign=\"top\">Anti-Hero (TAYLOR SWIFT)</th>\n      <th>2023-01-02</th>\n      <th>C</th>\n      <th>213</th>\n      <th>83</th>\n      <th>7.9582</th>\n      <td>81.0</td>\n      <td>86.0</td>\n      <td>67.0</td>\n      <td>78.0</td>\n      <td>69.0</td>\n      <td>74.0</td>\n      <td>84.0</td>\n      <td>0.0</td>\n      <td>0.0</td>\n      <td>0.0</td>\n      <td>0.0</td>\n      <td>0.0</td>\n      <td>0.0</td>\n      <td>0.0</td>\n    </tr>\n    <tr>\n      <th>2023-01-09</th>\n      <th>C</th>\n      <th>199</th>\n      <th>74</th>\n      <th>7.7473</th>\n      <td>69.0</td>\n      <td>94.0</td>\n      <td>56.0</td>\n      <td>56.0</td>\n      <td>74.0</td>\n      <td>68.0</td>\n      <td>55.0</td>\n      <td>0.0</td>\n      <td>0.0</td>\n      <td>0.0</td>\n      <td>1.0</td>\n      <td>0.0</td>\n      <td>0.0</td>\n      <td>1.0</td>\n    </tr>\n    <tr>\n      <th>2023-01-23</th>\n      <th>C</th>\n      <th>192</th>\n      <th>49</th>\n      <th>7.5557</th>\n      <td>70.0</td>\n      <td>88.0</td>\n      <td>55.0</td>\n      <td>57.0</td>\n      <td>66.0</td>\n      <td>66.0</td>\n      <td>69.0</td>\n      <td>0.0</td>\n      <td>0.0</td>\n      <td>0.0</td>\n      <td>0.0</td>\n      <td>0.0</td>\n      <td>0.0</td>\n      <td>0.0</td>\n    </tr>\n    <tr>\n      <th>2023-01-30</th>\n      <th>C</th>\n      <th>161</th>\n      <th>29</th>\n      <th>7.5274</th>\n      <td>76.0</td>\n      <td>95.0</td>\n      <td>58.0</td>\n      <td>60.0</td>\n      <td>70.0</td>\n      <td>76.0</td>\n      <td>89.0</td>\n      <td>0.0</td>\n      <td>0.0</td>\n      <td>0.0</td>\n      <td>0.0</td>\n      <td>0.0</td>\n      <td>0.0</td>\n      <td>1.0</td>\n    </tr>\n    <tr>\n      <th>As It Was (HARRY STYLES)</th>\n      <th>2023-01-02</th>\n      <th>C</th>\n      <th>203</th>\n      <th>81</th>\n      <th>9.2475</th>\n      <td>86.0</td>\n      <td>89.0</td>\n      <td>73.0</td>\n      <td>80.0</td>\n      <td>85.0</td>\n      <td>78.0</td>\n      <td>61.0</td>\n      <td>0.0</td>\n      <td>0.0</td>\n      <td>0.0</td>\n      <td>0.0</td>\n      <td>0.0</td>\n      <td>0.0</td>\n      <td>0.0</td>\n    </tr>\n    <tr>\n      <th>...</th>\n      <th>...</th>\n      <th>...</th>\n      <th>...</th>\n      <th>...</th>\n      <th>...</th>\n      <td>...</td>\n      <td>...</td>\n      <td>...</td>\n      <td>...</td>\n      <td>...</td>\n      <td>...</td>\n      <td>...</td>\n      <td>...</td>\n      <td>...</td>\n      <td>...</td>\n      <td>...</td>\n      <td>...</td>\n      <td>...</td>\n      <td>...</td>\n    </tr>\n    <tr>\n      <th rowspan=\"4\" valign=\"top\">Woman (DOJA CAT)</th>\n      <th>2023-01-02</th>\n      <th>R</th>\n      <th>58</th>\n      <th>40</th>\n      <th>8.9875</th>\n      <td>96.0</td>\n      <td>106.0</td>\n      <td>84.0</td>\n      <td>82.0</td>\n      <td>90.0</td>\n      <td>91.0</td>\n      <td>93.0</td>\n      <td>0.0</td>\n      <td>0.0</td>\n      <td>0.0</td>\n      <td>0.0</td>\n      <td>0.0</td>\n      <td>0.0</td>\n      <td>0.0</td>\n    </tr>\n    <tr>\n      <th>2023-01-09</th>\n      <th>R</th>\n      <th>40</th>\n      <th>28</th>\n      <th>8.8104</th>\n      <td>79.0</td>\n      <td>88.0</td>\n      <td>74.0</td>\n      <td>71.0</td>\n      <td>90.0</td>\n      <td>78.0</td>\n      <td>50.0</td>\n      <td>0.0</td>\n      <td>0.0</td>\n      <td>0.0</td>\n      <td>0.0</td>\n      <td>0.0</td>\n      <td>0.0</td>\n      <td>1.0</td>\n    </tr>\n    <tr>\n      <th>2023-01-23</th>\n      <th>R</th>\n      <th>24</th>\n      <th>16</th>\n      <th>8.4411</th>\n      <td>76.0</td>\n      <td>103.0</td>\n      <td>73.0</td>\n      <td>74.0</td>\n      <td>88.0</td>\n      <td>83.0</td>\n      <td>67.0</td>\n      <td>0.0</td>\n      <td>0.0</td>\n      <td>0.0</td>\n      <td>0.0</td>\n      <td>0.0</td>\n      <td>0.0</td>\n      <td>0.0</td>\n    </tr>\n    <tr>\n      <th>2023-01-30</th>\n      <th>R</th>\n      <th>31</th>\n      <th>23</th>\n      <th>8.4996</th>\n      <td>96.0</td>\n      <td>87.0</td>\n      <td>94.0</td>\n      <td>96.0</td>\n      <td>97.0</td>\n      <td>91.0</td>\n      <td>75.0</td>\n      <td>0.0</td>\n      <td>0.0</td>\n      <td>0.0</td>\n      <td>0.0</td>\n      <td>0.0</td>\n      <td>0.0</td>\n      <td>0.0</td>\n    </tr>\n    <tr>\n      <th>You Broke Me First (TATE MCRAE)</th>\n      <th>2023-01-09</th>\n      <th>R</th>\n      <th>10</th>\n      <th>7</th>\n      <th>7.9055</th>\n      <td>71.0</td>\n      <td>97.0</td>\n      <td>64.0</td>\n      <td>71.0</td>\n      <td>75.0</td>\n      <td>75.0</td>\n      <td>75.0</td>\n      <td>0.0</td>\n      <td>1.0</td>\n      <td>0.0</td>\n      <td>0.0</td>\n      <td>0.0</td>\n      <td>0.0</td>\n      <td>0.0</td>\n    </tr>\n  </tbody>\n</table>\n<p>85 rows × 14 columns</p>\n</div>"
     },
     "execution_count": 148,
     "metadata": {},
     "output_type": "execute_result"
    }
   ],
   "source": [
    "df_wobble_out"
   ],
   "metadata": {
    "collapsed": false
   }
  },
  {
   "cell_type": "code",
   "execution_count": 141,
   "outputs": [
    {
     "data": {
      "text/plain": "MultiIndex([(     'pop_co',    '*Core*'),\n            (     'pop_co',     '*Old*'),\n            (     'pop_co',   '*Young*'),\n            (     'pop_co', 'F (18-24)'),\n            (     'pop_co',  'Hispanic'),\n            (     'pop_co',     'Total'),\n            (     'pop_co',       'WAO'),\n            ('wobble_flag',    '*Core*'),\n            ('wobble_flag',     '*Old*'),\n            ('wobble_flag',   '*Young*'),\n            ('wobble_flag', 'F (18-24)'),\n            ('wobble_flag',  'Hispanic'),\n            ('wobble_flag',     'Total'),\n            ('wobble_flag',       'WAO')],\n           names=[None, 'breakout_name'])"
     },
     "execution_count": 141,
     "metadata": {},
     "output_type": "execute_result"
    }
   ],
   "source": [
    "df_wobble_out.columns"
   ],
   "metadata": {
    "collapsed": false
   }
  },
  {
   "cell_type": "markdown",
   "source": [
    "#### percentage gaps report"
   ],
   "metadata": {
    "collapsed": false
   }
  },
  {
   "cell_type": "code",
   "execution_count": 149,
   "outputs": [],
   "source": [
    "out_cols = ['call_letters', 'song_artist', 'demo_category', 'segment','week_dt', 'taa_quintile', 'pop_co', 'pop_omt', 'wobble_flag', 'mean_pop_predicted']"
   ],
   "metadata": {
    "collapsed": false
   }
  },
  {
   "cell_type": "code",
   "execution_count": 150,
   "outputs": [],
   "source": [
    "df_to_report = df_out_final[out_cols]"
   ],
   "metadata": {
    "collapsed": false
   }
  },
  {
   "cell_type": "code",
   "execution_count": 151,
   "outputs": [],
   "source": [
    "df_to_report_fmt = df_out_final_fmt[out_cols]"
   ],
   "metadata": {
    "collapsed": false
   }
  },
  {
   "cell_type": "code",
   "execution_count": 152,
   "outputs": [
    {
     "name": "stderr",
     "output_type": "stream",
     "text": [
      "/home/ubuntu/PycharmProjects/adds-rr-demo-modeling/venv/lib/python3.8/site-packages/pandas/util/_decorators.py:311: SettingWithCopyWarning: \n",
      "A value is trying to be set on a copy of a slice from a DataFrame\n",
      "\n",
      "See the caveats in the documentation: https://pandas.pydata.org/pandas-docs/stable/user_guide/indexing.html#returning-a-view-versus-a-copy\n",
      "  return func(*args, **kwargs)\n"
     ]
    }
   ],
   "source": [
    "df_to_report.sort_values(by=['call_letters', 'song_artist', 'week_dt', 'demo_category', 'segment'], inplace=True)"
   ],
   "metadata": {
    "collapsed": false
   }
  },
  {
   "cell_type": "code",
   "execution_count": 153,
   "outputs": [],
   "source": [
    "# define percentage gap lambdas\n",
    "fn_diff_Age = lambda x: (x['Young'] - x['Old'])/x['Old']\n",
    "fn_diff_Gender  = lambda x: (x['Female_Other'] - x['Female_(18-24)'])/x['Female_(18-24)']\n",
    "fn_diff_Race_AA = lambda x: (x['AA'] - x['White'])/(x['White'])\n",
    "fn_diff_Race_Hispanic = lambda x: (x['Hispanic'] - x['White'])/(x['White'])\n",
    "fn_diff_Non_Core = lambda x: (x['Non-Core'] - x['Core'])/(x['Core'])"
   ],
   "metadata": {
    "collapsed": false
   }
  },
  {
   "cell_type": "code",
   "execution_count": 154,
   "outputs": [],
   "source": [
    "ref_demo = {'Age': 'Old', 'Race': 'White', 'Core-Cume': 'Core', 'Gender': 'Female_(18-24)'}\n",
    "df_to_report_pvt = df_to_report.pivot_table(index=['call_letters', 'song_artist', 'week_dt'], columns=['segment'], values=[ 'mean_pop_predicted'])\n",
    "df_to_report_pvt.columns = [i[1].replace(' ', '_') for i in df_to_report_pvt.columns]"
   ],
   "metadata": {
    "collapsed": false
   }
  },
  {
   "cell_type": "code",
   "execution_count": 155,
   "outputs": [],
   "source": [
    "df_to_report_pvt_fmt =  (df_to_report_fmt.groupby(['song_artist', 'segment', 'week_dt'])['mean_pop_predicted'].mean().reset_index()).pivot_table(index=['song_artist', 'week_dt'], columns=['segment'], values=[ 'mean_pop_predicted'])\n",
    "df_to_report_pvt_fmt.columns = [i[1].replace(' ', '_') for i in df_to_report_pvt_fmt.columns]"
   ],
   "metadata": {
    "collapsed": false
   }
  },
  {
   "cell_type": "code",
   "execution_count": 156,
   "outputs": [],
   "source": [
    "df_perc_gaps = df_to_report_pvt.apply([fn_diff_Age, fn_diff_Gender, fn_diff_Non_Core, fn_diff_Race_Hispanic], axis=1).reset_index()\n",
    "df_perc_gaps.columns = ['call_letters', 'song_artist', 'week_dt', 'age_gap', 'gender_gap', 'core_gap', 'race_gap']"
   ],
   "metadata": {
    "collapsed": false
   }
  },
  {
   "cell_type": "code",
   "execution_count": 157,
   "outputs": [],
   "source": [
    "df_perc_gaps_fmt = df_to_report_pvt_fmt.apply([fn_diff_Age, fn_diff_Gender, fn_diff_Non_Core, fn_diff_Race_Hispanic], axis=1).reset_index()\n",
    "df_perc_gaps_fmt.columns = ['song_artist', 'week_dt', 'fmt_age_gap', 'fmt_gender_gap', 'fmt_core_gap', 'fmt_race_gap']"
   ],
   "metadata": {
    "collapsed": false
   }
  },
  {
   "cell_type": "code",
   "execution_count": 158,
   "outputs": [],
   "source": [
    "df_perc_gaps = df_perc_gaps.join(df_perc_gaps_fmt.set_index(['song_artist', 'week_dt']), on=['song_artist', 'week_dt'], how='left')"
   ],
   "metadata": {
    "collapsed": false
   }
  },
  {
   "cell_type": "code",
   "execution_count": 160,
   "outputs": [],
   "source": [
    "df_perc_gaps['score_date'] = df_perc_gaps['week_dt'] + np.timedelta64(8, 'D')"
   ],
   "metadata": {
    "collapsed": false
   }
  },
  {
   "cell_type": "code",
   "execution_count": 161,
   "outputs": [
    {
     "data": {
      "text/plain": "Index(['call_letters', 'song_artist', 'week_dt', 'age_gap', 'gender_gap',\n       'core_gap', 'race_gap', 'fmt_age_gap', 'fmt_gender_gap', 'fmt_core_gap',\n       'fmt_race_gap', 'score_date'],\n      dtype='object')"
     },
     "execution_count": 161,
     "metadata": {},
     "output_type": "execute_result"
    }
   ],
   "source": [
    "df_perc_gaps.columns"
   ],
   "metadata": {
    "collapsed": false
   }
  },
  {
   "cell_type": "code",
   "execution_count": 164,
   "outputs": [],
   "source": [
    "out_cols_gaps = ['call_letters', 'song_artist', 'score_date', 'age_gap','fmt_age_gap', 'gender_gap','fmt_gender_gap',\n",
    "       'core_gap', 'fmt_core_gap','race_gap',\n",
    "       'fmt_race_gap' ]"
   ],
   "metadata": {
    "collapsed": false
   }
  },
  {
   "cell_type": "markdown",
   "source": [
    "#### WOW data"
   ],
   "metadata": {
    "collapsed": false
   }
  },
  {
   "cell_type": "code",
   "execution_count": 70,
   "outputs": [
    {
     "data": {
      "text/plain": "                                                           age_gap             \\\nweek_dt                                                 2022-11-27 2022-12-04   \nsong_artist                                call_letters                         \n24K Magic (BRUNO MARS)                     KIIS-FM       -0.012953  -0.023978   \n2step f/Lil Baby (ED SHEERAN)              KIIS-FM       -0.222609        NaN   \n34+35 (ARIANA GRANDE)                      KIIS-FM       -0.046156  -0.046834   \n7 Rings (ARIANA GRANDE)                    KIIS-FM        0.004703   0.004703   \nAbout Damn Time (LIZZO)                    KIIS-FM       -0.164564  -0.177611   \n...                                                            ...        ...   \nily (i love you baby) f/Emilee (SURF MESA) KIIS-FM       -0.110192  -0.110192   \npov (ARIANA GRANDE)                        KIIS-FM       -0.030285  -0.030991   \nshe's all i wanna be (TATE MCRAE)          KIIS-FM       -0.101500  -0.108290   \nthank u, next (ARIANA GRANDE)              KIIS-FM       -0.036366  -0.036366   \ntraitor (OLIVIA RODRIGO)                   KIIS-FM        0.001769   0.005341   \n\n                                                                               \\\nweek_dt                                                 2022-12-11 2022-12-18   \nsong_artist                                call_letters                         \n24K Magic (BRUNO MARS)                     KIIS-FM       -0.020834  -0.030042   \n2step f/Lil Baby (ED SHEERAN)              KIIS-FM             NaN        NaN   \n34+35 (ARIANA GRANDE)                      KIIS-FM       -0.046834  -0.046156   \n7 Rings (ARIANA GRANDE)                    KIIS-FM        0.004703   0.004703   \nAbout Damn Time (LIZZO)                    KIIS-FM       -0.166288  -0.163729   \n...                                                            ...        ...   \nily (i love you baby) f/Emilee (SURF MESA) KIIS-FM       -0.102936  -0.110192   \npov (ARIANA GRANDE)                        KIIS-FM       -0.033136  -0.032433   \nshe's all i wanna be (TATE MCRAE)          KIIS-FM       -0.104688  -0.101480   \nthank u, next (ARIANA GRANDE)              KIIS-FM       -0.036366  -0.036366   \ntraitor (OLIVIA RODRIGO)                   KIIS-FM        0.001774   0.001769   \n\n                                                                               \\\nweek_dt                                                 2022-12-25 2023-01-01   \nsong_artist                                call_letters                         \n24K Magic (BRUNO MARS)                     KIIS-FM       -0.020834  -0.020834   \n2step f/Lil Baby (ED SHEERAN)              KIIS-FM             NaN        NaN   \n34+35 (ARIANA GRANDE)                      KIIS-FM       -0.046834  -0.055155   \n7 Rings (ARIANA GRANDE)                    KIIS-FM        0.004703   0.017950   \nAbout Damn Time (LIZZO)                    KIIS-FM       -0.163729  -0.173263   \n...                                                            ...        ...   \nily (i love you baby) f/Emilee (SURF MESA) KIIS-FM       -0.106010  -0.107820   \npov (ARIANA GRANDE)                        KIIS-FM       -0.033136  -0.033136   \nshe's all i wanna be (TATE MCRAE)          KIIS-FM       -0.098199  -0.101847   \nthank u, next (ARIANA GRANDE)              KIIS-FM             NaN        NaN   \ntraitor (OLIVIA RODRIGO)                   KIIS-FM        0.009646   0.009699   \n\n                                                                    \nweek_dt                                                 2023-01-08  \nsong_artist                                call_letters             \n24K Magic (BRUNO MARS)                     KIIS-FM       -0.020834  \n2step f/Lil Baby (ED SHEERAN)              KIIS-FM             NaN  \n34+35 (ARIANA GRANDE)                      KIIS-FM       -0.018519  \n7 Rings (ARIANA GRANDE)                    KIIS-FM        0.004703  \nAbout Damn Time (LIZZO)                    KIIS-FM       -0.163729  \n...                                                            ...  \nily (i love you baby) f/Emilee (SURF MESA) KIIS-FM             NaN  \npov (ARIANA GRANDE)                        KIIS-FM       -0.030991  \nshe's all i wanna be (TATE MCRAE)          KIIS-FM       -0.106149  \nthank u, next (ARIANA GRANDE)              KIIS-FM             NaN  \ntraitor (OLIVIA RODRIGO)                   KIIS-FM        0.009646  \n\n[320 rows x 7 columns]",
      "text/html": "<div>\n<style scoped>\n    .dataframe tbody tr th:only-of-type {\n        vertical-align: middle;\n    }\n\n    .dataframe tbody tr th {\n        vertical-align: top;\n    }\n\n    .dataframe thead tr th {\n        text-align: left;\n    }\n\n    .dataframe thead tr:last-of-type th {\n        text-align: right;\n    }\n</style>\n<table border=\"1\" class=\"dataframe\">\n  <thead>\n    <tr>\n      <th></th>\n      <th></th>\n      <th colspan=\"7\" halign=\"left\">age_gap</th>\n    </tr>\n    <tr>\n      <th></th>\n      <th>week_dt</th>\n      <th>2022-11-27</th>\n      <th>2022-12-04</th>\n      <th>2022-12-11</th>\n      <th>2022-12-18</th>\n      <th>2022-12-25</th>\n      <th>2023-01-01</th>\n      <th>2023-01-08</th>\n    </tr>\n    <tr>\n      <th>song_artist</th>\n      <th>call_letters</th>\n      <th></th>\n      <th></th>\n      <th></th>\n      <th></th>\n      <th></th>\n      <th></th>\n      <th></th>\n    </tr>\n  </thead>\n  <tbody>\n    <tr>\n      <th>24K Magic (BRUNO MARS)</th>\n      <th>KIIS-FM</th>\n      <td>-0.012953</td>\n      <td>-0.023978</td>\n      <td>-0.020834</td>\n      <td>-0.030042</td>\n      <td>-0.020834</td>\n      <td>-0.020834</td>\n      <td>-0.020834</td>\n    </tr>\n    <tr>\n      <th>2step f/Lil Baby (ED SHEERAN)</th>\n      <th>KIIS-FM</th>\n      <td>-0.222609</td>\n      <td>NaN</td>\n      <td>NaN</td>\n      <td>NaN</td>\n      <td>NaN</td>\n      <td>NaN</td>\n      <td>NaN</td>\n    </tr>\n    <tr>\n      <th>34+35 (ARIANA GRANDE)</th>\n      <th>KIIS-FM</th>\n      <td>-0.046156</td>\n      <td>-0.046834</td>\n      <td>-0.046834</td>\n      <td>-0.046156</td>\n      <td>-0.046834</td>\n      <td>-0.055155</td>\n      <td>-0.018519</td>\n    </tr>\n    <tr>\n      <th>7 Rings (ARIANA GRANDE)</th>\n      <th>KIIS-FM</th>\n      <td>0.004703</td>\n      <td>0.004703</td>\n      <td>0.004703</td>\n      <td>0.004703</td>\n      <td>0.004703</td>\n      <td>0.017950</td>\n      <td>0.004703</td>\n    </tr>\n    <tr>\n      <th>About Damn Time (LIZZO)</th>\n      <th>KIIS-FM</th>\n      <td>-0.164564</td>\n      <td>-0.177611</td>\n      <td>-0.166288</td>\n      <td>-0.163729</td>\n      <td>-0.163729</td>\n      <td>-0.173263</td>\n      <td>-0.163729</td>\n    </tr>\n    <tr>\n      <th>...</th>\n      <th>...</th>\n      <td>...</td>\n      <td>...</td>\n      <td>...</td>\n      <td>...</td>\n      <td>...</td>\n      <td>...</td>\n      <td>...</td>\n    </tr>\n    <tr>\n      <th>ily (i love you baby) f/Emilee (SURF MESA)</th>\n      <th>KIIS-FM</th>\n      <td>-0.110192</td>\n      <td>-0.110192</td>\n      <td>-0.102936</td>\n      <td>-0.110192</td>\n      <td>-0.106010</td>\n      <td>-0.107820</td>\n      <td>NaN</td>\n    </tr>\n    <tr>\n      <th>pov (ARIANA GRANDE)</th>\n      <th>KIIS-FM</th>\n      <td>-0.030285</td>\n      <td>-0.030991</td>\n      <td>-0.033136</td>\n      <td>-0.032433</td>\n      <td>-0.033136</td>\n      <td>-0.033136</td>\n      <td>-0.030991</td>\n    </tr>\n    <tr>\n      <th>she's all i wanna be (TATE MCRAE)</th>\n      <th>KIIS-FM</th>\n      <td>-0.101500</td>\n      <td>-0.108290</td>\n      <td>-0.104688</td>\n      <td>-0.101480</td>\n      <td>-0.098199</td>\n      <td>-0.101847</td>\n      <td>-0.106149</td>\n    </tr>\n    <tr>\n      <th>thank u, next (ARIANA GRANDE)</th>\n      <th>KIIS-FM</th>\n      <td>-0.036366</td>\n      <td>-0.036366</td>\n      <td>-0.036366</td>\n      <td>-0.036366</td>\n      <td>NaN</td>\n      <td>NaN</td>\n      <td>NaN</td>\n    </tr>\n    <tr>\n      <th>traitor (OLIVIA RODRIGO)</th>\n      <th>KIIS-FM</th>\n      <td>0.001769</td>\n      <td>0.005341</td>\n      <td>0.001774</td>\n      <td>0.001769</td>\n      <td>0.009646</td>\n      <td>0.009699</td>\n      <td>0.009646</td>\n    </tr>\n  </tbody>\n</table>\n<p>320 rows × 7 columns</p>\n</div>"
     },
     "execution_count": 70,
     "metadata": {},
     "output_type": "execute_result"
    }
   ],
   "source": [
    "df_perc_gaps.pivot_table(index=['song_artist', 'call_letters'], columns=['week_dt'], values=['age_gap'])"
   ],
   "metadata": {
    "collapsed": false
   }
  },
  {
   "cell_type": "markdown",
   "source": [
    "### Write Output to Excel"
   ],
   "metadata": {
    "collapsed": false
   }
  },
  {
   "cell_type": "code",
   "execution_count": 162,
   "outputs": [],
   "source": [
    "df_perc_gaps.to_pickle('df_perc_gaps_01292023.pkl')\n",
    "df_wobble_out.to_pickle('df_wobble_out_01292023.pkl')"
   ],
   "metadata": {
    "collapsed": false
   }
  },
  {
   "cell_type": "code",
   "execution_count": 165,
   "outputs": [],
   "source": [
    "with pd.ExcelWriter('RR_by_Demographic_KIIS-FM_01292023.xlsx') as writer:\n",
    "    df_perc_gaps[out_cols_gaps].to_excel(writer, sheet_name='Percentage Gaps')\n",
    "    df_wobble_out.to_excel(writer, sheet_name='Wobbles')"
   ],
   "metadata": {
    "collapsed": false
   }
  }
 ],
 "metadata": {
  "kernelspec": {
   "display_name": "Python 3",
   "language": "python",
   "name": "python3"
  },
  "language_info": {
   "codemirror_mode": {
    "name": "ipython",
    "version": 2
   },
   "file_extension": ".py",
   "mimetype": "text/x-python",
   "name": "python",
   "nbconvert_exporter": "python",
   "pygments_lexer": "ipython2",
   "version": "2.7.6"
  }
 },
 "nbformat": 4,
 "nbformat_minor": 0
}
