{
 "cells": [
  {
   "cell_type": "code",
   "execution_count": 2,
   "outputs": [],
   "source": [
    "# import packages\n",
    "import pandas as pd\n",
    "import pickle as pkl\n",
    "import os\n",
    "import numpy as np"
   ],
   "metadata": {
    "collapsed": false
   }
  },
  {
   "cell_type": "code",
   "execution_count": 112,
   "outputs": [],
   "source": [
    "from sqlalchemy import create_engine\n",
    "\n",
    "def postgresql_engine(user, pwd, host, port, dbname):\n",
    "    # Need pyycopg2-binary package\n",
    "    sql_engine = create_engine('postgres://' + user + ':' + pwd + '@' + host + ':' + port + '/' + dbname, echo=False)\n",
    "    return sql_engine"
   ],
   "metadata": {
    "collapsed": false
   }
  },
  {
   "cell_type": "code",
   "execution_count": 113,
   "outputs": [],
   "source": [
    "# DB username and password\n",
    "import getpass\n",
    "\n",
    "user = getpass.getpass()\n",
    "pwd = getpass.getpass()"
   ],
   "metadata": {
    "collapsed": false
   }
  },
  {
   "cell_type": "code",
   "execution_count": 115,
   "outputs": [],
   "source": [
    "# misc db parameters\n",
    "host= 'adds-postgres-dev.cfgztrijqgvp.us-east-1.rds.amazonaws.com'\n",
    "dbname= 'musiclab'\n",
    "port= '5432'"
   ],
   "metadata": {
    "collapsed": false
   }
  },
  {
   "cell_type": "code",
   "execution_count": 5,
   "outputs": [],
   "source": [
    "# get callout research for songs released in the past 2 years\n",
    "data_query_train = '''\n",
    "Select *\n",
    "from adds_temp.demo_rr_features_h1 as rdfh\n",
    "where pop_all is not null\n",
    "'''"
   ],
   "metadata": {
    "collapsed": false
   }
  },
  {
   "cell_type": "code",
   "execution_count": 6,
   "outputs": [],
   "source": [
    "filter_rules = '''and song_weeks_since_last_spins <=13\n",
    "and ((song_last_test_co_weeks <=26)\n",
    "or (song_last_test_omt_weeks <=104)\n",
    "or format_code in ('u4','l2'))\n",
    "and (((station_test_1_plus=0 and station_test_1_id=1) or station_test_1_plus>0) or format_code in ('u4','l2'))\n",
    "and (format_code<>'h1' or station_id<>3323403)\n",
    "and (format_code<>'c1' or station_id<>3322825)\n",
    "and (format_code<>'a2' or station_id<>3322799 or gcr<>'G')\n",
    "and taa_quintile is not null\n",
    "and gcr_adj is not null\n",
    "'''"
   ],
   "metadata": {
    "collapsed": false
   }
  },
  {
   "cell_type": "code",
   "execution_count": 7,
   "outputs": [
    {
     "name": "stdout",
     "output_type": "stream",
     "text": [
      "\n",
      "Select *\n",
      "from adds_temp.demo_rr_features_h1 as rdfh\n",
      "where pop_all is not null\n",
      "and song_weeks_since_last_spins <=13\n",
      "and ((song_last_test_co_weeks <=26)\n",
      "or (song_last_test_omt_weeks <=104)\n",
      "or format_code in ('u4','l2'))\n",
      "and (((station_test_1_plus=0 and station_test_1_id=1) or station_test_1_plus>0) or format_code in ('u4','l2'))\n",
      "and (format_code<>'h1' or station_id<>3323403)\n",
      "and (format_code<>'c1' or station_id<>3322825)\n",
      "and (format_code<>'a2' or station_id<>3322799 or gcr<>'G')\n",
      "and taa_quintile is not null\n",
      "and gcr_adj is not null\n",
      "\n"
     ]
    }
   ],
   "source": [
    "print(data_query_train + filter_rules)"
   ],
   "metadata": {
    "collapsed": false
   }
  },
  {
   "cell_type": "code",
   "execution_count": 8,
   "outputs": [],
   "source": [
    "engine = postgresql_engine(user, pwd, host, port, dbname)\n",
    "with engine.connect() as con:\n",
    "    with con.connect():\n",
    "        df_train = pd.read_sql(data_query_train + filter_rules, con=con)"
   ],
   "metadata": {
    "collapsed": false
   }
  },
  {
   "cell_type": "code",
   "execution_count": 9,
   "outputs": [],
   "source": [
    "#write to pkl file\n",
    "df_train.to_pickle('df_train_2022_11_05_2020_11_28.pkl')"
   ],
   "metadata": {
    "collapsed": false
   }
  },
  {
   "cell_type": "code",
   "execution_count": 3,
   "outputs": [],
   "source": [
    "# read from pickle file\n",
    "df_train = pd.read_pickle('df_train_2022_11_05_2020_11_28.pkl')"
   ],
   "metadata": {
    "collapsed": false
   }
  },
  {
   "cell_type": "code",
   "execution_count": 4,
   "outputs": [],
   "source": [
    "df_train.sort_values(by=['station_id', 'mediabase_id', 'breakout_name', 'week_dt', ], inplace=True)"
   ],
   "metadata": {
    "collapsed": false
   }
  },
  {
   "cell_type": "code",
   "execution_count": 5,
   "outputs": [],
   "source": [
    "# define demo segments and categories\n",
    "breakout_category = {'*Core*': 'Core-Cume', '*Old*': 'Age', '*Young*': 'Age', 'Total': 'Total', 'White': 'Race',\n",
    "                     'Non-Core': 'Core-Cume',\n",
    "                     'Hispanic': 'Race', 'AA': 'Race', 'F': 'Gender', 'M': 'Gender', 'WAO': 'Race',\n",
    "                     'F (25-29)': 'Gender', 'F (20-24)': 'Gender', 'F (18-29)': 'Gender', 'F (17-29)': 'Gender',\n",
    "                     'F (20-23)': 'Gender', 'F (18-39)' : 'Gender',\n",
    "                     'F (16-24)': 'Gender', 'F (30-34)': 'Gender', 'F (18-34)': 'Gender', 'F (24-29)': 'Gender',\n",
    "                     'F (17-19)': 'Gender', 'F (15-26)': 'Gender', 'F (15-19)': 'Gender', 'F (15-24)': 'Gender',\n",
    "                     'F (18-24)': 'Gender', 'F (20-29)': 'Gender', 'F (25-34)': 'Gender', 'F (Other)': 'Gender'}\n",
    "\n",
    "breakout_map = {'*Core*': 'Core', '*Old*': 'Old', '*Young*': 'Young', 'Total': 'Total', 'White': 'White',\n",
    "                'Non-Core': 'Non-Core',\n",
    "                'Hispanic': 'Hispanic', 'AA': 'AA', 'F': 'Female', 'M': 'Male', 'WAO': 'White', 'F (25-29)': 'Female',\n",
    "                'F (20-24)': 'Female', 'F (18-29)': 'Female', 'F (17-29)': 'Female', 'F (20-23)': 'Female',\n",
    "                'F (16-24)': 'Female', 'F (30-34)': 'Female', 'F (18-34)': 'Female', 'F (24-29)': 'Female',\n",
    "                'F (17-19)': 'Female', 'F (18-39)' : 'Female',\n",
    "                'F (15-26)': 'Female', 'F (15-19)': 'Female', 'F (15-24)': 'Female',\n",
    "                'F (18-24)': 'Female_(18-24)', 'F (20-29)': 'Female', 'F (25-34)': 'Female',\n",
    "                'F (Other)': 'Female_Other'}"
   ],
   "metadata": {
    "collapsed": false
   }
  },
  {
   "cell_type": "code",
   "execution_count": 6,
   "outputs": [],
   "source": [
    "# create segment and category fields\n",
    "df_train['segment'] = df_train['breakout_name'].apply(func=(lambda x: breakout_map[x] if (x in breakout_map.keys()) else None))\n",
    "df_train['demo_category'] = df_train['breakout_name'].apply(func=(lambda x: breakout_category[x] if x in breakout_category.keys() else None))"
   ],
   "metadata": {
    "collapsed": false
   }
  },
  {
   "cell_type": "code",
   "execution_count": 7,
   "outputs": [],
   "source": [
    "# drop misc female breakouts\n",
    "drop_idx = df_train[(df_train['segment'] == 'Female') | (pd.isna(df_train['segment']))].index\n",
    "df_train.drop(drop_idx, inplace=True)"
   ],
   "metadata": {
    "collapsed": false
   }
  },
  {
   "cell_type": "code",
   "execution_count": 9,
   "outputs": [],
   "source": [
    "# Drop songs with just a single score in the past 2 years\n",
    "df_train_week_ct = pd.DataFrame(df_train.groupby(['station_id', 'mediabase_id', 'breakout_id'])['week_dt'].count())\n",
    "drop_idx = df_train.join(df_train_week_ct[df_train_week_ct['week_dt'] == 1], on=['station_id', 'mediabase_id', 'breakout_id'], how='right', rsuffix='_r').index\n",
    "df_train.drop(index=drop_idx, inplace=True)"
   ],
   "metadata": {
    "collapsed": false
   }
  },
  {
   "cell_type": "code",
   "execution_count": 10,
   "outputs": [
    {
     "data": {
      "text/plain": "demo_category  segment         taa_quintile\nAge            Old             1                2252\n                               2                6295\n                               3                6168\n                               4                8090\n                               5               21146\n               Young           1                2252\n                               2                6295\n                               3                6173\n                               4                8088\n                               5               21143\nCore-Cume      Core            1                2251\n                               2                6293\n                               3                6169\n                               4                8089\n                               5               21150\n               Non-Core        1                2242\n                               2                6266\n                               3                6147\n                               4                8039\n                               5               21049\nGender         Female_(18-24)  1                2064\n                               2                5963\n                               3                5678\n                               4                7388\n                               5               18942\n               Female_Other    1                2064\n                               2                5960\n                               3                5680\n                               4                7387\n                               5               18943\nRace           AA              1                  82\n                               2                 234\n                               3                 325\n                               4                 583\n                               5                1680\n               Hispanic        1                1559\n                               2                4353\n                               3                4130\n                               4                5280\n                               5               13842\n               White           1                2250\n                               2                6595\n                               3                6431\n                               4                8478\n                               5               22208\nTotal          Total           1                2252\n                               2                6294\n                               3                6170\n                               4                8083\n                               5               21133\nName: mediabase_id, dtype: int64"
     },
     "execution_count": 10,
     "metadata": {},
     "output_type": "execute_result"
    }
   ],
   "source": [
    "df_train.groupby(['demo_category', 'segment', 'taa_quintile'])['mediabase_id'].count()"
   ],
   "metadata": {
    "collapsed": false
   }
  },
  {
   "cell_type": "markdown",
   "source": [
    "### Investigate columns with missing data"
   ],
   "metadata": {
    "collapsed": false
   }
  },
  {
   "cell_type": "code",
   "execution_count": 11,
   "outputs": [
    {
     "data": {
      "text/plain": "0"
     },
     "execution_count": 11,
     "metadata": {},
     "output_type": "execute_result"
    }
   ],
   "source": [
    "len(df_train[pd.isna(df_train['mediabase_id'])])"
   ],
   "metadata": {
    "collapsed": false
   }
  },
  {
   "cell_type": "code",
   "execution_count": 12,
   "outputs": [
    {
     "data": {
      "text/plain": "1.0"
     },
     "execution_count": 12,
     "metadata": {},
     "output_type": "execute_result"
    }
   ],
   "source": [
    "len(df_train[df_train['gcr'] == df_train['gcr_adj']])/len(df_train)"
   ],
   "metadata": {
    "collapsed": false
   }
  },
  {
   "cell_type": "code",
   "execution_count": 17,
   "outputs": [
    {
     "data": {
      "text/plain": "108"
     },
     "execution_count": 17,
     "metadata": {},
     "output_type": "execute_result"
    }
   ],
   "source": [
    "len(df_train.columns)"
   ],
   "metadata": {
    "collapsed": false
   }
  },
  {
   "cell_type": "code",
   "execution_count": 7,
   "outputs": [
    {
     "data": {
      "text/plain": "(614649, 108)"
     },
     "execution_count": 7,
     "metadata": {},
     "output_type": "execute_result"
    }
   ],
   "source": [
    "df_train.shape"
   ],
   "metadata": {
    "collapsed": false
   }
  },
  {
   "cell_type": "code",
   "execution_count": 8,
   "outputs": [
    {
     "data": {
      "text/plain": "station_test_1_plus  station_test_1_id\n0                    1                     58773\n1                    0                    497747\n                     1                     58129\nName: mediabase_id, dtype: int64"
     },
     "execution_count": 8,
     "metadata": {},
     "output_type": "execute_result"
    }
   ],
   "source": [
    "df_train.groupby(['station_test_1_plus', 'station_test_1_id'])['mediabase_id'].count()"
   ],
   "metadata": {
    "collapsed": false
   }
  },
  {
   "cell_type": "markdown",
   "source": [
    "##### isolate numeric and categorical columns"
   ],
   "metadata": {
    "collapsed": false
   }
  },
  {
   "cell_type": "code",
   "execution_count": 13,
   "outputs": [],
   "source": [
    "# constants\n",
    "num_cols_like = ['artist_count', 'feat_artist', 'feat_artist_song', 'mscore', 'spins','pop_prior',\n",
    "                 'pop_artist_prior', 'song_age_weeks', 'song_last_test']\n",
    "cat_cols_like = ['Market_Name', 'taa_quintile', 'segment', 'gcr', 'gcr_adj', 'omt_co_flag']\n",
    "target = ['pop_all']\n",
    "id_cols = ['mediabase_id', 'station_id', 'week_dt', 'breakout_id', 'breakout_name', 'demo_category', 'pop_co', 'pop_omt', 'gcr']\n",
    "\n",
    "exclude_cols_like = ['date','song_last_test_any_weeks','song_last_test_co_weeks', 'song_last_test_omt_weeks',\n",
    "                     'std_pop_prior', 'std_pop_artist_prior']#,'_unv']#,'univ_spins', 'market_spins']"
   ],
   "metadata": {
    "collapsed": false
   }
  },
  {
   "cell_type": "code",
   "execution_count": 14,
   "outputs": [],
   "source": [
    "id_cols = id_cols\n",
    "target_col = target\n",
    "exclude_cols = df_train.columns[df_train.columns.str.contains('|'.join(exclude_cols_like), regex=True)]\n",
    "\n",
    "cat_cols = list(set(df_train.columns[df_train.columns.str.contains('|'.join(cat_cols_like), regex=True)]) - set(\n",
    "    id_cols) - set(exclude_cols))\n",
    "\n",
    "num_cols = list(set(df_train.select_dtypes(exclude=['object', 'datetime64']).columns) & set(\n",
    "df_train.columns[(df_train.columns.str.contains('|'.join(num_cols_like), regex=True))]) - set(id_cols) - set(cat_cols) - set(exclude_cols))\n",
    "\n",
    "feature_cols = list(set(list(num_cols) + list(cat_cols)))"
   ],
   "metadata": {
    "collapsed": false
   }
  },
  {
   "cell_type": "code",
   "execution_count": 15,
   "outputs": [
    {
     "data": {
      "text/plain": "['gcr_adj', 'Market_Name', 'taa_quintile', 'omt_co_flag', 'segment']"
     },
     "execution_count": 15,
     "metadata": {},
     "output_type": "execute_result"
    }
   ],
   "source": [
    "cat_cols"
   ],
   "metadata": {
    "collapsed": false
   }
  },
  {
   "cell_type": "markdown",
   "source": [
    "##### check missingness by different feature types"
   ],
   "metadata": {
    "collapsed": false
   }
  },
  {
   "cell_type": "code",
   "execution_count": 34,
   "outputs": [],
   "source": [
    "# check missingness by instance (station-song combination) for categorical variables\n",
    "cols_avl_cat = df_train.groupby(['station_id', 'mediabase_id'])[cat_cols].agg(lambda x: 1 - sum(pd.isnull(x))/(1.0*len(x))).reset_index()"
   ],
   "metadata": {
    "collapsed": false
   }
  },
  {
   "cell_type": "code",
   "execution_count": 35,
   "outputs": [
    {
     "data": {
      "text/plain": "         station_id  mediabase_id  taa_quintile  gcr_adj  omt_co_flag  \\\ncount  4.774000e+03  4.774000e+03        4774.0   4774.0       4774.0   \nmean   3.344216e+06  2.450651e+06           1.0      1.0          1.0   \nstd    1.742303e+05  3.943128e+05           0.0      0.0          0.0   \nmin    3.321797e+06  1.085550e+06           1.0      1.0          1.0   \n25%    3.322025e+06  2.355676e+06           1.0      1.0          1.0   \n50%    3.322828e+06  2.583267e+06           1.0      1.0          1.0   \n75%    3.323410e+06  2.720314e+06           1.0      1.0          1.0   \nmax    4.762077e+06  2.848773e+06           1.0      1.0          1.0   \n\n       Market_Name  segment  \ncount       4774.0   4774.0  \nmean           1.0      1.0  \nstd            0.0      0.0  \nmin            1.0      1.0  \n25%            1.0      1.0  \n50%            1.0      1.0  \n75%            1.0      1.0  \nmax            1.0      1.0  ",
      "text/html": "<div>\n<style scoped>\n    .dataframe tbody tr th:only-of-type {\n        vertical-align: middle;\n    }\n\n    .dataframe tbody tr th {\n        vertical-align: top;\n    }\n\n    .dataframe thead th {\n        text-align: right;\n    }\n</style>\n<table border=\"1\" class=\"dataframe\">\n  <thead>\n    <tr style=\"text-align: right;\">\n      <th></th>\n      <th>station_id</th>\n      <th>mediabase_id</th>\n      <th>taa_quintile</th>\n      <th>gcr_adj</th>\n      <th>omt_co_flag</th>\n      <th>Market_Name</th>\n      <th>segment</th>\n    </tr>\n  </thead>\n  <tbody>\n    <tr>\n      <th>count</th>\n      <td>4.774000e+03</td>\n      <td>4.774000e+03</td>\n      <td>4774.0</td>\n      <td>4774.0</td>\n      <td>4774.0</td>\n      <td>4774.0</td>\n      <td>4774.0</td>\n    </tr>\n    <tr>\n      <th>mean</th>\n      <td>3.344216e+06</td>\n      <td>2.450651e+06</td>\n      <td>1.0</td>\n      <td>1.0</td>\n      <td>1.0</td>\n      <td>1.0</td>\n      <td>1.0</td>\n    </tr>\n    <tr>\n      <th>std</th>\n      <td>1.742303e+05</td>\n      <td>3.943128e+05</td>\n      <td>0.0</td>\n      <td>0.0</td>\n      <td>0.0</td>\n      <td>0.0</td>\n      <td>0.0</td>\n    </tr>\n    <tr>\n      <th>min</th>\n      <td>3.321797e+06</td>\n      <td>1.085550e+06</td>\n      <td>1.0</td>\n      <td>1.0</td>\n      <td>1.0</td>\n      <td>1.0</td>\n      <td>1.0</td>\n    </tr>\n    <tr>\n      <th>25%</th>\n      <td>3.322025e+06</td>\n      <td>2.355676e+06</td>\n      <td>1.0</td>\n      <td>1.0</td>\n      <td>1.0</td>\n      <td>1.0</td>\n      <td>1.0</td>\n    </tr>\n    <tr>\n      <th>50%</th>\n      <td>3.322828e+06</td>\n      <td>2.583267e+06</td>\n      <td>1.0</td>\n      <td>1.0</td>\n      <td>1.0</td>\n      <td>1.0</td>\n      <td>1.0</td>\n    </tr>\n    <tr>\n      <th>75%</th>\n      <td>3.323410e+06</td>\n      <td>2.720314e+06</td>\n      <td>1.0</td>\n      <td>1.0</td>\n      <td>1.0</td>\n      <td>1.0</td>\n      <td>1.0</td>\n    </tr>\n    <tr>\n      <th>max</th>\n      <td>4.762077e+06</td>\n      <td>2.848773e+06</td>\n      <td>1.0</td>\n      <td>1.0</td>\n      <td>1.0</td>\n      <td>1.0</td>\n      <td>1.0</td>\n    </tr>\n  </tbody>\n</table>\n</div>"
     },
     "execution_count": 35,
     "metadata": {},
     "output_type": "execute_result"
    }
   ],
   "source": [
    "cols_avl_cat.describe()"
   ],
   "metadata": {
    "collapsed": false
   }
  },
  {
   "cell_type": "code",
   "execution_count": 24,
   "outputs": [
    {
     "data": {
      "text/plain": "      mediabase_id  station_id     week_dt  artist_id    format_code  \\\n2125       1086587     3321797  2022-07-31   26365333  {format_code}   \n2128       1086587     3321797  2022-08-21   26365333  {format_code}   \n2132       1086587     3321797  2022-09-04   26365333  {format_code}   \n2133       1086587     3321797  2022-09-18   26365333  {format_code}   \n2136       1086587     3321797  2022-10-02   26365333  {format_code}   \n2138       1086587     3321797  2022-10-16   26365333  {format_code}   \n2139       1086587     3321797  2022-10-30   26365333  {format_code}   \n2141       1086587     3321797  2022-11-27   26365333  {format_code}   \n2087       1086587     3321797  2022-07-31   26365333  {format_code}   \n2090       1086587     3321797  2022-08-21   26365333  {format_code}   \n2093       1086587     3321797  2022-09-04   26365333  {format_code}   \n2096       1086587     3321797  2022-09-18   26365333  {format_code}   \n2099       1086587     3321797  2022-10-02   26365333  {format_code}   \n2102       1086587     3321797  2022-10-16   26365333  {format_code}   \n2104       1086587     3321797  2022-10-30   26365333  {format_code}   \n2105       1086587     3321797  2022-11-27   26365333  {format_code}   \n2107       1086587     3321797  2022-07-31   26365333  {format_code}   \n2108       1086587     3321797  2022-08-21   26365333  {format_code}   \n2110       1086587     3321797  2022-09-04   26365333  {format_code}   \n2111       1086587     3321797  2022-09-18   26365333  {format_code}   \n2113       1086587     3321797  2022-10-02   26365333  {format_code}   \n2117       1086587     3321797  2022-10-16   26365333  {format_code}   \n2119       1086587     3321797  2022-10-30   26365333  {format_code}   \n2121       1086587     3321797  2022-11-27   26365333  {format_code}   \n2070       1086587     3321797  2022-07-31   26365333  {format_code}   \n2072       1086587     3321797  2022-08-21   26365333  {format_code}   \n2074       1086587     3321797  2022-09-04   26365333  {format_code}   \n2075       1086587     3321797  2022-09-18   26365333  {format_code}   \n2077       1086587     3321797  2022-10-02   26365333  {format_code}   \n2078       1086587     3321797  2022-10-16   26365333  {format_code}   \n2081       1086587     3321797  2022-10-30   26365333  {format_code}   \n2084       1086587     3321797  2022-11-27   26365333  {format_code}   \n2062       1086587     3321797  2022-07-31   26365333  {format_code}   \n2064       1086587     3321797  2022-08-21   26365333  {format_code}   \n2065       1086587     3321797  2022-09-04   26365333  {format_code}   \n2067       1086587     3321797  2022-09-18   26365333  {format_code}   \n2068       1086587     3321797  2022-10-30   26365333  {format_code}   \n\n      FirstLast                       SongTitle Market_Name song_release_date  \\\n2125  KATE BUSH  Running Up That Hill (A Deal..     Seattle        2022-06-01   \n2128  KATE BUSH  Running Up That Hill (A Deal..     Seattle        2022-06-01   \n2132  KATE BUSH  Running Up That Hill (A Deal..     Seattle        2022-06-01   \n2133  KATE BUSH  Running Up That Hill (A Deal..     Seattle        2022-06-01   \n2136  KATE BUSH  Running Up That Hill (A Deal..     Seattle        2022-06-01   \n2138  KATE BUSH  Running Up That Hill (A Deal..     Seattle        2022-06-01   \n2139  KATE BUSH  Running Up That Hill (A Deal..     Seattle        2022-06-01   \n2141  KATE BUSH  Running Up That Hill (A Deal..     Seattle        2022-06-01   \n2087  KATE BUSH  Running Up That Hill (A Deal..     Seattle        2022-06-01   \n2090  KATE BUSH  Running Up That Hill (A Deal..     Seattle        2022-06-01   \n2093  KATE BUSH  Running Up That Hill (A Deal..     Seattle        2022-06-01   \n2096  KATE BUSH  Running Up That Hill (A Deal..     Seattle        2022-06-01   \n2099  KATE BUSH  Running Up That Hill (A Deal..     Seattle        2022-06-01   \n2102  KATE BUSH  Running Up That Hill (A Deal..     Seattle        2022-06-01   \n2104  KATE BUSH  Running Up That Hill (A Deal..     Seattle        2022-06-01   \n2105  KATE BUSH  Running Up That Hill (A Deal..     Seattle        2022-06-01   \n2107  KATE BUSH  Running Up That Hill (A Deal..     Seattle        2022-06-01   \n2108  KATE BUSH  Running Up That Hill (A Deal..     Seattle        2022-06-01   \n2110  KATE BUSH  Running Up That Hill (A Deal..     Seattle        2022-06-01   \n2111  KATE BUSH  Running Up That Hill (A Deal..     Seattle        2022-06-01   \n2113  KATE BUSH  Running Up That Hill (A Deal..     Seattle        2022-06-01   \n2117  KATE BUSH  Running Up That Hill (A Deal..     Seattle        2022-06-01   \n2119  KATE BUSH  Running Up That Hill (A Deal..     Seattle        2022-06-01   \n2121  KATE BUSH  Running Up That Hill (A Deal..     Seattle        2022-06-01   \n2070  KATE BUSH  Running Up That Hill (A Deal..     Seattle        2022-06-01   \n2072  KATE BUSH  Running Up That Hill (A Deal..     Seattle        2022-06-01   \n2074  KATE BUSH  Running Up That Hill (A Deal..     Seattle        2022-06-01   \n2075  KATE BUSH  Running Up That Hill (A Deal..     Seattle        2022-06-01   \n2077  KATE BUSH  Running Up That Hill (A Deal..     Seattle        2022-06-01   \n2078  KATE BUSH  Running Up That Hill (A Deal..     Seattle        2022-06-01   \n2081  KATE BUSH  Running Up That Hill (A Deal..     Seattle        2022-06-01   \n2084  KATE BUSH  Running Up That Hill (A Deal..     Seattle        2022-06-01   \n2062  KATE BUSH  Running Up That Hill (A Deal..     Seattle        2022-06-01   \n2064  KATE BUSH  Running Up That Hill (A Deal..     Seattle        2022-06-01   \n2065  KATE BUSH  Running Up That Hill (A Deal..     Seattle        2022-06-01   \n2067  KATE BUSH  Running Up That Hill (A Deal..     Seattle        2022-06-01   \n2068  KATE BUSH  Running Up That Hill (A Deal..     Seattle        2022-06-01   \n\n      breakout_id  ... mean_pop_artist_prior  std_pop_artist_prior  \\\n2125       428784  ...                   NaN                   NaN   \n2128       428784  ...             64.000000                   NaN   \n2132       428784  ...             71.000000              9.899495   \n2133       428784  ...             71.333333              7.023769   \n2136       428784  ...             72.000000              5.887841   \n2138       428784  ...             70.600000              5.983310   \n2139       428784  ...             71.500000              5.787918   \n2141       428784  ...             72.714286              6.183696   \n2087       428762  ...                   NaN                   NaN   \n2090       428762  ...             59.000000                   NaN   \n2093       428762  ...             70.500000             16.263456   \n2096       428762  ...             70.333333             11.503623   \n2099       428762  ...             71.000000              9.486833   \n2102       428762  ...             69.400000              8.961027   \n2104       428762  ...             69.000000              8.074652   \n2105       428762  ...             70.857143              8.858679   \n2107       428763  ...                   NaN                   NaN   \n2108       428763  ...             63.000000                   NaN   \n2110       428763  ...             71.500000             12.020815   \n2111       428763  ...             72.000000              8.544004   \n2113       428763  ...             72.000000              6.976150   \n2117       428763  ...             70.600000              6.804410   \n2119       428763  ...             70.833333              6.112828   \n2121       428763  ...             72.000000              6.377042   \n2070       414115  ...                   NaN                   NaN   \n2072       414115  ...             62.000000                   NaN   \n2074       414115  ...             67.000000              7.071068   \n2075       414115  ...             69.000000              6.082763   \n2077       414115  ...             67.750000              5.560276   \n2078       414115  ...             67.800000              4.816638   \n2081       414115  ...             69.333333              5.715476   \n2084       414115  ...             71.285714              7.341986   \n2062       413250  ...                   NaN                   NaN   \n2064       413250  ...             80.000000                   NaN   \n2065       413250  ...             77.500000              3.535534   \n2067       413250  ...             73.333333              7.637626   \n2068       413250  ...             67.500000             13.228757   \n\n      count_pop_artist_prior  max_pop_artist_prior_unv  \\\n2125                     NaN                       NaN   \n2128                     1.0                      64.0   \n2132                     2.0                      78.0   \n2133                     3.0                      78.0   \n2136                     4.0                      78.0   \n2138                     5.0                      78.0   \n2139                     6.0                      78.0   \n2141                     7.0                      80.0   \n2087                     NaN                       NaN   \n2090                     1.0                      59.0   \n2093                     2.0                      82.0   \n2096                     3.0                      82.0   \n2099                     4.0                      82.0   \n2102                     5.0                      82.0   \n2104                     6.0                      82.0   \n2105                     7.0                      82.0   \n2107                     NaN                       NaN   \n2108                     1.0                      63.0   \n2110                     2.0                      80.0   \n2111                     3.0                      80.0   \n2113                     4.0                      80.0   \n2117                     5.0                      80.0   \n2119                     6.0                      80.0   \n2121                     7.0                      80.0   \n2070                     NaN                       NaN   \n2072                     1.0                      62.0   \n2074                     2.0                      72.0   \n2075                     3.0                      73.0   \n2077                     4.0                      73.0   \n2078                     5.0                      73.0   \n2081                     6.0                      77.0   \n2084                     7.0                      83.0   \n2062                     NaN                       NaN   \n2064                     1.0                      80.0   \n2065                     2.0                      80.0   \n2067                     3.0                      80.0   \n2068                     4.0                      80.0   \n\n     min_pop_artist_prior_unv mean_pop_artist_prior_unv  \\\n2125                      NaN                       NaN   \n2128                     64.0                 64.000000   \n2132                     64.0                 68.666667   \n2133                     64.0                 70.000000   \n2136                     64.0                 70.800000   \n2138                     64.0                 70.733333   \n2139                     64.0                 70.952381   \n2141                     64.0                 71.392857   \n2087                      NaN                       NaN   \n2090                     59.0                 59.000000   \n2093                     59.0                 66.666667   \n2096                     59.0                 68.500000   \n2099                     59.0                 69.500000   \n2102                     59.0                 69.466667   \n2104                     59.0                 69.333333   \n2105                     59.0                 69.714286   \n2107                      NaN                       NaN   \n2108                     63.0                 63.000000   \n2110                     63.0                 68.666667   \n2111                     63.0                 70.333333   \n2113                     63.0                 71.000000   \n2117                     63.0                 70.866667   \n2119                     63.0                 70.857143   \n2121                     63.0                 71.142857   \n2070                      NaN                       NaN   \n2072                     62.0                 62.000000   \n2074                     62.0                 65.333333   \n2075                     62.0                 67.166667   \n2077                     62.0                 67.400000   \n2078                     62.0                 67.533333   \n2081                     62.0                 68.047619   \n2084                     62.0                 68.857143   \n2062                      NaN                       NaN   \n2064                     80.0                 80.000000   \n2065                     75.0                 78.333333   \n2067                     65.0                 75.833333   \n2068                     50.0                 72.500000   \n\n      count_pop_artist_prior_unv  mr_pop_artist_prior_unv  segment  \\\n2125                         NaN                      NaN     None   \n2128                         1.0                     64.0     None   \n2132                         3.0                     78.0     None   \n2133                         6.0                     72.0     None   \n2136                        10.0                     74.0     None   \n2138                        15.0                     65.0     None   \n2139                        21.0                     76.0     None   \n2141                        28.0                     80.0     None   \n2087                         NaN                      NaN     None   \n2090                         1.0                     59.0     None   \n2093                         3.0                     82.0     None   \n2096                         6.0                     70.0     None   \n2099                        10.0                     73.0     None   \n2102                        15.0                     63.0     None   \n2104                        21.0                     67.0     None   \n2105                        28.0                     82.0     None   \n2107                         NaN                      NaN     None   \n2108                         1.0                     63.0     None   \n2110                         3.0                     80.0     None   \n2111                         6.0                     73.0     None   \n2113                        10.0                     72.0     None   \n2117                        15.0                     65.0     None   \n2119                        21.0                     72.0     None   \n2121                        28.0                     79.0     None   \n2070                         NaN                      NaN     None   \n2072                         1.0                     62.0     None   \n2074                         3.0                     72.0     None   \n2075                         6.0                     73.0     None   \n2077                        10.0                     64.0     None   \n2078                        15.0                     68.0     None   \n2081                        21.0                     77.0     None   \n2084                        28.0                     83.0     None   \n2062                         NaN                      NaN     None   \n2064                         1.0                     80.0     None   \n2065                         3.0                     75.0     None   \n2067                         6.0                     65.0     None   \n2068                        10.0                     50.0     None   \n\n      demo_category  \n2125           None  \n2128           None  \n2132           None  \n2133           None  \n2136           None  \n2138           None  \n2139           None  \n2141           None  \n2087           None  \n2090           None  \n2093           None  \n2096           None  \n2099           None  \n2102           None  \n2104           None  \n2105           None  \n2107           None  \n2108           None  \n2110           None  \n2111           None  \n2113           None  \n2117           None  \n2119           None  \n2121           None  \n2070           None  \n2072           None  \n2074           None  \n2075           None  \n2077           None  \n2078           None  \n2081           None  \n2084           None  \n2062           None  \n2064           None  \n2065           None  \n2067           None  \n2068           None  \n\n[37 rows x 110 columns]",
      "text/html": "<div>\n<style scoped>\n    .dataframe tbody tr th:only-of-type {\n        vertical-align: middle;\n    }\n\n    .dataframe tbody tr th {\n        vertical-align: top;\n    }\n\n    .dataframe thead th {\n        text-align: right;\n    }\n</style>\n<table border=\"1\" class=\"dataframe\">\n  <thead>\n    <tr style=\"text-align: right;\">\n      <th></th>\n      <th>mediabase_id</th>\n      <th>station_id</th>\n      <th>week_dt</th>\n      <th>artist_id</th>\n      <th>format_code</th>\n      <th>FirstLast</th>\n      <th>SongTitle</th>\n      <th>Market_Name</th>\n      <th>song_release_date</th>\n      <th>breakout_id</th>\n      <th>...</th>\n      <th>mean_pop_artist_prior</th>\n      <th>std_pop_artist_prior</th>\n      <th>count_pop_artist_prior</th>\n      <th>max_pop_artist_prior_unv</th>\n      <th>min_pop_artist_prior_unv</th>\n      <th>mean_pop_artist_prior_unv</th>\n      <th>count_pop_artist_prior_unv</th>\n      <th>mr_pop_artist_prior_unv</th>\n      <th>segment</th>\n      <th>demo_category</th>\n    </tr>\n  </thead>\n  <tbody>\n    <tr>\n      <th>2125</th>\n      <td>1086587</td>\n      <td>3321797</td>\n      <td>2022-07-31</td>\n      <td>26365333</td>\n      <td>{format_code}</td>\n      <td>KATE BUSH</td>\n      <td>Running Up That Hill (A Deal..</td>\n      <td>Seattle</td>\n      <td>2022-06-01</td>\n      <td>428784</td>\n      <td>...</td>\n      <td>NaN</td>\n      <td>NaN</td>\n      <td>NaN</td>\n      <td>NaN</td>\n      <td>NaN</td>\n      <td>NaN</td>\n      <td>NaN</td>\n      <td>NaN</td>\n      <td>None</td>\n      <td>None</td>\n    </tr>\n    <tr>\n      <th>2128</th>\n      <td>1086587</td>\n      <td>3321797</td>\n      <td>2022-08-21</td>\n      <td>26365333</td>\n      <td>{format_code}</td>\n      <td>KATE BUSH</td>\n      <td>Running Up That Hill (A Deal..</td>\n      <td>Seattle</td>\n      <td>2022-06-01</td>\n      <td>428784</td>\n      <td>...</td>\n      <td>64.000000</td>\n      <td>NaN</td>\n      <td>1.0</td>\n      <td>64.0</td>\n      <td>64.0</td>\n      <td>64.000000</td>\n      <td>1.0</td>\n      <td>64.0</td>\n      <td>None</td>\n      <td>None</td>\n    </tr>\n    <tr>\n      <th>2132</th>\n      <td>1086587</td>\n      <td>3321797</td>\n      <td>2022-09-04</td>\n      <td>26365333</td>\n      <td>{format_code}</td>\n      <td>KATE BUSH</td>\n      <td>Running Up That Hill (A Deal..</td>\n      <td>Seattle</td>\n      <td>2022-06-01</td>\n      <td>428784</td>\n      <td>...</td>\n      <td>71.000000</td>\n      <td>9.899495</td>\n      <td>2.0</td>\n      <td>78.0</td>\n      <td>64.0</td>\n      <td>68.666667</td>\n      <td>3.0</td>\n      <td>78.0</td>\n      <td>None</td>\n      <td>None</td>\n    </tr>\n    <tr>\n      <th>2133</th>\n      <td>1086587</td>\n      <td>3321797</td>\n      <td>2022-09-18</td>\n      <td>26365333</td>\n      <td>{format_code}</td>\n      <td>KATE BUSH</td>\n      <td>Running Up That Hill (A Deal..</td>\n      <td>Seattle</td>\n      <td>2022-06-01</td>\n      <td>428784</td>\n      <td>...</td>\n      <td>71.333333</td>\n      <td>7.023769</td>\n      <td>3.0</td>\n      <td>78.0</td>\n      <td>64.0</td>\n      <td>70.000000</td>\n      <td>6.0</td>\n      <td>72.0</td>\n      <td>None</td>\n      <td>None</td>\n    </tr>\n    <tr>\n      <th>2136</th>\n      <td>1086587</td>\n      <td>3321797</td>\n      <td>2022-10-02</td>\n      <td>26365333</td>\n      <td>{format_code}</td>\n      <td>KATE BUSH</td>\n      <td>Running Up That Hill (A Deal..</td>\n      <td>Seattle</td>\n      <td>2022-06-01</td>\n      <td>428784</td>\n      <td>...</td>\n      <td>72.000000</td>\n      <td>5.887841</td>\n      <td>4.0</td>\n      <td>78.0</td>\n      <td>64.0</td>\n      <td>70.800000</td>\n      <td>10.0</td>\n      <td>74.0</td>\n      <td>None</td>\n      <td>None</td>\n    </tr>\n    <tr>\n      <th>2138</th>\n      <td>1086587</td>\n      <td>3321797</td>\n      <td>2022-10-16</td>\n      <td>26365333</td>\n      <td>{format_code}</td>\n      <td>KATE BUSH</td>\n      <td>Running Up That Hill (A Deal..</td>\n      <td>Seattle</td>\n      <td>2022-06-01</td>\n      <td>428784</td>\n      <td>...</td>\n      <td>70.600000</td>\n      <td>5.983310</td>\n      <td>5.0</td>\n      <td>78.0</td>\n      <td>64.0</td>\n      <td>70.733333</td>\n      <td>15.0</td>\n      <td>65.0</td>\n      <td>None</td>\n      <td>None</td>\n    </tr>\n    <tr>\n      <th>2139</th>\n      <td>1086587</td>\n      <td>3321797</td>\n      <td>2022-10-30</td>\n      <td>26365333</td>\n      <td>{format_code}</td>\n      <td>KATE BUSH</td>\n      <td>Running Up That Hill (A Deal..</td>\n      <td>Seattle</td>\n      <td>2022-06-01</td>\n      <td>428784</td>\n      <td>...</td>\n      <td>71.500000</td>\n      <td>5.787918</td>\n      <td>6.0</td>\n      <td>78.0</td>\n      <td>64.0</td>\n      <td>70.952381</td>\n      <td>21.0</td>\n      <td>76.0</td>\n      <td>None</td>\n      <td>None</td>\n    </tr>\n    <tr>\n      <th>2141</th>\n      <td>1086587</td>\n      <td>3321797</td>\n      <td>2022-11-27</td>\n      <td>26365333</td>\n      <td>{format_code}</td>\n      <td>KATE BUSH</td>\n      <td>Running Up That Hill (A Deal..</td>\n      <td>Seattle</td>\n      <td>2022-06-01</td>\n      <td>428784</td>\n      <td>...</td>\n      <td>72.714286</td>\n      <td>6.183696</td>\n      <td>7.0</td>\n      <td>80.0</td>\n      <td>64.0</td>\n      <td>71.392857</td>\n      <td>28.0</td>\n      <td>80.0</td>\n      <td>None</td>\n      <td>None</td>\n    </tr>\n    <tr>\n      <th>2087</th>\n      <td>1086587</td>\n      <td>3321797</td>\n      <td>2022-07-31</td>\n      <td>26365333</td>\n      <td>{format_code}</td>\n      <td>KATE BUSH</td>\n      <td>Running Up That Hill (A Deal..</td>\n      <td>Seattle</td>\n      <td>2022-06-01</td>\n      <td>428762</td>\n      <td>...</td>\n      <td>NaN</td>\n      <td>NaN</td>\n      <td>NaN</td>\n      <td>NaN</td>\n      <td>NaN</td>\n      <td>NaN</td>\n      <td>NaN</td>\n      <td>NaN</td>\n      <td>None</td>\n      <td>None</td>\n    </tr>\n    <tr>\n      <th>2090</th>\n      <td>1086587</td>\n      <td>3321797</td>\n      <td>2022-08-21</td>\n      <td>26365333</td>\n      <td>{format_code}</td>\n      <td>KATE BUSH</td>\n      <td>Running Up That Hill (A Deal..</td>\n      <td>Seattle</td>\n      <td>2022-06-01</td>\n      <td>428762</td>\n      <td>...</td>\n      <td>59.000000</td>\n      <td>NaN</td>\n      <td>1.0</td>\n      <td>59.0</td>\n      <td>59.0</td>\n      <td>59.000000</td>\n      <td>1.0</td>\n      <td>59.0</td>\n      <td>None</td>\n      <td>None</td>\n    </tr>\n    <tr>\n      <th>2093</th>\n      <td>1086587</td>\n      <td>3321797</td>\n      <td>2022-09-04</td>\n      <td>26365333</td>\n      <td>{format_code}</td>\n      <td>KATE BUSH</td>\n      <td>Running Up That Hill (A Deal..</td>\n      <td>Seattle</td>\n      <td>2022-06-01</td>\n      <td>428762</td>\n      <td>...</td>\n      <td>70.500000</td>\n      <td>16.263456</td>\n      <td>2.0</td>\n      <td>82.0</td>\n      <td>59.0</td>\n      <td>66.666667</td>\n      <td>3.0</td>\n      <td>82.0</td>\n      <td>None</td>\n      <td>None</td>\n    </tr>\n    <tr>\n      <th>2096</th>\n      <td>1086587</td>\n      <td>3321797</td>\n      <td>2022-09-18</td>\n      <td>26365333</td>\n      <td>{format_code}</td>\n      <td>KATE BUSH</td>\n      <td>Running Up That Hill (A Deal..</td>\n      <td>Seattle</td>\n      <td>2022-06-01</td>\n      <td>428762</td>\n      <td>...</td>\n      <td>70.333333</td>\n      <td>11.503623</td>\n      <td>3.0</td>\n      <td>82.0</td>\n      <td>59.0</td>\n      <td>68.500000</td>\n      <td>6.0</td>\n      <td>70.0</td>\n      <td>None</td>\n      <td>None</td>\n    </tr>\n    <tr>\n      <th>2099</th>\n      <td>1086587</td>\n      <td>3321797</td>\n      <td>2022-10-02</td>\n      <td>26365333</td>\n      <td>{format_code}</td>\n      <td>KATE BUSH</td>\n      <td>Running Up That Hill (A Deal..</td>\n      <td>Seattle</td>\n      <td>2022-06-01</td>\n      <td>428762</td>\n      <td>...</td>\n      <td>71.000000</td>\n      <td>9.486833</td>\n      <td>4.0</td>\n      <td>82.0</td>\n      <td>59.0</td>\n      <td>69.500000</td>\n      <td>10.0</td>\n      <td>73.0</td>\n      <td>None</td>\n      <td>None</td>\n    </tr>\n    <tr>\n      <th>2102</th>\n      <td>1086587</td>\n      <td>3321797</td>\n      <td>2022-10-16</td>\n      <td>26365333</td>\n      <td>{format_code}</td>\n      <td>KATE BUSH</td>\n      <td>Running Up That Hill (A Deal..</td>\n      <td>Seattle</td>\n      <td>2022-06-01</td>\n      <td>428762</td>\n      <td>...</td>\n      <td>69.400000</td>\n      <td>8.961027</td>\n      <td>5.0</td>\n      <td>82.0</td>\n      <td>59.0</td>\n      <td>69.466667</td>\n      <td>15.0</td>\n      <td>63.0</td>\n      <td>None</td>\n      <td>None</td>\n    </tr>\n    <tr>\n      <th>2104</th>\n      <td>1086587</td>\n      <td>3321797</td>\n      <td>2022-10-30</td>\n      <td>26365333</td>\n      <td>{format_code}</td>\n      <td>KATE BUSH</td>\n      <td>Running Up That Hill (A Deal..</td>\n      <td>Seattle</td>\n      <td>2022-06-01</td>\n      <td>428762</td>\n      <td>...</td>\n      <td>69.000000</td>\n      <td>8.074652</td>\n      <td>6.0</td>\n      <td>82.0</td>\n      <td>59.0</td>\n      <td>69.333333</td>\n      <td>21.0</td>\n      <td>67.0</td>\n      <td>None</td>\n      <td>None</td>\n    </tr>\n    <tr>\n      <th>2105</th>\n      <td>1086587</td>\n      <td>3321797</td>\n      <td>2022-11-27</td>\n      <td>26365333</td>\n      <td>{format_code}</td>\n      <td>KATE BUSH</td>\n      <td>Running Up That Hill (A Deal..</td>\n      <td>Seattle</td>\n      <td>2022-06-01</td>\n      <td>428762</td>\n      <td>...</td>\n      <td>70.857143</td>\n      <td>8.858679</td>\n      <td>7.0</td>\n      <td>82.0</td>\n      <td>59.0</td>\n      <td>69.714286</td>\n      <td>28.0</td>\n      <td>82.0</td>\n      <td>None</td>\n      <td>None</td>\n    </tr>\n    <tr>\n      <th>2107</th>\n      <td>1086587</td>\n      <td>3321797</td>\n      <td>2022-07-31</td>\n      <td>26365333</td>\n      <td>{format_code}</td>\n      <td>KATE BUSH</td>\n      <td>Running Up That Hill (A Deal..</td>\n      <td>Seattle</td>\n      <td>2022-06-01</td>\n      <td>428763</td>\n      <td>...</td>\n      <td>NaN</td>\n      <td>NaN</td>\n      <td>NaN</td>\n      <td>NaN</td>\n      <td>NaN</td>\n      <td>NaN</td>\n      <td>NaN</td>\n      <td>NaN</td>\n      <td>None</td>\n      <td>None</td>\n    </tr>\n    <tr>\n      <th>2108</th>\n      <td>1086587</td>\n      <td>3321797</td>\n      <td>2022-08-21</td>\n      <td>26365333</td>\n      <td>{format_code}</td>\n      <td>KATE BUSH</td>\n      <td>Running Up That Hill (A Deal..</td>\n      <td>Seattle</td>\n      <td>2022-06-01</td>\n      <td>428763</td>\n      <td>...</td>\n      <td>63.000000</td>\n      <td>NaN</td>\n      <td>1.0</td>\n      <td>63.0</td>\n      <td>63.0</td>\n      <td>63.000000</td>\n      <td>1.0</td>\n      <td>63.0</td>\n      <td>None</td>\n      <td>None</td>\n    </tr>\n    <tr>\n      <th>2110</th>\n      <td>1086587</td>\n      <td>3321797</td>\n      <td>2022-09-04</td>\n      <td>26365333</td>\n      <td>{format_code}</td>\n      <td>KATE BUSH</td>\n      <td>Running Up That Hill (A Deal..</td>\n      <td>Seattle</td>\n      <td>2022-06-01</td>\n      <td>428763</td>\n      <td>...</td>\n      <td>71.500000</td>\n      <td>12.020815</td>\n      <td>2.0</td>\n      <td>80.0</td>\n      <td>63.0</td>\n      <td>68.666667</td>\n      <td>3.0</td>\n      <td>80.0</td>\n      <td>None</td>\n      <td>None</td>\n    </tr>\n    <tr>\n      <th>2111</th>\n      <td>1086587</td>\n      <td>3321797</td>\n      <td>2022-09-18</td>\n      <td>26365333</td>\n      <td>{format_code}</td>\n      <td>KATE BUSH</td>\n      <td>Running Up That Hill (A Deal..</td>\n      <td>Seattle</td>\n      <td>2022-06-01</td>\n      <td>428763</td>\n      <td>...</td>\n      <td>72.000000</td>\n      <td>8.544004</td>\n      <td>3.0</td>\n      <td>80.0</td>\n      <td>63.0</td>\n      <td>70.333333</td>\n      <td>6.0</td>\n      <td>73.0</td>\n      <td>None</td>\n      <td>None</td>\n    </tr>\n    <tr>\n      <th>2113</th>\n      <td>1086587</td>\n      <td>3321797</td>\n      <td>2022-10-02</td>\n      <td>26365333</td>\n      <td>{format_code}</td>\n      <td>KATE BUSH</td>\n      <td>Running Up That Hill (A Deal..</td>\n      <td>Seattle</td>\n      <td>2022-06-01</td>\n      <td>428763</td>\n      <td>...</td>\n      <td>72.000000</td>\n      <td>6.976150</td>\n      <td>4.0</td>\n      <td>80.0</td>\n      <td>63.0</td>\n      <td>71.000000</td>\n      <td>10.0</td>\n      <td>72.0</td>\n      <td>None</td>\n      <td>None</td>\n    </tr>\n    <tr>\n      <th>2117</th>\n      <td>1086587</td>\n      <td>3321797</td>\n      <td>2022-10-16</td>\n      <td>26365333</td>\n      <td>{format_code}</td>\n      <td>KATE BUSH</td>\n      <td>Running Up That Hill (A Deal..</td>\n      <td>Seattle</td>\n      <td>2022-06-01</td>\n      <td>428763</td>\n      <td>...</td>\n      <td>70.600000</td>\n      <td>6.804410</td>\n      <td>5.0</td>\n      <td>80.0</td>\n      <td>63.0</td>\n      <td>70.866667</td>\n      <td>15.0</td>\n      <td>65.0</td>\n      <td>None</td>\n      <td>None</td>\n    </tr>\n    <tr>\n      <th>2119</th>\n      <td>1086587</td>\n      <td>3321797</td>\n      <td>2022-10-30</td>\n      <td>26365333</td>\n      <td>{format_code}</td>\n      <td>KATE BUSH</td>\n      <td>Running Up That Hill (A Deal..</td>\n      <td>Seattle</td>\n      <td>2022-06-01</td>\n      <td>428763</td>\n      <td>...</td>\n      <td>70.833333</td>\n      <td>6.112828</td>\n      <td>6.0</td>\n      <td>80.0</td>\n      <td>63.0</td>\n      <td>70.857143</td>\n      <td>21.0</td>\n      <td>72.0</td>\n      <td>None</td>\n      <td>None</td>\n    </tr>\n    <tr>\n      <th>2121</th>\n      <td>1086587</td>\n      <td>3321797</td>\n      <td>2022-11-27</td>\n      <td>26365333</td>\n      <td>{format_code}</td>\n      <td>KATE BUSH</td>\n      <td>Running Up That Hill (A Deal..</td>\n      <td>Seattle</td>\n      <td>2022-06-01</td>\n      <td>428763</td>\n      <td>...</td>\n      <td>72.000000</td>\n      <td>6.377042</td>\n      <td>7.0</td>\n      <td>80.0</td>\n      <td>63.0</td>\n      <td>71.142857</td>\n      <td>28.0</td>\n      <td>79.0</td>\n      <td>None</td>\n      <td>None</td>\n    </tr>\n    <tr>\n      <th>2070</th>\n      <td>1086587</td>\n      <td>3321797</td>\n      <td>2022-07-31</td>\n      <td>26365333</td>\n      <td>{format_code}</td>\n      <td>KATE BUSH</td>\n      <td>Running Up That Hill (A Deal..</td>\n      <td>Seattle</td>\n      <td>2022-06-01</td>\n      <td>414115</td>\n      <td>...</td>\n      <td>NaN</td>\n      <td>NaN</td>\n      <td>NaN</td>\n      <td>NaN</td>\n      <td>NaN</td>\n      <td>NaN</td>\n      <td>NaN</td>\n      <td>NaN</td>\n      <td>None</td>\n      <td>None</td>\n    </tr>\n    <tr>\n      <th>2072</th>\n      <td>1086587</td>\n      <td>3321797</td>\n      <td>2022-08-21</td>\n      <td>26365333</td>\n      <td>{format_code}</td>\n      <td>KATE BUSH</td>\n      <td>Running Up That Hill (A Deal..</td>\n      <td>Seattle</td>\n      <td>2022-06-01</td>\n      <td>414115</td>\n      <td>...</td>\n      <td>62.000000</td>\n      <td>NaN</td>\n      <td>1.0</td>\n      <td>62.0</td>\n      <td>62.0</td>\n      <td>62.000000</td>\n      <td>1.0</td>\n      <td>62.0</td>\n      <td>None</td>\n      <td>None</td>\n    </tr>\n    <tr>\n      <th>2074</th>\n      <td>1086587</td>\n      <td>3321797</td>\n      <td>2022-09-04</td>\n      <td>26365333</td>\n      <td>{format_code}</td>\n      <td>KATE BUSH</td>\n      <td>Running Up That Hill (A Deal..</td>\n      <td>Seattle</td>\n      <td>2022-06-01</td>\n      <td>414115</td>\n      <td>...</td>\n      <td>67.000000</td>\n      <td>7.071068</td>\n      <td>2.0</td>\n      <td>72.0</td>\n      <td>62.0</td>\n      <td>65.333333</td>\n      <td>3.0</td>\n      <td>72.0</td>\n      <td>None</td>\n      <td>None</td>\n    </tr>\n    <tr>\n      <th>2075</th>\n      <td>1086587</td>\n      <td>3321797</td>\n      <td>2022-09-18</td>\n      <td>26365333</td>\n      <td>{format_code}</td>\n      <td>KATE BUSH</td>\n      <td>Running Up That Hill (A Deal..</td>\n      <td>Seattle</td>\n      <td>2022-06-01</td>\n      <td>414115</td>\n      <td>...</td>\n      <td>69.000000</td>\n      <td>6.082763</td>\n      <td>3.0</td>\n      <td>73.0</td>\n      <td>62.0</td>\n      <td>67.166667</td>\n      <td>6.0</td>\n      <td>73.0</td>\n      <td>None</td>\n      <td>None</td>\n    </tr>\n    <tr>\n      <th>2077</th>\n      <td>1086587</td>\n      <td>3321797</td>\n      <td>2022-10-02</td>\n      <td>26365333</td>\n      <td>{format_code}</td>\n      <td>KATE BUSH</td>\n      <td>Running Up That Hill (A Deal..</td>\n      <td>Seattle</td>\n      <td>2022-06-01</td>\n      <td>414115</td>\n      <td>...</td>\n      <td>67.750000</td>\n      <td>5.560276</td>\n      <td>4.0</td>\n      <td>73.0</td>\n      <td>62.0</td>\n      <td>67.400000</td>\n      <td>10.0</td>\n      <td>64.0</td>\n      <td>None</td>\n      <td>None</td>\n    </tr>\n    <tr>\n      <th>2078</th>\n      <td>1086587</td>\n      <td>3321797</td>\n      <td>2022-10-16</td>\n      <td>26365333</td>\n      <td>{format_code}</td>\n      <td>KATE BUSH</td>\n      <td>Running Up That Hill (A Deal..</td>\n      <td>Seattle</td>\n      <td>2022-06-01</td>\n      <td>414115</td>\n      <td>...</td>\n      <td>67.800000</td>\n      <td>4.816638</td>\n      <td>5.0</td>\n      <td>73.0</td>\n      <td>62.0</td>\n      <td>67.533333</td>\n      <td>15.0</td>\n      <td>68.0</td>\n      <td>None</td>\n      <td>None</td>\n    </tr>\n    <tr>\n      <th>2081</th>\n      <td>1086587</td>\n      <td>3321797</td>\n      <td>2022-10-30</td>\n      <td>26365333</td>\n      <td>{format_code}</td>\n      <td>KATE BUSH</td>\n      <td>Running Up That Hill (A Deal..</td>\n      <td>Seattle</td>\n      <td>2022-06-01</td>\n      <td>414115</td>\n      <td>...</td>\n      <td>69.333333</td>\n      <td>5.715476</td>\n      <td>6.0</td>\n      <td>77.0</td>\n      <td>62.0</td>\n      <td>68.047619</td>\n      <td>21.0</td>\n      <td>77.0</td>\n      <td>None</td>\n      <td>None</td>\n    </tr>\n    <tr>\n      <th>2084</th>\n      <td>1086587</td>\n      <td>3321797</td>\n      <td>2022-11-27</td>\n      <td>26365333</td>\n      <td>{format_code}</td>\n      <td>KATE BUSH</td>\n      <td>Running Up That Hill (A Deal..</td>\n      <td>Seattle</td>\n      <td>2022-06-01</td>\n      <td>414115</td>\n      <td>...</td>\n      <td>71.285714</td>\n      <td>7.341986</td>\n      <td>7.0</td>\n      <td>83.0</td>\n      <td>62.0</td>\n      <td>68.857143</td>\n      <td>28.0</td>\n      <td>83.0</td>\n      <td>None</td>\n      <td>None</td>\n    </tr>\n    <tr>\n      <th>2062</th>\n      <td>1086587</td>\n      <td>3321797</td>\n      <td>2022-07-31</td>\n      <td>26365333</td>\n      <td>{format_code}</td>\n      <td>KATE BUSH</td>\n      <td>Running Up That Hill (A Deal..</td>\n      <td>Seattle</td>\n      <td>2022-06-01</td>\n      <td>413250</td>\n      <td>...</td>\n      <td>NaN</td>\n      <td>NaN</td>\n      <td>NaN</td>\n      <td>NaN</td>\n      <td>NaN</td>\n      <td>NaN</td>\n      <td>NaN</td>\n      <td>NaN</td>\n      <td>None</td>\n      <td>None</td>\n    </tr>\n    <tr>\n      <th>2064</th>\n      <td>1086587</td>\n      <td>3321797</td>\n      <td>2022-08-21</td>\n      <td>26365333</td>\n      <td>{format_code}</td>\n      <td>KATE BUSH</td>\n      <td>Running Up That Hill (A Deal..</td>\n      <td>Seattle</td>\n      <td>2022-06-01</td>\n      <td>413250</td>\n      <td>...</td>\n      <td>80.000000</td>\n      <td>NaN</td>\n      <td>1.0</td>\n      <td>80.0</td>\n      <td>80.0</td>\n      <td>80.000000</td>\n      <td>1.0</td>\n      <td>80.0</td>\n      <td>None</td>\n      <td>None</td>\n    </tr>\n    <tr>\n      <th>2065</th>\n      <td>1086587</td>\n      <td>3321797</td>\n      <td>2022-09-04</td>\n      <td>26365333</td>\n      <td>{format_code}</td>\n      <td>KATE BUSH</td>\n      <td>Running Up That Hill (A Deal..</td>\n      <td>Seattle</td>\n      <td>2022-06-01</td>\n      <td>413250</td>\n      <td>...</td>\n      <td>77.500000</td>\n      <td>3.535534</td>\n      <td>2.0</td>\n      <td>80.0</td>\n      <td>75.0</td>\n      <td>78.333333</td>\n      <td>3.0</td>\n      <td>75.0</td>\n      <td>None</td>\n      <td>None</td>\n    </tr>\n    <tr>\n      <th>2067</th>\n      <td>1086587</td>\n      <td>3321797</td>\n      <td>2022-09-18</td>\n      <td>26365333</td>\n      <td>{format_code}</td>\n      <td>KATE BUSH</td>\n      <td>Running Up That Hill (A Deal..</td>\n      <td>Seattle</td>\n      <td>2022-06-01</td>\n      <td>413250</td>\n      <td>...</td>\n      <td>73.333333</td>\n      <td>7.637626</td>\n      <td>3.0</td>\n      <td>80.0</td>\n      <td>65.0</td>\n      <td>75.833333</td>\n      <td>6.0</td>\n      <td>65.0</td>\n      <td>None</td>\n      <td>None</td>\n    </tr>\n    <tr>\n      <th>2068</th>\n      <td>1086587</td>\n      <td>3321797</td>\n      <td>2022-10-30</td>\n      <td>26365333</td>\n      <td>{format_code}</td>\n      <td>KATE BUSH</td>\n      <td>Running Up That Hill (A Deal..</td>\n      <td>Seattle</td>\n      <td>2022-06-01</td>\n      <td>413250</td>\n      <td>...</td>\n      <td>67.500000</td>\n      <td>13.228757</td>\n      <td>4.0</td>\n      <td>80.0</td>\n      <td>50.0</td>\n      <td>72.500000</td>\n      <td>10.0</td>\n      <td>50.0</td>\n      <td>None</td>\n      <td>None</td>\n    </tr>\n  </tbody>\n</table>\n<p>37 rows × 110 columns</p>\n</div>"
     },
     "execution_count": 24,
     "metadata": {},
     "output_type": "execute_result"
    }
   ],
   "source": [
    "df_train[(df_train['station_id'] == 3321797) & (df_train['mediabase_id'] == 1086587) & (pd.isna(df_train['segment']))]"
   ],
   "metadata": {
    "collapsed": false
   }
  },
  {
   "cell_type": "code",
   "execution_count": 72,
   "outputs": [],
   "source": [
    "# Investigate taa_quintile\n",
    "# df_temp = df_train[pd.isna(df_train['taa_quintile'])][['station_id', 'mediabase_id', 'week_dt']]\n",
    "# len(df_temp)\n",
    "# df_temp.groupby(['week_dt']).agg({'mediabase_id':len}).sort_values(by=['mediabase_id'], ascending=False)\n",
    "# df_temp.groupby(['mediabase_id']).agg({'week_dt':len}).sort_values(by=['week_dt'], ascending=False)\n",
    "# df_temp.groupby(['station_id', 'mediabase_id']).agg({'week_dt':len}).sort_values(by=['week_dt'], ascending=False)\n",
    "# idx = (df_train['station_id'] == 3323400) & (df_train['mediabase_id'] == 2591543)\n",
    "# df_train.loc[idx].groupby(['week_dt'])['mediabase_id'].count()\n",
    "# idx = (df_train['station_id'] == 3323400) & (df_train['mediabase_id'] == 2591543) & (pd.isna(df_train['taa_quintile'])) & (df_train['breakout_name'] == 'Total')\n",
    "# df_train.loc[idx]"
   ],
   "metadata": {
    "collapsed": false
   }
  },
  {
   "cell_type": "code",
   "execution_count": 149,
   "outputs": [
    {
     "data": {
      "text/plain": "[datetime.date(2020, 11, 22), datetime.date(2021, 1, 24)]"
     },
     "execution_count": 149,
     "metadata": {},
     "output_type": "execute_result"
    }
   ],
   "source": [
    "# Investigate gcr and gcr_adj\n",
    "# df_temp = df_train[(pd.isna(df_train['gcr_adj'])) & (~pd.isna(df_train['gcr']))][['station_id', 'mediabase_id', 'week_dt']]\n",
    "# len(df_temp)\n",
    "# print(df_temp.groupby(['week_dt']).agg({'mediabase_id':len}).sort_values(by=['mediabase_id'], ascending=False))\n",
    "# print(df_temp.groupby(['mediabase_id']).agg({'week_dt':len}).sort_values(by=['week_dt'], ascending=False))\n",
    "# print(df_temp.groupby(['station_id', 'mediabase_id']).agg({'week_dt':len}).sort_values(by=['week_dt'], ascending=False))\n",
    "# idx = (df_train['station_id'] == 3322002) & (df_train['mediabase_id'] == 2294907)\n",
    "# df_train.loc[idx].groupby(['week_dt'])['mediabase_id'].count()\n",
    "# idx = (df_train['station_id'] == 3323404) & (df_train['mediabase_id'] == 2629560) & (pd.isna(df_train['gcr_adj'])) & (df_train['breakout_name'] == 'Total')\n",
    "# df_train.loc[idx]\n",
    "# [np.min(df_temp['week_dt']), np.max(df_temp['week_dt'])]"
   ],
   "metadata": {
    "collapsed": false
   }
  },
  {
   "cell_type": "markdown",
   "source": [
    "###### Investigate Numeric Columns"
   ],
   "metadata": {
    "collapsed": false
   }
  },
  {
   "cell_type": "code",
   "execution_count": 16,
   "outputs": [],
   "source": [
    "# Investigate Numeric Columns\n",
    "num_cols_spins = [col for col in num_cols if 'spins' in col]\n",
    "num_cols_pop = [col for col in num_cols if 'pop' in col]\n",
    "num_cols_other = list(set(num_cols) - set(num_cols_spins) - set(num_cols_pop))"
   ],
   "metadata": {
    "collapsed": false
   }
  },
  {
   "cell_type": "code",
   "execution_count": 17,
   "outputs": [
    {
     "data": {
      "text/plain": "[75, 52, 19, 4]"
     },
     "execution_count": 17,
     "metadata": {},
     "output_type": "execute_result"
    }
   ],
   "source": [
    "[len(num_cols), len(num_cols_spins), len(num_cols_pop), len(num_cols_other)]"
   ],
   "metadata": {
    "collapsed": false
   }
  },
  {
   "cell_type": "code",
   "execution_count": 18,
   "outputs": [
    {
     "data": {
      "text/plain": "['artist_count', 'feat_artist', 'song_age_weeks', 'feat_artist_song']"
     },
     "execution_count": 18,
     "metadata": {},
     "output_type": "execute_result"
    }
   ],
   "source": [
    "num_cols_other"
   ],
   "metadata": {
    "collapsed": false
   }
  },
  {
   "cell_type": "code",
   "execution_count": 19,
   "outputs": [
    {
     "data": {
      "text/plain": "['min_pop_prior',\n 'mean_pop_prior_unv',\n 'min_pop_artist_prior_unv',\n 'count_pop_artist_prior_unv',\n 'max_pop_artist_prior_unv',\n 'mean_pop_artist_prior_unv',\n 'mr_pop_prior_unv',\n 'max_pop_prior',\n 'mr_pop_prior',\n 'count_pop_artist_prior',\n 'max_pop_artist_prior',\n 'min_pop_artist_prior',\n 'mr_pop_artist_prior_unv',\n 'mean_pop_artist_prior',\n 'med_pop_prior',\n 'min_pop_prior_unv',\n 'count_pop_prior_unv',\n 'mean_pop_prior',\n 'max_pop_prior_unv']"
     },
     "execution_count": 19,
     "metadata": {},
     "output_type": "execute_result"
    }
   ],
   "source": [
    "num_cols_pop"
   ],
   "metadata": {
    "collapsed": false
   }
  },
  {
   "cell_type": "code",
   "execution_count": 20,
   "outputs": [
    {
     "data": {
      "text/plain": "(377628, 110)"
     },
     "execution_count": 20,
     "metadata": {},
     "output_type": "execute_result"
    }
   ],
   "source": [
    "df_train.shape"
   ],
   "metadata": {
    "collapsed": false
   }
  },
  {
   "cell_type": "code",
   "execution_count": 68,
   "outputs": [
    {
     "name": "stdout",
     "output_type": "stream",
     "text": [
      "614649\n"
     ]
    }
   ],
   "source": [
    "print(581054 + 33595)"
   ],
   "metadata": {
    "collapsed": false
   }
  },
  {
   "cell_type": "code",
   "execution_count": 21,
   "outputs": [],
   "source": [
    "# Backfill pop based data\n",
    "df_train[num_cols_pop] = df_train.groupby(['station_id', 'mediabase_id', 'breakout_id'])[num_cols_pop].bfill()"
   ],
   "metadata": {
    "collapsed": false
   }
  },
  {
   "cell_type": "code",
   "execution_count": 22,
   "outputs": [],
   "source": [
    "# Fill missing perc spin diffs with 1.0\n",
    "num_cols_spins_perc = [i for i in num_cols_spins if (('perc_diff_' in i) or ('per_diff' in i))]\n",
    "df_train[num_cols_spins_perc] = df_train[num_cols_spins_perc].transform(lambda x: x.fillna(1.0))"
   ],
   "metadata": {
    "collapsed": false
   }
  },
  {
   "cell_type": "code",
   "execution_count": 23,
   "outputs": [],
   "source": [
    "# Backfill non perc diff spins diff\n",
    "num_cols_spins_nonperc = list(set(num_cols_spins) - set(num_cols_spins_perc))\n",
    "df_train[num_cols_spins_nonperc] = df_train.groupby(['station_id', 'mediabase_id', 'breakout_id'])[num_cols_spins_nonperc].bfill()"
   ],
   "metadata": {
    "collapsed": false
   }
  },
  {
   "cell_type": "code",
   "execution_count": 43,
   "outputs": [
    {
     "data": {
      "text/plain": "['avg_market_spins_prior',\n 'avg_station_artist_spins_prior',\n 'mr_market_spins_spins',\n 'mr_song_univ_spins_prior',\n 'market_artist_spins',\n 'song_univ_spins',\n 'avg_artist_univ_spins_prior',\n 'total_market_artist_spins_prior',\n 'total_station_artist_spins_prior',\n 'song_market_weeks_since_first_spins',\n 'diff_spins_song_market_prior',\n 'song_weeks_since_last_spins',\n 'station_spins',\n 'mr_artist_univ_spins',\n 'diff_market_spins_spins_prior',\n 'avg_song_univ_spins_prior',\n 'artist_weeks_since_first_spins',\n 'total_market_spins_prior',\n 'diff_artist_univ_spins_prior',\n 'diff_spins_song_station_prior',\n 'mr_spins_artist_station_prior',\n 'format_spins',\n 'artist_station_weeks_since_first_spins',\n 'artist_univ_spins',\n 'song_weeks_since_first_spins',\n 'diff_market_artist_spins_prior',\n 'diff_spins_artist_station_prior',\n 'spins_non_on',\n 'total_spins_song_station_prior',\n 'diff_song_univ_spins_prior',\n 'total_song_univ_spins_prior',\n 'avg_spins_song_station_prior',\n 'spins_total',\n 'avg_market_artist_spins_prior',\n 'song_station_weeks_since_last_spins',\n 'spins_am_pm_dr',\n 'total_spins_non_on_song_station_prior',\n 'format_artist_spins',\n 'mr_spins_song_market_prior',\n 'market_spins',\n 'song_station_weeks_since_first_spins',\n 'mr_spins_song_station_prior',\n 'station_artist_spins',\n 'total_artist_univ_spins_prior',\n 'mr_market_artist_spins_prior']"
     },
     "execution_count": 43,
     "metadata": {},
     "output_type": "execute_result"
    }
   ],
   "source": [
    "num_cols_spins_nonperc"
   ],
   "metadata": {
    "collapsed": false
   }
  },
  {
   "cell_type": "code",
   "execution_count": 24,
   "outputs": [],
   "source": [
    "# check missingness by instance (station-song combination) for categorical variables\n",
    "cols_avl_num = df_train.groupby(['station_id', 'mediabase_id', 'breakout_name'])[num_cols].agg(lambda x: 1 - sum(pd.isnull(x))/(1.0*len(x))).reset_index()"
   ],
   "metadata": {
    "collapsed": false
   }
  },
  {
   "cell_type": "code",
   "execution_count": 25,
   "outputs": [],
   "source": [
    "cols_avl_num = cols_avl_num.join(pd.DataFrame(df_train.groupby(['station_id', 'mediabase_id', 'breakout_name']).count()['week_dt']), on=['station_id', 'mediabase_id', 'breakout_name'], rsuffix='_r')"
   ],
   "metadata": {
    "collapsed": false
   }
  },
  {
   "cell_type": "code",
   "execution_count": 26,
   "outputs": [
    {
     "data": {
      "text/plain": "                                index    0\n0                       min_pop_prior  1.0\n53                      med_pop_prior  1.0\n52       song_weeks_since_first_spins  1.0\n51                      station_spins  1.0\n50  per_diff_market_spins_spins_prior  1.0\n..                                ...  ...\n22   total_station_artist_spins_prior  1.0\n21                      max_pop_prior  1.0\n20                  artist_univ_spins  1.0\n18                       format_spins  1.0\n74                        spins_total  1.0\n\n[75 rows x 2 columns]",
      "text/html": "<div>\n<style scoped>\n    .dataframe tbody tr th:only-of-type {\n        vertical-align: middle;\n    }\n\n    .dataframe tbody tr th {\n        vertical-align: top;\n    }\n\n    .dataframe thead th {\n        text-align: right;\n    }\n</style>\n<table border=\"1\" class=\"dataframe\">\n  <thead>\n    <tr style=\"text-align: right;\">\n      <th></th>\n      <th>index</th>\n      <th>0</th>\n    </tr>\n  </thead>\n  <tbody>\n    <tr>\n      <th>0</th>\n      <td>min_pop_prior</td>\n      <td>1.0</td>\n    </tr>\n    <tr>\n      <th>53</th>\n      <td>med_pop_prior</td>\n      <td>1.0</td>\n    </tr>\n    <tr>\n      <th>52</th>\n      <td>song_weeks_since_first_spins</td>\n      <td>1.0</td>\n    </tr>\n    <tr>\n      <th>51</th>\n      <td>station_spins</td>\n      <td>1.0</td>\n    </tr>\n    <tr>\n      <th>50</th>\n      <td>per_diff_market_spins_spins_prior</td>\n      <td>1.0</td>\n    </tr>\n    <tr>\n      <th>...</th>\n      <td>...</td>\n      <td>...</td>\n    </tr>\n    <tr>\n      <th>22</th>\n      <td>total_station_artist_spins_prior</td>\n      <td>1.0</td>\n    </tr>\n    <tr>\n      <th>21</th>\n      <td>max_pop_prior</td>\n      <td>1.0</td>\n    </tr>\n    <tr>\n      <th>20</th>\n      <td>artist_univ_spins</td>\n      <td>1.0</td>\n    </tr>\n    <tr>\n      <th>18</th>\n      <td>format_spins</td>\n      <td>1.0</td>\n    </tr>\n    <tr>\n      <th>74</th>\n      <td>spins_total</td>\n      <td>1.0</td>\n    </tr>\n  </tbody>\n</table>\n<p>75 rows × 2 columns</p>\n</div>"
     },
     "execution_count": 26,
     "metadata": {},
     "output_type": "execute_result"
    }
   ],
   "source": [
    "cols_avl_num[num_cols].mean().reset_index().sort_values(by=[0])"
   ],
   "metadata": {
    "collapsed": false
   }
  },
  {
   "cell_type": "code",
   "execution_count": 48,
   "outputs": [
    {
     "data": {
      "text/plain": "(377628, 110)"
     },
     "execution_count": 48,
     "metadata": {},
     "output_type": "execute_result"
    }
   ],
   "source": [
    "idx = df_train[cat_cols + num_cols].dropna(axis=1).index\n",
    "df_train.loc[idx].shape"
   ],
   "metadata": {
    "collapsed": false
   }
  },
  {
   "cell_type": "code",
   "execution_count": 49,
   "outputs": [
    {
     "data": {
      "text/plain": "(377628, 110)"
     },
     "execution_count": 49,
     "metadata": {},
     "output_type": "execute_result"
    }
   ],
   "source": [
    "df_train.shape"
   ],
   "metadata": {
    "collapsed": false
   }
  },
  {
   "cell_type": "code",
   "execution_count": 93,
   "outputs": [
    {
     "data": {
      "text/plain": "       station_id  mediabase_id breakout_name  week_dt\n2788      3321799       1388281         Total        2\n2812      3321799       1640575         Total        2\n7090      3322002       1243640         Total        2\n7100      3322002       1249237         Total        2\n7134      3322002       1261285         Total        3\n...           ...           ...           ...      ...\n56105     3323602       2397182         Total        2\n56124     3323602       2422489         Total        3\n56130     3323602       2422949         Total        2\n56179     3323602       2445876         Total        3\n56329     3323602       2542279         Total        3\n\n[282 rows x 4 columns]",
      "text/html": "<div>\n<style scoped>\n    .dataframe tbody tr th:only-of-type {\n        vertical-align: middle;\n    }\n\n    .dataframe tbody tr th {\n        vertical-align: top;\n    }\n\n    .dataframe thead th {\n        text-align: right;\n    }\n</style>\n<table border=\"1\" class=\"dataframe\">\n  <thead>\n    <tr style=\"text-align: right;\">\n      <th></th>\n      <th>station_id</th>\n      <th>mediabase_id</th>\n      <th>breakout_name</th>\n      <th>week_dt</th>\n    </tr>\n  </thead>\n  <tbody>\n    <tr>\n      <th>2788</th>\n      <td>3321799</td>\n      <td>1388281</td>\n      <td>Total</td>\n      <td>2</td>\n    </tr>\n    <tr>\n      <th>2812</th>\n      <td>3321799</td>\n      <td>1640575</td>\n      <td>Total</td>\n      <td>2</td>\n    </tr>\n    <tr>\n      <th>7090</th>\n      <td>3322002</td>\n      <td>1243640</td>\n      <td>Total</td>\n      <td>2</td>\n    </tr>\n    <tr>\n      <th>7100</th>\n      <td>3322002</td>\n      <td>1249237</td>\n      <td>Total</td>\n      <td>2</td>\n    </tr>\n    <tr>\n      <th>7134</th>\n      <td>3322002</td>\n      <td>1261285</td>\n      <td>Total</td>\n      <td>3</td>\n    </tr>\n    <tr>\n      <th>...</th>\n      <td>...</td>\n      <td>...</td>\n      <td>...</td>\n      <td>...</td>\n    </tr>\n    <tr>\n      <th>56105</th>\n      <td>3323602</td>\n      <td>2397182</td>\n      <td>Total</td>\n      <td>2</td>\n    </tr>\n    <tr>\n      <th>56124</th>\n      <td>3323602</td>\n      <td>2422489</td>\n      <td>Total</td>\n      <td>3</td>\n    </tr>\n    <tr>\n      <th>56130</th>\n      <td>3323602</td>\n      <td>2422949</td>\n      <td>Total</td>\n      <td>2</td>\n    </tr>\n    <tr>\n      <th>56179</th>\n      <td>3323602</td>\n      <td>2445876</td>\n      <td>Total</td>\n      <td>3</td>\n    </tr>\n    <tr>\n      <th>56329</th>\n      <td>3323602</td>\n      <td>2542279</td>\n      <td>Total</td>\n      <td>3</td>\n    </tr>\n  </tbody>\n</table>\n<p>282 rows × 4 columns</p>\n</div>"
     },
     "execution_count": 93,
     "metadata": {},
     "output_type": "execute_result"
    }
   ],
   "source": [
    "cols_avl_num[(cols_avl_num['song_last_test_co_weeks'] < 1) & (cols_avl_num['breakout_name'] == 'Total')][['station_id', 'mediabase_id', 'breakout_name', 'week_dt']]"
   ],
   "metadata": {
    "collapsed": false
   }
  },
  {
   "cell_type": "code",
   "execution_count": 95,
   "outputs": [
    {
     "data": {
      "text/plain": "       station_id  mediabase_id breakout_name     week_dt  \\\n64814     3323602       2348056         Total  2020-11-22   \n64815     3323602       2348056         Total  2021-02-07   \n64816     3323602       2348056         Total  2021-09-26   \n64817     3323602       2348056         Total  2022-08-21   \n\n       song_last_test_any_weeks  song_last_test_co_weeks  \\\n64814                       0.0                      NaN   \n64815                       0.0                      0.0   \n64816                       0.0                      8.0   \n64817                       0.0                      0.0   \n\n       song_last_test_omt_weeks  \n64814                       0.0  \n64815                       1.0  \n64816                       0.0  \n64817                       1.0  ",
      "text/html": "<div>\n<style scoped>\n    .dataframe tbody tr th:only-of-type {\n        vertical-align: middle;\n    }\n\n    .dataframe tbody tr th {\n        vertical-align: top;\n    }\n\n    .dataframe thead th {\n        text-align: right;\n    }\n</style>\n<table border=\"1\" class=\"dataframe\">\n  <thead>\n    <tr style=\"text-align: right;\">\n      <th></th>\n      <th>station_id</th>\n      <th>mediabase_id</th>\n      <th>breakout_name</th>\n      <th>week_dt</th>\n      <th>song_last_test_any_weeks</th>\n      <th>song_last_test_co_weeks</th>\n      <th>song_last_test_omt_weeks</th>\n    </tr>\n  </thead>\n  <tbody>\n    <tr>\n      <th>64814</th>\n      <td>3323602</td>\n      <td>2348056</td>\n      <td>Total</td>\n      <td>2020-11-22</td>\n      <td>0.0</td>\n      <td>NaN</td>\n      <td>0.0</td>\n    </tr>\n    <tr>\n      <th>64815</th>\n      <td>3323602</td>\n      <td>2348056</td>\n      <td>Total</td>\n      <td>2021-02-07</td>\n      <td>0.0</td>\n      <td>0.0</td>\n      <td>1.0</td>\n    </tr>\n    <tr>\n      <th>64816</th>\n      <td>3323602</td>\n      <td>2348056</td>\n      <td>Total</td>\n      <td>2021-09-26</td>\n      <td>0.0</td>\n      <td>8.0</td>\n      <td>0.0</td>\n    </tr>\n    <tr>\n      <th>64817</th>\n      <td>3323602</td>\n      <td>2348056</td>\n      <td>Total</td>\n      <td>2022-08-21</td>\n      <td>0.0</td>\n      <td>0.0</td>\n      <td>1.0</td>\n    </tr>\n  </tbody>\n</table>\n</div>"
     },
     "execution_count": 95,
     "metadata": {},
     "output_type": "execute_result"
    }
   ],
   "source": [
    "df_train[(df_train['station_id'] == 3323602) & (df_train['mediabase_id'] == 2348056) & (df_train['breakout_name'] == 'Total')][['station_id', 'mediabase_id', 'breakout_name', 'week_dt', 'song_last_test_any_weeks','song_last_test_co_weeks', 'song_last_test_omt_weeks']]"
   ],
   "metadata": {
    "collapsed": false
   }
  },
  {
   "cell_type": "markdown",
   "source": [
    "### Prep Data and create train/test splits"
   ],
   "metadata": {
    "collapsed": false
   }
  },
  {
   "cell_type": "code",
   "execution_count": 60,
   "outputs": [
    {
     "data": {
      "text/plain": "['mediabase_id',\n 'station_id',\n 'week_dt',\n 'breakout_id',\n 'breakout_name',\n 'demo_category',\n 'pop_co',\n 'pop_omt',\n 'gcr']"
     },
     "execution_count": 60,
     "metadata": {},
     "output_type": "execute_result"
    }
   ],
   "source": [
    "id_cols"
   ],
   "metadata": {
    "collapsed": false
   }
  },
  {
   "cell_type": "code",
   "execution_count": 27,
   "outputs": [],
   "source": [
    "# Extract train data\n",
    "[np.min(df_train['week_dt']),pd.to_datetime(np.min(df_train['week_dt'])) + np.timedelta64(2,'Y'), np.max(df_train['week_dt'])]\n",
    "scoring_date = pd.to_datetime('2022-11-22')\n",
    "train_idx = df_train['week_dt'] < scoring_date.date()\n",
    "\n",
    "df_train_final = df_train.loc[train_idx][id_cols + feature_cols + target_col]\n",
    "X_train = pd.get_dummies(df_train_final[feature_cols], columns=cat_cols)\n",
    "y_train = df_train_final[target]"
   ],
   "metadata": {
    "collapsed": false
   }
  },
  {
   "cell_type": "code",
   "execution_count": 28,
   "outputs": [],
   "source": [
    "demo_cats = list(set(breakout_category.values()) - set(['Total']))"
   ],
   "metadata": {
    "collapsed": false
   }
  },
  {
   "cell_type": "code",
   "execution_count": 30,
   "outputs": [
    {
     "data": {
      "text/plain": "(369153, 125)"
     },
     "execution_count": 30,
     "metadata": {},
     "output_type": "execute_result"
    }
   ],
   "source": [
    "X_train.shape"
   ],
   "metadata": {
    "collapsed": false
   }
  },
  {
   "cell_type": "code",
   "execution_count": 32,
   "outputs": [],
   "source": [
    "# imports for model training\n",
    "from sklearn.ensemble import GradientBoostingRegressor\n",
    "from sklearn.model_selection import RandomizedSearchCV, GroupKFold\n",
    "from sklearn.metrics import make_scorer, mean_pinball_loss"
   ],
   "metadata": {
    "collapsed": false
   }
  },
  {
   "cell_type": "code",
   "execution_count": 34,
   "outputs": [],
   "source": [
    "low_alpha = 0.05\n",
    "high_alpha = 0.95\n",
    "\n",
    "param_grid = dict(\n",
    "    learning_rate=[.2, .1, .05],\n",
    "    n_estimators=[5, 10, 15],\n",
    "    max_depth=[2, 4, 6],\n",
    "    min_samples_leaf=[5, 10, 20],\n",
    "    min_samples_split=[5, 10, 20]\n",
    ")\n",
    "\n",
    "n_iter = 50\n",
    "n_splits = 5"
   ],
   "metadata": {
    "collapsed": false
   }
  },
  {
   "cell_type": "code",
   "execution_count": 49,
   "outputs": [
    {
     "name": "stdout",
     "output_type": "stream",
     "text": [
      "Age: 85978\n",
      "Fitting 5 folds for each of 50 candidates, totalling 250 fits\n",
      "Age: Fitting for upper wobble threshold completed\n",
      "Fitting 5 folds for each of 50 candidates, totalling 250 fits\n",
      "Age: Fitting for lower wobble threshold completed\n",
      "Fitting 5 folds for each of 50 candidates, totalling 250 fits\n",
      "Age: Fitting for mean pop completed\n",
      "Total time elapsed for Age: 547.70\n",
      "Gender: 78211\n",
      "Fitting 5 folds for each of 50 candidates, totalling 250 fits\n",
      "Gender: Fitting for upper wobble threshold completed\n",
      "Fitting 5 folds for each of 50 candidates, totalling 250 fits\n",
      "Gender: Fitting for lower wobble threshold completed\n",
      "Fitting 5 folds for each of 50 candidates, totalling 250 fits\n",
      "Gender: Fitting for mean pop completed\n",
      "Total time elapsed for Gender: 494.66\n",
      "Race: 76222\n",
      "Fitting 5 folds for each of 50 candidates, totalling 250 fits\n",
      "Race: Fitting for upper wobble threshold completed\n",
      "Fitting 5 folds for each of 50 candidates, totalling 250 fits\n",
      "Race: Fitting for lower wobble threshold completed\n",
      "Fitting 5 folds for each of 50 candidates, totalling 250 fits\n",
      "Race: Fitting for mean pop completed\n",
      "Total time elapsed for Race: 485.76\n",
      "Core-Cume: 85772\n",
      "Fitting 5 folds for each of 50 candidates, totalling 250 fits\n",
      "Core-Cume: Fitting for upper wobble threshold completed\n",
      "Fitting 5 folds for each of 50 candidates, totalling 250 fits\n",
      "Core-Cume: Fitting for lower wobble threshold completed\n",
      "Fitting 5 folds for each of 50 candidates, totalling 250 fits\n",
      "Core-Cume: Fitting for mean pop completed\n",
      "Total time elapsed for Core-Cume: 544.37\n"
     ]
    }
   ],
   "source": [
    "import time\n",
    "demo_cols_all = [col for col in X_train.columns if 'segment_' in col]\n",
    "best_scores = {}\n",
    "best_estimators = {}\n",
    "\n",
    "for cat in demo_cats:\n",
    "    tic = time.perf_counter()\n",
    "    idx = (df_train_final['demo_category'] == cat)\n",
    "    print(cat + ': ' + str(sum(idx)))\n",
    "\n",
    "    # extract relevant segment indicator columns\n",
    "    demo_cols_cat = ['segment_' + i for i in list(pd.unique(df_train_final.loc[idx]['segment']))]\n",
    "    demo_cols_excl = list(set(demo_cols_all) - set(demo_cols_cat))\n",
    "    feature_cols_cat = list(set(X_train.columns) - set(demo_cols_excl))\n",
    "\n",
    "    # create features and target\n",
    "    X = X_train.loc[idx][feature_cols_cat]\n",
    "    y = y_train.loc[idx]\n",
    "\n",
    "    # quantile regressor\n",
    "\n",
    "    # gradient boosted quantile regressor\n",
    "    group_kfold = GroupKFold(n_splits=n_splits)\n",
    "\n",
    "    # train model for upper threshold given features\n",
    "    cv = group_kfold.split(X.loc[idx], y.loc[idx], df_train_final.loc[idx]['mediabase_id'])\n",
    "    neg_mean_pinball_loss_high = make_scorer(\n",
    "        mean_pinball_loss,\n",
    "        alpha=high_alpha,\n",
    "        greater_is_better=False,  # maximize the negative loss\n",
    "    )\n",
    "\n",
    "    model_high_thresh = GradientBoostingRegressor(loss=\"quantile\", alpha=high_alpha,\n",
    "                                                  random_state=0)\n",
    "\n",
    "    rs_high_thresh = RandomizedSearchCV(\n",
    "        model_high_thresh,\n",
    "        param_grid,\n",
    "        n_iter=n_iter,\n",
    "        scoring=neg_mean_pinball_loss_high,\n",
    "        cv=cv,\n",
    "        verbose=1,\n",
    "        random_state=0,\n",
    "        n_jobs=-1\n",
    "    )\n",
    "\n",
    "    rs_high_thresh.fit(X.loc[idx], np.ravel(y.loc[idx]))\n",
    "    print(cat + \": Fitting for upper wobble threshold completed\")\n",
    "\n",
    "    # train model for lower threshold given features\n",
    "    cv = group_kfold.split(X.loc[idx], y.loc[idx], df_train_final.loc[idx]['mediabase_id'])\n",
    "    neg_mean_pinball_loss_low = make_scorer(\n",
    "        mean_pinball_loss,\n",
    "        alpha=low_alpha,\n",
    "        greater_is_better=False,  # maximize the negative loss\n",
    "    )\n",
    "\n",
    "    model_low_thresh = GradientBoostingRegressor(loss=\"quantile\", alpha=low_alpha,\n",
    "                                                 random_state=0)\n",
    "\n",
    "    rs_low_thresh = RandomizedSearchCV(\n",
    "        model_low_thresh,\n",
    "        param_grid,\n",
    "        n_iter=n_iter,\n",
    "        scoring=neg_mean_pinball_loss_low,\n",
    "        cv=cv,\n",
    "        verbose=1,\n",
    "        random_state=0,\n",
    "        n_jobs=-1\n",
    "    )\n",
    "\n",
    "    rs_low_thresh.fit(X.loc[idx], np.ravel(y.loc[idx]))\n",
    "    print(cat + \": Fitting for lower wobble threshold completed\")\n",
    "\n",
    "    # train model for mean pop score given features\n",
    "    cv = group_kfold.split(X.loc[idx], y.loc[idx], df_train_final.loc[idx]['mediabase_id'])\n",
    "    model_mean = GradientBoostingRegressor(loss=\"squared_error\")\n",
    "\n",
    "    rs_mean = RandomizedSearchCV(\n",
    "        model_mean,\n",
    "        param_grid,\n",
    "        n_iter=n_iter,\n",
    "        scoring='neg_mean_absolute_error',\n",
    "        cv=cv,\n",
    "        verbose=1,\n",
    "        random_state=0,\n",
    "        n_jobs=-1\n",
    "    )\n",
    "\n",
    "    rs_mean.fit(X.loc[idx], np.ravel(y.loc[idx]))\n",
    "    print(cat + \": Fitting for mean pop completed\")\n",
    "\n",
    "    toc = time.perf_counter()\n",
    "    time_elapsed = toc-tic\n",
    "    print('Total time elapsed for ' + cat + ': ' + '%.2f'%time_elapsed)\n",
    "\n",
    "    best_scores[cat] = [rs_low_thresh.best_score_, rs_mean.best_score_, rs_high_thresh.best_score_]\n",
    "    best_estimators[cat] = [rs_low_thresh.best_estimator_, rs_mean.best_estimator_, rs_high_thresh.best_estimator_]"
   ],
   "metadata": {
    "collapsed": false
   }
  },
  {
   "cell_type": "code",
   "execution_count": 51,
   "outputs": [],
   "source": [
    "import pickle\n",
    "pickle.dump(best_scores, open('best_scores_all.pkl', \"wb\"))\n",
    "pickle.dump(best_estimators, open('best_estimators_all.pkl', \"wb\"))"
   ],
   "metadata": {
    "collapsed": false
   }
  },
  {
   "cell_type": "code",
   "execution_count": 55,
   "outputs": [],
   "source": [
    "test_read = pd.read_pickle('best_estimators_all.pkl')"
   ],
   "metadata": {
    "collapsed": false
   }
  },
  {
   "cell_type": "code",
   "execution_count": 56,
   "outputs": [
    {
     "data": {
      "text/plain": "{'Age': [GradientBoostingRegressor(alpha=0.05, learning_rate=0.2, loss='quantile',\n                            max_depth=6, min_samples_leaf=10,\n                            min_samples_split=20, n_estimators=15,\n                            random_state=0),\n  GradientBoostingRegressor(learning_rate=0.2, max_depth=6, min_samples_leaf=10,\n                            min_samples_split=20, n_estimators=15),\n  GradientBoostingRegressor(alpha=0.95, learning_rate=0.2, loss='quantile',\n                            max_depth=6, min_samples_leaf=10,\n                            min_samples_split=20, n_estimators=15,\n                            random_state=0)],\n 'Gender': [GradientBoostingRegressor(alpha=0.05, learning_rate=0.2, loss='quantile',\n                            max_depth=6, min_samples_leaf=10,\n                            min_samples_split=20, n_estimators=15,\n                            random_state=0),\n  GradientBoostingRegressor(learning_rate=0.2, max_depth=6, min_samples_leaf=10,\n                            min_samples_split=20, n_estimators=15),\n  GradientBoostingRegressor(alpha=0.95, learning_rate=0.2, loss='quantile',\n                            max_depth=6, min_samples_leaf=10,\n                            min_samples_split=20, n_estimators=15,\n                            random_state=0)],\n 'Race': [GradientBoostingRegressor(alpha=0.05, learning_rate=0.2, loss='quantile',\n                            max_depth=6, min_samples_leaf=10,\n                            min_samples_split=20, n_estimators=15,\n                            random_state=0),\n  GradientBoostingRegressor(learning_rate=0.2, max_depth=6, min_samples_leaf=10,\n                            min_samples_split=20, n_estimators=15),\n  GradientBoostingRegressor(alpha=0.95, learning_rate=0.2, loss='quantile',\n                            max_depth=6, min_samples_leaf=10,\n                            min_samples_split=20, n_estimators=15,\n                            random_state=0)],\n 'Core-Cume': [GradientBoostingRegressor(alpha=0.05, learning_rate=0.2, loss='quantile',\n                            max_depth=6, min_samples_leaf=10,\n                            min_samples_split=20, n_estimators=15,\n                            random_state=0),\n  GradientBoostingRegressor(learning_rate=0.2, max_depth=6, min_samples_leaf=10,\n                            min_samples_split=20, n_estimators=15),\n  GradientBoostingRegressor(alpha=0.95, learning_rate=0.2, loss='quantile',\n                            max_depth=6, min_samples_leaf=10,\n                            min_samples_split=20, n_estimators=15,\n                            random_state=0)]}"
     },
     "execution_count": 56,
     "metadata": {},
     "output_type": "execute_result"
    }
   ],
   "source": [
    "test_read"
   ],
   "metadata": {
    "collapsed": false
   }
  },
  {
   "cell_type": "markdown",
   "source": [
    "### Prep scoring data & score\n"
   ],
   "metadata": {
    "collapsed": false
   }
  },
  {
   "cell_type": "code",
   "execution_count": 74,
   "outputs": [],
   "source": [
    "scoring_date = pd.to_datetime('2022-12-25')\n",
    "test_idx = df_train['week_dt'] == scoring_date.date()\n",
    "\n",
    "df_test_final = df_train.loc[test_idx][id_cols + feature_cols + target_col]\n",
    "X_test = pd.get_dummies(df_test_final[feature_cols], columns=cat_cols)\n",
    "\n",
    "missing_cols = list(set(X_train.columns) - set(X_test.columns))\n",
    "\n",
    "y_test = df_test_final[target]"
   ],
   "metadata": {
    "collapsed": false
   }
  },
  {
   "cell_type": "code",
   "execution_count": 76,
   "outputs": [],
   "source": [
    "for i in missing_cols:\n",
    "    X_test[i] = 0"
   ],
   "metadata": {
    "collapsed": false
   }
  },
  {
   "cell_type": "code",
   "execution_count": 81,
   "outputs": [],
   "source": [
    "X_test = X_test[X_train.columns]"
   ],
   "metadata": {
    "collapsed": false
   }
  },
  {
   "cell_type": "code",
   "execution_count": 80,
   "outputs": [
    {
     "data": {
      "text/plain": "Index(['min_pop_prior', 'mean_pop_prior_unv', 'avg_song_univ_spins_prior',\n       'max_pop_artist_prior_unv', 'avg_market_spins_prior',\n       'artist_station_weeks_since_first_spins', 'diff_song_univ_spins_prior',\n       'mean_pop_artist_prior_unv', 'mr_pop_prior_unv', 'format_spins',\n       ...\n       'segment_AA', 'segment_Core', 'segment_Female_(18-24)',\n       'segment_Female_Other', 'segment_Hispanic', 'segment_Non-Core',\n       'segment_Old', 'segment_Total', 'segment_White', 'segment_Young'],\n      dtype='object', length=125)"
     },
     "execution_count": 80,
     "metadata": {},
     "output_type": "execute_result"
    }
   ],
   "source": [
    "X_train.columns"
   ],
   "metadata": {
    "collapsed": false
   }
  },
  {
   "cell_type": "code",
   "execution_count": 106,
   "outputs": [
    {
     "name": "stdout",
     "output_type": "stream",
     "text": [
      "Age: 542\n",
      "Gender: 482\n",
      "Race: 569\n",
      "Core-Cume: 542\n"
     ]
    }
   ],
   "source": [
    "df_out = pd.DataFrame(columns=['lower_wob_thresh', 'mean_pop_predicted', 'upper_wobble_thresh'])\n",
    "for cat in demo_cats:\n",
    "    tic = time.perf_counter()\n",
    "    idx = (df_test_final['demo_category'] == cat)\n",
    "    print(cat + ': ' + str(sum(idx)))\n",
    "\n",
    "    # extract relevant segment indicator columns\n",
    "    demo_cols_cat = ['segment_' + i for i in list(pd.unique(df_test_final.loc[idx]['segment']))]\n",
    "    demo_cols_excl = list(set(demo_cols_all) - set(demo_cols_cat))\n",
    "    feature_cols_cat = list(set(X_test.columns) - set(demo_cols_excl))\n",
    "\n",
    "    # create features and target\n",
    "    X = X_test.loc[idx][feature_cols_cat]\n",
    "    y = y_test.loc[idx]\n",
    "    #print(X)\n",
    "\n",
    "    # create empty dataframe\n",
    "    df_temp = pd.DataFrame()\n",
    "    # predict using estimator\n",
    "\n",
    "    df_temp['lower_wob_thresh'] = pd.DataFrame(best_estimators[cat][0].predict(X), index=X_test.loc[idx].index)\n",
    "    df_temp['mean_pop_predicted'] = pd.DataFrame(best_estimators[cat][1].predict(X), index=X_test.loc[idx].index)\n",
    "    df_temp['upper_wobble_thresh'] = pd.DataFrame(best_estimators[cat][2].predict(X), index=X_test.loc[idx].index)\n",
    "\n",
    "    df_out = pd.concat([df_out,df_temp], axis=0)"
   ],
   "metadata": {
    "collapsed": false
   }
  },
  {
   "cell_type": "code",
   "execution_count": 127,
   "outputs": [
    {
     "ename": "KeyError",
     "evalue": "\"['call_letters'] not in index\"",
     "output_type": "error",
     "traceback": [
      "\u001B[0;31m---------------------------------------------------------------------------\u001B[0m",
      "\u001B[0;31mKeyError\u001B[0m                                  Traceback (most recent call last)",
      "Cell \u001B[0;32mIn[127], line 1\u001B[0m\n\u001B[0;32m----> 1\u001B[0m df_out_final \u001B[38;5;241m=\u001B[39m \u001B[43mdf_test_final\u001B[49m\u001B[43m[\u001B[49m\u001B[43mid_cols\u001B[49m\u001B[43m \u001B[49m\u001B[38;5;241;43m+\u001B[39;49m\u001B[43m \u001B[49m\u001B[43m[\u001B[49m\u001B[38;5;124;43m'\u001B[39;49m\u001B[38;5;124;43mcall_letters\u001B[39;49m\u001B[38;5;124;43m'\u001B[39;49m\u001B[43m]\u001B[49m\u001B[43m]\u001B[49m\u001B[38;5;241m.\u001B[39mjoin(df_out, how\u001B[38;5;241m=\u001B[39m\u001B[38;5;124m'\u001B[39m\u001B[38;5;124mleft\u001B[39m\u001B[38;5;124m'\u001B[39m)\n",
      "File \u001B[0;32m~/PycharmProjects/adds-rr-demo-modeling/venv/lib/python3.8/site-packages/pandas/core/frame.py:3464\u001B[0m, in \u001B[0;36mDataFrame.__getitem__\u001B[0;34m(self, key)\u001B[0m\n\u001B[1;32m   3462\u001B[0m     \u001B[38;5;28;01mif\u001B[39;00m is_iterator(key):\n\u001B[1;32m   3463\u001B[0m         key \u001B[38;5;241m=\u001B[39m \u001B[38;5;28mlist\u001B[39m(key)\n\u001B[0;32m-> 3464\u001B[0m     indexer \u001B[38;5;241m=\u001B[39m \u001B[38;5;28;43mself\u001B[39;49m\u001B[38;5;241;43m.\u001B[39;49m\u001B[43mloc\u001B[49m\u001B[38;5;241;43m.\u001B[39;49m\u001B[43m_get_listlike_indexer\u001B[49m\u001B[43m(\u001B[49m\u001B[43mkey\u001B[49m\u001B[43m,\u001B[49m\u001B[43m \u001B[49m\u001B[43maxis\u001B[49m\u001B[38;5;241;43m=\u001B[39;49m\u001B[38;5;241;43m1\u001B[39;49m\u001B[43m)\u001B[49m[\u001B[38;5;241m1\u001B[39m]\n\u001B[1;32m   3466\u001B[0m \u001B[38;5;66;03m# take() does not accept boolean indexers\u001B[39;00m\n\u001B[1;32m   3467\u001B[0m \u001B[38;5;28;01mif\u001B[39;00m \u001B[38;5;28mgetattr\u001B[39m(indexer, \u001B[38;5;124m\"\u001B[39m\u001B[38;5;124mdtype\u001B[39m\u001B[38;5;124m\"\u001B[39m, \u001B[38;5;28;01mNone\u001B[39;00m) \u001B[38;5;241m==\u001B[39m \u001B[38;5;28mbool\u001B[39m:\n",
      "File \u001B[0;32m~/PycharmProjects/adds-rr-demo-modeling/venv/lib/python3.8/site-packages/pandas/core/indexing.py:1314\u001B[0m, in \u001B[0;36m_LocIndexer._get_listlike_indexer\u001B[0;34m(self, key, axis)\u001B[0m\n\u001B[1;32m   1311\u001B[0m \u001B[38;5;28;01melse\u001B[39;00m:\n\u001B[1;32m   1312\u001B[0m     keyarr, indexer, new_indexer \u001B[38;5;241m=\u001B[39m ax\u001B[38;5;241m.\u001B[39m_reindex_non_unique(keyarr)\n\u001B[0;32m-> 1314\u001B[0m \u001B[38;5;28;43mself\u001B[39;49m\u001B[38;5;241;43m.\u001B[39;49m\u001B[43m_validate_read_indexer\u001B[49m\u001B[43m(\u001B[49m\u001B[43mkeyarr\u001B[49m\u001B[43m,\u001B[49m\u001B[43m \u001B[49m\u001B[43mindexer\u001B[49m\u001B[43m,\u001B[49m\u001B[43m \u001B[49m\u001B[43maxis\u001B[49m\u001B[43m)\u001B[49m\n\u001B[1;32m   1316\u001B[0m \u001B[38;5;28;01mif\u001B[39;00m needs_i8_conversion(ax\u001B[38;5;241m.\u001B[39mdtype) \u001B[38;5;129;01mor\u001B[39;00m \u001B[38;5;28misinstance\u001B[39m(\n\u001B[1;32m   1317\u001B[0m     ax, (IntervalIndex, CategoricalIndex)\n\u001B[1;32m   1318\u001B[0m ):\n\u001B[1;32m   1319\u001B[0m     \u001B[38;5;66;03m# For CategoricalIndex take instead of reindex to preserve dtype.\u001B[39;00m\n\u001B[1;32m   1320\u001B[0m     \u001B[38;5;66;03m#  For IntervalIndex this is to map integers to the Intervals they match to.\u001B[39;00m\n\u001B[1;32m   1321\u001B[0m     keyarr \u001B[38;5;241m=\u001B[39m ax\u001B[38;5;241m.\u001B[39mtake(indexer)\n",
      "File \u001B[0;32m~/PycharmProjects/adds-rr-demo-modeling/venv/lib/python3.8/site-packages/pandas/core/indexing.py:1377\u001B[0m, in \u001B[0;36m_LocIndexer._validate_read_indexer\u001B[0;34m(self, key, indexer, axis)\u001B[0m\n\u001B[1;32m   1374\u001B[0m     \u001B[38;5;28;01mraise\u001B[39;00m \u001B[38;5;167;01mKeyError\u001B[39;00m(\u001B[38;5;124mf\u001B[39m\u001B[38;5;124m\"\u001B[39m\u001B[38;5;124mNone of [\u001B[39m\u001B[38;5;132;01m{\u001B[39;00mkey\u001B[38;5;132;01m}\u001B[39;00m\u001B[38;5;124m] are in the [\u001B[39m\u001B[38;5;132;01m{\u001B[39;00maxis_name\u001B[38;5;132;01m}\u001B[39;00m\u001B[38;5;124m]\u001B[39m\u001B[38;5;124m\"\u001B[39m)\n\u001B[1;32m   1376\u001B[0m not_found \u001B[38;5;241m=\u001B[39m \u001B[38;5;28mlist\u001B[39m(ensure_index(key)[missing_mask\u001B[38;5;241m.\u001B[39mnonzero()[\u001B[38;5;241m0\u001B[39m]]\u001B[38;5;241m.\u001B[39munique())\n\u001B[0;32m-> 1377\u001B[0m \u001B[38;5;28;01mraise\u001B[39;00m \u001B[38;5;167;01mKeyError\u001B[39;00m(\u001B[38;5;124mf\u001B[39m\u001B[38;5;124m\"\u001B[39m\u001B[38;5;132;01m{\u001B[39;00mnot_found\u001B[38;5;132;01m}\u001B[39;00m\u001B[38;5;124m not in index\u001B[39m\u001B[38;5;124m\"\u001B[39m)\n",
      "\u001B[0;31mKeyError\u001B[0m: \"['call_letters'] not in index\""
     ]
    }
   ],
   "source": [
    "df_out_final = df_test_final[id_cols].join(df_out, how='left')"
   ],
   "metadata": {
    "collapsed": false
   }
  },
  {
   "cell_type": "code",
   "execution_count": 109,
   "outputs": [],
   "source": [
    "df_out_final['segment'] = df_out_final['breakout_name'].apply(func=(lambda x: breakout_map[x] if (x in breakout_map.keys()) else None))"
   ],
   "metadata": {
    "collapsed": false
   }
  },
  {
   "cell_type": "code",
   "execution_count": 110,
   "outputs": [
    {
     "data": {
      "text/plain": "        mediabase_id  station_id     week_dt  breakout_id breakout_name  \\\n342          1086587     3322000  2022-12-25       317542        *Core*   \n378          1086587     3322000  2022-12-25       401515         *Old*   \n369          1086587     3322000  2022-12-25       401514       *Young*   \n405          1086587     3322000  2022-12-25       412759     F (18-24)   \n315          1086587     3322000  2022-12-25           -2     F (Other)   \n...              ...         ...         ...          ...           ...   \n612216       2833906     3323602  2022-12-25       403078            AA   \n612204       2833906     3323602  2022-12-25       400756      Hispanic   \n612195       2833906     3323602  2022-12-25           -1      Non-Core   \n612198       2833906     3323602  2022-12-25            1         Total   \n612207       2833906     3323602  2022-12-25       400803         White   \n\n       demo_category  pop_co  pop_omt gcr  lower_wob_thresh  \\\n342        Core-Cume    92.0      NaN   R         64.675067   \n378              Age    80.0      NaN   R         66.001720   \n369              Age    85.0      NaN   R         66.282747   \n405           Gender    85.0      NaN   R         65.612498   \n315           Gender    80.0      NaN   R         67.976539   \n...              ...     ...      ...  ..               ...   \n612216          Race    78.0      NaN   C         50.440120   \n612204          Race    62.0      NaN   C         58.090805   \n612195     Core-Cume    65.0      NaN   C         52.295566   \n612198         Total    60.0      NaN   C               NaN   \n612207          Race    55.0      NaN   C         57.025524   \n\n        mean_pop_predicted  upper_wobble_thresh         segment  \n342              83.263664            97.321842            Core  \n378              82.686322            98.315638             Old  \n369              83.917700           102.093248           Young  \n405              84.783759           103.995919  Female_(18-24)  \n315              82.272345            97.169073    Female_Other  \n...                    ...                  ...             ...  \n612216           64.960117            89.347330              AA  \n612204           76.880403            96.752183        Hispanic  \n612195           66.779507            85.366178        Non-Core  \n612198                 NaN                  NaN           Total  \n612207           69.047958            85.435593           White  \n\n[2406 rows x 13 columns]",
      "text/html": "<div>\n<style scoped>\n    .dataframe tbody tr th:only-of-type {\n        vertical-align: middle;\n    }\n\n    .dataframe tbody tr th {\n        vertical-align: top;\n    }\n\n    .dataframe thead th {\n        text-align: right;\n    }\n</style>\n<table border=\"1\" class=\"dataframe\">\n  <thead>\n    <tr style=\"text-align: right;\">\n      <th></th>\n      <th>mediabase_id</th>\n      <th>station_id</th>\n      <th>week_dt</th>\n      <th>breakout_id</th>\n      <th>breakout_name</th>\n      <th>demo_category</th>\n      <th>pop_co</th>\n      <th>pop_omt</th>\n      <th>gcr</th>\n      <th>lower_wob_thresh</th>\n      <th>mean_pop_predicted</th>\n      <th>upper_wobble_thresh</th>\n      <th>segment</th>\n    </tr>\n  </thead>\n  <tbody>\n    <tr>\n      <th>342</th>\n      <td>1086587</td>\n      <td>3322000</td>\n      <td>2022-12-25</td>\n      <td>317542</td>\n      <td>*Core*</td>\n      <td>Core-Cume</td>\n      <td>92.0</td>\n      <td>NaN</td>\n      <td>R</td>\n      <td>64.675067</td>\n      <td>83.263664</td>\n      <td>97.321842</td>\n      <td>Core</td>\n    </tr>\n    <tr>\n      <th>378</th>\n      <td>1086587</td>\n      <td>3322000</td>\n      <td>2022-12-25</td>\n      <td>401515</td>\n      <td>*Old*</td>\n      <td>Age</td>\n      <td>80.0</td>\n      <td>NaN</td>\n      <td>R</td>\n      <td>66.001720</td>\n      <td>82.686322</td>\n      <td>98.315638</td>\n      <td>Old</td>\n    </tr>\n    <tr>\n      <th>369</th>\n      <td>1086587</td>\n      <td>3322000</td>\n      <td>2022-12-25</td>\n      <td>401514</td>\n      <td>*Young*</td>\n      <td>Age</td>\n      <td>85.0</td>\n      <td>NaN</td>\n      <td>R</td>\n      <td>66.282747</td>\n      <td>83.917700</td>\n      <td>102.093248</td>\n      <td>Young</td>\n    </tr>\n    <tr>\n      <th>405</th>\n      <td>1086587</td>\n      <td>3322000</td>\n      <td>2022-12-25</td>\n      <td>412759</td>\n      <td>F (18-24)</td>\n      <td>Gender</td>\n      <td>85.0</td>\n      <td>NaN</td>\n      <td>R</td>\n      <td>65.612498</td>\n      <td>84.783759</td>\n      <td>103.995919</td>\n      <td>Female_(18-24)</td>\n    </tr>\n    <tr>\n      <th>315</th>\n      <td>1086587</td>\n      <td>3322000</td>\n      <td>2022-12-25</td>\n      <td>-2</td>\n      <td>F (Other)</td>\n      <td>Gender</td>\n      <td>80.0</td>\n      <td>NaN</td>\n      <td>R</td>\n      <td>67.976539</td>\n      <td>82.272345</td>\n      <td>97.169073</td>\n      <td>Female_Other</td>\n    </tr>\n    <tr>\n      <th>...</th>\n      <td>...</td>\n      <td>...</td>\n      <td>...</td>\n      <td>...</td>\n      <td>...</td>\n      <td>...</td>\n      <td>...</td>\n      <td>...</td>\n      <td>...</td>\n      <td>...</td>\n      <td>...</td>\n      <td>...</td>\n      <td>...</td>\n    </tr>\n    <tr>\n      <th>612216</th>\n      <td>2833906</td>\n      <td>3323602</td>\n      <td>2022-12-25</td>\n      <td>403078</td>\n      <td>AA</td>\n      <td>Race</td>\n      <td>78.0</td>\n      <td>NaN</td>\n      <td>C</td>\n      <td>50.440120</td>\n      <td>64.960117</td>\n      <td>89.347330</td>\n      <td>AA</td>\n    </tr>\n    <tr>\n      <th>612204</th>\n      <td>2833906</td>\n      <td>3323602</td>\n      <td>2022-12-25</td>\n      <td>400756</td>\n      <td>Hispanic</td>\n      <td>Race</td>\n      <td>62.0</td>\n      <td>NaN</td>\n      <td>C</td>\n      <td>58.090805</td>\n      <td>76.880403</td>\n      <td>96.752183</td>\n      <td>Hispanic</td>\n    </tr>\n    <tr>\n      <th>612195</th>\n      <td>2833906</td>\n      <td>3323602</td>\n      <td>2022-12-25</td>\n      <td>-1</td>\n      <td>Non-Core</td>\n      <td>Core-Cume</td>\n      <td>65.0</td>\n      <td>NaN</td>\n      <td>C</td>\n      <td>52.295566</td>\n      <td>66.779507</td>\n      <td>85.366178</td>\n      <td>Non-Core</td>\n    </tr>\n    <tr>\n      <th>612198</th>\n      <td>2833906</td>\n      <td>3323602</td>\n      <td>2022-12-25</td>\n      <td>1</td>\n      <td>Total</td>\n      <td>Total</td>\n      <td>60.0</td>\n      <td>NaN</td>\n      <td>C</td>\n      <td>NaN</td>\n      <td>NaN</td>\n      <td>NaN</td>\n      <td>Total</td>\n    </tr>\n    <tr>\n      <th>612207</th>\n      <td>2833906</td>\n      <td>3323602</td>\n      <td>2022-12-25</td>\n      <td>400803</td>\n      <td>White</td>\n      <td>Race</td>\n      <td>55.0</td>\n      <td>NaN</td>\n      <td>C</td>\n      <td>57.025524</td>\n      <td>69.047958</td>\n      <td>85.435593</td>\n      <td>White</td>\n    </tr>\n  </tbody>\n</table>\n<p>2406 rows × 13 columns</p>\n</div>"
     },
     "execution_count": 110,
     "metadata": {},
     "output_type": "execute_result"
    }
   ],
   "source": [
    "df_out_final.join()"
   ],
   "metadata": {
    "collapsed": false
   }
  },
  {
   "cell_type": "code",
   "execution_count": 116,
   "outputs": [],
   "source": [
    "# song-artist lookup\n",
    "song_query = '''\n",
    "Select mediabase_id, song_name, artist_name\n",
    "from data.songs_v as sv\n",
    "'''\n",
    "engine = postgresql_engine(user, pwd, host, port, dbname)\n",
    "with engine.connect() as conn:\n",
    "    with conn.begin():\n",
    "        df_song_lookup = pd.read_sql(song_query, con=conn)"
   ],
   "metadata": {
    "collapsed": false
   }
  },
  {
   "cell_type": "code",
   "execution_count": 129,
   "outputs": [],
   "source": [
    "station_query = '''\n",
    "Select distinct station_id, call_letters\n",
    "from data.stations_v as sv\n",
    "'''\n",
    "\n",
    "engine = postgresql_engine(user, pwd, host, port, dbname)\n",
    "with engine.connect() as conn:\n",
    "    with conn.begin():\n",
    "        df_station_lookup = pd.read_sql(station_query, con=conn)"
   ],
   "metadata": {
    "collapsed": false
   }
  },
  {
   "cell_type": "code",
   "execution_count": 117,
   "outputs": [],
   "source": [
    "df_song_lookup.set_index(['mediabase_id'], inplace=True)"
   ],
   "metadata": {
    "collapsed": false
   }
  },
  {
   "cell_type": "code",
   "execution_count": 130,
   "outputs": [],
   "source": [
    "df_station_lookup.set_index(['station_id'], inplace=True)"
   ],
   "metadata": {
    "collapsed": false
   }
  },
  {
   "cell_type": "code",
   "execution_count": 119,
   "outputs": [],
   "source": [
    "df_song_lookup['song_artist']  = df_song_lookup['song_name'] + ' (' + df_song_lookup['artist_name'] + ')'"
   ],
   "metadata": {
    "collapsed": false
   }
  },
  {
   "cell_type": "code",
   "execution_count": 120,
   "outputs": [
    {
     "data": {
      "text/plain": "                                  song_name                   artist_name  \\\nmediabase_id                                                                \n1342132            Maui Hawaiian Sup'pa Man         ISRAEL KAMAKAWIWO'OLE   \n2318242                     Under The Pines                    TWIN PEAKS   \n2825802       Love Is Bigger...(Apollo '18)                            U2   \n2019373                              I Be U                        FUTURE   \n2159334        Burn Down The ... (Live '09)                    ELTON JOHN   \n...                                     ...                           ...   \n2620719                      Get On My Wave  ANDREW MCMAHON IN WILDERNESS   \n2667991                        Exaggeration                     JUAN HAZE   \n2438195                          Every Week                          DQ4E   \n2623051                 Your Story Is Over!                        AYREON   \n2580022                    Greatness Of God             RANCE ALLEN GROUP   \n\n                                                   song_artist  \nmediabase_id                                                    \n1342132       Maui Hawaiian Sup'pa Man (ISRAEL KAMAKAWIWO'OLE)  \n2318242                           Under The Pines (TWIN PEAKS)  \n2825802                     Love Is Bigger...(Apollo '18) (U2)  \n2019373                                        I Be U (FUTURE)  \n2159334              Burn Down The ... (Live '09) (ELTON JOHN)  \n...                                                        ...  \n2620719          Get On My Wave (ANDREW MCMAHON IN WILDERNESS)  \n2667991                               Exaggeration (JUAN HAZE)  \n2438195                                      Every Week (DQ4E)  \n2623051                           Your Story Is Over! (AYREON)  \n2580022                   Greatness Of God (RANCE ALLEN GROUP)  \n\n[1543978 rows x 3 columns]",
      "text/html": "<div>\n<style scoped>\n    .dataframe tbody tr th:only-of-type {\n        vertical-align: middle;\n    }\n\n    .dataframe tbody tr th {\n        vertical-align: top;\n    }\n\n    .dataframe thead th {\n        text-align: right;\n    }\n</style>\n<table border=\"1\" class=\"dataframe\">\n  <thead>\n    <tr style=\"text-align: right;\">\n      <th></th>\n      <th>song_name</th>\n      <th>artist_name</th>\n      <th>song_artist</th>\n    </tr>\n    <tr>\n      <th>mediabase_id</th>\n      <th></th>\n      <th></th>\n      <th></th>\n    </tr>\n  </thead>\n  <tbody>\n    <tr>\n      <th>1342132</th>\n      <td>Maui Hawaiian Sup'pa Man</td>\n      <td>ISRAEL KAMAKAWIWO'OLE</td>\n      <td>Maui Hawaiian Sup'pa Man (ISRAEL KAMAKAWIWO'OLE)</td>\n    </tr>\n    <tr>\n      <th>2318242</th>\n      <td>Under The Pines</td>\n      <td>TWIN PEAKS</td>\n      <td>Under The Pines (TWIN PEAKS)</td>\n    </tr>\n    <tr>\n      <th>2825802</th>\n      <td>Love Is Bigger...(Apollo '18)</td>\n      <td>U2</td>\n      <td>Love Is Bigger...(Apollo '18) (U2)</td>\n    </tr>\n    <tr>\n      <th>2019373</th>\n      <td>I Be U</td>\n      <td>FUTURE</td>\n      <td>I Be U (FUTURE)</td>\n    </tr>\n    <tr>\n      <th>2159334</th>\n      <td>Burn Down The ... (Live '09)</td>\n      <td>ELTON JOHN</td>\n      <td>Burn Down The ... (Live '09) (ELTON JOHN)</td>\n    </tr>\n    <tr>\n      <th>...</th>\n      <td>...</td>\n      <td>...</td>\n      <td>...</td>\n    </tr>\n    <tr>\n      <th>2620719</th>\n      <td>Get On My Wave</td>\n      <td>ANDREW MCMAHON IN WILDERNESS</td>\n      <td>Get On My Wave (ANDREW MCMAHON IN WILDERNESS)</td>\n    </tr>\n    <tr>\n      <th>2667991</th>\n      <td>Exaggeration</td>\n      <td>JUAN HAZE</td>\n      <td>Exaggeration (JUAN HAZE)</td>\n    </tr>\n    <tr>\n      <th>2438195</th>\n      <td>Every Week</td>\n      <td>DQ4E</td>\n      <td>Every Week (DQ4E)</td>\n    </tr>\n    <tr>\n      <th>2623051</th>\n      <td>Your Story Is Over!</td>\n      <td>AYREON</td>\n      <td>Your Story Is Over! (AYREON)</td>\n    </tr>\n    <tr>\n      <th>2580022</th>\n      <td>Greatness Of God</td>\n      <td>RANCE ALLEN GROUP</td>\n      <td>Greatness Of God (RANCE ALLEN GROUP)</td>\n    </tr>\n  </tbody>\n</table>\n<p>1543978 rows × 3 columns</p>\n</div>"
     },
     "execution_count": 120,
     "metadata": {},
     "output_type": "execute_result"
    }
   ],
   "source": [
    "df_song_lookup"
   ],
   "metadata": {
    "collapsed": false
   }
  },
  {
   "cell_type": "code",
   "execution_count": 124,
   "outputs": [],
   "source": [
    "df_out_final['song_artist'] = df_out_final.join(df_song_lookup, on=['mediabase_id'], how='left')['song_artist']"
   ],
   "metadata": {
    "collapsed": false
   }
  },
  {
   "cell_type": "code",
   "execution_count": 131,
   "outputs": [],
   "source": [
    "df_out_final['call_letters'] = df_out_final.join(df_station_lookup, on=['station_id'], how='left')['call_letters']"
   ],
   "metadata": {
    "collapsed": false
   }
  },
  {
   "cell_type": "code",
   "execution_count": 132,
   "outputs": [
    {
     "data": {
      "text/plain": "        mediabase_id  station_id     week_dt  breakout_id breakout_name  \\\n342          1086587     3322000  2022-12-25       317542        *Core*   \n378          1086587     3322000  2022-12-25       401515         *Old*   \n369          1086587     3322000  2022-12-25       401514       *Young*   \n405          1086587     3322000  2022-12-25       412759     F (18-24)   \n315          1086587     3322000  2022-12-25           -2     F (Other)   \n...              ...         ...         ...          ...           ...   \n612216       2833906     3323602  2022-12-25       403078            AA   \n612204       2833906     3323602  2022-12-25       400756      Hispanic   \n612195       2833906     3323602  2022-12-25           -1      Non-Core   \n612198       2833906     3323602  2022-12-25            1         Total   \n612207       2833906     3323602  2022-12-25       400803         White   \n\n       demo_category  pop_co  pop_omt gcr  lower_wob_thresh  \\\n342        Core-Cume    92.0      NaN   R         64.675067   \n378              Age    80.0      NaN   R         66.001720   \n369              Age    85.0      NaN   R         66.282747   \n405           Gender    85.0      NaN   R         65.612498   \n315           Gender    80.0      NaN   R         67.976539   \n...              ...     ...      ...  ..               ...   \n612216          Race    78.0      NaN   C         50.440120   \n612204          Race    62.0      NaN   C         58.090805   \n612195     Core-Cume    65.0      NaN   C         52.295566   \n612198         Total    60.0      NaN   C               NaN   \n612207          Race    55.0      NaN   C         57.025524   \n\n        mean_pop_predicted  upper_wobble_thresh         segment  \\\n342              83.263664            97.321842            Core   \n378              82.686322            98.315638             Old   \n369              83.917700           102.093248           Young   \n405              84.783759           103.995919  Female_(18-24)   \n315              82.272345            97.169073    Female_Other   \n...                    ...                  ...             ...   \n612216           64.960117            89.347330              AA   \n612204           76.880403            96.752183        Hispanic   \n612195           66.779507            85.366178        Non-Core   \n612198                 NaN                  NaN           Total   \n612207           69.047958            85.435593           White   \n\n                                        song_artist call_letters  \n342      Running Up That Hill (A Deal.. (KATE BUSH)      KHTS-FM  \n378      Running Up That Hill (A Deal.. (KATE BUSH)      KHTS-FM  \n369      Running Up That Hill (A Deal.. (KATE BUSH)      KHTS-FM  \n405      Running Up That Hill (A Deal.. (KATE BUSH)      KHTS-FM  \n315      Running Up That Hill (A Deal.. (KATE BUSH)      KHTS-FM  \n...                                             ...          ...  \n612216  I'm Good (Blue) (DAVID GUETTA & BEBE REXHA)      WWPW-FM  \n612204  I'm Good (Blue) (DAVID GUETTA & BEBE REXHA)      WWPW-FM  \n612195  I'm Good (Blue) (DAVID GUETTA & BEBE REXHA)      WWPW-FM  \n612198  I'm Good (Blue) (DAVID GUETTA & BEBE REXHA)      WWPW-FM  \n612207  I'm Good (Blue) (DAVID GUETTA & BEBE REXHA)      WWPW-FM  \n\n[2406 rows x 15 columns]",
      "text/html": "<div>\n<style scoped>\n    .dataframe tbody tr th:only-of-type {\n        vertical-align: middle;\n    }\n\n    .dataframe tbody tr th {\n        vertical-align: top;\n    }\n\n    .dataframe thead th {\n        text-align: right;\n    }\n</style>\n<table border=\"1\" class=\"dataframe\">\n  <thead>\n    <tr style=\"text-align: right;\">\n      <th></th>\n      <th>mediabase_id</th>\n      <th>station_id</th>\n      <th>week_dt</th>\n      <th>breakout_id</th>\n      <th>breakout_name</th>\n      <th>demo_category</th>\n      <th>pop_co</th>\n      <th>pop_omt</th>\n      <th>gcr</th>\n      <th>lower_wob_thresh</th>\n      <th>mean_pop_predicted</th>\n      <th>upper_wobble_thresh</th>\n      <th>segment</th>\n      <th>song_artist</th>\n      <th>call_letters</th>\n    </tr>\n  </thead>\n  <tbody>\n    <tr>\n      <th>342</th>\n      <td>1086587</td>\n      <td>3322000</td>\n      <td>2022-12-25</td>\n      <td>317542</td>\n      <td>*Core*</td>\n      <td>Core-Cume</td>\n      <td>92.0</td>\n      <td>NaN</td>\n      <td>R</td>\n      <td>64.675067</td>\n      <td>83.263664</td>\n      <td>97.321842</td>\n      <td>Core</td>\n      <td>Running Up That Hill (A Deal.. (KATE BUSH)</td>\n      <td>KHTS-FM</td>\n    </tr>\n    <tr>\n      <th>378</th>\n      <td>1086587</td>\n      <td>3322000</td>\n      <td>2022-12-25</td>\n      <td>401515</td>\n      <td>*Old*</td>\n      <td>Age</td>\n      <td>80.0</td>\n      <td>NaN</td>\n      <td>R</td>\n      <td>66.001720</td>\n      <td>82.686322</td>\n      <td>98.315638</td>\n      <td>Old</td>\n      <td>Running Up That Hill (A Deal.. (KATE BUSH)</td>\n      <td>KHTS-FM</td>\n    </tr>\n    <tr>\n      <th>369</th>\n      <td>1086587</td>\n      <td>3322000</td>\n      <td>2022-12-25</td>\n      <td>401514</td>\n      <td>*Young*</td>\n      <td>Age</td>\n      <td>85.0</td>\n      <td>NaN</td>\n      <td>R</td>\n      <td>66.282747</td>\n      <td>83.917700</td>\n      <td>102.093248</td>\n      <td>Young</td>\n      <td>Running Up That Hill (A Deal.. (KATE BUSH)</td>\n      <td>KHTS-FM</td>\n    </tr>\n    <tr>\n      <th>405</th>\n      <td>1086587</td>\n      <td>3322000</td>\n      <td>2022-12-25</td>\n      <td>412759</td>\n      <td>F (18-24)</td>\n      <td>Gender</td>\n      <td>85.0</td>\n      <td>NaN</td>\n      <td>R</td>\n      <td>65.612498</td>\n      <td>84.783759</td>\n      <td>103.995919</td>\n      <td>Female_(18-24)</td>\n      <td>Running Up That Hill (A Deal.. (KATE BUSH)</td>\n      <td>KHTS-FM</td>\n    </tr>\n    <tr>\n      <th>315</th>\n      <td>1086587</td>\n      <td>3322000</td>\n      <td>2022-12-25</td>\n      <td>-2</td>\n      <td>F (Other)</td>\n      <td>Gender</td>\n      <td>80.0</td>\n      <td>NaN</td>\n      <td>R</td>\n      <td>67.976539</td>\n      <td>82.272345</td>\n      <td>97.169073</td>\n      <td>Female_Other</td>\n      <td>Running Up That Hill (A Deal.. (KATE BUSH)</td>\n      <td>KHTS-FM</td>\n    </tr>\n    <tr>\n      <th>...</th>\n      <td>...</td>\n      <td>...</td>\n      <td>...</td>\n      <td>...</td>\n      <td>...</td>\n      <td>...</td>\n      <td>...</td>\n      <td>...</td>\n      <td>...</td>\n      <td>...</td>\n      <td>...</td>\n      <td>...</td>\n      <td>...</td>\n      <td>...</td>\n      <td>...</td>\n    </tr>\n    <tr>\n      <th>612216</th>\n      <td>2833906</td>\n      <td>3323602</td>\n      <td>2022-12-25</td>\n      <td>403078</td>\n      <td>AA</td>\n      <td>Race</td>\n      <td>78.0</td>\n      <td>NaN</td>\n      <td>C</td>\n      <td>50.440120</td>\n      <td>64.960117</td>\n      <td>89.347330</td>\n      <td>AA</td>\n      <td>I'm Good (Blue) (DAVID GUETTA &amp; BEBE REXHA)</td>\n      <td>WWPW-FM</td>\n    </tr>\n    <tr>\n      <th>612204</th>\n      <td>2833906</td>\n      <td>3323602</td>\n      <td>2022-12-25</td>\n      <td>400756</td>\n      <td>Hispanic</td>\n      <td>Race</td>\n      <td>62.0</td>\n      <td>NaN</td>\n      <td>C</td>\n      <td>58.090805</td>\n      <td>76.880403</td>\n      <td>96.752183</td>\n      <td>Hispanic</td>\n      <td>I'm Good (Blue) (DAVID GUETTA &amp; BEBE REXHA)</td>\n      <td>WWPW-FM</td>\n    </tr>\n    <tr>\n      <th>612195</th>\n      <td>2833906</td>\n      <td>3323602</td>\n      <td>2022-12-25</td>\n      <td>-1</td>\n      <td>Non-Core</td>\n      <td>Core-Cume</td>\n      <td>65.0</td>\n      <td>NaN</td>\n      <td>C</td>\n      <td>52.295566</td>\n      <td>66.779507</td>\n      <td>85.366178</td>\n      <td>Non-Core</td>\n      <td>I'm Good (Blue) (DAVID GUETTA &amp; BEBE REXHA)</td>\n      <td>WWPW-FM</td>\n    </tr>\n    <tr>\n      <th>612198</th>\n      <td>2833906</td>\n      <td>3323602</td>\n      <td>2022-12-25</td>\n      <td>1</td>\n      <td>Total</td>\n      <td>Total</td>\n      <td>60.0</td>\n      <td>NaN</td>\n      <td>C</td>\n      <td>NaN</td>\n      <td>NaN</td>\n      <td>NaN</td>\n      <td>Total</td>\n      <td>I'm Good (Blue) (DAVID GUETTA &amp; BEBE REXHA)</td>\n      <td>WWPW-FM</td>\n    </tr>\n    <tr>\n      <th>612207</th>\n      <td>2833906</td>\n      <td>3323602</td>\n      <td>2022-12-25</td>\n      <td>400803</td>\n      <td>White</td>\n      <td>Race</td>\n      <td>55.0</td>\n      <td>NaN</td>\n      <td>C</td>\n      <td>57.025524</td>\n      <td>69.047958</td>\n      <td>85.435593</td>\n      <td>White</td>\n      <td>I'm Good (Blue) (DAVID GUETTA &amp; BEBE REXHA)</td>\n      <td>WWPW-FM</td>\n    </tr>\n  </tbody>\n</table>\n<p>2406 rows × 15 columns</p>\n</div>"
     },
     "execution_count": 132,
     "metadata": {},
     "output_type": "execute_result"
    }
   ],
   "source": [
    "df_out_final"
   ],
   "metadata": {
    "collapsed": false
   }
  },
  {
   "cell_type": "code",
   "execution_count": 136,
   "outputs": [],
   "source": [
    "df_out_final['wobble_flag'] = df_out_final.apply(lambda x: int((x['pop_co'] < x['lower_wob_thresh']) | (x['pop_co'] > x['upper_wobble_thresh'])), axis=1)"
   ],
   "metadata": {
    "collapsed": false
   }
  },
  {
   "cell_type": "code",
   "execution_count": 142,
   "outputs": [],
   "source": [
    "df_out_final['format_mean_pop'] = df_out_final.join(df_out_final.groupby(['mediabase_id', 'breakout_id'])['mean_pop_predicted'].mean(), on=['mediabase_id', 'breakout_id'], how='left', rsuffix='_r')['mean_pop_predicted_r']"
   ],
   "metadata": {
    "collapsed": false
   }
  },
  {
   "cell_type": "code",
   "execution_count": 137,
   "outputs": [
    {
     "data": {
      "text/plain": "        mediabase_id  station_id     week_dt  breakout_id breakout_name  \\\n342          1086587     3322000  2022-12-25       317542        *Core*   \n378          1086587     3322000  2022-12-25       401515         *Old*   \n369          1086587     3322000  2022-12-25       401514       *Young*   \n405          1086587     3322000  2022-12-25       412759     F (18-24)   \n315          1086587     3322000  2022-12-25           -2     F (Other)   \n...              ...         ...         ...          ...           ...   \n612216       2833906     3323602  2022-12-25       403078            AA   \n612204       2833906     3323602  2022-12-25       400756      Hispanic   \n612195       2833906     3323602  2022-12-25           -1      Non-Core   \n612198       2833906     3323602  2022-12-25            1         Total   \n612207       2833906     3323602  2022-12-25       400803         White   \n\n       demo_category  pop_co  pop_omt gcr  lower_wob_thresh  \\\n342        Core-Cume    92.0      NaN   R         64.675067   \n378              Age    80.0      NaN   R         66.001720   \n369              Age    85.0      NaN   R         66.282747   \n405           Gender    85.0      NaN   R         65.612498   \n315           Gender    80.0      NaN   R         67.976539   \n...              ...     ...      ...  ..               ...   \n612216          Race    78.0      NaN   C         50.440120   \n612204          Race    62.0      NaN   C         58.090805   \n612195     Core-Cume    65.0      NaN   C         52.295566   \n612198         Total    60.0      NaN   C               NaN   \n612207          Race    55.0      NaN   C         57.025524   \n\n        mean_pop_predicted  upper_wobble_thresh         segment  \\\n342              83.263664            97.321842            Core   \n378              82.686322            98.315638             Old   \n369              83.917700           102.093248           Young   \n405              84.783759           103.995919  Female_(18-24)   \n315              82.272345            97.169073    Female_Other   \n...                    ...                  ...             ...   \n612216           64.960117            89.347330              AA   \n612204           76.880403            96.752183        Hispanic   \n612195           66.779507            85.366178        Non-Core   \n612198                 NaN                  NaN           Total   \n612207           69.047958            85.435593           White   \n\n                                        song_artist call_letters  wobble_flag  \n342      Running Up That Hill (A Deal.. (KATE BUSH)      KHTS-FM            0  \n378      Running Up That Hill (A Deal.. (KATE BUSH)      KHTS-FM            0  \n369      Running Up That Hill (A Deal.. (KATE BUSH)      KHTS-FM            0  \n405      Running Up That Hill (A Deal.. (KATE BUSH)      KHTS-FM            0  \n315      Running Up That Hill (A Deal.. (KATE BUSH)      KHTS-FM            0  \n...                                             ...          ...          ...  \n612216  I'm Good (Blue) (DAVID GUETTA & BEBE REXHA)      WWPW-FM            0  \n612204  I'm Good (Blue) (DAVID GUETTA & BEBE REXHA)      WWPW-FM            0  \n612195  I'm Good (Blue) (DAVID GUETTA & BEBE REXHA)      WWPW-FM            0  \n612198  I'm Good (Blue) (DAVID GUETTA & BEBE REXHA)      WWPW-FM            0  \n612207  I'm Good (Blue) (DAVID GUETTA & BEBE REXHA)      WWPW-FM            1  \n\n[2406 rows x 16 columns]",
      "text/html": "<div>\n<style scoped>\n    .dataframe tbody tr th:only-of-type {\n        vertical-align: middle;\n    }\n\n    .dataframe tbody tr th {\n        vertical-align: top;\n    }\n\n    .dataframe thead th {\n        text-align: right;\n    }\n</style>\n<table border=\"1\" class=\"dataframe\">\n  <thead>\n    <tr style=\"text-align: right;\">\n      <th></th>\n      <th>mediabase_id</th>\n      <th>station_id</th>\n      <th>week_dt</th>\n      <th>breakout_id</th>\n      <th>breakout_name</th>\n      <th>demo_category</th>\n      <th>pop_co</th>\n      <th>pop_omt</th>\n      <th>gcr</th>\n      <th>lower_wob_thresh</th>\n      <th>mean_pop_predicted</th>\n      <th>upper_wobble_thresh</th>\n      <th>segment</th>\n      <th>song_artist</th>\n      <th>call_letters</th>\n      <th>wobble_flag</th>\n    </tr>\n  </thead>\n  <tbody>\n    <tr>\n      <th>342</th>\n      <td>1086587</td>\n      <td>3322000</td>\n      <td>2022-12-25</td>\n      <td>317542</td>\n      <td>*Core*</td>\n      <td>Core-Cume</td>\n      <td>92.0</td>\n      <td>NaN</td>\n      <td>R</td>\n      <td>64.675067</td>\n      <td>83.263664</td>\n      <td>97.321842</td>\n      <td>Core</td>\n      <td>Running Up That Hill (A Deal.. (KATE BUSH)</td>\n      <td>KHTS-FM</td>\n      <td>0</td>\n    </tr>\n    <tr>\n      <th>378</th>\n      <td>1086587</td>\n      <td>3322000</td>\n      <td>2022-12-25</td>\n      <td>401515</td>\n      <td>*Old*</td>\n      <td>Age</td>\n      <td>80.0</td>\n      <td>NaN</td>\n      <td>R</td>\n      <td>66.001720</td>\n      <td>82.686322</td>\n      <td>98.315638</td>\n      <td>Old</td>\n      <td>Running Up That Hill (A Deal.. (KATE BUSH)</td>\n      <td>KHTS-FM</td>\n      <td>0</td>\n    </tr>\n    <tr>\n      <th>369</th>\n      <td>1086587</td>\n      <td>3322000</td>\n      <td>2022-12-25</td>\n      <td>401514</td>\n      <td>*Young*</td>\n      <td>Age</td>\n      <td>85.0</td>\n      <td>NaN</td>\n      <td>R</td>\n      <td>66.282747</td>\n      <td>83.917700</td>\n      <td>102.093248</td>\n      <td>Young</td>\n      <td>Running Up That Hill (A Deal.. (KATE BUSH)</td>\n      <td>KHTS-FM</td>\n      <td>0</td>\n    </tr>\n    <tr>\n      <th>405</th>\n      <td>1086587</td>\n      <td>3322000</td>\n      <td>2022-12-25</td>\n      <td>412759</td>\n      <td>F (18-24)</td>\n      <td>Gender</td>\n      <td>85.0</td>\n      <td>NaN</td>\n      <td>R</td>\n      <td>65.612498</td>\n      <td>84.783759</td>\n      <td>103.995919</td>\n      <td>Female_(18-24)</td>\n      <td>Running Up That Hill (A Deal.. (KATE BUSH)</td>\n      <td>KHTS-FM</td>\n      <td>0</td>\n    </tr>\n    <tr>\n      <th>315</th>\n      <td>1086587</td>\n      <td>3322000</td>\n      <td>2022-12-25</td>\n      <td>-2</td>\n      <td>F (Other)</td>\n      <td>Gender</td>\n      <td>80.0</td>\n      <td>NaN</td>\n      <td>R</td>\n      <td>67.976539</td>\n      <td>82.272345</td>\n      <td>97.169073</td>\n      <td>Female_Other</td>\n      <td>Running Up That Hill (A Deal.. (KATE BUSH)</td>\n      <td>KHTS-FM</td>\n      <td>0</td>\n    </tr>\n    <tr>\n      <th>...</th>\n      <td>...</td>\n      <td>...</td>\n      <td>...</td>\n      <td>...</td>\n      <td>...</td>\n      <td>...</td>\n      <td>...</td>\n      <td>...</td>\n      <td>...</td>\n      <td>...</td>\n      <td>...</td>\n      <td>...</td>\n      <td>...</td>\n      <td>...</td>\n      <td>...</td>\n      <td>...</td>\n    </tr>\n    <tr>\n      <th>612216</th>\n      <td>2833906</td>\n      <td>3323602</td>\n      <td>2022-12-25</td>\n      <td>403078</td>\n      <td>AA</td>\n      <td>Race</td>\n      <td>78.0</td>\n      <td>NaN</td>\n      <td>C</td>\n      <td>50.440120</td>\n      <td>64.960117</td>\n      <td>89.347330</td>\n      <td>AA</td>\n      <td>I'm Good (Blue) (DAVID GUETTA &amp; BEBE REXHA)</td>\n      <td>WWPW-FM</td>\n      <td>0</td>\n    </tr>\n    <tr>\n      <th>612204</th>\n      <td>2833906</td>\n      <td>3323602</td>\n      <td>2022-12-25</td>\n      <td>400756</td>\n      <td>Hispanic</td>\n      <td>Race</td>\n      <td>62.0</td>\n      <td>NaN</td>\n      <td>C</td>\n      <td>58.090805</td>\n      <td>76.880403</td>\n      <td>96.752183</td>\n      <td>Hispanic</td>\n      <td>I'm Good (Blue) (DAVID GUETTA &amp; BEBE REXHA)</td>\n      <td>WWPW-FM</td>\n      <td>0</td>\n    </tr>\n    <tr>\n      <th>612195</th>\n      <td>2833906</td>\n      <td>3323602</td>\n      <td>2022-12-25</td>\n      <td>-1</td>\n      <td>Non-Core</td>\n      <td>Core-Cume</td>\n      <td>65.0</td>\n      <td>NaN</td>\n      <td>C</td>\n      <td>52.295566</td>\n      <td>66.779507</td>\n      <td>85.366178</td>\n      <td>Non-Core</td>\n      <td>I'm Good (Blue) (DAVID GUETTA &amp; BEBE REXHA)</td>\n      <td>WWPW-FM</td>\n      <td>0</td>\n    </tr>\n    <tr>\n      <th>612198</th>\n      <td>2833906</td>\n      <td>3323602</td>\n      <td>2022-12-25</td>\n      <td>1</td>\n      <td>Total</td>\n      <td>Total</td>\n      <td>60.0</td>\n      <td>NaN</td>\n      <td>C</td>\n      <td>NaN</td>\n      <td>NaN</td>\n      <td>NaN</td>\n      <td>Total</td>\n      <td>I'm Good (Blue) (DAVID GUETTA &amp; BEBE REXHA)</td>\n      <td>WWPW-FM</td>\n      <td>0</td>\n    </tr>\n    <tr>\n      <th>612207</th>\n      <td>2833906</td>\n      <td>3323602</td>\n      <td>2022-12-25</td>\n      <td>400803</td>\n      <td>White</td>\n      <td>Race</td>\n      <td>55.0</td>\n      <td>NaN</td>\n      <td>C</td>\n      <td>57.025524</td>\n      <td>69.047958</td>\n      <td>85.435593</td>\n      <td>White</td>\n      <td>I'm Good (Blue) (DAVID GUETTA &amp; BEBE REXHA)</td>\n      <td>WWPW-FM</td>\n      <td>1</td>\n    </tr>\n  </tbody>\n</table>\n<p>2406 rows × 16 columns</p>\n</div>"
     },
     "execution_count": 137,
     "metadata": {},
     "output_type": "execute_result"
    }
   ],
   "source": [
    "df_out_final"
   ],
   "metadata": {
    "collapsed": false
   }
  },
  {
   "cell_type": "code",
   "execution_count": 144,
   "outputs": [],
   "source": [
    "df_out_pvt = df_out_final.pivot_table(index=['call_letters', 'song_artist'], columns=['segment'], values=['format_mean_pop', 'mean_pop_predicted', 'pop_co', 'wobble_flag'])"
   ],
   "metadata": {
    "collapsed": false
   }
  },
  {
   "cell_type": "code",
   "execution_count": 145,
   "outputs": [],
   "source": [
    "df_out_pvt.columns = [i[0] + '_' + i[1].replace(' ', '_') for i in df_out_pvt.columns]"
   ],
   "metadata": {
    "collapsed": false
   }
  },
  {
   "cell_type": "code",
   "execution_count": 146,
   "outputs": [
    {
     "data": {
      "text/plain": "Index(['format_mean_pop_AA', 'format_mean_pop_Core',\n       'format_mean_pop_Female_(18-24)', 'format_mean_pop_Female_Other',\n       'format_mean_pop_Hispanic', 'format_mean_pop_Non-Core',\n       'format_mean_pop_Old', 'format_mean_pop_White', 'format_mean_pop_Young',\n       'mean_pop_predicted_AA', 'mean_pop_predicted_Core',\n       'mean_pop_predicted_Female_(18-24)', 'mean_pop_predicted_Female_Other',\n       'mean_pop_predicted_Hispanic', 'mean_pop_predicted_Non-Core',\n       'mean_pop_predicted_Old', 'mean_pop_predicted_White',\n       'mean_pop_predicted_Young', 'pop_co_AA', 'pop_co_Core',\n       'pop_co_Female_(18-24)', 'pop_co_Female_Other', 'pop_co_Hispanic',\n       'pop_co_Non-Core', 'pop_co_Old', 'pop_co_Total', 'pop_co_White',\n       'pop_co_Young', 'wobble_flag_AA', 'wobble_flag_Core',\n       'wobble_flag_Female_(18-24)', 'wobble_flag_Female_Other',\n       'wobble_flag_Hispanic', 'wobble_flag_Non-Core', 'wobble_flag_Old',\n       'wobble_flag_Total', 'wobble_flag_White', 'wobble_flag_Young'],\n      dtype='object')"
     },
     "execution_count": 146,
     "metadata": {},
     "output_type": "execute_result"
    }
   ],
   "source": [
    "df_out_pvt.columns"
   ],
   "metadata": {
    "collapsed": false
   }
  },
  {
   "cell_type": "code",
   "execution_count": 150,
   "outputs": [],
   "source": [
    "df_out_pvt['gender_perc_diff'] = (1 - df_out_pvt['mean_pop_predicted_Female_Other']/df_out_pvt['mean_pop_predicted_Female_(18-24)'])"
   ],
   "metadata": {
    "collapsed": false
   }
  },
  {
   "cell_type": "code",
   "execution_count": 152,
   "outputs": [],
   "source": [
    "df_out_pvt['core_perc_diff'] = (1 - df_out_pvt['mean_pop_predicted_Non-Core']/df_out_pvt['mean_pop_predicted_Core'])"
   ],
   "metadata": {
    "collapsed": false
   }
  },
  {
   "cell_type": "code",
   "execution_count": 153,
   "outputs": [],
   "source": [
    "df_out_pvt['Hispanic_perc_diff'] = (1- df_out_pvt['mean_pop_predicted_Hispanic']/(df_out_pvt['mean_pop_predicted_White']))"
   ],
   "metadata": {
    "collapsed": false
   }
  },
  {
   "cell_type": "code",
   "execution_count": 154,
   "outputs": [],
   "source": [
    "df_out_pvt['AA_perc_diff'] = (1- df_out_pvt['mean_pop_predicted_AA']/(df_out_pvt['mean_pop_predicted_White']))"
   ],
   "metadata": {
    "collapsed": false
   }
  },
  {
   "cell_type": "code",
   "execution_count": 155,
   "outputs": [],
   "source": [
    "df_out_pvt['age_perc_diff'] = (1- df_out_pvt['mean_pop_predicted_Young']/(df_out_pvt['mean_pop_predicted_Old']))"
   ],
   "metadata": {
    "collapsed": false
   }
  },
  {
   "cell_type": "code",
   "execution_count": 158,
   "outputs": [],
   "source": [
    "df_out_pvt['fmt_gender_perc_diff'] = (\n",
    "            1 - df_out_pvt['format_mean_pop_Female_Other'] / df_out_pvt['format_mean_pop_Female_(18-24)'])\n",
    "df_out_pvt['fmt_core_perc_diff'] = (1 - df_out_pvt['format_mean_pop_Non-Core'] / df_out_pvt['format_mean_pop_Core'])\n",
    "df_out_pvt['fmt_Hispanic_perc_diff'] = (\n",
    "            1 - df_out_pvt['format_mean_pop_Hispanic'] / (df_out_pvt['format_mean_pop_White']))\n",
    "df_out_pvt['fmt_AA_perc_diff'] = (1 - df_out_pvt['format_mean_pop_AA'] / (df_out_pvt['format_mean_pop_White']))\n",
    "df_out_pvt['fmt_age_perc_diff'] = (1 - df_out_pvt['format_mean_pop_Young'] / (df_out_pvt['format_mean_pop_Old']))"
   ],
   "metadata": {
    "collapsed": false
   }
  },
  {
   "cell_type": "code",
   "execution_count": 161,
   "outputs": [
    {
     "data": {
      "text/plain": "    call_letters                        song_artist  format_mean_pop_AA  \\\n0        KHKS-FM           Anti-Hero (TAYLOR SWIFT)                 NaN   \n1        KHKS-FM           As It Was (HARRY STYLES)                 NaN   \n2        KHKS-FM             Bad Habit (STEVE LACY)                 NaN   \n3        KHKS-FM    Boom Boom Pow (BLACK EYED PEAS)                 NaN   \n4        KHKS-FM           Buttons (PUSSYCAT DOLLS)                 NaN   \n..           ...                                ...                 ...   \n266      WXKS-FM                   Vegas (DOJA CAT)                 NaN   \n267      WXKS-FM            Victoria's Secret (JAX)                 NaN   \n268      WXKS-FM                   Woman (DOJA CAT)                 NaN   \n269      WXKS-FM  You Right f/The Weeknd (DOJA CAT)                 NaN   \n270      WXKS-FM          good 4 u (OLIVIA RODRIGO)                 NaN   \n\n     format_mean_pop_Core  format_mean_pop_Female_(18-24)  \\\n0               82.127573                       74.493818   \n1               87.830026                       90.023646   \n2               82.013527                       83.743150   \n3               87.812984                       90.387504   \n4               86.516694                       82.136233   \n..                    ...                             ...   \n266             84.072396                       81.839631   \n267             73.222142                       64.877938   \n268             83.718492                       83.042887   \n269             83.671756                       84.169472   \n270             83.780845                       81.939083   \n\n     format_mean_pop_Female_Other  format_mean_pop_Hispanic  \\\n0                       82.430586                 77.875460   \n1                       84.171009                 94.201023   \n2                       74.907096                 85.412874   \n3                       77.715568                 86.123436   \n4                       91.069995                 99.091280   \n..                            ...                       ...   \n266                     82.003951                 88.265450   \n267                     76.107715                 69.238783   \n268                     81.353243                 92.664696   \n269                     80.022909                 90.194286   \n270                     82.292336                 84.590987   \n\n     format_mean_pop_Non-Core  format_mean_pop_Old  format_mean_pop_White  \\\n0                   75.613543            86.016667              80.256929   \n1                   82.341182            82.166940              79.737648   \n2                   76.392218            76.438781              73.508405   \n3                   82.396947            80.492144              85.384060   \n4                   87.231928            97.709518              80.352152   \n..                        ...                  ...                    ...   \n266                 78.923937            84.142427              78.469233   \n267                 69.536516            80.209057              72.500145   \n268                 79.354223            80.407841              72.435204   \n269                 79.885553            79.546257              76.597232   \n270                 81.481163            84.840943              80.900666   \n\n     ...  gender_perc_diff  core_perc_diff  Hispanic_perc_diff  AA_perc_diff  \\\n0    ...         -0.067962        0.081432            0.182835           NaN   \n1    ...          0.044965        0.090285           -0.148668           NaN   \n2    ...          0.094261        0.065986           -0.118238           NaN   \n3    ...          0.140196        0.061677           -0.008659           NaN   \n4    ...         -0.108768       -0.008267           -0.233213           NaN   \n..   ...               ...             ...                 ...           ...   \n266  ...          0.029666        0.030311           -0.127354           NaN   \n267  ...         -0.213936        0.119329           -0.152029           NaN   \n268  ...         -0.013612        0.079455           -0.226460           NaN   \n269  ...          0.029268        0.008617           -0.200608           NaN   \n270  ...         -0.008973        0.042929            0.007536           NaN   \n\n     age_perc_diff  fmt_gender_perc_diff  fmt_core_perc_diff  \\\n0         0.193180             -0.106543            0.079316   \n1         0.035893              0.065012            0.062494   \n2        -0.088021              0.105514            0.068541   \n3        -0.084572              0.140196            0.061677   \n4         0.145283             -0.108768           -0.008267   \n..             ...                   ...                 ...   \n266      -0.029104             -0.002008            0.061238   \n267       0.237523             -0.173091            0.050335   \n268      -0.005061              0.020347            0.052130   \n269      -0.031093              0.049264            0.045251   \n270       0.077086             -0.004311            0.027449   \n\n     fmt_Hispanic_perc_diff  fmt_AA_perc_diff  fmt_age_perc_diff  \n0                  0.029673               NaN           0.140588  \n1                 -0.181387               NaN          -0.063984  \n2                 -0.161947               NaN          -0.097671  \n3                 -0.008659               NaN          -0.084572  \n4                 -0.233213               NaN           0.145283  \n..                      ...               ...                ...  \n266               -0.124842               NaN           0.037497  \n267                0.044984               NaN           0.195822  \n268               -0.279277               NaN          -0.018829  \n269               -0.177514               NaN          -0.054413  \n270               -0.045615               NaN           0.055339  \n\n[271 rows x 50 columns]",
      "text/html": "<div>\n<style scoped>\n    .dataframe tbody tr th:only-of-type {\n        vertical-align: middle;\n    }\n\n    .dataframe tbody tr th {\n        vertical-align: top;\n    }\n\n    .dataframe thead th {\n        text-align: right;\n    }\n</style>\n<table border=\"1\" class=\"dataframe\">\n  <thead>\n    <tr style=\"text-align: right;\">\n      <th></th>\n      <th>call_letters</th>\n      <th>song_artist</th>\n      <th>format_mean_pop_AA</th>\n      <th>format_mean_pop_Core</th>\n      <th>format_mean_pop_Female_(18-24)</th>\n      <th>format_mean_pop_Female_Other</th>\n      <th>format_mean_pop_Hispanic</th>\n      <th>format_mean_pop_Non-Core</th>\n      <th>format_mean_pop_Old</th>\n      <th>format_mean_pop_White</th>\n      <th>...</th>\n      <th>gender_perc_diff</th>\n      <th>core_perc_diff</th>\n      <th>Hispanic_perc_diff</th>\n      <th>AA_perc_diff</th>\n      <th>age_perc_diff</th>\n      <th>fmt_gender_perc_diff</th>\n      <th>fmt_core_perc_diff</th>\n      <th>fmt_Hispanic_perc_diff</th>\n      <th>fmt_AA_perc_diff</th>\n      <th>fmt_age_perc_diff</th>\n    </tr>\n  </thead>\n  <tbody>\n    <tr>\n      <th>0</th>\n      <td>KHKS-FM</td>\n      <td>Anti-Hero (TAYLOR SWIFT)</td>\n      <td>NaN</td>\n      <td>82.127573</td>\n      <td>74.493818</td>\n      <td>82.430586</td>\n      <td>77.875460</td>\n      <td>75.613543</td>\n      <td>86.016667</td>\n      <td>80.256929</td>\n      <td>...</td>\n      <td>-0.067962</td>\n      <td>0.081432</td>\n      <td>0.182835</td>\n      <td>NaN</td>\n      <td>0.193180</td>\n      <td>-0.106543</td>\n      <td>0.079316</td>\n      <td>0.029673</td>\n      <td>NaN</td>\n      <td>0.140588</td>\n    </tr>\n    <tr>\n      <th>1</th>\n      <td>KHKS-FM</td>\n      <td>As It Was (HARRY STYLES)</td>\n      <td>NaN</td>\n      <td>87.830026</td>\n      <td>90.023646</td>\n      <td>84.171009</td>\n      <td>94.201023</td>\n      <td>82.341182</td>\n      <td>82.166940</td>\n      <td>79.737648</td>\n      <td>...</td>\n      <td>0.044965</td>\n      <td>0.090285</td>\n      <td>-0.148668</td>\n      <td>NaN</td>\n      <td>0.035893</td>\n      <td>0.065012</td>\n      <td>0.062494</td>\n      <td>-0.181387</td>\n      <td>NaN</td>\n      <td>-0.063984</td>\n    </tr>\n    <tr>\n      <th>2</th>\n      <td>KHKS-FM</td>\n      <td>Bad Habit (STEVE LACY)</td>\n      <td>NaN</td>\n      <td>82.013527</td>\n      <td>83.743150</td>\n      <td>74.907096</td>\n      <td>85.412874</td>\n      <td>76.392218</td>\n      <td>76.438781</td>\n      <td>73.508405</td>\n      <td>...</td>\n      <td>0.094261</td>\n      <td>0.065986</td>\n      <td>-0.118238</td>\n      <td>NaN</td>\n      <td>-0.088021</td>\n      <td>0.105514</td>\n      <td>0.068541</td>\n      <td>-0.161947</td>\n      <td>NaN</td>\n      <td>-0.097671</td>\n    </tr>\n    <tr>\n      <th>3</th>\n      <td>KHKS-FM</td>\n      <td>Boom Boom Pow (BLACK EYED PEAS)</td>\n      <td>NaN</td>\n      <td>87.812984</td>\n      <td>90.387504</td>\n      <td>77.715568</td>\n      <td>86.123436</td>\n      <td>82.396947</td>\n      <td>80.492144</td>\n      <td>85.384060</td>\n      <td>...</td>\n      <td>0.140196</td>\n      <td>0.061677</td>\n      <td>-0.008659</td>\n      <td>NaN</td>\n      <td>-0.084572</td>\n      <td>0.140196</td>\n      <td>0.061677</td>\n      <td>-0.008659</td>\n      <td>NaN</td>\n      <td>-0.084572</td>\n    </tr>\n    <tr>\n      <th>4</th>\n      <td>KHKS-FM</td>\n      <td>Buttons (PUSSYCAT DOLLS)</td>\n      <td>NaN</td>\n      <td>86.516694</td>\n      <td>82.136233</td>\n      <td>91.069995</td>\n      <td>99.091280</td>\n      <td>87.231928</td>\n      <td>97.709518</td>\n      <td>80.352152</td>\n      <td>...</td>\n      <td>-0.108768</td>\n      <td>-0.008267</td>\n      <td>-0.233213</td>\n      <td>NaN</td>\n      <td>0.145283</td>\n      <td>-0.108768</td>\n      <td>-0.008267</td>\n      <td>-0.233213</td>\n      <td>NaN</td>\n      <td>0.145283</td>\n    </tr>\n    <tr>\n      <th>...</th>\n      <td>...</td>\n      <td>...</td>\n      <td>...</td>\n      <td>...</td>\n      <td>...</td>\n      <td>...</td>\n      <td>...</td>\n      <td>...</td>\n      <td>...</td>\n      <td>...</td>\n      <td>...</td>\n      <td>...</td>\n      <td>...</td>\n      <td>...</td>\n      <td>...</td>\n      <td>...</td>\n      <td>...</td>\n      <td>...</td>\n      <td>...</td>\n      <td>...</td>\n      <td>...</td>\n    </tr>\n    <tr>\n      <th>266</th>\n      <td>WXKS-FM</td>\n      <td>Vegas (DOJA CAT)</td>\n      <td>NaN</td>\n      <td>84.072396</td>\n      <td>81.839631</td>\n      <td>82.003951</td>\n      <td>88.265450</td>\n      <td>78.923937</td>\n      <td>84.142427</td>\n      <td>78.469233</td>\n      <td>...</td>\n      <td>0.029666</td>\n      <td>0.030311</td>\n      <td>-0.127354</td>\n      <td>NaN</td>\n      <td>-0.029104</td>\n      <td>-0.002008</td>\n      <td>0.061238</td>\n      <td>-0.124842</td>\n      <td>NaN</td>\n      <td>0.037497</td>\n    </tr>\n    <tr>\n      <th>267</th>\n      <td>WXKS-FM</td>\n      <td>Victoria's Secret (JAX)</td>\n      <td>NaN</td>\n      <td>73.222142</td>\n      <td>64.877938</td>\n      <td>76.107715</td>\n      <td>69.238783</td>\n      <td>69.536516</td>\n      <td>80.209057</td>\n      <td>72.500145</td>\n      <td>...</td>\n      <td>-0.213936</td>\n      <td>0.119329</td>\n      <td>-0.152029</td>\n      <td>NaN</td>\n      <td>0.237523</td>\n      <td>-0.173091</td>\n      <td>0.050335</td>\n      <td>0.044984</td>\n      <td>NaN</td>\n      <td>0.195822</td>\n    </tr>\n    <tr>\n      <th>268</th>\n      <td>WXKS-FM</td>\n      <td>Woman (DOJA CAT)</td>\n      <td>NaN</td>\n      <td>83.718492</td>\n      <td>83.042887</td>\n      <td>81.353243</td>\n      <td>92.664696</td>\n      <td>79.354223</td>\n      <td>80.407841</td>\n      <td>72.435204</td>\n      <td>...</td>\n      <td>-0.013612</td>\n      <td>0.079455</td>\n      <td>-0.226460</td>\n      <td>NaN</td>\n      <td>-0.005061</td>\n      <td>0.020347</td>\n      <td>0.052130</td>\n      <td>-0.279277</td>\n      <td>NaN</td>\n      <td>-0.018829</td>\n    </tr>\n    <tr>\n      <th>269</th>\n      <td>WXKS-FM</td>\n      <td>You Right f/The Weeknd (DOJA CAT)</td>\n      <td>NaN</td>\n      <td>83.671756</td>\n      <td>84.169472</td>\n      <td>80.022909</td>\n      <td>90.194286</td>\n      <td>79.885553</td>\n      <td>79.546257</td>\n      <td>76.597232</td>\n      <td>...</td>\n      <td>0.029268</td>\n      <td>0.008617</td>\n      <td>-0.200608</td>\n      <td>NaN</td>\n      <td>-0.031093</td>\n      <td>0.049264</td>\n      <td>0.045251</td>\n      <td>-0.177514</td>\n      <td>NaN</td>\n      <td>-0.054413</td>\n    </tr>\n    <tr>\n      <th>270</th>\n      <td>WXKS-FM</td>\n      <td>good 4 u (OLIVIA RODRIGO)</td>\n      <td>NaN</td>\n      <td>83.780845</td>\n      <td>81.939083</td>\n      <td>82.292336</td>\n      <td>84.590987</td>\n      <td>81.481163</td>\n      <td>84.840943</td>\n      <td>80.900666</td>\n      <td>...</td>\n      <td>-0.008973</td>\n      <td>0.042929</td>\n      <td>0.007536</td>\n      <td>NaN</td>\n      <td>0.077086</td>\n      <td>-0.004311</td>\n      <td>0.027449</td>\n      <td>-0.045615</td>\n      <td>NaN</td>\n      <td>0.055339</td>\n    </tr>\n  </tbody>\n</table>\n<p>271 rows × 50 columns</p>\n</div>"
     },
     "execution_count": 161,
     "metadata": {},
     "output_type": "execute_result"
    }
   ],
   "source": [
    "df_out_pvt.reset_index()"
   ],
   "metadata": {
    "collapsed": false
   }
  },
  {
   "cell_type": "code",
   "execution_count": 162,
   "outputs": [],
   "source": [
    "out_stations = pd.unique(df_out_pvt.index.get_level_values(0))"
   ],
   "metadata": {
    "collapsed": false
   }
  },
  {
   "cell_type": "code",
   "execution_count": 163,
   "outputs": [],
   "source": [
    "with pd.ExcelWriter('Score_Gaps_by_Demographic_012023.xlsx') as writer:\n",
    "    for stat in out_stations:\n",
    "        idx = df_out_pvt[df_out_pvt.index.get_level_values(0) == stat].index\n",
    "        df_out_pvt.loc[idx].to_excel(writer, sheet_name=stat)"
   ],
   "metadata": {
    "collapsed": false
   }
  },
  {
   "cell_type": "code",
   "execution_count": 164,
   "outputs": [],
   "source": [
    "with pd.ExcelWriter('Score_Gaps_by_Demographic_012023.xlsx') as writer:\n",
    "    df_out_pvt.to_excel(writer, sheet_name='Master')"
   ],
   "metadata": {
    "collapsed": false
   }
  }
 ],
 "metadata": {
  "kernelspec": {
   "display_name": "Python 3",
   "language": "python",
   "name": "python3"
  },
  "language_info": {
   "codemirror_mode": {
    "name": "ipython",
    "version": 2
   },
   "file_extension": ".py",
   "mimetype": "text/x-python",
   "name": "python",
   "nbconvert_exporter": "python",
   "pygments_lexer": "ipython2",
   "version": "2.7.6"
  }
 },
 "nbformat": 4,
 "nbformat_minor": 0
}
