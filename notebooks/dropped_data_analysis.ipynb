{
 "cells": [
  {
   "cell_type": "code",
   "execution_count": 4,
   "metadata": {
    "collapsed": true
   },
   "outputs": [],
   "source": [
    "# import packages\n",
    "import pandas as pd\n",
    "import pickle as pkl\n",
    "import os"
   ]
  },
  {
   "cell_type": "code",
   "execution_count": 5,
   "outputs": [],
   "source": [
    "train_file_dir =  '/Users/girishhanumantha/Documents/GitHub/adds-rr-demo-modeling/data/processed/rr_demo_features_train_h1.pkl'"
   ],
   "metadata": {
    "collapsed": false,
    "pycharm": {
     "name": "#%%\n"
    }
   }
  },
  {
   "cell_type": "code",
   "execution_count": 6,
   "outputs": [],
   "source": [
    "# read training data\n",
    "df_train = pd.read_pickle(train_file_dir)"
   ],
   "metadata": {
    "collapsed": false,
    "pycharm": {
     "name": "#%%\n"
    }
   }
  },
  {
   "cell_type": "code",
   "execution_count": 7,
   "outputs": [],
   "source": [
    "df_grp = df_train.groupby(['demo_category'])"
   ],
   "metadata": {
    "collapsed": false,
    "pycharm": {
     "name": "#%%\n"
    }
   }
  },
  {
   "cell_type": "code",
   "execution_count": 8,
   "outputs": [
    {
     "name": "stdout",
     "output_type": "stream",
     "text": [
      "Age\n",
      "100\n",
      "90508\n",
      "0.0011048747072082026\n",
      "Core-Cume\n",
      "100\n",
      "90310\n",
      "0.0011072970878086591\n",
      "Gender\n",
      "30\n",
      "81762\n",
      "0.00036691861745064946\n",
      "Race\n",
      "21\n",
      "79074\n",
      "0.000265574019273086\n",
      "Total\n",
      "50\n",
      "45254\n",
      "0.0011048747072082026\n"
     ]
    }
   ],
   "source": [
    "for grp in df_grp.groups:\n",
    "    print(grp)\n",
    "    print(len(df_grp.get_group(grp).dropna()))\n",
    "    print(len(df_grp.get_group(grp)))\n",
    "    print(len(df_grp.get_group(grp).dropna())/len(df_grp.get_group(grp)))"
   ],
   "metadata": {
    "collapsed": false,
    "pycharm": {
     "name": "#%%\n"
    }
   }
  },
  {
   "cell_type": "code",
   "execution_count": 9,
   "outputs": [],
   "source": [
    "cols_pop = pd.DataFrame(columns=['col_name', 'perc_avl'])\n",
    "for col in df_train.columns:\n",
    "    cols_temp = pd.DataFrame([(col, len(df_train[~pd.isna(df_train[col])])/(1.0*(len(df_train))))], columns=['col_name', 'perc_avl'])\n",
    "    cols_pop = pd.concat([cols_pop, cols_temp])"
   ],
   "metadata": {
    "collapsed": false,
    "pycharm": {
     "name": "#%%\n"
    }
   }
  },
  {
   "cell_type": "code",
   "execution_count": 10,
   "outputs": [
    {
     "data": {
      "text/plain": "                        col_name  perc_avl\n0                        pop_omt  0.064716\n0                  med_pop_prior  0.857853\n0          mean_pop_artist_prior  0.857853\n0                   mr_pop_prior  0.857853\n0                  max_pop_prior  0.857853\n..                           ...       ...\n0     diff_song_univ_spins_prior  1.000000\n0          mr_market_spins_spins  1.000000\n0               feat_artist_song  1.000000\n0   diff_artist_univ_spins_prior  1.000000\n0                 taa_quintile_5  1.000000\n\n[133 rows x 2 columns]",
      "text/html": "<div>\n<style scoped>\n    .dataframe tbody tr th:only-of-type {\n        vertical-align: middle;\n    }\n\n    .dataframe tbody tr th {\n        vertical-align: top;\n    }\n\n    .dataframe thead th {\n        text-align: right;\n    }\n</style>\n<table border=\"1\" class=\"dataframe\">\n  <thead>\n    <tr style=\"text-align: right;\">\n      <th></th>\n      <th>col_name</th>\n      <th>perc_avl</th>\n    </tr>\n  </thead>\n  <tbody>\n    <tr>\n      <th>0</th>\n      <td>pop_omt</td>\n      <td>0.064716</td>\n    </tr>\n    <tr>\n      <th>0</th>\n      <td>med_pop_prior</td>\n      <td>0.857853</td>\n    </tr>\n    <tr>\n      <th>0</th>\n      <td>mean_pop_artist_prior</td>\n      <td>0.857853</td>\n    </tr>\n    <tr>\n      <th>0</th>\n      <td>mr_pop_prior</td>\n      <td>0.857853</td>\n    </tr>\n    <tr>\n      <th>0</th>\n      <td>max_pop_prior</td>\n      <td>0.857853</td>\n    </tr>\n    <tr>\n      <th>...</th>\n      <td>...</td>\n      <td>...</td>\n    </tr>\n    <tr>\n      <th>0</th>\n      <td>diff_song_univ_spins_prior</td>\n      <td>1.000000</td>\n    </tr>\n    <tr>\n      <th>0</th>\n      <td>mr_market_spins_spins</td>\n      <td>1.000000</td>\n    </tr>\n    <tr>\n      <th>0</th>\n      <td>feat_artist_song</td>\n      <td>1.000000</td>\n    </tr>\n    <tr>\n      <th>0</th>\n      <td>diff_artist_univ_spins_prior</td>\n      <td>1.000000</td>\n    </tr>\n    <tr>\n      <th>0</th>\n      <td>taa_quintile_5</td>\n      <td>1.000000</td>\n    </tr>\n  </tbody>\n</table>\n<p>133 rows × 2 columns</p>\n</div>"
     },
     "execution_count": 10,
     "metadata": {},
     "output_type": "execute_result"
    }
   ],
   "source": [
    "cols_pop.sort_values(by=['perc_avl'])"
   ],
   "metadata": {
    "collapsed": false,
    "pycharm": {
     "name": "#%%\n"
    }
   }
  },
  {
   "cell_type": "code",
   "execution_count": 15,
   "outputs": [
    {
     "data": {
      "text/plain": "segment_Female_(18-24)    40881\nsegment_Female_Other      40881\ndtype: int64"
     },
     "execution_count": 15,
     "metadata": {},
     "output_type": "execute_result"
    }
   ],
   "source": [
    "df_train[(df_train['demo_category'] == 'Gender')][['segment_Female_(18-24)', 'segment_Female_Other']].sum()"
   ],
   "metadata": {
    "collapsed": false,
    "pycharm": {
     "name": "#%%\n"
    }
   }
  },
  {
   "cell_type": "code",
   "execution_count": 16,
   "outputs": [],
   "source": [
    "score_file_dir =  '/Users/girishhanumantha/Documents/GitHub/adds-rr-demo-modeling/data/processed/rr_demo_features_score_h1.pkl'"
   ],
   "metadata": {
    "collapsed": false,
    "pycharm": {
     "name": "#%%\n"
    }
   }
  },
  {
   "cell_type": "code",
   "execution_count": 27,
   "outputs": [],
   "source": [
    "# read scoring data\n",
    "df_score = pd.read_pickle(score_file_dir)"
   ],
   "metadata": {
    "collapsed": false,
    "pycharm": {
     "name": "#%%\n"
    }
   }
  },
  {
   "cell_type": "code",
   "execution_count": 28,
   "outputs": [
    {
     "data": {
      "text/plain": "       mediabase_id    station_id    breakout_id       pop_co  pop_omt  \\\ncount  5.487000e+04  5.487000e+04   54870.000000  4379.000000      0.0   \nmean   2.240036e+06  3.349295e+06  272167.166466    77.962092      NaN   \nstd    5.032721e+05  1.934679e+05  183108.087922    12.880727      NaN   \nmin    1.085550e+06  3.321797e+06      -2.000000    12.000000      NaN   \n25%    1.828077e+06  3.322025e+06       1.000000    70.000000      NaN   \n50%    2.394316e+06  3.322828e+06  400803.000000    79.000000      NaN   \n75%    2.691407e+06  3.323415e+06  401515.000000    87.000000      NaN   \nmax    2.848773e+06  4.762077e+06  428785.000000   142.000000      NaN   \n\n       spins_am_pm_dr  format_spins  song_univ_spins  min_pop_prior  \\\ncount    54870.000000  54870.000000     54870.000000   54303.000000   \nmean         4.227957    173.260379       429.407035      73.719518   \nstd         11.068909    415.030587       932.831265      15.391633   \nmin          0.000000      0.000000         0.000000       1.000000   \n25%          0.000000      9.000000        25.000000      63.000000   \n50%          0.000000     33.000000        82.000000      73.000000   \n75%          3.000000     86.000000       283.000000      85.000000   \nmax         75.000000   2716.000000      5310.000000     135.000000   \n\n       diff_spins_song_station_prior  ...  segment_Core  \\\ncount                   54870.000000  ...  54870.000000   \nmean                       -0.202096  ...      0.109550   \nstd                         3.705250  ...      0.312331   \nmin                       -59.000000  ...      0.000000   \n25%                         0.000000  ...      0.000000   \n50%                         0.000000  ...      0.000000   \n75%                         0.000000  ...      0.000000   \nmax                        44.000000  ...      1.000000   \n\n       segment_Female_(18-24)  segment_Female_Other  segment_Hispanic  \\\ncount            54870.000000          54870.000000      54870.000000   \nmean                 0.087644              0.087644          0.057500   \nstd                  0.282778              0.282778          0.232797   \nmin                  0.000000              0.000000          0.000000   \n25%                  0.000000              0.000000          0.000000   \n50%                  0.000000              0.000000          0.000000   \n75%                  0.000000              0.000000          0.000000   \nmax                  1.000000              1.000000          1.000000   \n\n       segment_Non-Core   segment_Old  segment_Total  segment_White  \\\ncount      54870.000000  54870.000000   54870.000000   54870.000000   \nmean           0.109459      0.109550       0.109550       0.100875   \nstd            0.312217      0.312331       0.312331       0.301166   \nmin            0.000000      0.000000       0.000000       0.000000   \n25%            0.000000      0.000000       0.000000       0.000000   \n50%            0.000000      0.000000       0.000000       0.000000   \n75%            0.000000      0.000000       0.000000       0.000000   \nmax            1.000000      1.000000       1.000000       1.000000   \n\n       segment_Young  omt_co_flag_CO_only  \ncount   54870.000000         54870.000000  \nmean        0.109550             0.079807  \nstd         0.312331             0.270996  \nmin         0.000000             0.000000  \n25%         0.000000             0.000000  \n50%         0.000000             0.000000  \n75%         0.000000             0.000000  \nmax         1.000000             1.000000  \n\n[8 rows x 127 columns]",
      "text/html": "<div>\n<style scoped>\n    .dataframe tbody tr th:only-of-type {\n        vertical-align: middle;\n    }\n\n    .dataframe tbody tr th {\n        vertical-align: top;\n    }\n\n    .dataframe thead th {\n        text-align: right;\n    }\n</style>\n<table border=\"1\" class=\"dataframe\">\n  <thead>\n    <tr style=\"text-align: right;\">\n      <th></th>\n      <th>mediabase_id</th>\n      <th>station_id</th>\n      <th>breakout_id</th>\n      <th>pop_co</th>\n      <th>pop_omt</th>\n      <th>spins_am_pm_dr</th>\n      <th>format_spins</th>\n      <th>song_univ_spins</th>\n      <th>min_pop_prior</th>\n      <th>diff_spins_song_station_prior</th>\n      <th>...</th>\n      <th>segment_Core</th>\n      <th>segment_Female_(18-24)</th>\n      <th>segment_Female_Other</th>\n      <th>segment_Hispanic</th>\n      <th>segment_Non-Core</th>\n      <th>segment_Old</th>\n      <th>segment_Total</th>\n      <th>segment_White</th>\n      <th>segment_Young</th>\n      <th>omt_co_flag_CO_only</th>\n    </tr>\n  </thead>\n  <tbody>\n    <tr>\n      <th>count</th>\n      <td>5.487000e+04</td>\n      <td>5.487000e+04</td>\n      <td>54870.000000</td>\n      <td>4379.000000</td>\n      <td>0.0</td>\n      <td>54870.000000</td>\n      <td>54870.000000</td>\n      <td>54870.000000</td>\n      <td>54303.000000</td>\n      <td>54870.000000</td>\n      <td>...</td>\n      <td>54870.000000</td>\n      <td>54870.000000</td>\n      <td>54870.000000</td>\n      <td>54870.000000</td>\n      <td>54870.000000</td>\n      <td>54870.000000</td>\n      <td>54870.000000</td>\n      <td>54870.000000</td>\n      <td>54870.000000</td>\n      <td>54870.000000</td>\n    </tr>\n    <tr>\n      <th>mean</th>\n      <td>2.240036e+06</td>\n      <td>3.349295e+06</td>\n      <td>272167.166466</td>\n      <td>77.962092</td>\n      <td>NaN</td>\n      <td>4.227957</td>\n      <td>173.260379</td>\n      <td>429.407035</td>\n      <td>73.719518</td>\n      <td>-0.202096</td>\n      <td>...</td>\n      <td>0.109550</td>\n      <td>0.087644</td>\n      <td>0.087644</td>\n      <td>0.057500</td>\n      <td>0.109459</td>\n      <td>0.109550</td>\n      <td>0.109550</td>\n      <td>0.100875</td>\n      <td>0.109550</td>\n      <td>0.079807</td>\n    </tr>\n    <tr>\n      <th>std</th>\n      <td>5.032721e+05</td>\n      <td>1.934679e+05</td>\n      <td>183108.087922</td>\n      <td>12.880727</td>\n      <td>NaN</td>\n      <td>11.068909</td>\n      <td>415.030587</td>\n      <td>932.831265</td>\n      <td>15.391633</td>\n      <td>3.705250</td>\n      <td>...</td>\n      <td>0.312331</td>\n      <td>0.282778</td>\n      <td>0.282778</td>\n      <td>0.232797</td>\n      <td>0.312217</td>\n      <td>0.312331</td>\n      <td>0.312331</td>\n      <td>0.301166</td>\n      <td>0.312331</td>\n      <td>0.270996</td>\n    </tr>\n    <tr>\n      <th>min</th>\n      <td>1.085550e+06</td>\n      <td>3.321797e+06</td>\n      <td>-2.000000</td>\n      <td>12.000000</td>\n      <td>NaN</td>\n      <td>0.000000</td>\n      <td>0.000000</td>\n      <td>0.000000</td>\n      <td>1.000000</td>\n      <td>-59.000000</td>\n      <td>...</td>\n      <td>0.000000</td>\n      <td>0.000000</td>\n      <td>0.000000</td>\n      <td>0.000000</td>\n      <td>0.000000</td>\n      <td>0.000000</td>\n      <td>0.000000</td>\n      <td>0.000000</td>\n      <td>0.000000</td>\n      <td>0.000000</td>\n    </tr>\n    <tr>\n      <th>25%</th>\n      <td>1.828077e+06</td>\n      <td>3.322025e+06</td>\n      <td>1.000000</td>\n      <td>70.000000</td>\n      <td>NaN</td>\n      <td>0.000000</td>\n      <td>9.000000</td>\n      <td>25.000000</td>\n      <td>63.000000</td>\n      <td>0.000000</td>\n      <td>...</td>\n      <td>0.000000</td>\n      <td>0.000000</td>\n      <td>0.000000</td>\n      <td>0.000000</td>\n      <td>0.000000</td>\n      <td>0.000000</td>\n      <td>0.000000</td>\n      <td>0.000000</td>\n      <td>0.000000</td>\n      <td>0.000000</td>\n    </tr>\n    <tr>\n      <th>50%</th>\n      <td>2.394316e+06</td>\n      <td>3.322828e+06</td>\n      <td>400803.000000</td>\n      <td>79.000000</td>\n      <td>NaN</td>\n      <td>0.000000</td>\n      <td>33.000000</td>\n      <td>82.000000</td>\n      <td>73.000000</td>\n      <td>0.000000</td>\n      <td>...</td>\n      <td>0.000000</td>\n      <td>0.000000</td>\n      <td>0.000000</td>\n      <td>0.000000</td>\n      <td>0.000000</td>\n      <td>0.000000</td>\n      <td>0.000000</td>\n      <td>0.000000</td>\n      <td>0.000000</td>\n      <td>0.000000</td>\n    </tr>\n    <tr>\n      <th>75%</th>\n      <td>2.691407e+06</td>\n      <td>3.323415e+06</td>\n      <td>401515.000000</td>\n      <td>87.000000</td>\n      <td>NaN</td>\n      <td>3.000000</td>\n      <td>86.000000</td>\n      <td>283.000000</td>\n      <td>85.000000</td>\n      <td>0.000000</td>\n      <td>...</td>\n      <td>0.000000</td>\n      <td>0.000000</td>\n      <td>0.000000</td>\n      <td>0.000000</td>\n      <td>0.000000</td>\n      <td>0.000000</td>\n      <td>0.000000</td>\n      <td>0.000000</td>\n      <td>0.000000</td>\n      <td>0.000000</td>\n    </tr>\n    <tr>\n      <th>max</th>\n      <td>2.848773e+06</td>\n      <td>4.762077e+06</td>\n      <td>428785.000000</td>\n      <td>142.000000</td>\n      <td>NaN</td>\n      <td>75.000000</td>\n      <td>2716.000000</td>\n      <td>5310.000000</td>\n      <td>135.000000</td>\n      <td>44.000000</td>\n      <td>...</td>\n      <td>1.000000</td>\n      <td>1.000000</td>\n      <td>1.000000</td>\n      <td>1.000000</td>\n      <td>1.000000</td>\n      <td>1.000000</td>\n      <td>1.000000</td>\n      <td>1.000000</td>\n      <td>1.000000</td>\n      <td>1.000000</td>\n    </tr>\n  </tbody>\n</table>\n<p>8 rows × 127 columns</p>\n</div>"
     },
     "execution_count": 28,
     "metadata": {},
     "output_type": "execute_result"
    }
   ],
   "source": [
    "df_score.describe()"
   ],
   "metadata": {
    "collapsed": false,
    "pycharm": {
     "name": "#%%\n"
    }
   }
  },
  {
   "cell_type": "code",
   "execution_count": 24,
   "outputs": [
    {
     "data": {
      "text/plain": "157      2022-11-27\n313      2022-11-20\n793      2022-11-13\n312      2022-11-06\n9        2022-10-30\n            ...    \n34230    2021-01-10\n34813    2021-01-03\n4522     2020-12-27\n1844     2020-12-06\n1821     2020-11-29\nName: week_dt, Length: 97, dtype: object"
     },
     "execution_count": 24,
     "metadata": {},
     "output_type": "execute_result"
    }
   ],
   "source": [
    "df_train['week_dt'].drop_duplicates().sort_values(ascending=False)"
   ],
   "metadata": {
    "collapsed": false,
    "pycharm": {
     "name": "#%%\n"
    }
   }
  },
  {
   "cell_type": "code",
   "execution_count": 31,
   "outputs": [
    {
     "data": {
      "text/plain": "{'omt_co_flag_OMT_CO', 'omt_co_flag_OMT_only'}"
     },
     "execution_count": 31,
     "metadata": {},
     "output_type": "execute_result"
    }
   ],
   "source": [
    "set(df_train.columns)-(set(df_score.columns))"
   ],
   "metadata": {
    "collapsed": false,
    "pycharm": {
     "name": "#%%\n"
    }
   }
  },
  {
   "cell_type": "code",
   "execution_count": 33,
   "outputs": [
    {
     "data": {
      "text/plain": "['mediabase_id',\n 'station_id',\n 'week_dt',\n 'breakout_id',\n 'demo_category',\n 'pop_co',\n 'pop_omt',\n 'gcr',\n 'gcr_adj',\n 'artist_count',\n 'count_pop_artist_prior',\n 'mr_spins_song_station_prior',\n 'song_station_weeks_since_last_spins',\n 'max_pop_artist_prior',\n 'spins_am_pm_dr',\n 'min_pop_artist_prior_unv',\n 'diff_spins_artist_station_prior',\n 'market_spins',\n 'avg_spins_song_station_prior',\n 'mr_spins_song_market_prior',\n 'avg_market_artist_spins_prior',\n 'market_artist_spins',\n 'format_spins',\n 'song_station_weeks_since_first_spins',\n 'song_last_test_co_weeks',\n 'total_market_spins_prior',\n 'per_diff_market_spins_spins_prior',\n 'diff_spins_song_station_prior',\n 'mr_pop_artist_prior_unv',\n 'spins_total',\n 'mean_pop_prior',\n 'mr_artist_univ_spins',\n 'total_spins_non_on_song_station_prior',\n 'avg_song_univ_spins_prior',\n 'mean_pop_artist_prior_unv',\n 'per_diff_song_univ_spins_prior',\n 'total_station_artist_spins_prior',\n 'song_last_test_any_weeks',\n 'total_artist_univ_spins_prior',\n 'avg_market_spins_prior',\n 'artist_weeks_since_first_spins',\n 'mr_pop_prior',\n 'artist_univ_spins',\n 'feat_artist_song',\n 'mr_market_spins_spins',\n 'diff_song_univ_spins_prior',\n 'mean_pop_artist_prior',\n 'max_pop_prior_unv',\n 'mr_pop_prior_unv',\n 'mr_spins_artist_station_prior',\n 'feat_artist',\n 'song_weeks_since_first_spins',\n 'max_pop_artist_prior_unv',\n 'song_weeks_since_last_spins',\n 'song_market_weeks_since_first_spins',\n 'spins_non_on',\n 'artist_station_weeks_since_first_spins',\n 'total_song_univ_spins_prior',\n 'min_pop_prior_unv',\n 'min_pop_prior',\n 'mr_song_univ_spins_prior',\n 'count_pop_artist_prior_unv',\n 'station_spins',\n 'song_univ_spins',\n 'avg_artist_univ_spins_prior',\n 'med_pop_prior',\n 'perc_diff_spins_song_station_prior',\n 'song_age_weeks',\n 'count_pop_prior_unv',\n 'total_spins_song_station_prior',\n 'diff_market_spins_spins_prior',\n 'perc_diff_spins_song_market_prior',\n 'min_pop_artist_prior',\n 'mean_pop_prior_unv',\n 'diff_market_artist_spins_prior',\n 'max_pop_prior',\n 'mr_market_artist_spins_prior',\n 'format_artist_spins',\n 'station_artist_spins',\n 'avg_station_artist_spins_prior',\n 'diff_artist_univ_spins_prior',\n 'total_market_artist_spins_prior',\n 'diff_spins_song_market_prior',\n 'per_diff_artist_univ_spins_prior',\n 'per_diff_market_artist_spins_prior',\n 'pop_all',\n 'segment_AA',\n 'segment_Core',\n 'segment_Female_(18-24)',\n 'segment_Female_Other',\n 'segment_Hispanic',\n 'segment_Non-Core',\n 'segment_Old',\n 'segment_Total',\n 'segment_White',\n 'segment_Young',\n 'Market_Name_Atlanta',\n 'Market_Name_Austin',\n 'Market_Name_Baltimore',\n 'Market_Name_Boston',\n 'Market_Name_Charlotte',\n 'Market_Name_Chicago',\n 'Market_Name_Cincinnati',\n 'Market_Name_Columbus, OH',\n 'Market_Name_Dallas',\n 'Market_Name_Denver',\n 'Market_Name_Detroit',\n 'Market_Name_Los Angeles',\n 'Market_Name_Miami',\n 'Market_Name_Minneapolis',\n 'Market_Name_Nashville',\n 'Market_Name_New York',\n 'Market_Name_Orlando',\n 'Market_Name_Philadelphia',\n 'Market_Name_Phoenix',\n 'Market_Name_Pittsburgh',\n 'Market_Name_Portland, OR',\n 'Market_Name_Raleigh',\n 'Market_Name_Salt Lake City',\n 'Market_Name_San Diego',\n 'Market_Name_San Francisco',\n 'Market_Name_Seattle',\n 'Market_Name_St. Louis',\n 'Market_Name_Tampa',\n 'Market_Name_Washington, DC',\n 'omt_co_flag_CO_only',\n 'omt_co_flag_OMT_CO',\n 'omt_co_flag_OMT_only',\n 'taa_quintile_1',\n 'taa_quintile_2',\n 'taa_quintile_3',\n 'taa_quintile_4',\n 'taa_quintile_5']"
     },
     "execution_count": 33,
     "metadata": {},
     "output_type": "execute_result"
    }
   ],
   "source": [
    "list(df_train.columns)"
   ],
   "metadata": {
    "collapsed": false,
    "pycharm": {
     "name": "#%%\n"
    }
   }
  }
 ],
 "metadata": {
  "kernelspec": {
   "display_name": "Python 3",
   "language": "python",
   "name": "python3"
  },
  "language_info": {
   "codemirror_mode": {
    "name": "ipython",
    "version": 2
   },
   "file_extension": ".py",
   "mimetype": "text/x-python",
   "name": "python",
   "nbconvert_exporter": "python",
   "pygments_lexer": "ipython2",
   "version": "2.7.6"
  }
 },
 "nbformat": 4,
 "nbformat_minor": 0
}