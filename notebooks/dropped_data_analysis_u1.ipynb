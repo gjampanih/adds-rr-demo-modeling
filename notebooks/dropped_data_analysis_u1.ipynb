{
 "cells": [
  {
   "cell_type": "code",
   "execution_count": 2,
   "outputs": [],
   "source": [
    "# import packages\n",
    "import pandas as pd\n",
    "import pickle as pkl\n",
    "import os\n",
    "import numpy as np"
   ],
   "metadata": {
    "collapsed": false
   }
  },
  {
   "cell_type": "code",
   "execution_count": 3,
   "outputs": [],
   "source": [
    "from sqlalchemy import create_engine\n",
    "\n",
    "def postgresql_engine(user, pwd, host, port, dbname):\n",
    "    # Need pyycopg2-binary package\n",
    "    sql_engine = create_engine('postgres://' + user + ':' + pwd + '@' + host + ':' + port + '/' + dbname, echo=False)\n",
    "    return sql_engine"
   ],
   "metadata": {
    "collapsed": false
   }
  },
  {
   "cell_type": "code",
   "execution_count": 4,
   "outputs": [],
   "source": [
    "# DB username and password\n",
    "import getpass\n",
    "\n",
    "user = getpass.getpass()\n",
    "pwd = getpass.getpass()"
   ],
   "metadata": {
    "collapsed": false
   }
  },
  {
   "cell_type": "code",
   "execution_count": 6,
   "outputs": [],
   "source": [
    "# misc db parameters\n",
    "host= 'adds-postgres-dev.cfgztrijqgvp.us-east-1.rds.amazonaws.com'\n",
    "dbname= 'musiclab'\n",
    "port= '5432'"
   ],
   "metadata": {
    "collapsed": false
   }
  },
  {
   "cell_type": "code",
   "execution_count": 19,
   "outputs": [],
   "source": [
    "# get callout research for songs released in the past 2 years\n",
    "format_code = 'U1'\n",
    "data_query_train = f'''\n",
    "Select *\n",
    "from adds_temp.demo_rr_features_{format_code.lower()} as rdfh\n",
    "where pop_all is not null\n",
    "'''"
   ],
   "metadata": {
    "collapsed": false
   }
  },
  {
   "cell_type": "code",
   "execution_count": 17,
   "outputs": [],
   "source": [
    "filter_rules = '''and song_weeks_since_last_spins <=13\n",
    "and ((song_last_test_co_weeks <=26)\n",
    "or (song_last_test_omt_weeks <=104)\n",
    "or format_code in ('u4','l2'))\n",
    "and (((station_test_1_plus=0 and station_test_1_id=1) or station_test_1_plus>0) or format_code in ('u4','l2'))\n",
    "and (format_code<>'h1' or station_id<>3323403)\n",
    "and (format_code<>'c1' or station_id<>3322825)\n",
    "and (format_code<>'a2' or station_id<>3322799 or gcr<>'G')\n",
    "and taa_quintile is not null\n",
    "and gcr_adj is not null\n",
    "'''"
   ],
   "metadata": {
    "collapsed": false
   }
  },
  {
   "cell_type": "code",
   "execution_count": 20,
   "outputs": [
    {
     "name": "stdout",
     "output_type": "stream",
     "text": [
      "\n",
      "Select *\n",
      "from adds_temp.demo_rr_features_u1 as rdfh\n",
      "where pop_all is not null\n",
      "and song_weeks_since_last_spins <=13\n",
      "and ((song_last_test_co_weeks <=26)\n",
      "or (song_last_test_omt_weeks <=104)\n",
      "or format_code in ('u4','l2'))\n",
      "and (((station_test_1_plus=0 and station_test_1_id=1) or station_test_1_plus>0) or format_code in ('u4','l2'))\n",
      "and (format_code<>'h1' or station_id<>3323403)\n",
      "and (format_code<>'c1' or station_id<>3322825)\n",
      "and (format_code<>'a2' or station_id<>3322799 or gcr<>'G')\n",
      "and taa_quintile is not null\n",
      "and gcr_adj is not null\n",
      "\n"
     ]
    }
   ],
   "source": [
    "print(data_query_train + filter_rules)"
   ],
   "metadata": {
    "collapsed": false
   }
  },
  {
   "cell_type": "code",
   "execution_count": 22,
   "outputs": [],
   "source": [
    "engine = postgresql_engine(user, pwd, host, port, dbname)\n",
    "with engine.connect() as con:\n",
    "    with con.connect():\n",
    "        df_train = pd.read_sql(data_query_train + filter_rules, con=con)"
   ],
   "metadata": {
    "collapsed": false
   }
  },
  {
   "cell_type": "code",
   "execution_count": 23,
   "outputs": [],
   "source": [
    "#write to pkl file\n",
    "df_train.to_pickle('df_train_U1_2023_02_19_2021_02_26.pkl')"
   ],
   "metadata": {
    "collapsed": false
   }
  },
  {
   "cell_type": "code",
   "execution_count": 13,
   "outputs": [],
   "source": [
    "# read from pickle file\n",
    "df_train = pd.read_pickle('df_train_U1_2023_02_19_2021_02_26.pkl')"
   ],
   "metadata": {
    "collapsed": false
   }
  },
  {
   "cell_type": "code",
   "execution_count": 24,
   "outputs": [],
   "source": [
    "df_train.sort_values(by=['station_id', 'mediabase_id', 'breakout_name', 'week_dt', ], inplace=True)"
   ],
   "metadata": {
    "collapsed": false
   }
  },
  {
   "cell_type": "code",
   "execution_count": 25,
   "outputs": [
    {
     "data": {
      "text/plain": "breakout_name\n*Core*       19697\n*Old*        20913\n*Young*      20820\nAA           11291\nF (15-22)      965\nF (15-24)     1424\nF (16-19)      110\nF (16-21)     3563\nF (16-22)     3923\nF (16-24)     6168\nF (16-28)     1035\nF (17-28)     1145\nF (18-23)     2091\nF (18-24)    11057\nF (18-27)      992\nF (18-29)      545\nF (20-24)     1024\nF (22-27)     3563\nF (23-29)     3026\nF (24-27)     2091\nF (25-27)      179\nF (25-29)     2185\nF (25-32)     1287\nF (25-34)    11991\nF (27-37)       73\nF (28-34)      992\nF (30-34)       33\nF (30-39)      545\nF (30-40)       73\nF (35-44)       73\nF (Other)    11059\nHispanic     10570\nNon-Core     19696\nTOTAL (F)    20912\nTOTAL (M)    20915\nTotal        20930\nWhite          439\nName: mediabase_id, dtype: int64"
     },
     "execution_count": 25,
     "metadata": {},
     "output_type": "execute_result"
    }
   ],
   "source": [
    "df_train.groupby(['breakout_name'])['mediabase_id'].count()"
   ],
   "metadata": {
    "collapsed": false
   }
  },
  {
   "cell_type": "code",
   "execution_count": 26,
   "outputs": [],
   "source": [
    "# define demo segments and categories\n",
    "breakout_category = {'*Core*': 'Core-Cume', '*Old*': 'Age', '*Young*': 'Age', 'Total': 'Total', 'White': 'Race',\n",
    "                     'Non-Core': 'Core-Cume',\n",
    "                     'Hispanic': 'Race', 'AA': 'Race', 'TOTAL (F)': 'Gender', 'TOTAL (M)': 'Gender', 'WAO': 'Race',\n",
    "                     'F (25-29)': 'Gender', 'F (20-24)': 'Gender', 'F (18-29)': 'Gender', 'F (17-29)': 'Gender',\n",
    "                     'F (20-23)': 'Gender', 'F (18-39)' : 'Gender',\n",
    "                     'F (16-24)': 'Gender', 'F (30-34)': 'Gender', 'F (18-34)': 'Gender', 'F (24-29)': 'Gender',\n",
    "                     'F (17-19)': 'Gender', 'F (15-26)': 'Gender', 'F (15-19)': 'Gender', 'F (15-24)': 'Gender',\n",
    "                     'F (18-24)': 'Gender', 'F (20-29)': 'Gender', 'F (25-34)': 'Gender', 'F (Other)': 'Gender'}\n",
    "\n",
    "breakout_map = {'*Core*': 'Core', '*Old*': 'Old', '*Young*': 'Young', 'Total': 'Total', 'White': 'White',\n",
    "                'Non-Core': 'Non-Core',\n",
    "                'Hispanic': 'Hispanic', 'AA': 'AA', 'TOTAL (F)': 'Total_Female', 'TOTAL (M)': 'Total_Male', 'WAO': 'White', 'F (25-29)': 'Female',\n",
    "                'F (20-24)': 'Female', 'F (18-29)': 'Female', 'F (17-29)': 'Female', 'F (20-23)': 'Female',\n",
    "                'F (16-24)': 'Female', 'F (30-34)': 'Female', 'F (18-34)': 'Female', 'F (24-29)': 'Female',\n",
    "                'F (17-19)': 'Female', 'F (18-39)' : 'Female',\n",
    "                'F (15-26)': 'Female', 'F (15-19)': 'Female', 'F (15-24)': 'Female',\n",
    "                'F (18-24)': 'Female', 'F (20-29)': 'Female', 'F (25-34)': 'Female',\n",
    "                'F (Other)': 'Female'}"
   ],
   "metadata": {
    "collapsed": false
   }
  },
  {
   "cell_type": "code",
   "execution_count": 27,
   "outputs": [],
   "source": [
    "# create segment and category fields\n",
    "df_train['segment'] = df_train['breakout_name'].apply(func=(lambda x: breakout_map[x] if (x in breakout_map.keys()) else None))\n",
    "df_train['demo_category'] = df_train['breakout_name'].apply(func=(lambda x: breakout_category[x] if x in breakout_category.keys() else None))"
   ],
   "metadata": {
    "collapsed": false
   }
  },
  {
   "cell_type": "code",
   "execution_count": 32,
   "outputs": [
    {
     "data": {
      "text/plain": "segment       demo_category\nAA            Race              9154\nCore          Core-Cume        17302\nHispanic      Race              9181\nNon-Core      Core-Cume        17302\nOld           Age              18330\nTotal         Total            18347\nTotal_Female  Gender           18330\nTotal_Male    Gender           18331\nWhite         Race               202\nYoung         Age              18230\nName: mediabase_id, dtype: int64"
     },
     "execution_count": 32,
     "metadata": {},
     "output_type": "execute_result"
    }
   ],
   "source": [
    "df_train.groupby(['segment', 'demo_category'])['mediabase_id'].count()"
   ],
   "metadata": {
    "collapsed": false
   }
  },
  {
   "cell_type": "code",
   "execution_count": 29,
   "outputs": [],
   "source": [
    "# drop misc female breakouts\n",
    "drop_idx = df_train[(df_train['segment'] == 'Female') | (pd.isna(df_train['segment']))].index\n",
    "df_train.drop(drop_idx, inplace=True)"
   ],
   "metadata": {
    "collapsed": false
   }
  },
  {
   "cell_type": "code",
   "execution_count": 31,
   "outputs": [],
   "source": [
    "# Drop songs with just a single score in the past 2 years\n",
    "df_train_week_ct = pd.DataFrame(df_train.groupby(['station_id', 'mediabase_id', 'breakout_id'])['week_dt'].count())\n",
    "drop_idx = df_train.join(df_train_week_ct[df_train_week_ct['week_dt'] == 1], on=['station_id', 'mediabase_id', 'breakout_id'], how='right', rsuffix='_r').index\n",
    "df_train.drop(index=drop_idx, inplace=True)"
   ],
   "metadata": {
    "collapsed": false
   }
  },
  {
   "cell_type": "code",
   "execution_count": 33,
   "outputs": [
    {
     "data": {
      "text/plain": "demo_category  segment       taa_quintile\nAge            Old           1               2156\n                             2               4238\n                             3               4045\n                             4               2994\n                             5               4897\n               Young         1               2142\n                             2               4213\n                             3               4017\n                             4               2983\n                             5               4875\nCore-Cume      Core          1               2118\n                             2               4107\n                             3               3821\n                             4               2819\n                             5               4437\n               Non-Core      1               2121\n                             2               4106\n                             3               3818\n                             4               2819\n                             5               4438\nGender         Total_Female  1               2153\n                             2               4238\n                             3               4050\n                             4               2993\n                             5               4896\n               Total_Male    1               2155\n                             2               4238\n                             3               4046\n                             4               2993\n                             5               4899\nRace           AA            1                826\n                             2               2364\n                             3               2218\n                             4               1631\n                             5               2115\n               Hispanic      1                827\n                             2               2369\n                             3               2226\n                             4               1639\n                             5               2120\n               White         1                 13\n                             2                 58\n                             3                 54\n                             4                 44\n                             5                 33\nTotal          Total         1               2153\n                             2               4241\n                             3               4049\n                             4               3001\n                             5               4903\nName: mediabase_id, dtype: int64"
     },
     "execution_count": 33,
     "metadata": {},
     "output_type": "execute_result"
    }
   ],
   "source": [
    "df_train.groupby(['demo_category', 'segment', 'taa_quintile'])['mediabase_id'].count()"
   ],
   "metadata": {
    "collapsed": false
   }
  },
  {
   "cell_type": "markdown",
   "source": [
    "### Investigate columns with missing data"
   ],
   "metadata": {
    "collapsed": false
   }
  },
  {
   "cell_type": "code",
   "execution_count": 11,
   "outputs": [
    {
     "data": {
      "text/plain": "0"
     },
     "execution_count": 11,
     "metadata": {},
     "output_type": "execute_result"
    }
   ],
   "source": [
    "len(df_train[pd.isna(df_train['mediabase_id'])])"
   ],
   "metadata": {
    "collapsed": false
   }
  },
  {
   "cell_type": "code",
   "execution_count": 12,
   "outputs": [
    {
     "data": {
      "text/plain": "1.0"
     },
     "execution_count": 12,
     "metadata": {},
     "output_type": "execute_result"
    }
   ],
   "source": [
    "len(df_train[df_train['gcr'] == df_train['gcr_adj']])/len(df_train)"
   ],
   "metadata": {
    "collapsed": false
   }
  },
  {
   "cell_type": "code",
   "execution_count": 17,
   "outputs": [
    {
     "data": {
      "text/plain": "108"
     },
     "execution_count": 17,
     "metadata": {},
     "output_type": "execute_result"
    }
   ],
   "source": [
    "len(df_train.columns)"
   ],
   "metadata": {
    "collapsed": false
   }
  },
  {
   "cell_type": "code",
   "execution_count": 7,
   "outputs": [
    {
     "data": {
      "text/plain": "(614649, 108)"
     },
     "execution_count": 7,
     "metadata": {},
     "output_type": "execute_result"
    }
   ],
   "source": [
    "df_train.shape"
   ],
   "metadata": {
    "collapsed": false
   }
  },
  {
   "cell_type": "code",
   "execution_count": 8,
   "outputs": [
    {
     "data": {
      "text/plain": "station_test_1_plus  station_test_1_id\n0                    1                     58773\n1                    0                    497747\n                     1                     58129\nName: mediabase_id, dtype: int64"
     },
     "execution_count": 8,
     "metadata": {},
     "output_type": "execute_result"
    }
   ],
   "source": [
    "df_train.groupby(['station_test_1_plus', 'station_test_1_id'])['mediabase_id'].count()"
   ],
   "metadata": {
    "collapsed": false
   }
  },
  {
   "cell_type": "markdown",
   "source": [
    "##### isolate numeric and categorical columns"
   ],
   "metadata": {
    "collapsed": false
   }
  },
  {
   "cell_type": "code",
   "execution_count": 34,
   "outputs": [],
   "source": [
    "# constants\n",
    "num_cols_like = ['artist_count', 'feat_artist', 'feat_artist_song', 'mscore', 'spins','pop_prior',\n",
    "                 'pop_artist_prior', 'song_age_weeks', 'song_last_test']\n",
    "cat_cols_like = ['Market_Name', 'taa_quintile', 'segment', 'gcr', 'gcr_adj', 'omt_co_flag']\n",
    "target = ['pop_all']\n",
    "id_cols = ['mediabase_id', 'station_id', 'week_dt', 'breakout_id', 'breakout_name', 'demo_category', 'pop_co', 'pop_omt', 'gcr']\n",
    "\n",
    "exclude_cols_like = ['date','song_last_test_any_weeks','song_last_test_co_weeks', 'song_last_test_omt_weeks',\n",
    "                     'std_pop_prior', 'std_pop_artist_prior']#,'_unv']#,'univ_spins', 'market_spins']"
   ],
   "metadata": {
    "collapsed": false
   }
  },
  {
   "cell_type": "code",
   "execution_count": 35,
   "outputs": [],
   "source": [
    "id_cols = id_cols\n",
    "target_col = target\n",
    "exclude_cols = df_train.columns[df_train.columns.str.contains('|'.join(exclude_cols_like), regex=True)]\n",
    "\n",
    "cat_cols = list(set(df_train.columns[df_train.columns.str.contains('|'.join(cat_cols_like), regex=True)]) - set(\n",
    "    id_cols) - set(exclude_cols))\n",
    "\n",
    "num_cols = list(set(df_train.select_dtypes(exclude=['object', 'datetime64']).columns) & set(\n",
    "df_train.columns[(df_train.columns.str.contains('|'.join(num_cols_like), regex=True))]) - set(id_cols) - set(cat_cols) - set(exclude_cols))\n",
    "\n",
    "feature_cols = list(set(list(num_cols) + list(cat_cols)))"
   ],
   "metadata": {
    "collapsed": false
   }
  },
  {
   "cell_type": "code",
   "execution_count": 14,
   "outputs": [
    {
     "data": {
      "text/plain": "Index(['song_release_date', 'song_last_test_any_weeks',\n       'song_last_test_co_weeks', 'song_last_test_omt_weeks', 'std_pop_prior',\n       'mr_pop_prior_date', 'mr_pop_prior_unv_date', 'std_pop_artist_prior'],\n      dtype='object')"
     },
     "execution_count": 14,
     "metadata": {},
     "output_type": "execute_result"
    }
   ],
   "source": [
    "exclude_cols"
   ],
   "metadata": {
    "collapsed": false
   }
  },
  {
   "cell_type": "markdown",
   "source": [
    "##### check missingness by different feature types"
   ],
   "metadata": {
    "collapsed": false
   }
  },
  {
   "cell_type": "code",
   "execution_count": 34,
   "outputs": [],
   "source": [
    "# check missingness by instance (station-song combination) for categorical variables\n",
    "cols_avl_cat = df_train.groupby(['station_id', 'mediabase_id'])[cat_cols].agg(lambda x: 1 - sum(pd.isnull(x))/(1.0*len(x))).reset_index()"
   ],
   "metadata": {
    "collapsed": false
   }
  },
  {
   "cell_type": "code",
   "execution_count": 35,
   "outputs": [
    {
     "data": {
      "text/plain": "         station_id  mediabase_id  taa_quintile  gcr_adj  omt_co_flag  \\\ncount  4.774000e+03  4.774000e+03        4774.0   4774.0       4774.0   \nmean   3.344216e+06  2.450651e+06           1.0      1.0          1.0   \nstd    1.742303e+05  3.943128e+05           0.0      0.0          0.0   \nmin    3.321797e+06  1.085550e+06           1.0      1.0          1.0   \n25%    3.322025e+06  2.355676e+06           1.0      1.0          1.0   \n50%    3.322828e+06  2.583267e+06           1.0      1.0          1.0   \n75%    3.323410e+06  2.720314e+06           1.0      1.0          1.0   \nmax    4.762077e+06  2.848773e+06           1.0      1.0          1.0   \n\n       Market_Name  segment  \ncount       4774.0   4774.0  \nmean           1.0      1.0  \nstd            0.0      0.0  \nmin            1.0      1.0  \n25%            1.0      1.0  \n50%            1.0      1.0  \n75%            1.0      1.0  \nmax            1.0      1.0  ",
      "text/html": "<div>\n<style scoped>\n    .dataframe tbody tr th:only-of-type {\n        vertical-align: middle;\n    }\n\n    .dataframe tbody tr th {\n        vertical-align: top;\n    }\n\n    .dataframe thead th {\n        text-align: right;\n    }\n</style>\n<table border=\"1\" class=\"dataframe\">\n  <thead>\n    <tr style=\"text-align: right;\">\n      <th></th>\n      <th>station_id</th>\n      <th>mediabase_id</th>\n      <th>taa_quintile</th>\n      <th>gcr_adj</th>\n      <th>omt_co_flag</th>\n      <th>Market_Name</th>\n      <th>segment</th>\n    </tr>\n  </thead>\n  <tbody>\n    <tr>\n      <th>count</th>\n      <td>4.774000e+03</td>\n      <td>4.774000e+03</td>\n      <td>4774.0</td>\n      <td>4774.0</td>\n      <td>4774.0</td>\n      <td>4774.0</td>\n      <td>4774.0</td>\n    </tr>\n    <tr>\n      <th>mean</th>\n      <td>3.344216e+06</td>\n      <td>2.450651e+06</td>\n      <td>1.0</td>\n      <td>1.0</td>\n      <td>1.0</td>\n      <td>1.0</td>\n      <td>1.0</td>\n    </tr>\n    <tr>\n      <th>std</th>\n      <td>1.742303e+05</td>\n      <td>3.943128e+05</td>\n      <td>0.0</td>\n      <td>0.0</td>\n      <td>0.0</td>\n      <td>0.0</td>\n      <td>0.0</td>\n    </tr>\n    <tr>\n      <th>min</th>\n      <td>3.321797e+06</td>\n      <td>1.085550e+06</td>\n      <td>1.0</td>\n      <td>1.0</td>\n      <td>1.0</td>\n      <td>1.0</td>\n      <td>1.0</td>\n    </tr>\n    <tr>\n      <th>25%</th>\n      <td>3.322025e+06</td>\n      <td>2.355676e+06</td>\n      <td>1.0</td>\n      <td>1.0</td>\n      <td>1.0</td>\n      <td>1.0</td>\n      <td>1.0</td>\n    </tr>\n    <tr>\n      <th>50%</th>\n      <td>3.322828e+06</td>\n      <td>2.583267e+06</td>\n      <td>1.0</td>\n      <td>1.0</td>\n      <td>1.0</td>\n      <td>1.0</td>\n      <td>1.0</td>\n    </tr>\n    <tr>\n      <th>75%</th>\n      <td>3.323410e+06</td>\n      <td>2.720314e+06</td>\n      <td>1.0</td>\n      <td>1.0</td>\n      <td>1.0</td>\n      <td>1.0</td>\n      <td>1.0</td>\n    </tr>\n    <tr>\n      <th>max</th>\n      <td>4.762077e+06</td>\n      <td>2.848773e+06</td>\n      <td>1.0</td>\n      <td>1.0</td>\n      <td>1.0</td>\n      <td>1.0</td>\n      <td>1.0</td>\n    </tr>\n  </tbody>\n</table>\n</div>"
     },
     "execution_count": 35,
     "metadata": {},
     "output_type": "execute_result"
    }
   ],
   "source": [
    "cols_avl_cat.describe()"
   ],
   "metadata": {
    "collapsed": false
   }
  },
  {
   "cell_type": "code",
   "execution_count": 24,
   "outputs": [
    {
     "data": {
      "text/plain": "      mediabase_id  station_id     week_dt  artist_id    format_code  \\\n2125       1086587     3321797  2022-07-31   26365333  {format_code}   \n2128       1086587     3321797  2022-08-21   26365333  {format_code}   \n2132       1086587     3321797  2022-09-04   26365333  {format_code}   \n2133       1086587     3321797  2022-09-18   26365333  {format_code}   \n2136       1086587     3321797  2022-10-02   26365333  {format_code}   \n2138       1086587     3321797  2022-10-16   26365333  {format_code}   \n2139       1086587     3321797  2022-10-30   26365333  {format_code}   \n2141       1086587     3321797  2022-11-27   26365333  {format_code}   \n2087       1086587     3321797  2022-07-31   26365333  {format_code}   \n2090       1086587     3321797  2022-08-21   26365333  {format_code}   \n2093       1086587     3321797  2022-09-04   26365333  {format_code}   \n2096       1086587     3321797  2022-09-18   26365333  {format_code}   \n2099       1086587     3321797  2022-10-02   26365333  {format_code}   \n2102       1086587     3321797  2022-10-16   26365333  {format_code}   \n2104       1086587     3321797  2022-10-30   26365333  {format_code}   \n2105       1086587     3321797  2022-11-27   26365333  {format_code}   \n2107       1086587     3321797  2022-07-31   26365333  {format_code}   \n2108       1086587     3321797  2022-08-21   26365333  {format_code}   \n2110       1086587     3321797  2022-09-04   26365333  {format_code}   \n2111       1086587     3321797  2022-09-18   26365333  {format_code}   \n2113       1086587     3321797  2022-10-02   26365333  {format_code}   \n2117       1086587     3321797  2022-10-16   26365333  {format_code}   \n2119       1086587     3321797  2022-10-30   26365333  {format_code}   \n2121       1086587     3321797  2022-11-27   26365333  {format_code}   \n2070       1086587     3321797  2022-07-31   26365333  {format_code}   \n2072       1086587     3321797  2022-08-21   26365333  {format_code}   \n2074       1086587     3321797  2022-09-04   26365333  {format_code}   \n2075       1086587     3321797  2022-09-18   26365333  {format_code}   \n2077       1086587     3321797  2022-10-02   26365333  {format_code}   \n2078       1086587     3321797  2022-10-16   26365333  {format_code}   \n2081       1086587     3321797  2022-10-30   26365333  {format_code}   \n2084       1086587     3321797  2022-11-27   26365333  {format_code}   \n2062       1086587     3321797  2022-07-31   26365333  {format_code}   \n2064       1086587     3321797  2022-08-21   26365333  {format_code}   \n2065       1086587     3321797  2022-09-04   26365333  {format_code}   \n2067       1086587     3321797  2022-09-18   26365333  {format_code}   \n2068       1086587     3321797  2022-10-30   26365333  {format_code}   \n\n      FirstLast                       SongTitle Market_Name song_release_date  \\\n2125  KATE BUSH  Running Up That Hill (A Deal..     Seattle        2022-06-01   \n2128  KATE BUSH  Running Up That Hill (A Deal..     Seattle        2022-06-01   \n2132  KATE BUSH  Running Up That Hill (A Deal..     Seattle        2022-06-01   \n2133  KATE BUSH  Running Up That Hill (A Deal..     Seattle        2022-06-01   \n2136  KATE BUSH  Running Up That Hill (A Deal..     Seattle        2022-06-01   \n2138  KATE BUSH  Running Up That Hill (A Deal..     Seattle        2022-06-01   \n2139  KATE BUSH  Running Up That Hill (A Deal..     Seattle        2022-06-01   \n2141  KATE BUSH  Running Up That Hill (A Deal..     Seattle        2022-06-01   \n2087  KATE BUSH  Running Up That Hill (A Deal..     Seattle        2022-06-01   \n2090  KATE BUSH  Running Up That Hill (A Deal..     Seattle        2022-06-01   \n2093  KATE BUSH  Running Up That Hill (A Deal..     Seattle        2022-06-01   \n2096  KATE BUSH  Running Up That Hill (A Deal..     Seattle        2022-06-01   \n2099  KATE BUSH  Running Up That Hill (A Deal..     Seattle        2022-06-01   \n2102  KATE BUSH  Running Up That Hill (A Deal..     Seattle        2022-06-01   \n2104  KATE BUSH  Running Up That Hill (A Deal..     Seattle        2022-06-01   \n2105  KATE BUSH  Running Up That Hill (A Deal..     Seattle        2022-06-01   \n2107  KATE BUSH  Running Up That Hill (A Deal..     Seattle        2022-06-01   \n2108  KATE BUSH  Running Up That Hill (A Deal..     Seattle        2022-06-01   \n2110  KATE BUSH  Running Up That Hill (A Deal..     Seattle        2022-06-01   \n2111  KATE BUSH  Running Up That Hill (A Deal..     Seattle        2022-06-01   \n2113  KATE BUSH  Running Up That Hill (A Deal..     Seattle        2022-06-01   \n2117  KATE BUSH  Running Up That Hill (A Deal..     Seattle        2022-06-01   \n2119  KATE BUSH  Running Up That Hill (A Deal..     Seattle        2022-06-01   \n2121  KATE BUSH  Running Up That Hill (A Deal..     Seattle        2022-06-01   \n2070  KATE BUSH  Running Up That Hill (A Deal..     Seattle        2022-06-01   \n2072  KATE BUSH  Running Up That Hill (A Deal..     Seattle        2022-06-01   \n2074  KATE BUSH  Running Up That Hill (A Deal..     Seattle        2022-06-01   \n2075  KATE BUSH  Running Up That Hill (A Deal..     Seattle        2022-06-01   \n2077  KATE BUSH  Running Up That Hill (A Deal..     Seattle        2022-06-01   \n2078  KATE BUSH  Running Up That Hill (A Deal..     Seattle        2022-06-01   \n2081  KATE BUSH  Running Up That Hill (A Deal..     Seattle        2022-06-01   \n2084  KATE BUSH  Running Up That Hill (A Deal..     Seattle        2022-06-01   \n2062  KATE BUSH  Running Up That Hill (A Deal..     Seattle        2022-06-01   \n2064  KATE BUSH  Running Up That Hill (A Deal..     Seattle        2022-06-01   \n2065  KATE BUSH  Running Up That Hill (A Deal..     Seattle        2022-06-01   \n2067  KATE BUSH  Running Up That Hill (A Deal..     Seattle        2022-06-01   \n2068  KATE BUSH  Running Up That Hill (A Deal..     Seattle        2022-06-01   \n\n      breakout_id  ... mean_pop_artist_prior  std_pop_artist_prior  \\\n2125       428784  ...                   NaN                   NaN   \n2128       428784  ...             64.000000                   NaN   \n2132       428784  ...             71.000000              9.899495   \n2133       428784  ...             71.333333              7.023769   \n2136       428784  ...             72.000000              5.887841   \n2138       428784  ...             70.600000              5.983310   \n2139       428784  ...             71.500000              5.787918   \n2141       428784  ...             72.714286              6.183696   \n2087       428762  ...                   NaN                   NaN   \n2090       428762  ...             59.000000                   NaN   \n2093       428762  ...             70.500000             16.263456   \n2096       428762  ...             70.333333             11.503623   \n2099       428762  ...             71.000000              9.486833   \n2102       428762  ...             69.400000              8.961027   \n2104       428762  ...             69.000000              8.074652   \n2105       428762  ...             70.857143              8.858679   \n2107       428763  ...                   NaN                   NaN   \n2108       428763  ...             63.000000                   NaN   \n2110       428763  ...             71.500000             12.020815   \n2111       428763  ...             72.000000              8.544004   \n2113       428763  ...             72.000000              6.976150   \n2117       428763  ...             70.600000              6.804410   \n2119       428763  ...             70.833333              6.112828   \n2121       428763  ...             72.000000              6.377042   \n2070       414115  ...                   NaN                   NaN   \n2072       414115  ...             62.000000                   NaN   \n2074       414115  ...             67.000000              7.071068   \n2075       414115  ...             69.000000              6.082763   \n2077       414115  ...             67.750000              5.560276   \n2078       414115  ...             67.800000              4.816638   \n2081       414115  ...             69.333333              5.715476   \n2084       414115  ...             71.285714              7.341986   \n2062       413250  ...                   NaN                   NaN   \n2064       413250  ...             80.000000                   NaN   \n2065       413250  ...             77.500000              3.535534   \n2067       413250  ...             73.333333              7.637626   \n2068       413250  ...             67.500000             13.228757   \n\n      count_pop_artist_prior  max_pop_artist_prior_unv  \\\n2125                     NaN                       NaN   \n2128                     1.0                      64.0   \n2132                     2.0                      78.0   \n2133                     3.0                      78.0   \n2136                     4.0                      78.0   \n2138                     5.0                      78.0   \n2139                     6.0                      78.0   \n2141                     7.0                      80.0   \n2087                     NaN                       NaN   \n2090                     1.0                      59.0   \n2093                     2.0                      82.0   \n2096                     3.0                      82.0   \n2099                     4.0                      82.0   \n2102                     5.0                      82.0   \n2104                     6.0                      82.0   \n2105                     7.0                      82.0   \n2107                     NaN                       NaN   \n2108                     1.0                      63.0   \n2110                     2.0                      80.0   \n2111                     3.0                      80.0   \n2113                     4.0                      80.0   \n2117                     5.0                      80.0   \n2119                     6.0                      80.0   \n2121                     7.0                      80.0   \n2070                     NaN                       NaN   \n2072                     1.0                      62.0   \n2074                     2.0                      72.0   \n2075                     3.0                      73.0   \n2077                     4.0                      73.0   \n2078                     5.0                      73.0   \n2081                     6.0                      77.0   \n2084                     7.0                      83.0   \n2062                     NaN                       NaN   \n2064                     1.0                      80.0   \n2065                     2.0                      80.0   \n2067                     3.0                      80.0   \n2068                     4.0                      80.0   \n\n     min_pop_artist_prior_unv mean_pop_artist_prior_unv  \\\n2125                      NaN                       NaN   \n2128                     64.0                 64.000000   \n2132                     64.0                 68.666667   \n2133                     64.0                 70.000000   \n2136                     64.0                 70.800000   \n2138                     64.0                 70.733333   \n2139                     64.0                 70.952381   \n2141                     64.0                 71.392857   \n2087                      NaN                       NaN   \n2090                     59.0                 59.000000   \n2093                     59.0                 66.666667   \n2096                     59.0                 68.500000   \n2099                     59.0                 69.500000   \n2102                     59.0                 69.466667   \n2104                     59.0                 69.333333   \n2105                     59.0                 69.714286   \n2107                      NaN                       NaN   \n2108                     63.0                 63.000000   \n2110                     63.0                 68.666667   \n2111                     63.0                 70.333333   \n2113                     63.0                 71.000000   \n2117                     63.0                 70.866667   \n2119                     63.0                 70.857143   \n2121                     63.0                 71.142857   \n2070                      NaN                       NaN   \n2072                     62.0                 62.000000   \n2074                     62.0                 65.333333   \n2075                     62.0                 67.166667   \n2077                     62.0                 67.400000   \n2078                     62.0                 67.533333   \n2081                     62.0                 68.047619   \n2084                     62.0                 68.857143   \n2062                      NaN                       NaN   \n2064                     80.0                 80.000000   \n2065                     75.0                 78.333333   \n2067                     65.0                 75.833333   \n2068                     50.0                 72.500000   \n\n      count_pop_artist_prior_unv  mr_pop_artist_prior_unv  segment  \\\n2125                         NaN                      NaN     None   \n2128                         1.0                     64.0     None   \n2132                         3.0                     78.0     None   \n2133                         6.0                     72.0     None   \n2136                        10.0                     74.0     None   \n2138                        15.0                     65.0     None   \n2139                        21.0                     76.0     None   \n2141                        28.0                     80.0     None   \n2087                         NaN                      NaN     None   \n2090                         1.0                     59.0     None   \n2093                         3.0                     82.0     None   \n2096                         6.0                     70.0     None   \n2099                        10.0                     73.0     None   \n2102                        15.0                     63.0     None   \n2104                        21.0                     67.0     None   \n2105                        28.0                     82.0     None   \n2107                         NaN                      NaN     None   \n2108                         1.0                     63.0     None   \n2110                         3.0                     80.0     None   \n2111                         6.0                     73.0     None   \n2113                        10.0                     72.0     None   \n2117                        15.0                     65.0     None   \n2119                        21.0                     72.0     None   \n2121                        28.0                     79.0     None   \n2070                         NaN                      NaN     None   \n2072                         1.0                     62.0     None   \n2074                         3.0                     72.0     None   \n2075                         6.0                     73.0     None   \n2077                        10.0                     64.0     None   \n2078                        15.0                     68.0     None   \n2081                        21.0                     77.0     None   \n2084                        28.0                     83.0     None   \n2062                         NaN                      NaN     None   \n2064                         1.0                     80.0     None   \n2065                         3.0                     75.0     None   \n2067                         6.0                     65.0     None   \n2068                        10.0                     50.0     None   \n\n      demo_category  \n2125           None  \n2128           None  \n2132           None  \n2133           None  \n2136           None  \n2138           None  \n2139           None  \n2141           None  \n2087           None  \n2090           None  \n2093           None  \n2096           None  \n2099           None  \n2102           None  \n2104           None  \n2105           None  \n2107           None  \n2108           None  \n2110           None  \n2111           None  \n2113           None  \n2117           None  \n2119           None  \n2121           None  \n2070           None  \n2072           None  \n2074           None  \n2075           None  \n2077           None  \n2078           None  \n2081           None  \n2084           None  \n2062           None  \n2064           None  \n2065           None  \n2067           None  \n2068           None  \n\n[37 rows x 110 columns]",
      "text/html": "<div>\n<style scoped>\n    .dataframe tbody tr th:only-of-type {\n        vertical-align: middle;\n    }\n\n    .dataframe tbody tr th {\n        vertical-align: top;\n    }\n\n    .dataframe thead th {\n        text-align: right;\n    }\n</style>\n<table border=\"1\" class=\"dataframe\">\n  <thead>\n    <tr style=\"text-align: right;\">\n      <th></th>\n      <th>mediabase_id</th>\n      <th>station_id</th>\n      <th>week_dt</th>\n      <th>artist_id</th>\n      <th>format_code</th>\n      <th>FirstLast</th>\n      <th>SongTitle</th>\n      <th>Market_Name</th>\n      <th>song_release_date</th>\n      <th>breakout_id</th>\n      <th>...</th>\n      <th>mean_pop_artist_prior</th>\n      <th>std_pop_artist_prior</th>\n      <th>count_pop_artist_prior</th>\n      <th>max_pop_artist_prior_unv</th>\n      <th>min_pop_artist_prior_unv</th>\n      <th>mean_pop_artist_prior_unv</th>\n      <th>count_pop_artist_prior_unv</th>\n      <th>mr_pop_artist_prior_unv</th>\n      <th>segment</th>\n      <th>demo_category</th>\n    </tr>\n  </thead>\n  <tbody>\n    <tr>\n      <th>2125</th>\n      <td>1086587</td>\n      <td>3321797</td>\n      <td>2022-07-31</td>\n      <td>26365333</td>\n      <td>{format_code}</td>\n      <td>KATE BUSH</td>\n      <td>Running Up That Hill (A Deal..</td>\n      <td>Seattle</td>\n      <td>2022-06-01</td>\n      <td>428784</td>\n      <td>...</td>\n      <td>NaN</td>\n      <td>NaN</td>\n      <td>NaN</td>\n      <td>NaN</td>\n      <td>NaN</td>\n      <td>NaN</td>\n      <td>NaN</td>\n      <td>NaN</td>\n      <td>None</td>\n      <td>None</td>\n    </tr>\n    <tr>\n      <th>2128</th>\n      <td>1086587</td>\n      <td>3321797</td>\n      <td>2022-08-21</td>\n      <td>26365333</td>\n      <td>{format_code}</td>\n      <td>KATE BUSH</td>\n      <td>Running Up That Hill (A Deal..</td>\n      <td>Seattle</td>\n      <td>2022-06-01</td>\n      <td>428784</td>\n      <td>...</td>\n      <td>64.000000</td>\n      <td>NaN</td>\n      <td>1.0</td>\n      <td>64.0</td>\n      <td>64.0</td>\n      <td>64.000000</td>\n      <td>1.0</td>\n      <td>64.0</td>\n      <td>None</td>\n      <td>None</td>\n    </tr>\n    <tr>\n      <th>2132</th>\n      <td>1086587</td>\n      <td>3321797</td>\n      <td>2022-09-04</td>\n      <td>26365333</td>\n      <td>{format_code}</td>\n      <td>KATE BUSH</td>\n      <td>Running Up That Hill (A Deal..</td>\n      <td>Seattle</td>\n      <td>2022-06-01</td>\n      <td>428784</td>\n      <td>...</td>\n      <td>71.000000</td>\n      <td>9.899495</td>\n      <td>2.0</td>\n      <td>78.0</td>\n      <td>64.0</td>\n      <td>68.666667</td>\n      <td>3.0</td>\n      <td>78.0</td>\n      <td>None</td>\n      <td>None</td>\n    </tr>\n    <tr>\n      <th>2133</th>\n      <td>1086587</td>\n      <td>3321797</td>\n      <td>2022-09-18</td>\n      <td>26365333</td>\n      <td>{format_code}</td>\n      <td>KATE BUSH</td>\n      <td>Running Up That Hill (A Deal..</td>\n      <td>Seattle</td>\n      <td>2022-06-01</td>\n      <td>428784</td>\n      <td>...</td>\n      <td>71.333333</td>\n      <td>7.023769</td>\n      <td>3.0</td>\n      <td>78.0</td>\n      <td>64.0</td>\n      <td>70.000000</td>\n      <td>6.0</td>\n      <td>72.0</td>\n      <td>None</td>\n      <td>None</td>\n    </tr>\n    <tr>\n      <th>2136</th>\n      <td>1086587</td>\n      <td>3321797</td>\n      <td>2022-10-02</td>\n      <td>26365333</td>\n      <td>{format_code}</td>\n      <td>KATE BUSH</td>\n      <td>Running Up That Hill (A Deal..</td>\n      <td>Seattle</td>\n      <td>2022-06-01</td>\n      <td>428784</td>\n      <td>...</td>\n      <td>72.000000</td>\n      <td>5.887841</td>\n      <td>4.0</td>\n      <td>78.0</td>\n      <td>64.0</td>\n      <td>70.800000</td>\n      <td>10.0</td>\n      <td>74.0</td>\n      <td>None</td>\n      <td>None</td>\n    </tr>\n    <tr>\n      <th>2138</th>\n      <td>1086587</td>\n      <td>3321797</td>\n      <td>2022-10-16</td>\n      <td>26365333</td>\n      <td>{format_code}</td>\n      <td>KATE BUSH</td>\n      <td>Running Up That Hill (A Deal..</td>\n      <td>Seattle</td>\n      <td>2022-06-01</td>\n      <td>428784</td>\n      <td>...</td>\n      <td>70.600000</td>\n      <td>5.983310</td>\n      <td>5.0</td>\n      <td>78.0</td>\n      <td>64.0</td>\n      <td>70.733333</td>\n      <td>15.0</td>\n      <td>65.0</td>\n      <td>None</td>\n      <td>None</td>\n    </tr>\n    <tr>\n      <th>2139</th>\n      <td>1086587</td>\n      <td>3321797</td>\n      <td>2022-10-30</td>\n      <td>26365333</td>\n      <td>{format_code}</td>\n      <td>KATE BUSH</td>\n      <td>Running Up That Hill (A Deal..</td>\n      <td>Seattle</td>\n      <td>2022-06-01</td>\n      <td>428784</td>\n      <td>...</td>\n      <td>71.500000</td>\n      <td>5.787918</td>\n      <td>6.0</td>\n      <td>78.0</td>\n      <td>64.0</td>\n      <td>70.952381</td>\n      <td>21.0</td>\n      <td>76.0</td>\n      <td>None</td>\n      <td>None</td>\n    </tr>\n    <tr>\n      <th>2141</th>\n      <td>1086587</td>\n      <td>3321797</td>\n      <td>2022-11-27</td>\n      <td>26365333</td>\n      <td>{format_code}</td>\n      <td>KATE BUSH</td>\n      <td>Running Up That Hill (A Deal..</td>\n      <td>Seattle</td>\n      <td>2022-06-01</td>\n      <td>428784</td>\n      <td>...</td>\n      <td>72.714286</td>\n      <td>6.183696</td>\n      <td>7.0</td>\n      <td>80.0</td>\n      <td>64.0</td>\n      <td>71.392857</td>\n      <td>28.0</td>\n      <td>80.0</td>\n      <td>None</td>\n      <td>None</td>\n    </tr>\n    <tr>\n      <th>2087</th>\n      <td>1086587</td>\n      <td>3321797</td>\n      <td>2022-07-31</td>\n      <td>26365333</td>\n      <td>{format_code}</td>\n      <td>KATE BUSH</td>\n      <td>Running Up That Hill (A Deal..</td>\n      <td>Seattle</td>\n      <td>2022-06-01</td>\n      <td>428762</td>\n      <td>...</td>\n      <td>NaN</td>\n      <td>NaN</td>\n      <td>NaN</td>\n      <td>NaN</td>\n      <td>NaN</td>\n      <td>NaN</td>\n      <td>NaN</td>\n      <td>NaN</td>\n      <td>None</td>\n      <td>None</td>\n    </tr>\n    <tr>\n      <th>2090</th>\n      <td>1086587</td>\n      <td>3321797</td>\n      <td>2022-08-21</td>\n      <td>26365333</td>\n      <td>{format_code}</td>\n      <td>KATE BUSH</td>\n      <td>Running Up That Hill (A Deal..</td>\n      <td>Seattle</td>\n      <td>2022-06-01</td>\n      <td>428762</td>\n      <td>...</td>\n      <td>59.000000</td>\n      <td>NaN</td>\n      <td>1.0</td>\n      <td>59.0</td>\n      <td>59.0</td>\n      <td>59.000000</td>\n      <td>1.0</td>\n      <td>59.0</td>\n      <td>None</td>\n      <td>None</td>\n    </tr>\n    <tr>\n      <th>2093</th>\n      <td>1086587</td>\n      <td>3321797</td>\n      <td>2022-09-04</td>\n      <td>26365333</td>\n      <td>{format_code}</td>\n      <td>KATE BUSH</td>\n      <td>Running Up That Hill (A Deal..</td>\n      <td>Seattle</td>\n      <td>2022-06-01</td>\n      <td>428762</td>\n      <td>...</td>\n      <td>70.500000</td>\n      <td>16.263456</td>\n      <td>2.0</td>\n      <td>82.0</td>\n      <td>59.0</td>\n      <td>66.666667</td>\n      <td>3.0</td>\n      <td>82.0</td>\n      <td>None</td>\n      <td>None</td>\n    </tr>\n    <tr>\n      <th>2096</th>\n      <td>1086587</td>\n      <td>3321797</td>\n      <td>2022-09-18</td>\n      <td>26365333</td>\n      <td>{format_code}</td>\n      <td>KATE BUSH</td>\n      <td>Running Up That Hill (A Deal..</td>\n      <td>Seattle</td>\n      <td>2022-06-01</td>\n      <td>428762</td>\n      <td>...</td>\n      <td>70.333333</td>\n      <td>11.503623</td>\n      <td>3.0</td>\n      <td>82.0</td>\n      <td>59.0</td>\n      <td>68.500000</td>\n      <td>6.0</td>\n      <td>70.0</td>\n      <td>None</td>\n      <td>None</td>\n    </tr>\n    <tr>\n      <th>2099</th>\n      <td>1086587</td>\n      <td>3321797</td>\n      <td>2022-10-02</td>\n      <td>26365333</td>\n      <td>{format_code}</td>\n      <td>KATE BUSH</td>\n      <td>Running Up That Hill (A Deal..</td>\n      <td>Seattle</td>\n      <td>2022-06-01</td>\n      <td>428762</td>\n      <td>...</td>\n      <td>71.000000</td>\n      <td>9.486833</td>\n      <td>4.0</td>\n      <td>82.0</td>\n      <td>59.0</td>\n      <td>69.500000</td>\n      <td>10.0</td>\n      <td>73.0</td>\n      <td>None</td>\n      <td>None</td>\n    </tr>\n    <tr>\n      <th>2102</th>\n      <td>1086587</td>\n      <td>3321797</td>\n      <td>2022-10-16</td>\n      <td>26365333</td>\n      <td>{format_code}</td>\n      <td>KATE BUSH</td>\n      <td>Running Up That Hill (A Deal..</td>\n      <td>Seattle</td>\n      <td>2022-06-01</td>\n      <td>428762</td>\n      <td>...</td>\n      <td>69.400000</td>\n      <td>8.961027</td>\n      <td>5.0</td>\n      <td>82.0</td>\n      <td>59.0</td>\n      <td>69.466667</td>\n      <td>15.0</td>\n      <td>63.0</td>\n      <td>None</td>\n      <td>None</td>\n    </tr>\n    <tr>\n      <th>2104</th>\n      <td>1086587</td>\n      <td>3321797</td>\n      <td>2022-10-30</td>\n      <td>26365333</td>\n      <td>{format_code}</td>\n      <td>KATE BUSH</td>\n      <td>Running Up That Hill (A Deal..</td>\n      <td>Seattle</td>\n      <td>2022-06-01</td>\n      <td>428762</td>\n      <td>...</td>\n      <td>69.000000</td>\n      <td>8.074652</td>\n      <td>6.0</td>\n      <td>82.0</td>\n      <td>59.0</td>\n      <td>69.333333</td>\n      <td>21.0</td>\n      <td>67.0</td>\n      <td>None</td>\n      <td>None</td>\n    </tr>\n    <tr>\n      <th>2105</th>\n      <td>1086587</td>\n      <td>3321797</td>\n      <td>2022-11-27</td>\n      <td>26365333</td>\n      <td>{format_code}</td>\n      <td>KATE BUSH</td>\n      <td>Running Up That Hill (A Deal..</td>\n      <td>Seattle</td>\n      <td>2022-06-01</td>\n      <td>428762</td>\n      <td>...</td>\n      <td>70.857143</td>\n      <td>8.858679</td>\n      <td>7.0</td>\n      <td>82.0</td>\n      <td>59.0</td>\n      <td>69.714286</td>\n      <td>28.0</td>\n      <td>82.0</td>\n      <td>None</td>\n      <td>None</td>\n    </tr>\n    <tr>\n      <th>2107</th>\n      <td>1086587</td>\n      <td>3321797</td>\n      <td>2022-07-31</td>\n      <td>26365333</td>\n      <td>{format_code}</td>\n      <td>KATE BUSH</td>\n      <td>Running Up That Hill (A Deal..</td>\n      <td>Seattle</td>\n      <td>2022-06-01</td>\n      <td>428763</td>\n      <td>...</td>\n      <td>NaN</td>\n      <td>NaN</td>\n      <td>NaN</td>\n      <td>NaN</td>\n      <td>NaN</td>\n      <td>NaN</td>\n      <td>NaN</td>\n      <td>NaN</td>\n      <td>None</td>\n      <td>None</td>\n    </tr>\n    <tr>\n      <th>2108</th>\n      <td>1086587</td>\n      <td>3321797</td>\n      <td>2022-08-21</td>\n      <td>26365333</td>\n      <td>{format_code}</td>\n      <td>KATE BUSH</td>\n      <td>Running Up That Hill (A Deal..</td>\n      <td>Seattle</td>\n      <td>2022-06-01</td>\n      <td>428763</td>\n      <td>...</td>\n      <td>63.000000</td>\n      <td>NaN</td>\n      <td>1.0</td>\n      <td>63.0</td>\n      <td>63.0</td>\n      <td>63.000000</td>\n      <td>1.0</td>\n      <td>63.0</td>\n      <td>None</td>\n      <td>None</td>\n    </tr>\n    <tr>\n      <th>2110</th>\n      <td>1086587</td>\n      <td>3321797</td>\n      <td>2022-09-04</td>\n      <td>26365333</td>\n      <td>{format_code}</td>\n      <td>KATE BUSH</td>\n      <td>Running Up That Hill (A Deal..</td>\n      <td>Seattle</td>\n      <td>2022-06-01</td>\n      <td>428763</td>\n      <td>...</td>\n      <td>71.500000</td>\n      <td>12.020815</td>\n      <td>2.0</td>\n      <td>80.0</td>\n      <td>63.0</td>\n      <td>68.666667</td>\n      <td>3.0</td>\n      <td>80.0</td>\n      <td>None</td>\n      <td>None</td>\n    </tr>\n    <tr>\n      <th>2111</th>\n      <td>1086587</td>\n      <td>3321797</td>\n      <td>2022-09-18</td>\n      <td>26365333</td>\n      <td>{format_code}</td>\n      <td>KATE BUSH</td>\n      <td>Running Up That Hill (A Deal..</td>\n      <td>Seattle</td>\n      <td>2022-06-01</td>\n      <td>428763</td>\n      <td>...</td>\n      <td>72.000000</td>\n      <td>8.544004</td>\n      <td>3.0</td>\n      <td>80.0</td>\n      <td>63.0</td>\n      <td>70.333333</td>\n      <td>6.0</td>\n      <td>73.0</td>\n      <td>None</td>\n      <td>None</td>\n    </tr>\n    <tr>\n      <th>2113</th>\n      <td>1086587</td>\n      <td>3321797</td>\n      <td>2022-10-02</td>\n      <td>26365333</td>\n      <td>{format_code}</td>\n      <td>KATE BUSH</td>\n      <td>Running Up That Hill (A Deal..</td>\n      <td>Seattle</td>\n      <td>2022-06-01</td>\n      <td>428763</td>\n      <td>...</td>\n      <td>72.000000</td>\n      <td>6.976150</td>\n      <td>4.0</td>\n      <td>80.0</td>\n      <td>63.0</td>\n      <td>71.000000</td>\n      <td>10.0</td>\n      <td>72.0</td>\n      <td>None</td>\n      <td>None</td>\n    </tr>\n    <tr>\n      <th>2117</th>\n      <td>1086587</td>\n      <td>3321797</td>\n      <td>2022-10-16</td>\n      <td>26365333</td>\n      <td>{format_code}</td>\n      <td>KATE BUSH</td>\n      <td>Running Up That Hill (A Deal..</td>\n      <td>Seattle</td>\n      <td>2022-06-01</td>\n      <td>428763</td>\n      <td>...</td>\n      <td>70.600000</td>\n      <td>6.804410</td>\n      <td>5.0</td>\n      <td>80.0</td>\n      <td>63.0</td>\n      <td>70.866667</td>\n      <td>15.0</td>\n      <td>65.0</td>\n      <td>None</td>\n      <td>None</td>\n    </tr>\n    <tr>\n      <th>2119</th>\n      <td>1086587</td>\n      <td>3321797</td>\n      <td>2022-10-30</td>\n      <td>26365333</td>\n      <td>{format_code}</td>\n      <td>KATE BUSH</td>\n      <td>Running Up That Hill (A Deal..</td>\n      <td>Seattle</td>\n      <td>2022-06-01</td>\n      <td>428763</td>\n      <td>...</td>\n      <td>70.833333</td>\n      <td>6.112828</td>\n      <td>6.0</td>\n      <td>80.0</td>\n      <td>63.0</td>\n      <td>70.857143</td>\n      <td>21.0</td>\n      <td>72.0</td>\n      <td>None</td>\n      <td>None</td>\n    </tr>\n    <tr>\n      <th>2121</th>\n      <td>1086587</td>\n      <td>3321797</td>\n      <td>2022-11-27</td>\n      <td>26365333</td>\n      <td>{format_code}</td>\n      <td>KATE BUSH</td>\n      <td>Running Up That Hill (A Deal..</td>\n      <td>Seattle</td>\n      <td>2022-06-01</td>\n      <td>428763</td>\n      <td>...</td>\n      <td>72.000000</td>\n      <td>6.377042</td>\n      <td>7.0</td>\n      <td>80.0</td>\n      <td>63.0</td>\n      <td>71.142857</td>\n      <td>28.0</td>\n      <td>79.0</td>\n      <td>None</td>\n      <td>None</td>\n    </tr>\n    <tr>\n      <th>2070</th>\n      <td>1086587</td>\n      <td>3321797</td>\n      <td>2022-07-31</td>\n      <td>26365333</td>\n      <td>{format_code}</td>\n      <td>KATE BUSH</td>\n      <td>Running Up That Hill (A Deal..</td>\n      <td>Seattle</td>\n      <td>2022-06-01</td>\n      <td>414115</td>\n      <td>...</td>\n      <td>NaN</td>\n      <td>NaN</td>\n      <td>NaN</td>\n      <td>NaN</td>\n      <td>NaN</td>\n      <td>NaN</td>\n      <td>NaN</td>\n      <td>NaN</td>\n      <td>None</td>\n      <td>None</td>\n    </tr>\n    <tr>\n      <th>2072</th>\n      <td>1086587</td>\n      <td>3321797</td>\n      <td>2022-08-21</td>\n      <td>26365333</td>\n      <td>{format_code}</td>\n      <td>KATE BUSH</td>\n      <td>Running Up That Hill (A Deal..</td>\n      <td>Seattle</td>\n      <td>2022-06-01</td>\n      <td>414115</td>\n      <td>...</td>\n      <td>62.000000</td>\n      <td>NaN</td>\n      <td>1.0</td>\n      <td>62.0</td>\n      <td>62.0</td>\n      <td>62.000000</td>\n      <td>1.0</td>\n      <td>62.0</td>\n      <td>None</td>\n      <td>None</td>\n    </tr>\n    <tr>\n      <th>2074</th>\n      <td>1086587</td>\n      <td>3321797</td>\n      <td>2022-09-04</td>\n      <td>26365333</td>\n      <td>{format_code}</td>\n      <td>KATE BUSH</td>\n      <td>Running Up That Hill (A Deal..</td>\n      <td>Seattle</td>\n      <td>2022-06-01</td>\n      <td>414115</td>\n      <td>...</td>\n      <td>67.000000</td>\n      <td>7.071068</td>\n      <td>2.0</td>\n      <td>72.0</td>\n      <td>62.0</td>\n      <td>65.333333</td>\n      <td>3.0</td>\n      <td>72.0</td>\n      <td>None</td>\n      <td>None</td>\n    </tr>\n    <tr>\n      <th>2075</th>\n      <td>1086587</td>\n      <td>3321797</td>\n      <td>2022-09-18</td>\n      <td>26365333</td>\n      <td>{format_code}</td>\n      <td>KATE BUSH</td>\n      <td>Running Up That Hill (A Deal..</td>\n      <td>Seattle</td>\n      <td>2022-06-01</td>\n      <td>414115</td>\n      <td>...</td>\n      <td>69.000000</td>\n      <td>6.082763</td>\n      <td>3.0</td>\n      <td>73.0</td>\n      <td>62.0</td>\n      <td>67.166667</td>\n      <td>6.0</td>\n      <td>73.0</td>\n      <td>None</td>\n      <td>None</td>\n    </tr>\n    <tr>\n      <th>2077</th>\n      <td>1086587</td>\n      <td>3321797</td>\n      <td>2022-10-02</td>\n      <td>26365333</td>\n      <td>{format_code}</td>\n      <td>KATE BUSH</td>\n      <td>Running Up That Hill (A Deal..</td>\n      <td>Seattle</td>\n      <td>2022-06-01</td>\n      <td>414115</td>\n      <td>...</td>\n      <td>67.750000</td>\n      <td>5.560276</td>\n      <td>4.0</td>\n      <td>73.0</td>\n      <td>62.0</td>\n      <td>67.400000</td>\n      <td>10.0</td>\n      <td>64.0</td>\n      <td>None</td>\n      <td>None</td>\n    </tr>\n    <tr>\n      <th>2078</th>\n      <td>1086587</td>\n      <td>3321797</td>\n      <td>2022-10-16</td>\n      <td>26365333</td>\n      <td>{format_code}</td>\n      <td>KATE BUSH</td>\n      <td>Running Up That Hill (A Deal..</td>\n      <td>Seattle</td>\n      <td>2022-06-01</td>\n      <td>414115</td>\n      <td>...</td>\n      <td>67.800000</td>\n      <td>4.816638</td>\n      <td>5.0</td>\n      <td>73.0</td>\n      <td>62.0</td>\n      <td>67.533333</td>\n      <td>15.0</td>\n      <td>68.0</td>\n      <td>None</td>\n      <td>None</td>\n    </tr>\n    <tr>\n      <th>2081</th>\n      <td>1086587</td>\n      <td>3321797</td>\n      <td>2022-10-30</td>\n      <td>26365333</td>\n      <td>{format_code}</td>\n      <td>KATE BUSH</td>\n      <td>Running Up That Hill (A Deal..</td>\n      <td>Seattle</td>\n      <td>2022-06-01</td>\n      <td>414115</td>\n      <td>...</td>\n      <td>69.333333</td>\n      <td>5.715476</td>\n      <td>6.0</td>\n      <td>77.0</td>\n      <td>62.0</td>\n      <td>68.047619</td>\n      <td>21.0</td>\n      <td>77.0</td>\n      <td>None</td>\n      <td>None</td>\n    </tr>\n    <tr>\n      <th>2084</th>\n      <td>1086587</td>\n      <td>3321797</td>\n      <td>2022-11-27</td>\n      <td>26365333</td>\n      <td>{format_code}</td>\n      <td>KATE BUSH</td>\n      <td>Running Up That Hill (A Deal..</td>\n      <td>Seattle</td>\n      <td>2022-06-01</td>\n      <td>414115</td>\n      <td>...</td>\n      <td>71.285714</td>\n      <td>7.341986</td>\n      <td>7.0</td>\n      <td>83.0</td>\n      <td>62.0</td>\n      <td>68.857143</td>\n      <td>28.0</td>\n      <td>83.0</td>\n      <td>None</td>\n      <td>None</td>\n    </tr>\n    <tr>\n      <th>2062</th>\n      <td>1086587</td>\n      <td>3321797</td>\n      <td>2022-07-31</td>\n      <td>26365333</td>\n      <td>{format_code}</td>\n      <td>KATE BUSH</td>\n      <td>Running Up That Hill (A Deal..</td>\n      <td>Seattle</td>\n      <td>2022-06-01</td>\n      <td>413250</td>\n      <td>...</td>\n      <td>NaN</td>\n      <td>NaN</td>\n      <td>NaN</td>\n      <td>NaN</td>\n      <td>NaN</td>\n      <td>NaN</td>\n      <td>NaN</td>\n      <td>NaN</td>\n      <td>None</td>\n      <td>None</td>\n    </tr>\n    <tr>\n      <th>2064</th>\n      <td>1086587</td>\n      <td>3321797</td>\n      <td>2022-08-21</td>\n      <td>26365333</td>\n      <td>{format_code}</td>\n      <td>KATE BUSH</td>\n      <td>Running Up That Hill (A Deal..</td>\n      <td>Seattle</td>\n      <td>2022-06-01</td>\n      <td>413250</td>\n      <td>...</td>\n      <td>80.000000</td>\n      <td>NaN</td>\n      <td>1.0</td>\n      <td>80.0</td>\n      <td>80.0</td>\n      <td>80.000000</td>\n      <td>1.0</td>\n      <td>80.0</td>\n      <td>None</td>\n      <td>None</td>\n    </tr>\n    <tr>\n      <th>2065</th>\n      <td>1086587</td>\n      <td>3321797</td>\n      <td>2022-09-04</td>\n      <td>26365333</td>\n      <td>{format_code}</td>\n      <td>KATE BUSH</td>\n      <td>Running Up That Hill (A Deal..</td>\n      <td>Seattle</td>\n      <td>2022-06-01</td>\n      <td>413250</td>\n      <td>...</td>\n      <td>77.500000</td>\n      <td>3.535534</td>\n      <td>2.0</td>\n      <td>80.0</td>\n      <td>75.0</td>\n      <td>78.333333</td>\n      <td>3.0</td>\n      <td>75.0</td>\n      <td>None</td>\n      <td>None</td>\n    </tr>\n    <tr>\n      <th>2067</th>\n      <td>1086587</td>\n      <td>3321797</td>\n      <td>2022-09-18</td>\n      <td>26365333</td>\n      <td>{format_code}</td>\n      <td>KATE BUSH</td>\n      <td>Running Up That Hill (A Deal..</td>\n      <td>Seattle</td>\n      <td>2022-06-01</td>\n      <td>413250</td>\n      <td>...</td>\n      <td>73.333333</td>\n      <td>7.637626</td>\n      <td>3.0</td>\n      <td>80.0</td>\n      <td>65.0</td>\n      <td>75.833333</td>\n      <td>6.0</td>\n      <td>65.0</td>\n      <td>None</td>\n      <td>None</td>\n    </tr>\n    <tr>\n      <th>2068</th>\n      <td>1086587</td>\n      <td>3321797</td>\n      <td>2022-10-30</td>\n      <td>26365333</td>\n      <td>{format_code}</td>\n      <td>KATE BUSH</td>\n      <td>Running Up That Hill (A Deal..</td>\n      <td>Seattle</td>\n      <td>2022-06-01</td>\n      <td>413250</td>\n      <td>...</td>\n      <td>67.500000</td>\n      <td>13.228757</td>\n      <td>4.0</td>\n      <td>80.0</td>\n      <td>50.0</td>\n      <td>72.500000</td>\n      <td>10.0</td>\n      <td>50.0</td>\n      <td>None</td>\n      <td>None</td>\n    </tr>\n  </tbody>\n</table>\n<p>37 rows × 110 columns</p>\n</div>"
     },
     "execution_count": 24,
     "metadata": {},
     "output_type": "execute_result"
    }
   ],
   "source": [
    "df_train[(df_train['station_id'] == 3321797) & (df_train['mediabase_id'] == 1086587) & (pd.isna(df_train['segment']))]"
   ],
   "metadata": {
    "collapsed": false
   }
  },
  {
   "cell_type": "code",
   "execution_count": 72,
   "outputs": [],
   "source": [
    "# Investigate taa_quintile\n",
    "# df_temp = df_train[pd.isna(df_train['taa_quintile'])][['station_id', 'mediabase_id', 'week_dt']]\n",
    "# len(df_temp)\n",
    "# df_temp.groupby(['week_dt']).agg({'mediabase_id':len}).sort_values(by=['mediabase_id'], ascending=False)\n",
    "# df_temp.groupby(['mediabase_id']).agg({'week_dt':len}).sort_values(by=['week_dt'], ascending=False)\n",
    "# df_temp.groupby(['station_id', 'mediabase_id']).agg({'week_dt':len}).sort_values(by=['week_dt'], ascending=False)\n",
    "# idx = (df_train['station_id'] == 3323400) & (df_train['mediabase_id'] == 2591543)\n",
    "# df_train.loc[idx].groupby(['week_dt'])['mediabase_id'].count()\n",
    "# idx = (df_train['station_id'] == 3323400) & (df_train['mediabase_id'] == 2591543) & (pd.isna(df_train['taa_quintile'])) & (df_train['breakout_name'] == 'Total')\n",
    "# df_train.loc[idx]"
   ],
   "metadata": {
    "collapsed": false
   }
  },
  {
   "cell_type": "code",
   "execution_count": 149,
   "outputs": [
    {
     "data": {
      "text/plain": "[datetime.date(2020, 11, 22), datetime.date(2021, 1, 24)]"
     },
     "execution_count": 149,
     "metadata": {},
     "output_type": "execute_result"
    }
   ],
   "source": [
    "# Investigate gcr and gcr_adj\n",
    "# df_temp = df_train[(pd.isna(df_train['gcr_adj'])) & (~pd.isna(df_train['gcr']))][['station_id', 'mediabase_id', 'week_dt']]\n",
    "# len(df_temp)\n",
    "# print(df_temp.groupby(['week_dt']).agg({'mediabase_id':len}).sort_values(by=['mediabase_id'], ascending=False))\n",
    "# print(df_temp.groupby(['mediabase_id']).agg({'week_dt':len}).sort_values(by=['week_dt'], ascending=False))\n",
    "# print(df_temp.groupby(['station_id', 'mediabase_id']).agg({'week_dt':len}).sort_values(by=['week_dt'], ascending=False))\n",
    "# idx = (df_train['station_id'] == 3322002) & (df_train['mediabase_id'] == 2294907)\n",
    "# df_train.loc[idx].groupby(['week_dt'])['mediabase_id'].count()\n",
    "# idx = (df_train['station_id'] == 3323404) & (df_train['mediabase_id'] == 2629560) & (pd.isna(df_train['gcr_adj'])) & (df_train['breakout_name'] == 'Total')\n",
    "# df_train.loc[idx]\n",
    "# [np.min(df_temp['week_dt']), np.max(df_temp['week_dt'])]"
   ],
   "metadata": {
    "collapsed": false
   }
  },
  {
   "cell_type": "markdown",
   "source": [
    "###### Investigate Numeric Columns"
   ],
   "metadata": {
    "collapsed": false
   }
  },
  {
   "cell_type": "code",
   "execution_count": 36,
   "outputs": [],
   "source": [
    "# Investigate Numeric Columns\n",
    "num_cols_spins = [col for col in num_cols if 'spins' in col]\n",
    "num_cols_pop = [col for col in num_cols if 'pop' in col]\n",
    "num_cols_other = list(set(num_cols) - set(num_cols_spins) - set(num_cols_pop))\n",
    "num_cols_spins_perc = [i for i in num_cols_spins if (('perc_diff_' in i) or ('per_diff' in i))]\n",
    "num_cols_spins_nonperc = list(set(num_cols_spins) - set(num_cols_spins_perc))"
   ],
   "metadata": {
    "collapsed": false
   }
  },
  {
   "cell_type": "code",
   "execution_count": 17,
   "outputs": [
    {
     "data": {
      "text/plain": "[75, 52, 19, 4]"
     },
     "execution_count": 17,
     "metadata": {},
     "output_type": "execute_result"
    }
   ],
   "source": [
    "[len(num_cols), len(num_cols_spins), len(num_cols_pop), len(num_cols_other)]"
   ],
   "metadata": {
    "collapsed": false
   }
  },
  {
   "cell_type": "code",
   "execution_count": 18,
   "outputs": [
    {
     "data": {
      "text/plain": "['artist_count', 'feat_artist', 'song_age_weeks', 'feat_artist_song']"
     },
     "execution_count": 18,
     "metadata": {},
     "output_type": "execute_result"
    }
   ],
   "source": [
    "num_cols_other"
   ],
   "metadata": {
    "collapsed": false
   }
  },
  {
   "cell_type": "code",
   "execution_count": 19,
   "outputs": [
    {
     "data": {
      "text/plain": "['min_pop_prior',\n 'mean_pop_prior_unv',\n 'min_pop_artist_prior_unv',\n 'count_pop_artist_prior_unv',\n 'max_pop_artist_prior_unv',\n 'mean_pop_artist_prior_unv',\n 'mr_pop_prior_unv',\n 'max_pop_prior',\n 'mr_pop_prior',\n 'count_pop_artist_prior',\n 'max_pop_artist_prior',\n 'min_pop_artist_prior',\n 'mr_pop_artist_prior_unv',\n 'mean_pop_artist_prior',\n 'med_pop_prior',\n 'min_pop_prior_unv',\n 'count_pop_prior_unv',\n 'mean_pop_prior',\n 'max_pop_prior_unv']"
     },
     "execution_count": 19,
     "metadata": {},
     "output_type": "execute_result"
    }
   ],
   "source": [
    "num_cols_pop"
   ],
   "metadata": {
    "collapsed": false
   }
  },
  {
   "cell_type": "code",
   "execution_count": 20,
   "outputs": [
    {
     "data": {
      "text/plain": "(377628, 110)"
     },
     "execution_count": 20,
     "metadata": {},
     "output_type": "execute_result"
    }
   ],
   "source": [
    "df_train.shape"
   ],
   "metadata": {
    "collapsed": false
   }
  },
  {
   "cell_type": "code",
   "execution_count": 68,
   "outputs": [
    {
     "name": "stdout",
     "output_type": "stream",
     "text": [
      "614649\n"
     ]
    }
   ],
   "source": [
    "print(581054 + 33595)"
   ],
   "metadata": {
    "collapsed": false
   }
  },
  {
   "cell_type": "code",
   "execution_count": 37,
   "outputs": [],
   "source": [
    "# Backfill pop based data\n",
    "df_train[num_cols_pop] = df_train.groupby(['station_id', 'mediabase_id', 'breakout_id'])[num_cols_pop].bfill()"
   ],
   "metadata": {
    "collapsed": false
   }
  },
  {
   "cell_type": "code",
   "execution_count": 38,
   "outputs": [],
   "source": [
    "# Fill missing perc spin diffs with 1.0\n",
    "df_train[num_cols_spins_perc] = df_train[num_cols_spins_perc].transform(lambda x: x.fillna(1.0))"
   ],
   "metadata": {
    "collapsed": false
   }
  },
  {
   "cell_type": "code",
   "execution_count": 39,
   "outputs": [],
   "source": [
    "# Backfill non perc diff spins diff\n",
    "df_train[num_cols_spins_nonperc] = df_train.groupby(['station_id', 'mediabase_id', 'breakout_id'])[num_cols_spins_nonperc].bfill()"
   ],
   "metadata": {
    "collapsed": false
   }
  },
  {
   "cell_type": "code",
   "execution_count": 40,
   "outputs": [],
   "source": [
    "# Write processed train set to pickle file\n",
    "df_train.to_pickle('df_train_U1_2023_02_19_2021_02_26_processed.pkl')"
   ],
   "metadata": {
    "collapsed": false
   }
  },
  {
   "cell_type": "code",
   "execution_count": 43,
   "outputs": [
    {
     "data": {
      "text/plain": "['avg_market_spins_prior',\n 'avg_station_artist_spins_prior',\n 'mr_market_spins_spins',\n 'mr_song_univ_spins_prior',\n 'market_artist_spins',\n 'song_univ_spins',\n 'avg_artist_univ_spins_prior',\n 'total_market_artist_spins_prior',\n 'total_station_artist_spins_prior',\n 'song_market_weeks_since_first_spins',\n 'diff_spins_song_market_prior',\n 'song_weeks_since_last_spins',\n 'station_spins',\n 'mr_artist_univ_spins',\n 'diff_market_spins_spins_prior',\n 'avg_song_univ_spins_prior',\n 'artist_weeks_since_first_spins',\n 'total_market_spins_prior',\n 'diff_artist_univ_spins_prior',\n 'diff_spins_song_station_prior',\n 'mr_spins_artist_station_prior',\n 'format_spins',\n 'artist_station_weeks_since_first_spins',\n 'artist_univ_spins',\n 'song_weeks_since_first_spins',\n 'diff_market_artist_spins_prior',\n 'diff_spins_artist_station_prior',\n 'spins_non_on',\n 'total_spins_song_station_prior',\n 'diff_song_univ_spins_prior',\n 'total_song_univ_spins_prior',\n 'avg_spins_song_station_prior',\n 'spins_total',\n 'avg_market_artist_spins_prior',\n 'song_station_weeks_since_last_spins',\n 'spins_am_pm_dr',\n 'total_spins_non_on_song_station_prior',\n 'format_artist_spins',\n 'mr_spins_song_market_prior',\n 'market_spins',\n 'song_station_weeks_since_first_spins',\n 'mr_spins_song_station_prior',\n 'station_artist_spins',\n 'total_artist_univ_spins_prior',\n 'mr_market_artist_spins_prior']"
     },
     "execution_count": 43,
     "metadata": {},
     "output_type": "execute_result"
    }
   ],
   "source": [
    "num_cols_spins_nonperc"
   ],
   "metadata": {
    "collapsed": false
   }
  },
  {
   "cell_type": "code",
   "execution_count": 41,
   "outputs": [],
   "source": [
    "# check missingness by instance (station-song combination) for categorical variables\n",
    "cols_avl_num = df_train.groupby(['station_id', 'mediabase_id', 'breakout_name'])[num_cols].agg(lambda x: 1 - sum(pd.isnull(x))/(1.0*len(x))).reset_index()"
   ],
   "metadata": {
    "collapsed": false
   }
  },
  {
   "cell_type": "code",
   "execution_count": 42,
   "outputs": [],
   "source": [
    "cols_avl_num = cols_avl_num.join(pd.DataFrame(df_train.groupby(['station_id', 'mediabase_id', 'breakout_name']).count()['week_dt']), on=['station_id', 'mediabase_id', 'breakout_name'], rsuffix='_r')"
   ],
   "metadata": {
    "collapsed": false
   }
  },
  {
   "cell_type": "code",
   "execution_count": 43,
   "outputs": [
    {
     "data": {
      "text/plain": "                                     index    0\n0                         mr_pop_prior_unv  1.0\n53  artist_station_weeks_since_first_spins  1.0\n52            avg_spins_song_station_prior  1.0\n51          diff_market_artist_spins_prior  1.0\n50            mr_market_artist_spins_prior  1.0\n..                                     ...  ...\n22                       min_pop_prior_unv  1.0\n21                         song_univ_spins  1.0\n20                          mean_pop_prior  1.0\n18           diff_market_spins_spins_prior  1.0\n74                          song_age_weeks  1.0\n\n[75 rows x 2 columns]",
      "text/html": "<div>\n<style scoped>\n    .dataframe tbody tr th:only-of-type {\n        vertical-align: middle;\n    }\n\n    .dataframe tbody tr th {\n        vertical-align: top;\n    }\n\n    .dataframe thead th {\n        text-align: right;\n    }\n</style>\n<table border=\"1\" class=\"dataframe\">\n  <thead>\n    <tr style=\"text-align: right;\">\n      <th></th>\n      <th>index</th>\n      <th>0</th>\n    </tr>\n  </thead>\n  <tbody>\n    <tr>\n      <th>0</th>\n      <td>mr_pop_prior_unv</td>\n      <td>1.0</td>\n    </tr>\n    <tr>\n      <th>53</th>\n      <td>artist_station_weeks_since_first_spins</td>\n      <td>1.0</td>\n    </tr>\n    <tr>\n      <th>52</th>\n      <td>avg_spins_song_station_prior</td>\n      <td>1.0</td>\n    </tr>\n    <tr>\n      <th>51</th>\n      <td>diff_market_artist_spins_prior</td>\n      <td>1.0</td>\n    </tr>\n    <tr>\n      <th>50</th>\n      <td>mr_market_artist_spins_prior</td>\n      <td>1.0</td>\n    </tr>\n    <tr>\n      <th>...</th>\n      <td>...</td>\n      <td>...</td>\n    </tr>\n    <tr>\n      <th>22</th>\n      <td>min_pop_prior_unv</td>\n      <td>1.0</td>\n    </tr>\n    <tr>\n      <th>21</th>\n      <td>song_univ_spins</td>\n      <td>1.0</td>\n    </tr>\n    <tr>\n      <th>20</th>\n      <td>mean_pop_prior</td>\n      <td>1.0</td>\n    </tr>\n    <tr>\n      <th>18</th>\n      <td>diff_market_spins_spins_prior</td>\n      <td>1.0</td>\n    </tr>\n    <tr>\n      <th>74</th>\n      <td>song_age_weeks</td>\n      <td>1.0</td>\n    </tr>\n  </tbody>\n</table>\n<p>75 rows × 2 columns</p>\n</div>"
     },
     "execution_count": 43,
     "metadata": {},
     "output_type": "execute_result"
    }
   ],
   "source": [
    "cols_avl_num[num_cols].mean().reset_index().sort_values(by=[0])"
   ],
   "metadata": {
    "collapsed": false
   }
  },
  {
   "cell_type": "code",
   "execution_count": 44,
   "outputs": [
    {
     "data": {
      "text/plain": "(144709, 110)"
     },
     "execution_count": 44,
     "metadata": {},
     "output_type": "execute_result"
    }
   ],
   "source": [
    "idx = df_train[cat_cols + num_cols].dropna(axis=1).index\n",
    "df_train.loc[idx].shape"
   ],
   "metadata": {
    "collapsed": false
   }
  },
  {
   "cell_type": "code",
   "execution_count": 45,
   "outputs": [
    {
     "data": {
      "text/plain": "(144709, 110)"
     },
     "execution_count": 45,
     "metadata": {},
     "output_type": "execute_result"
    }
   ],
   "source": [
    "df_train.shape"
   ],
   "metadata": {
    "collapsed": false
   }
  },
  {
   "cell_type": "code",
   "execution_count": 93,
   "outputs": [
    {
     "data": {
      "text/plain": "       station_id  mediabase_id breakout_name  week_dt\n2788      3321799       1388281         Total        2\n2812      3321799       1640575         Total        2\n7090      3322002       1243640         Total        2\n7100      3322002       1249237         Total        2\n7134      3322002       1261285         Total        3\n...           ...           ...           ...      ...\n56105     3323602       2397182         Total        2\n56124     3323602       2422489         Total        3\n56130     3323602       2422949         Total        2\n56179     3323602       2445876         Total        3\n56329     3323602       2542279         Total        3\n\n[282 rows x 4 columns]",
      "text/html": "<div>\n<style scoped>\n    .dataframe tbody tr th:only-of-type {\n        vertical-align: middle;\n    }\n\n    .dataframe tbody tr th {\n        vertical-align: top;\n    }\n\n    .dataframe thead th {\n        text-align: right;\n    }\n</style>\n<table border=\"1\" class=\"dataframe\">\n  <thead>\n    <tr style=\"text-align: right;\">\n      <th></th>\n      <th>station_id</th>\n      <th>mediabase_id</th>\n      <th>breakout_name</th>\n      <th>week_dt</th>\n    </tr>\n  </thead>\n  <tbody>\n    <tr>\n      <th>2788</th>\n      <td>3321799</td>\n      <td>1388281</td>\n      <td>Total</td>\n      <td>2</td>\n    </tr>\n    <tr>\n      <th>2812</th>\n      <td>3321799</td>\n      <td>1640575</td>\n      <td>Total</td>\n      <td>2</td>\n    </tr>\n    <tr>\n      <th>7090</th>\n      <td>3322002</td>\n      <td>1243640</td>\n      <td>Total</td>\n      <td>2</td>\n    </tr>\n    <tr>\n      <th>7100</th>\n      <td>3322002</td>\n      <td>1249237</td>\n      <td>Total</td>\n      <td>2</td>\n    </tr>\n    <tr>\n      <th>7134</th>\n      <td>3322002</td>\n      <td>1261285</td>\n      <td>Total</td>\n      <td>3</td>\n    </tr>\n    <tr>\n      <th>...</th>\n      <td>...</td>\n      <td>...</td>\n      <td>...</td>\n      <td>...</td>\n    </tr>\n    <tr>\n      <th>56105</th>\n      <td>3323602</td>\n      <td>2397182</td>\n      <td>Total</td>\n      <td>2</td>\n    </tr>\n    <tr>\n      <th>56124</th>\n      <td>3323602</td>\n      <td>2422489</td>\n      <td>Total</td>\n      <td>3</td>\n    </tr>\n    <tr>\n      <th>56130</th>\n      <td>3323602</td>\n      <td>2422949</td>\n      <td>Total</td>\n      <td>2</td>\n    </tr>\n    <tr>\n      <th>56179</th>\n      <td>3323602</td>\n      <td>2445876</td>\n      <td>Total</td>\n      <td>3</td>\n    </tr>\n    <tr>\n      <th>56329</th>\n      <td>3323602</td>\n      <td>2542279</td>\n      <td>Total</td>\n      <td>3</td>\n    </tr>\n  </tbody>\n</table>\n<p>282 rows × 4 columns</p>\n</div>"
     },
     "execution_count": 93,
     "metadata": {},
     "output_type": "execute_result"
    }
   ],
   "source": [
    "cols_avl_num[(cols_avl_num['song_last_test_co_weeks'] < 1) & (cols_avl_num['breakout_name'] == 'Total')][['station_id', 'mediabase_id', 'breakout_name', 'week_dt']]"
   ],
   "metadata": {
    "collapsed": false
   }
  },
  {
   "cell_type": "code",
   "execution_count": 95,
   "outputs": [
    {
     "data": {
      "text/plain": "       station_id  mediabase_id breakout_name     week_dt  \\\n64814     3323602       2348056         Total  2020-11-22   \n64815     3323602       2348056         Total  2021-02-07   \n64816     3323602       2348056         Total  2021-09-26   \n64817     3323602       2348056         Total  2022-08-21   \n\n       song_last_test_any_weeks  song_last_test_co_weeks  \\\n64814                       0.0                      NaN   \n64815                       0.0                      0.0   \n64816                       0.0                      8.0   \n64817                       0.0                      0.0   \n\n       song_last_test_omt_weeks  \n64814                       0.0  \n64815                       1.0  \n64816                       0.0  \n64817                       1.0  ",
      "text/html": "<div>\n<style scoped>\n    .dataframe tbody tr th:only-of-type {\n        vertical-align: middle;\n    }\n\n    .dataframe tbody tr th {\n        vertical-align: top;\n    }\n\n    .dataframe thead th {\n        text-align: right;\n    }\n</style>\n<table border=\"1\" class=\"dataframe\">\n  <thead>\n    <tr style=\"text-align: right;\">\n      <th></th>\n      <th>station_id</th>\n      <th>mediabase_id</th>\n      <th>breakout_name</th>\n      <th>week_dt</th>\n      <th>song_last_test_any_weeks</th>\n      <th>song_last_test_co_weeks</th>\n      <th>song_last_test_omt_weeks</th>\n    </tr>\n  </thead>\n  <tbody>\n    <tr>\n      <th>64814</th>\n      <td>3323602</td>\n      <td>2348056</td>\n      <td>Total</td>\n      <td>2020-11-22</td>\n      <td>0.0</td>\n      <td>NaN</td>\n      <td>0.0</td>\n    </tr>\n    <tr>\n      <th>64815</th>\n      <td>3323602</td>\n      <td>2348056</td>\n      <td>Total</td>\n      <td>2021-02-07</td>\n      <td>0.0</td>\n      <td>0.0</td>\n      <td>1.0</td>\n    </tr>\n    <tr>\n      <th>64816</th>\n      <td>3323602</td>\n      <td>2348056</td>\n      <td>Total</td>\n      <td>2021-09-26</td>\n      <td>0.0</td>\n      <td>8.0</td>\n      <td>0.0</td>\n    </tr>\n    <tr>\n      <th>64817</th>\n      <td>3323602</td>\n      <td>2348056</td>\n      <td>Total</td>\n      <td>2022-08-21</td>\n      <td>0.0</td>\n      <td>0.0</td>\n      <td>1.0</td>\n    </tr>\n  </tbody>\n</table>\n</div>"
     },
     "execution_count": 95,
     "metadata": {},
     "output_type": "execute_result"
    }
   ],
   "source": [
    "df_train[(df_train['station_id'] == 3323602) & (df_train['mediabase_id'] == 2348056) & (df_train['breakout_name'] == 'Total')][['station_id', 'mediabase_id', 'breakout_name', 'week_dt', 'song_last_test_any_weeks','song_last_test_co_weeks', 'song_last_test_omt_weeks']]"
   ],
   "metadata": {
    "collapsed": false
   }
  },
  {
   "cell_type": "markdown",
   "source": [
    "### Prep Data and create train/test splits"
   ],
   "metadata": {
    "collapsed": false
   }
  },
  {
   "cell_type": "code",
   "execution_count": 60,
   "outputs": [
    {
     "data": {
      "text/plain": "['mediabase_id',\n 'station_id',\n 'week_dt',\n 'breakout_id',\n 'breakout_name',\n 'demo_category',\n 'pop_co',\n 'pop_omt',\n 'gcr']"
     },
     "execution_count": 60,
     "metadata": {},
     "output_type": "execute_result"
    }
   ],
   "source": [
    "id_cols"
   ],
   "metadata": {
    "collapsed": false
   }
  },
  {
   "cell_type": "code",
   "execution_count": 46,
   "outputs": [
    {
     "data": {
      "text/plain": "[datetime.date(2021, 2, 21),\n Timestamp('2023-02-21 11:38:24'),\n datetime.date(2023, 3, 5)]"
     },
     "execution_count": 46,
     "metadata": {},
     "output_type": "execute_result"
    }
   ],
   "source": [
    "[np.min(df_train['week_dt']),pd.to_datetime(np.min(df_train['week_dt'])) + np.timedelta64(2,'Y'), np.max(df_train['week_dt'])]"
   ],
   "metadata": {
    "collapsed": false
   }
  },
  {
   "cell_type": "code",
   "execution_count": 56,
   "outputs": [],
   "source": [
    "# Extract train data\n",
    "[np.min(df_train['week_dt']),pd.to_datetime(np.min(df_train['week_dt'])) + np.timedelta64(2,'Y'), np.max(df_train['week_dt'])]\n",
    "scoring_date = pd.to_datetime('2023-01-09')\n",
    "train_idx = df_train['week_dt'] < scoring_date.date()\n",
    "\n",
    "df_train_final = df_train.loc[train_idx][id_cols + feature_cols + target_col]\n",
    "X_train = pd.get_dummies(df_train_final[feature_cols], columns=cat_cols)\n",
    "y_train = df_train_final[target]"
   ],
   "metadata": {
    "collapsed": false
   }
  },
  {
   "cell_type": "code",
   "execution_count": 65,
   "outputs": [],
   "source": [
    "demo_cats = list(set(breakout_category.values()) - set(['Total']))"
   ],
   "metadata": {
    "collapsed": false
   }
  },
  {
   "cell_type": "code",
   "execution_count": 66,
   "outputs": [
    {
     "data": {
      "text/plain": "['Core-Cume', 'Gender', 'Age', 'Race']"
     },
     "execution_count": 66,
     "metadata": {},
     "output_type": "execute_result"
    }
   ],
   "source": [
    "demo_cats"
   ],
   "metadata": {
    "collapsed": false
   }
  },
  {
   "cell_type": "code",
   "execution_count": 67,
   "outputs": [
    {
     "data": {
      "text/plain": "(130985, 110)"
     },
     "execution_count": 67,
     "metadata": {},
     "output_type": "execute_result"
    }
   ],
   "source": [
    "X_train.shape"
   ],
   "metadata": {
    "collapsed": false
   }
  },
  {
   "cell_type": "code",
   "execution_count": 63,
   "outputs": [
    {
     "data": {
      "text/plain": "[datetime.date(2021, 2, 21), datetime.date(2023, 1, 1)]"
     },
     "execution_count": 63,
     "metadata": {},
     "output_type": "execute_result"
    }
   ],
   "source": [
    "[np.min(df_train_final['week_dt']), np.max(df_train_final['week_dt'])]"
   ],
   "metadata": {
    "collapsed": false
   }
  },
  {
   "cell_type": "code",
   "execution_count": 68,
   "outputs": [],
   "source": [
    "# imports for model training\n",
    "from sklearn.ensemble import GradientBoostingRegressor\n",
    "from sklearn.model_selection import RandomizedSearchCV, GroupKFold\n",
    "from sklearn.metrics import make_scorer, mean_pinball_loss"
   ],
   "metadata": {
    "collapsed": false
   }
  },
  {
   "cell_type": "code",
   "execution_count": 69,
   "outputs": [],
   "source": [
    "low_alpha = 0.05\n",
    "high_alpha = 0.95\n",
    "\n",
    "param_grid = dict(\n",
    "    learning_rate=[.2, .1, .05],\n",
    "    n_estimators=[5, 10, 15],\n",
    "    max_depth=[2, 4, 6],\n",
    "    min_samples_leaf=[5, 10, 20],\n",
    "    min_samples_split=[5, 10, 20]\n",
    ")\n",
    "\n",
    "n_iter = 50\n",
    "n_splits = 5"
   ],
   "metadata": {
    "collapsed": false
   }
  },
  {
   "cell_type": "code",
   "execution_count": 53,
   "outputs": [],
   "source": [
    "import time\n",
    "demo_cols_all = [col for col in X_train.columns if 'segment_' in col]"
   ],
   "metadata": {
    "collapsed": false
   }
  },
  {
   "cell_type": "code",
   "execution_count": 70,
   "outputs": [
    {
     "data": {
      "text/plain": "['segment_AA',\n 'segment_Core',\n 'segment_Hispanic',\n 'segment_Non-Core',\n 'segment_Old',\n 'segment_Total',\n 'segment_Total_Female',\n 'segment_Total_Male',\n 'segment_White',\n 'segment_Young']"
     },
     "execution_count": 70,
     "metadata": {},
     "output_type": "execute_result"
    }
   ],
   "source": [
    "demo_cols_all"
   ],
   "metadata": {
    "collapsed": false
   }
  },
  {
   "cell_type": "code",
   "execution_count": 71,
   "outputs": [
    {
     "name": "stdout",
     "output_type": "stream",
     "text": [
      "Core-Cume: 31378\n",
      "Fitting 5 folds for each of 50 candidates, totalling 250 fits\n",
      "Core-Cume: Fitting for upper wobble threshold completed\n",
      "Fitting 5 folds for each of 50 candidates, totalling 250 fits\n",
      "Core-Cume: Fitting for lower wobble threshold completed\n",
      "Fitting 5 folds for each of 50 candidates, totalling 250 fits\n",
      "Core-Cume: Fitting for mean pop completed\n",
      "Total time elapsed for Core-Cume: 182.81\n",
      "Gender: 33253\n",
      "Fitting 5 folds for each of 50 candidates, totalling 250 fits\n",
      "Gender: Fitting for upper wobble threshold completed\n",
      "Fitting 5 folds for each of 50 candidates, totalling 250 fits\n",
      "Gender: Fitting for lower wobble threshold completed\n",
      "Fitting 5 folds for each of 50 candidates, totalling 250 fits\n",
      "Gender: Fitting for mean pop completed\n",
      "Total time elapsed for Gender: 193.66\n",
      "Age: 33152\n",
      "Fitting 5 folds for each of 50 candidates, totalling 250 fits\n",
      "Age: Fitting for upper wobble threshold completed\n",
      "Fitting 5 folds for each of 50 candidates, totalling 250 fits\n",
      "Age: Fitting for lower wobble threshold completed\n",
      "Fitting 5 folds for each of 50 candidates, totalling 250 fits\n",
      "Age: Fitting for mean pop completed\n",
      "Total time elapsed for Age: 187.64\n",
      "Race: 16559\n",
      "Fitting 5 folds for each of 50 candidates, totalling 250 fits\n",
      "Race: Fitting for upper wobble threshold completed\n",
      "Fitting 5 folds for each of 50 candidates, totalling 250 fits\n",
      "Race: Fitting for lower wobble threshold completed\n",
      "Fitting 5 folds for each of 50 candidates, totalling 250 fits\n",
      "Race: Fitting for mean pop completed\n",
      "Total time elapsed for Race: 94.24\n"
     ]
    }
   ],
   "source": [
    "best_scores = {}\n",
    "best_estimators = {}\n",
    "\n",
    "for cat in demo_cats:\n",
    "    tic = time.perf_counter()\n",
    "    idx = (df_train_final['demo_category'] == cat)\n",
    "    print(cat + ': ' + str(sum(idx)))\n",
    "\n",
    "    # extract relevant segment indicator columns\n",
    "    demo_cols_cat = ['segment_' + i for i in list(pd.unique(df_train_final.loc[idx]['segment']))]\n",
    "    demo_cols_excl = list(set(demo_cols_all) - set(demo_cols_cat))\n",
    "    feature_cols_cat = list(set(X_train.columns) - set(demo_cols_excl))\n",
    "\n",
    "    # create features and target\n",
    "    X = X_train.loc[idx][feature_cols_cat]\n",
    "    y = y_train.loc[idx]\n",
    "\n",
    "    # quantile regressor\n",
    "\n",
    "    # gradient boosted quantile regressor\n",
    "    group_kfold = GroupKFold(n_splits=n_splits)\n",
    "\n",
    "    # train model for upper threshold given features\n",
    "    cv = group_kfold.split(X.loc[idx], y.loc[idx], df_train_final.loc[idx]['mediabase_id'])\n",
    "    neg_mean_pinball_loss_high = make_scorer(\n",
    "        mean_pinball_loss,\n",
    "        alpha=high_alpha,\n",
    "        greater_is_better=False,  # maximize the negative loss\n",
    "    )\n",
    "\n",
    "    model_high_thresh = GradientBoostingRegressor(loss=\"quantile\", alpha=high_alpha,\n",
    "                                                  random_state=0)\n",
    "\n",
    "    rs_high_thresh = RandomizedSearchCV(\n",
    "        model_high_thresh,\n",
    "        param_grid,\n",
    "        n_iter=n_iter,\n",
    "        scoring=neg_mean_pinball_loss_high,\n",
    "        cv=cv,\n",
    "        verbose=1,\n",
    "        random_state=0,\n",
    "        n_jobs=-1\n",
    "    )\n",
    "\n",
    "    rs_high_thresh.fit(X.loc[idx], np.ravel(y.loc[idx]))\n",
    "    print(cat + \": Fitting for upper wobble threshold completed\")\n",
    "\n",
    "    # train model for lower threshold given features\n",
    "    cv = group_kfold.split(X.loc[idx], y.loc[idx], df_train_final.loc[idx]['mediabase_id'])\n",
    "    neg_mean_pinball_loss_low = make_scorer(\n",
    "        mean_pinball_loss,\n",
    "        alpha=low_alpha,\n",
    "        greater_is_better=False,  # maximize the negative loss\n",
    "    )\n",
    "\n",
    "    model_low_thresh = GradientBoostingRegressor(loss=\"quantile\", alpha=low_alpha,\n",
    "                                                 random_state=0)\n",
    "\n",
    "    rs_low_thresh = RandomizedSearchCV(\n",
    "        model_low_thresh,\n",
    "        param_grid,\n",
    "        n_iter=n_iter,\n",
    "        scoring=neg_mean_pinball_loss_low,\n",
    "        cv=cv,\n",
    "        verbose=1,\n",
    "        random_state=0,\n",
    "        n_jobs=-1\n",
    "    )\n",
    "\n",
    "    rs_low_thresh.fit(X.loc[idx], np.ravel(y.loc[idx]))\n",
    "    print(cat + \": Fitting for lower wobble threshold completed\")\n",
    "\n",
    "    # train model for mean pop score given features\n",
    "    cv = group_kfold.split(X.loc[idx], y.loc[idx], df_train_final.loc[idx]['mediabase_id'])\n",
    "    model_mean = GradientBoostingRegressor(loss=\"squared_error\")\n",
    "\n",
    "    rs_mean = RandomizedSearchCV(\n",
    "        model_mean,\n",
    "        param_grid,\n",
    "        n_iter=n_iter,\n",
    "        scoring='neg_mean_absolute_error',\n",
    "        cv=cv,\n",
    "        verbose=1,\n",
    "        random_state=0,\n",
    "        n_jobs=-1\n",
    "    )\n",
    "\n",
    "    rs_mean.fit(X.loc[idx], np.ravel(y.loc[idx]))\n",
    "    print(cat + \": Fitting for mean pop completed\")\n",
    "\n",
    "    toc = time.perf_counter()\n",
    "    time_elapsed = toc-tic\n",
    "    print('Total time elapsed for ' + cat + ': ' + '%.2f'%time_elapsed)\n",
    "\n",
    "    best_scores[cat] = [rs_low_thresh.best_score_, rs_mean.best_score_, rs_high_thresh.best_score_]\n",
    "    best_estimators[cat] = [rs_low_thresh.best_estimator_, rs_mean.best_estimator_, rs_high_thresh.best_estimator_]"
   ],
   "metadata": {
    "collapsed": false
   }
  },
  {
   "cell_type": "code",
   "execution_count": 72,
   "outputs": [],
   "source": [
    "import pickle\n",
    "pickle.dump(best_scores, open('best_scores_all_u1.pkl', \"wb\"))\n",
    "pickle.dump(best_estimators, open('best_estimators_all_u1.pkl', \"wb\"))"
   ],
   "metadata": {
    "collapsed": false
   }
  },
  {
   "cell_type": "code",
   "execution_count": 23,
   "outputs": [],
   "source": [
    "best_estimators = pd.read_pickle('best_estimators_all_u1.pkl')"
   ],
   "metadata": {
    "collapsed": false
   }
  },
  {
   "cell_type": "code",
   "execution_count": 73,
   "outputs": [
    {
     "data": {
      "text/plain": "{'Core-Cume': [GradientBoostingRegressor(alpha=0.05, learning_rate=0.2, loss='quantile',\n                            max_depth=6, min_samples_leaf=10,\n                            min_samples_split=20, n_estimators=15,\n                            random_state=0),\n  GradientBoostingRegressor(learning_rate=0.2, max_depth=6, min_samples_leaf=10,\n                            min_samples_split=20, n_estimators=15),\n  GradientBoostingRegressor(alpha=0.95, learning_rate=0.2, loss='quantile',\n                            max_depth=6, min_samples_leaf=10,\n                            min_samples_split=20, n_estimators=15,\n                            random_state=0)],\n 'Gender': [GradientBoostingRegressor(alpha=0.05, learning_rate=0.2, loss='quantile',\n                            max_depth=6, min_samples_leaf=10,\n                            min_samples_split=20, n_estimators=15,\n                            random_state=0),\n  GradientBoostingRegressor(learning_rate=0.2, max_depth=6, min_samples_leaf=10,\n                            min_samples_split=20, n_estimators=15),\n  GradientBoostingRegressor(alpha=0.95, learning_rate=0.2, loss='quantile',\n                            max_depth=6, min_samples_leaf=10,\n                            min_samples_split=20, n_estimators=15,\n                            random_state=0)],\n 'Age': [GradientBoostingRegressor(alpha=0.05, learning_rate=0.2, loss='quantile',\n                            max_depth=4, min_samples_leaf=10,\n                            min_samples_split=20, n_estimators=15,\n                            random_state=0),\n  GradientBoostingRegressor(learning_rate=0.2, max_depth=6, min_samples_leaf=10,\n                            min_samples_split=20, n_estimators=15),\n  GradientBoostingRegressor(alpha=0.95, learning_rate=0.2, loss='quantile',\n                            max_depth=6, min_samples_leaf=10,\n                            min_samples_split=20, n_estimators=15,\n                            random_state=0)],\n 'Race': [GradientBoostingRegressor(alpha=0.05, learning_rate=0.2, loss='quantile',\n                            max_depth=6, min_samples_leaf=10,\n                            min_samples_split=20, n_estimators=15,\n                            random_state=0),\n  GradientBoostingRegressor(learning_rate=0.2, max_depth=6, min_samples_leaf=10,\n                            min_samples_split=20, n_estimators=15),\n  GradientBoostingRegressor(alpha=0.95, learning_rate=0.2, loss='quantile',\n                            max_depth=6, min_samples_leaf=10,\n                            min_samples_split=20, n_estimators=15,\n                            random_state=0)]}"
     },
     "execution_count": 73,
     "metadata": {},
     "output_type": "execute_result"
    }
   ],
   "source": [
    "best_estimators"
   ],
   "metadata": {
    "collapsed": false
   }
  },
  {
   "cell_type": "markdown",
   "source": [
    "### Prep scoring data & score\n"
   ],
   "metadata": {
    "collapsed": false
   }
  },
  {
   "cell_type": "code",
   "execution_count": 75,
   "outputs": [],
   "source": [
    "test_data_query = '''\n",
    "Select *\n",
    "from adds_temp.demo_rr_features_u1 as rdfh\n",
    "where week_dt >= '2023-01-09'\n",
    "'''"
   ],
   "metadata": {
    "collapsed": false
   }
  },
  {
   "cell_type": "code",
   "execution_count": 76,
   "outputs": [],
   "source": [
    "engine = postgresql_engine(user, pwd, host, port, dbname)\n",
    "with engine.connect() as conn:\n",
    "    with conn.connect():\n",
    "        df_test = pd.read_sql(test_data_query + filter_rules, conn)"
   ],
   "metadata": {
    "collapsed": false
   }
  },
  {
   "cell_type": "code",
   "execution_count": 82,
   "outputs": [
    {
     "data": {
      "text/plain": "(272475, 110)"
     },
     "execution_count": 82,
     "metadata": {},
     "output_type": "execute_result"
    }
   ],
   "source": [
    "df_test.shape"
   ],
   "metadata": {
    "collapsed": false
   }
  },
  {
   "cell_type": "code",
   "execution_count": null,
   "outputs": [],
   "source": [
    "# df_test.to_pickle('df_score_2021_01_09_2020_11_28.pkl')"
   ],
   "metadata": {
    "collapsed": false
   }
  },
  {
   "cell_type": "code",
   "execution_count": 24,
   "outputs": [],
   "source": [
    "# df_test = pd.read_pickle('df_score_2021_01_09_2020_11_28.pkl')"
   ],
   "metadata": {
    "collapsed": false
   }
  },
  {
   "cell_type": "code",
   "execution_count": 80,
   "outputs": [],
   "source": [
    "# create segment and category fields\n",
    "df_test['segment'] = df_test['breakout_name'].apply(func=(lambda x: breakout_map[x] if (x in breakout_map.keys()) else None))\n",
    "df_test['demo_category'] = df_test['breakout_name'].apply(func=(lambda x: breakout_category[x] if x in breakout_category.keys() else None))"
   ],
   "metadata": {
    "collapsed": false
   }
  },
  {
   "cell_type": "code",
   "execution_count": 81,
   "outputs": [],
   "source": [
    "# drop misc female breakouts\n",
    "drop_idx = df_test[(df_test['segment'] == 'Female') | (pd.isna(df_test['segment']))].index\n",
    "df_test.drop(drop_idx, inplace=True)"
   ],
   "metadata": {
    "collapsed": false
   }
  },
  {
   "cell_type": "code",
   "execution_count": 83,
   "outputs": [],
   "source": [
    "# Backfill pop based data\n",
    "df_test[num_cols_pop] = df_test.groupby(['station_id', 'mediabase_id', 'breakout_id'])[num_cols_pop].bfill()"
   ],
   "metadata": {
    "collapsed": false
   }
  },
  {
   "cell_type": "code",
   "execution_count": 84,
   "outputs": [],
   "source": [
    "# Fill missing perc spin diffs with 1.0\n",
    "df_test[num_cols_spins_perc] = df_test[num_cols_spins_perc].transform(lambda x: x.fillna(1.0))"
   ],
   "metadata": {
    "collapsed": false
   }
  },
  {
   "cell_type": "code",
   "execution_count": 85,
   "outputs": [],
   "source": [
    "# Backfill non perc diff spins diff\n",
    "df_test[num_cols_spins_nonperc] = df_test.groupby(['station_id', 'mediabase_id', 'breakout_id'])[num_cols_spins_nonperc].bfill()"
   ],
   "metadata": {
    "collapsed": false
   }
  },
  {
   "cell_type": "code",
   "execution_count": 86,
   "outputs": [
    {
     "data": {
      "text/plain": "array([datetime.date(2023, 1, 15), datetime.date(2023, 1, 22),\n       datetime.date(2023, 1, 29), datetime.date(2023, 2, 5),\n       datetime.date(2023, 2, 12), datetime.date(2023, 2, 19),\n       datetime.date(2023, 2, 26), datetime.date(2023, 3, 5)],\n      dtype=object)"
     },
     "execution_count": 86,
     "metadata": {},
     "output_type": "execute_result"
    }
   ],
   "source": [
    "pd.unique(df_test['week_dt'])"
   ],
   "metadata": {
    "collapsed": false
   }
  },
  {
   "cell_type": "code",
   "execution_count": 32,
   "outputs": [],
   "source": [
    "drop_idx = df_test[pd.to_datetime(df_test['week_dt']) == pd.to_datetime('2022-12-18')].index\n",
    "df_test.drop(drop_idx, inplace=True)"
   ],
   "metadata": {
    "collapsed": false
   }
  },
  {
   "cell_type": "code",
   "execution_count": 41,
   "outputs": [
    {
     "data": {
      "text/plain": "station_id  week_dt   \n3321797     2022-12-18    240\n            2022-12-25    240\n            2023-01-01    234\n            2023-01-08    232\n            2023-01-15    226\n                         ... \n4762077     2023-01-08    100\n            2023-01-15     99\n            2023-01-22     99\n            2023-01-29     99\n            2023-02-05     97\nLength: 232, dtype: int64"
     },
     "execution_count": 41,
     "metadata": {},
     "output_type": "execute_result"
    }
   ],
   "source": [
    "df_test[(df_test['breakout_name'] == 'Total')].groupby(['station_id', 'week_dt']).apply(lambda x: len(pd.unique(x['mediabase_id'])))"
   ],
   "metadata": {
    "collapsed": false
   }
  },
  {
   "cell_type": "code",
   "execution_count": 33,
   "outputs": [
    {
     "data": {
      "text/plain": "week_dt\n2022-12-11    289\n2022-12-18    290\n2022-12-25    288\n2023-01-01    290\n2023-01-08    295\n2023-01-15    292\n2023-01-22    289\n2023-01-29    282\nName: mediabase_id, dtype: int64"
     },
     "execution_count": 33,
     "metadata": {},
     "output_type": "execute_result"
    }
   ],
   "source": [
    "df_test[(df_test['station_id'] == 3322022) & (df_test['breakout_name'] == 'Total')].groupby(['week_dt'])['mediabase_id'].count()"
   ],
   "metadata": {
    "collapsed": false
   }
  },
  {
   "cell_type": "code",
   "execution_count": 87,
   "outputs": [
    {
     "data": {
      "text/plain": "mean_pop_artist_prior                 0.99967\nmr_pop_prior                          0.99967\nmed_pop_prior                         0.99967\ncount_pop_artist_prior                0.99967\nmin_pop_prior                         0.99967\n                                       ...   \nper_diff_song_univ_spins_prior        1.00000\nsong_weeks_since_first_spins          1.00000\nsong_weeks_since_last_spins           1.00000\nperc_diff_spins_song_station_prior    1.00000\nsong_age_weeks                        1.00000\nLength: 75, dtype: float64"
     },
     "execution_count": 87,
     "metadata": {},
     "output_type": "execute_result"
    }
   ],
   "source": [
    "df_test[num_cols].apply(lambda x: 1 - pd.isnull(x).sum()/len(x)).sort_values()"
   ],
   "metadata": {
    "collapsed": false
   }
  },
  {
   "cell_type": "code",
   "execution_count": 89,
   "outputs": [
    {
     "data": {
      "text/plain": "taa_quintile    1.0\ngcr_adj         1.0\nomt_co_flag     1.0\nsegment         1.0\nMarket_Name     1.0\ndtype: float64"
     },
     "execution_count": 89,
     "metadata": {},
     "output_type": "execute_result"
    }
   ],
   "source": [
    "df_test[cat_cols].apply(lambda x: 1 - pd.isnull(x).sum()/len(x)).sort_values()"
   ],
   "metadata": {
    "collapsed": false
   }
  },
  {
   "cell_type": "code",
   "execution_count": 88,
   "outputs": [],
   "source": [
    "df_test['omt_co_flag'] = df_test['omt_co_flag'].fillna(0)"
   ],
   "metadata": {
    "collapsed": false
   }
  },
  {
   "cell_type": "code",
   "execution_count": 37,
   "outputs": [
    {
     "data": {
      "text/plain": "6362      1165871\n14845     1186003\n37952     1269144\n62822     1436100\n69145     1491192\n72656     1502744\n108046    1686075\n144812    1801771\n157912    1842682\n182811    1932585\n188820    1969359\n208110    2062455\n235840    2154641\n240743    2175458\n264691    2267512\n275131    2294874\n282374    2306701\n364513    2522450\n373446    2544637\n387103    2552613\n524681    2738262\n569767    2781499\n627530    2823991\n631386    2827240\n648129    2848768\n653618    2863849\n654272    2865765\n654441    2838198\nName: mediabase_id, dtype: int64"
     },
     "execution_count": 37,
     "metadata": {},
     "output_type": "execute_result"
    }
   ],
   "source": [
    "df_test[pd.isna(df_test['med_pop_prior'])]['mediabase_id'].drop_duplicates()"
   ],
   "metadata": {
    "collapsed": false
   }
  },
  {
   "cell_type": "code",
   "execution_count": 101,
   "outputs": [
    {
     "data": {
      "text/plain": "       mediabase_id  station_id     week_dt  breakout_id breakout_name  \\\n36963       1354780     3322916  2022-11-27            1         Total   \n36964       1354780     3322916  2022-12-04            1         Total   \n36965       1354780     3322916  2022-12-11            1         Total   \n36966       1354780     3322916  2022-12-18            1         Total   \n36967       1354780     3322916  2022-12-25            1         Total   \n36968       1354780     3322916  2023-01-01            1         Total   \n36969       1354780     3322916  2023-01-08            1         Total   \n\n      demo_category  pop_co pop_omt gcr  med_pop_prior  \n36963         Total     NaN    None   G            NaN  \n36964         Total     NaN    None   G            NaN  \n36965         Total     NaN    None   G            NaN  \n36966         Total     NaN    None   G            NaN  \n36967         Total     NaN    None   G            NaN  \n36968         Total     NaN    None   G            NaN  \n36969         Total   109.0    None   G            NaN  ",
      "text/html": "<div>\n<style scoped>\n    .dataframe tbody tr th:only-of-type {\n        vertical-align: middle;\n    }\n\n    .dataframe tbody tr th {\n        vertical-align: top;\n    }\n\n    .dataframe thead th {\n        text-align: right;\n    }\n</style>\n<table border=\"1\" class=\"dataframe\">\n  <thead>\n    <tr style=\"text-align: right;\">\n      <th></th>\n      <th>mediabase_id</th>\n      <th>station_id</th>\n      <th>week_dt</th>\n      <th>breakout_id</th>\n      <th>breakout_name</th>\n      <th>demo_category</th>\n      <th>pop_co</th>\n      <th>pop_omt</th>\n      <th>gcr</th>\n      <th>med_pop_prior</th>\n    </tr>\n  </thead>\n  <tbody>\n    <tr>\n      <th>36963</th>\n      <td>1354780</td>\n      <td>3322916</td>\n      <td>2022-11-27</td>\n      <td>1</td>\n      <td>Total</td>\n      <td>Total</td>\n      <td>NaN</td>\n      <td>None</td>\n      <td>G</td>\n      <td>NaN</td>\n    </tr>\n    <tr>\n      <th>36964</th>\n      <td>1354780</td>\n      <td>3322916</td>\n      <td>2022-12-04</td>\n      <td>1</td>\n      <td>Total</td>\n      <td>Total</td>\n      <td>NaN</td>\n      <td>None</td>\n      <td>G</td>\n      <td>NaN</td>\n    </tr>\n    <tr>\n      <th>36965</th>\n      <td>1354780</td>\n      <td>3322916</td>\n      <td>2022-12-11</td>\n      <td>1</td>\n      <td>Total</td>\n      <td>Total</td>\n      <td>NaN</td>\n      <td>None</td>\n      <td>G</td>\n      <td>NaN</td>\n    </tr>\n    <tr>\n      <th>36966</th>\n      <td>1354780</td>\n      <td>3322916</td>\n      <td>2022-12-18</td>\n      <td>1</td>\n      <td>Total</td>\n      <td>Total</td>\n      <td>NaN</td>\n      <td>None</td>\n      <td>G</td>\n      <td>NaN</td>\n    </tr>\n    <tr>\n      <th>36967</th>\n      <td>1354780</td>\n      <td>3322916</td>\n      <td>2022-12-25</td>\n      <td>1</td>\n      <td>Total</td>\n      <td>Total</td>\n      <td>NaN</td>\n      <td>None</td>\n      <td>G</td>\n      <td>NaN</td>\n    </tr>\n    <tr>\n      <th>36968</th>\n      <td>1354780</td>\n      <td>3322916</td>\n      <td>2023-01-01</td>\n      <td>1</td>\n      <td>Total</td>\n      <td>Total</td>\n      <td>NaN</td>\n      <td>None</td>\n      <td>G</td>\n      <td>NaN</td>\n    </tr>\n    <tr>\n      <th>36969</th>\n      <td>1354780</td>\n      <td>3322916</td>\n      <td>2023-01-08</td>\n      <td>1</td>\n      <td>Total</td>\n      <td>Total</td>\n      <td>109.0</td>\n      <td>None</td>\n      <td>G</td>\n      <td>NaN</td>\n    </tr>\n  </tbody>\n</table>\n</div>"
     },
     "execution_count": 101,
     "metadata": {},
     "output_type": "execute_result"
    }
   ],
   "source": [
    "df_test[(df_test['mediabase_id'] == 1354780) & (df_test['breakout_name'] == 'Total') & (df_test['station_id'] == 3322916)][id_cols + ['med_pop_prior']]"
   ],
   "metadata": {
    "collapsed": false
   }
  },
  {
   "cell_type": "code",
   "execution_count": 92,
   "outputs": [
    {
     "data": {
      "text/plain": "(272385, 110)"
     },
     "execution_count": 92,
     "metadata": {},
     "output_type": "execute_result"
    }
   ],
   "source": [
    "df_test.shape"
   ],
   "metadata": {
    "collapsed": false
   }
  },
  {
   "cell_type": "code",
   "execution_count": 91,
   "outputs": [],
   "source": [
    "drop_idx = list(set(df_test.index) - set(df_test[feature_cols].dropna().index))\n",
    "df_test.drop(drop_idx, inplace=True)"
   ],
   "metadata": {
    "collapsed": false
   }
  },
  {
   "cell_type": "markdown",
   "source": [
    "#### score all stations"
   ],
   "metadata": {
    "collapsed": false
   }
  },
  {
   "cell_type": "code",
   "execution_count": 93,
   "outputs": [],
   "source": [
    "scoring_date = pd.to_datetime('2023-01-15')\n",
    "test_idx = (df_test['week_dt'] >= scoring_date.date()) # & (df_test['station_id'] == 3322022)\n",
    "\n",
    "df_test_final = df_test.loc[test_idx][id_cols + feature_cols + target_col]\n",
    "X_test = pd.get_dummies(df_test_final[feature_cols], columns=cat_cols)\n",
    "\n",
    "missing_cols = list(set(X_train.columns) - set(X_test.columns))\n",
    "\n",
    "y_test = df_test_final[target]"
   ],
   "metadata": {
    "collapsed": false
   }
  },
  {
   "cell_type": "code",
   "execution_count": 94,
   "outputs": [
    {
     "data": {
      "text/plain": "(272385, 90)"
     },
     "execution_count": 94,
     "metadata": {},
     "output_type": "execute_result"
    }
   ],
   "source": [
    "df_test_final.shape"
   ],
   "metadata": {
    "collapsed": false
   }
  },
  {
   "cell_type": "code",
   "execution_count": 44,
   "outputs": [
    {
     "data": {
      "text/plain": "        max_pop_prior_unv  avg_market_spins_prior  \\\n0                   112.0               70.226804   \n1                    99.0               70.226804   \n2                    99.0               70.051020   \n3                    99.0               69.797980   \n4                    99.0               69.570000   \n...                   ...                     ...   \n586873              110.0               85.382979   \n586874              110.0               83.750000   \n586875              110.0               82.224490   \n586876              110.0               80.740000   \n586877              110.0               79.294118   \n\n        song_market_weeks_since_first_spins  \\\n0                                      97.0   \n1                                      97.0   \n2                                      98.0   \n3                                      99.0   \n4                                     100.0   \n...                                     ...   \n586873                                 47.0   \n586874                                 48.0   \n586875                                 49.0   \n586876                                 50.0   \n586877                                 51.0   \n\n        total_spins_non_on_song_station_prior  song_weeks_since_last_spins  \\\n0                                      2334.0                          1.0   \n1                                      2334.0                          0.0   \n2                                      2338.0                          1.0   \n3                                      2342.0                          0.0   \n4                                      2345.0                          0.0   \n...                                       ...                          ...   \n586873                                 2320.0                          0.0   \n586874                                 2321.0                          0.0   \n586875                                 2323.0                          1.0   \n586876                                 2325.0                          0.0   \n586877                                 2327.0                          0.0   \n\n        count_pop_artist_prior_unv  market_spins  \\\n0                             17.0            53   \n1                              7.0            53   \n2                              7.0            45   \n3                              7.0            47   \n4                              7.0            49   \n...                            ...           ...   \n586873                      1985.0             7   \n586874                      2016.0             9   \n586875                      2119.0             8   \n586876                      2162.0             7   \n586877                      2244.0             7   \n\n        per_diff_song_univ_spins_prior  mr_pop_prior_unv  \\\n0                             0.107692              86.0   \n1                             0.107692              90.0   \n2                            -0.111111              90.0   \n3                             0.031250              90.0   \n4                             0.015152              90.0   \n...                                ...               ...   \n586873                       -0.205742              69.0   \n586874                        0.246988              78.0   \n586875                       -0.173913              72.0   \n586876                        0.111111              98.0   \n586877                       -0.231579              83.0   \n\n        max_pop_artist_prior_unv  ...  diff_spins_artist_station_prior  \\\n0                          112.0  ...                                1   \n1                           99.0  ...                                1   \n2                           99.0  ...                                0   \n3                           99.0  ...                               -1   \n4                           99.0  ...                                1   \n...                          ...  ...                              ...   \n586873                     110.0  ...                                0   \n586874                     110.0  ...                                1   \n586875                     110.0  ...                                0   \n586876                     110.0  ...                                0   \n586877                     110.0  ...                               -1   \n\n        format_artist_spins  min_pop_artist_prior_unv  spins_total  \\\n0                        10                      70.0            5   \n1                        10                      89.0            5   \n2                        11                      89.0            5   \n3                        10                      89.0            3   \n4                         8                      89.0            5   \n...                     ...                       ...          ...   \n586873                   54                      50.0            4   \n586874                   59                      50.0            6   \n586875                   43                      50.0            6   \n586876                   40                      50.0            5   \n586877                   48                      50.0            5   \n\n        mean_pop_artist_prior_unv  diff_spins_song_station_prior  \\\n0                       93.333333                              1   \n1                       94.714286                              1   \n2                       94.714286                              0   \n3                       94.714286                             -1   \n4                       94.714286                              1   \n...                           ...                            ...   \n586873                  82.935013                              0   \n586874                  82.898810                              1   \n586875                  83.019349                              0   \n586876                  83.075856                              0   \n586877                  83.172460                             -1   \n\n        diff_spins_song_market_prior  song_age_weeks station_artist_spins  \\\n0                                  1     1148.857143                    5   \n1                                  1     1148.857143                    5   \n2                                  0     1149.857143                    5   \n3                                 -1     1150.857143                    3   \n4                                  1     1151.857143                    5   \n...                              ...             ...                  ...   \n586873                             0       47.714286                    4   \n586874                             1       48.714286                    6   \n586875                             0       49.714286                    6   \n586876                             0       50.714286                    5   \n586877                            -1       51.714286                    5   \n\n        per_diff_market_spins_spins_prior  \n0                                0.152174  \n1                                0.152174  \n2                               -0.150943  \n3                                0.044444  \n4                                0.042553  \n...                                   ...  \n586873                           0.750000  \n586874                           0.285714  \n586875                          -0.111111  \n586876                          -0.125000  \n586877                           0.000000  \n\n[386876 rows x 80 columns]",
      "text/html": "<div>\n<style scoped>\n    .dataframe tbody tr th:only-of-type {\n        vertical-align: middle;\n    }\n\n    .dataframe tbody tr th {\n        vertical-align: top;\n    }\n\n    .dataframe thead th {\n        text-align: right;\n    }\n</style>\n<table border=\"1\" class=\"dataframe\">\n  <thead>\n    <tr style=\"text-align: right;\">\n      <th></th>\n      <th>max_pop_prior_unv</th>\n      <th>avg_market_spins_prior</th>\n      <th>song_market_weeks_since_first_spins</th>\n      <th>total_spins_non_on_song_station_prior</th>\n      <th>song_weeks_since_last_spins</th>\n      <th>count_pop_artist_prior_unv</th>\n      <th>market_spins</th>\n      <th>per_diff_song_univ_spins_prior</th>\n      <th>mr_pop_prior_unv</th>\n      <th>max_pop_artist_prior_unv</th>\n      <th>...</th>\n      <th>diff_spins_artist_station_prior</th>\n      <th>format_artist_spins</th>\n      <th>min_pop_artist_prior_unv</th>\n      <th>spins_total</th>\n      <th>mean_pop_artist_prior_unv</th>\n      <th>diff_spins_song_station_prior</th>\n      <th>diff_spins_song_market_prior</th>\n      <th>song_age_weeks</th>\n      <th>station_artist_spins</th>\n      <th>per_diff_market_spins_spins_prior</th>\n    </tr>\n  </thead>\n  <tbody>\n    <tr>\n      <th>0</th>\n      <td>112.0</td>\n      <td>70.226804</td>\n      <td>97.0</td>\n      <td>2334.0</td>\n      <td>1.0</td>\n      <td>17.0</td>\n      <td>53</td>\n      <td>0.107692</td>\n      <td>86.0</td>\n      <td>112.0</td>\n      <td>...</td>\n      <td>1</td>\n      <td>10</td>\n      <td>70.0</td>\n      <td>5</td>\n      <td>93.333333</td>\n      <td>1</td>\n      <td>1</td>\n      <td>1148.857143</td>\n      <td>5</td>\n      <td>0.152174</td>\n    </tr>\n    <tr>\n      <th>1</th>\n      <td>99.0</td>\n      <td>70.226804</td>\n      <td>97.0</td>\n      <td>2334.0</td>\n      <td>0.0</td>\n      <td>7.0</td>\n      <td>53</td>\n      <td>0.107692</td>\n      <td>90.0</td>\n      <td>99.0</td>\n      <td>...</td>\n      <td>1</td>\n      <td>10</td>\n      <td>89.0</td>\n      <td>5</td>\n      <td>94.714286</td>\n      <td>1</td>\n      <td>1</td>\n      <td>1148.857143</td>\n      <td>5</td>\n      <td>0.152174</td>\n    </tr>\n    <tr>\n      <th>2</th>\n      <td>99.0</td>\n      <td>70.051020</td>\n      <td>98.0</td>\n      <td>2338.0</td>\n      <td>1.0</td>\n      <td>7.0</td>\n      <td>45</td>\n      <td>-0.111111</td>\n      <td>90.0</td>\n      <td>99.0</td>\n      <td>...</td>\n      <td>0</td>\n      <td>11</td>\n      <td>89.0</td>\n      <td>5</td>\n      <td>94.714286</td>\n      <td>0</td>\n      <td>0</td>\n      <td>1149.857143</td>\n      <td>5</td>\n      <td>-0.150943</td>\n    </tr>\n    <tr>\n      <th>3</th>\n      <td>99.0</td>\n      <td>69.797980</td>\n      <td>99.0</td>\n      <td>2342.0</td>\n      <td>0.0</td>\n      <td>7.0</td>\n      <td>47</td>\n      <td>0.031250</td>\n      <td>90.0</td>\n      <td>99.0</td>\n      <td>...</td>\n      <td>-1</td>\n      <td>10</td>\n      <td>89.0</td>\n      <td>3</td>\n      <td>94.714286</td>\n      <td>-1</td>\n      <td>-1</td>\n      <td>1150.857143</td>\n      <td>3</td>\n      <td>0.044444</td>\n    </tr>\n    <tr>\n      <th>4</th>\n      <td>99.0</td>\n      <td>69.570000</td>\n      <td>100.0</td>\n      <td>2345.0</td>\n      <td>0.0</td>\n      <td>7.0</td>\n      <td>49</td>\n      <td>0.015152</td>\n      <td>90.0</td>\n      <td>99.0</td>\n      <td>...</td>\n      <td>1</td>\n      <td>8</td>\n      <td>89.0</td>\n      <td>5</td>\n      <td>94.714286</td>\n      <td>1</td>\n      <td>1</td>\n      <td>1151.857143</td>\n      <td>5</td>\n      <td>0.042553</td>\n    </tr>\n    <tr>\n      <th>...</th>\n      <td>...</td>\n      <td>...</td>\n      <td>...</td>\n      <td>...</td>\n      <td>...</td>\n      <td>...</td>\n      <td>...</td>\n      <td>...</td>\n      <td>...</td>\n      <td>...</td>\n      <td>...</td>\n      <td>...</td>\n      <td>...</td>\n      <td>...</td>\n      <td>...</td>\n      <td>...</td>\n      <td>...</td>\n      <td>...</td>\n      <td>...</td>\n      <td>...</td>\n      <td>...</td>\n    </tr>\n    <tr>\n      <th>586873</th>\n      <td>110.0</td>\n      <td>85.382979</td>\n      <td>47.0</td>\n      <td>2320.0</td>\n      <td>0.0</td>\n      <td>1985.0</td>\n      <td>7</td>\n      <td>-0.205742</td>\n      <td>69.0</td>\n      <td>110.0</td>\n      <td>...</td>\n      <td>0</td>\n      <td>54</td>\n      <td>50.0</td>\n      <td>4</td>\n      <td>82.935013</td>\n      <td>0</td>\n      <td>0</td>\n      <td>47.714286</td>\n      <td>4</td>\n      <td>0.750000</td>\n    </tr>\n    <tr>\n      <th>586874</th>\n      <td>110.0</td>\n      <td>83.750000</td>\n      <td>48.0</td>\n      <td>2321.0</td>\n      <td>0.0</td>\n      <td>2016.0</td>\n      <td>9</td>\n      <td>0.246988</td>\n      <td>78.0</td>\n      <td>110.0</td>\n      <td>...</td>\n      <td>1</td>\n      <td>59</td>\n      <td>50.0</td>\n      <td>6</td>\n      <td>82.898810</td>\n      <td>1</td>\n      <td>1</td>\n      <td>48.714286</td>\n      <td>6</td>\n      <td>0.285714</td>\n    </tr>\n    <tr>\n      <th>586875</th>\n      <td>110.0</td>\n      <td>82.224490</td>\n      <td>49.0</td>\n      <td>2323.0</td>\n      <td>1.0</td>\n      <td>2119.0</td>\n      <td>8</td>\n      <td>-0.173913</td>\n      <td>72.0</td>\n      <td>110.0</td>\n      <td>...</td>\n      <td>0</td>\n      <td>43</td>\n      <td>50.0</td>\n      <td>6</td>\n      <td>83.019349</td>\n      <td>0</td>\n      <td>0</td>\n      <td>49.714286</td>\n      <td>6</td>\n      <td>-0.111111</td>\n    </tr>\n    <tr>\n      <th>586876</th>\n      <td>110.0</td>\n      <td>80.740000</td>\n      <td>50.0</td>\n      <td>2325.0</td>\n      <td>0.0</td>\n      <td>2162.0</td>\n      <td>7</td>\n      <td>0.111111</td>\n      <td>98.0</td>\n      <td>110.0</td>\n      <td>...</td>\n      <td>0</td>\n      <td>40</td>\n      <td>50.0</td>\n      <td>5</td>\n      <td>83.075856</td>\n      <td>0</td>\n      <td>0</td>\n      <td>50.714286</td>\n      <td>5</td>\n      <td>-0.125000</td>\n    </tr>\n    <tr>\n      <th>586877</th>\n      <td>110.0</td>\n      <td>79.294118</td>\n      <td>51.0</td>\n      <td>2327.0</td>\n      <td>0.0</td>\n      <td>2244.0</td>\n      <td>7</td>\n      <td>-0.231579</td>\n      <td>83.0</td>\n      <td>110.0</td>\n      <td>...</td>\n      <td>-1</td>\n      <td>48</td>\n      <td>50.0</td>\n      <td>5</td>\n      <td>83.172460</td>\n      <td>-1</td>\n      <td>-1</td>\n      <td>51.714286</td>\n      <td>5</td>\n      <td>0.000000</td>\n    </tr>\n  </tbody>\n</table>\n<p>386876 rows × 80 columns</p>\n</div>"
     },
     "execution_count": 44,
     "metadata": {},
     "output_type": "execute_result"
    }
   ],
   "source": [
    "df_test_final[feature_cols].dropna()"
   ],
   "metadata": {
    "collapsed": false
   }
  },
  {
   "cell_type": "code",
   "execution_count": 43,
   "outputs": [
    {
     "data": {
      "text/plain": "{'Market_Name_Atlanta',\n 'Market_Name_Austin',\n 'Market_Name_Baltimore',\n 'Market_Name_Boston',\n 'Market_Name_Charlotte',\n 'Market_Name_Chicago',\n 'Market_Name_Cincinnati',\n 'Market_Name_Columbus, OH',\n 'Market_Name_Dallas',\n 'Market_Name_Denver',\n 'Market_Name_Detroit',\n 'Market_Name_Miami',\n 'Market_Name_Minneapolis',\n 'Market_Name_Nashville',\n 'Market_Name_New York',\n 'Market_Name_Orlando',\n 'Market_Name_Philadelphia',\n 'Market_Name_Phoenix',\n 'Market_Name_Pittsburgh',\n 'Market_Name_Portland, OR',\n 'Market_Name_Raleigh',\n 'Market_Name_Salt Lake City',\n 'Market_Name_San Diego',\n 'Market_Name_San Francisco',\n 'Market_Name_Seattle',\n 'Market_Name_St. Louis',\n 'Market_Name_Tampa',\n 'Market_Name_Washington, DC',\n 'omt_co_flag_OMT_CO',\n 'omt_co_flag_OMT_only',\n 'segment_AA'}"
     },
     "execution_count": 43,
     "metadata": {},
     "output_type": "execute_result"
    }
   ],
   "source": [
    "set(X_train.columns) - set(X_test.columns)"
   ],
   "metadata": {
    "collapsed": false
   }
  },
  {
   "cell_type": "code",
   "execution_count": 95,
   "outputs": [],
   "source": [
    "for i in missing_cols:\n",
    "    X_test[i] = 0"
   ],
   "metadata": {
    "collapsed": false
   }
  },
  {
   "cell_type": "code",
   "execution_count": 96,
   "outputs": [],
   "source": [
    "X_test = X_test[X_train.columns]"
   ],
   "metadata": {
    "collapsed": false
   }
  },
  {
   "cell_type": "code",
   "execution_count": 97,
   "outputs": [
    {
     "data": {
      "text/plain": "array([0, 1], dtype=uint8)"
     },
     "execution_count": 97,
     "metadata": {},
     "output_type": "execute_result"
    }
   ],
   "source": [
    "pd.unique(X_test['omt_co_flag_CO_only'])"
   ],
   "metadata": {
    "collapsed": false
   }
  },
  {
   "cell_type": "code",
   "execution_count": 98,
   "outputs": [
    {
     "name": "stdout",
     "output_type": "stream",
     "text": [
      "Core-Cume: 62102\n",
      "Gender: 66755\n",
      "Age: 66757\n",
      "Race: 43391\n"
     ]
    }
   ],
   "source": [
    "df_out = pd.DataFrame(columns=['lower_wob_thresh', 'mean_pop_predicted', 'upper_wobble_thresh'])\n",
    "for cat in demo_cats:\n",
    "    #tic = time.perf_counter()\n",
    "    idx = (df_test_final['demo_category'] == cat)\n",
    "    print(cat + ': ' + str(sum(idx)))\n",
    "\n",
    "    # extract relevant segment indicator columns\n",
    "    demo_cols_cat = ['segment_' + i for i in list(pd.unique(df_test_final.loc[idx]['segment']))]\n",
    "    demo_cols_excl = list(set(demo_cols_all) - set(demo_cols_cat))\n",
    "    feature_cols_cat = list(set(X_test.columns) - set(demo_cols_excl))\n",
    "\n",
    "    # create features and target\n",
    "    X = X_test.loc[idx][feature_cols_cat]\n",
    "    # if cat == 'Race':\n",
    "    #     X['segment_AA'] = 0\n",
    "    y = y_test.loc[idx]\n",
    "    #print(X)\n",
    "\n",
    "    # create empty dataframe\n",
    "    df_temp = pd.DataFrame()\n",
    "    # predict using estimator\n",
    "\n",
    "    #re-arrange features\n",
    "\n",
    "    df_temp['lower_wob_thresh'] = pd.DataFrame(best_estimators[cat][0].predict(X[best_estimators[cat][0].feature_names_in_]), index=X_test.loc[idx].index)\n",
    "    df_temp['mean_pop_predicted'] = pd.DataFrame(best_estimators[cat][1].predict(X[best_estimators[cat][1].feature_names_in_]), index=X_test.loc[idx].index)\n",
    "    df_temp['upper_wobble_thresh'] = pd.DataFrame(best_estimators[cat][2].predict(X[best_estimators[cat][2].feature_names_in_]), index=X_test.loc[idx].index)\n",
    "\n",
    "    df_out = pd.concat([df_out,df_temp], axis=0)"
   ],
   "metadata": {
    "collapsed": false
   }
  },
  {
   "cell_type": "code",
   "execution_count": 48,
   "outputs": [
    {
     "data": {
      "text/plain": "        lower_wob_thresh  mean_pop_predicted  upper_wobble_thresh\n57             74.431257           99.431951           112.523041\n58             76.144184           98.721912           111.670240\n59             76.703320           98.721912           111.670240\n92             71.819160           88.912817           104.660213\n93             72.025835           88.801459           104.602583\n...                  ...                 ...                  ...\n586825         66.050168           80.291174            95.755306\n586826         66.348059           81.029875            95.755306\n586827         66.050168           80.489275            95.755306\n586828         66.348059           80.894726            95.755306\n586829         66.050168           80.426324            95.755306\n\n[338792 rows x 3 columns]",
      "text/html": "<div>\n<style scoped>\n    .dataframe tbody tr th:only-of-type {\n        vertical-align: middle;\n    }\n\n    .dataframe tbody tr th {\n        vertical-align: top;\n    }\n\n    .dataframe thead th {\n        text-align: right;\n    }\n</style>\n<table border=\"1\" class=\"dataframe\">\n  <thead>\n    <tr style=\"text-align: right;\">\n      <th></th>\n      <th>lower_wob_thresh</th>\n      <th>mean_pop_predicted</th>\n      <th>upper_wobble_thresh</th>\n    </tr>\n  </thead>\n  <tbody>\n    <tr>\n      <th>57</th>\n      <td>74.431257</td>\n      <td>99.431951</td>\n      <td>112.523041</td>\n    </tr>\n    <tr>\n      <th>58</th>\n      <td>76.144184</td>\n      <td>98.721912</td>\n      <td>111.670240</td>\n    </tr>\n    <tr>\n      <th>59</th>\n      <td>76.703320</td>\n      <td>98.721912</td>\n      <td>111.670240</td>\n    </tr>\n    <tr>\n      <th>92</th>\n      <td>71.819160</td>\n      <td>88.912817</td>\n      <td>104.660213</td>\n    </tr>\n    <tr>\n      <th>93</th>\n      <td>72.025835</td>\n      <td>88.801459</td>\n      <td>104.602583</td>\n    </tr>\n    <tr>\n      <th>...</th>\n      <td>...</td>\n      <td>...</td>\n      <td>...</td>\n    </tr>\n    <tr>\n      <th>586825</th>\n      <td>66.050168</td>\n      <td>80.291174</td>\n      <td>95.755306</td>\n    </tr>\n    <tr>\n      <th>586826</th>\n      <td>66.348059</td>\n      <td>81.029875</td>\n      <td>95.755306</td>\n    </tr>\n    <tr>\n      <th>586827</th>\n      <td>66.050168</td>\n      <td>80.489275</td>\n      <td>95.755306</td>\n    </tr>\n    <tr>\n      <th>586828</th>\n      <td>66.348059</td>\n      <td>80.894726</td>\n      <td>95.755306</td>\n    </tr>\n    <tr>\n      <th>586829</th>\n      <td>66.050168</td>\n      <td>80.426324</td>\n      <td>95.755306</td>\n    </tr>\n  </tbody>\n</table>\n<p>338792 rows × 3 columns</p>\n</div>"
     },
     "execution_count": 48,
     "metadata": {},
     "output_type": "execute_result"
    }
   ],
   "source": [
    "df_out"
   ],
   "metadata": {
    "collapsed": false
   }
  },
  {
   "cell_type": "markdown",
   "source": [
    "#### score format alone without KIIS-FM"
   ],
   "metadata": {
    "collapsed": false
   }
  },
  {
   "cell_type": "code",
   "execution_count": 43,
   "outputs": [],
   "source": [
    "# scoring_date = pd.to_datetime('2023-01-01')\n",
    "# test_idx_fmt = (df_test['week_dt'] >= scoring_date.date())\n",
    "#\n",
    "# df_test_final_fmt = df_test.loc[test_idx_fmt][id_cols + ['total_respondents'] + feature_cols + target_col]\n",
    "# X_test_fmt = pd.get_dummies(df_test_final_fmt[feature_cols], columns=cat_cols)\n",
    "#\n",
    "# missing_cols_fmt = list(set(X_train.columns) - set(X_test_fmt.columns))\n",
    "#\n",
    "# y_test_fmt = df_test_final_fmt[target]"
   ],
   "metadata": {
    "collapsed": false
   }
  },
  {
   "cell_type": "code",
   "execution_count": 49,
   "outputs": [
    {
     "data": {
      "text/plain": "['omt_co_flag_OMT_CO', 'omt_co_flag_OMT_only']"
     },
     "execution_count": 49,
     "metadata": {},
     "output_type": "execute_result"
    }
   ],
   "source": [
    "# missing_cols_fmt"
   ],
   "metadata": {
    "collapsed": false
   }
  },
  {
   "cell_type": "code",
   "execution_count": 44,
   "outputs": [],
   "source": [
    "# for i in missing_cols_fmt:\n",
    "#     X_test_fmt[i] = 0"
   ],
   "metadata": {
    "collapsed": false
   }
  },
  {
   "cell_type": "code",
   "execution_count": 45,
   "outputs": [],
   "source": [
    "# X_test_fmt = X_test_fmt[X_train.columns]"
   ],
   "metadata": {
    "collapsed": false
   }
  },
  {
   "cell_type": "code",
   "execution_count": 46,
   "outputs": [
    {
     "name": "stdout",
     "output_type": "stream",
     "text": [
      "Race: 68156\n",
      "Race: 68156\n",
      "Core-Cume: 94746\n",
      "Core-Cume: 94746\n",
      "Age: 94788\n",
      "Age: 94788\n",
      "Gender: 77586\n",
      "Gender: 77586\n"
     ]
    }
   ],
   "source": [
    "# df_out_fmt = pd.DataFrame(columns=['lower_wob_thresh', 'mean_pop_predicted', 'upper_wobble_thresh'])\n",
    "# for cat in demo_cats:\n",
    "#     #tic = time.perf_counter()\n",
    "#     idx = (df_test_final_fmt['demo_category'] == cat)\n",
    "#     print(cat + ': ' + str(sum(idx)))\n",
    "#\n",
    "#     # extract relevant segment indicator columns\n",
    "#     demo_cols_cat = ['segment_' + i for i in list(pd.unique(df_test_final_fmt.loc[idx]['segment']))]\n",
    "#     demo_cols_excl = list(set(demo_cols_all) - set(demo_cols_cat))\n",
    "#     feature_cols_cat = list(set(X_test.columns) - set(demo_cols_excl))\n",
    "#\n",
    "#     # create features and target\n",
    "#\n",
    "#     X = X_test_fmt.loc[idx][feature_cols_cat]\n",
    "#     X.dropna(inplace=True)\n",
    "#     idx_new = X.index\n",
    "#     print(cat + ': ' + str(len(idx_new)))\n",
    "#     y = y_test_fmt.loc[idx_new]\n",
    "#     #print(X)\n",
    "#\n",
    "#     # create empty dataframe\n",
    "#     df_temp_fmt = pd.DataFrame()\n",
    "#     # predict using estimator\n",
    "#\n",
    "#     #re-arrange features\n",
    "#\n",
    "#     df_temp_fmt['lower_wob_thresh'] = pd.DataFrame(best_estimators[cat][0].predict(X[best_estimators[cat][0].feature_names_in_]), index=X_test_fmt.loc[idx_new].index)\n",
    "#     df_temp_fmt['mean_pop_predicted'] = pd.DataFrame(best_estimators[cat][1].predict(X[best_estimators[cat][1].feature_names_in_]), index=X_test_fmt.loc[idx_new].index)\n",
    "#     df_temp_fmt['upper_wobble_thresh'] = pd.DataFrame(best_estimators[cat][2].predict(X[best_estimators[cat][2].feature_names_in_]), index=X_test_fmt.loc[idx_new].index)\n",
    "#\n",
    "#     df_out_fmt = pd.concat([df_out_fmt,df_temp_fmt], axis=0)"
   ],
   "metadata": {
    "collapsed": false
   }
  },
  {
   "cell_type": "code",
   "execution_count": 53,
   "outputs": [
    {
     "data": {
      "text/plain": "        lower_wob_thresh  mean_pop_predicted  upper_wobble_thresh\n20             71.647261           89.997511            98.699385\n21             69.020207           90.223598            98.529371\n22             71.647261           89.997511            98.699385\n23             71.647261           89.997511            98.699385\n24             71.647261           89.997511            98.699385\n...                  ...                 ...                  ...\n656721         59.299788           76.027729            91.449372\n656722         59.299788           75.842813            91.449372\n656723         60.783936           76.315299            91.449372\n656724         60.962091           75.842813            91.449372\n656725         60.783936           76.027729            91.449372\n\n[335234 rows x 3 columns]",
      "text/html": "<div>\n<style scoped>\n    .dataframe tbody tr th:only-of-type {\n        vertical-align: middle;\n    }\n\n    .dataframe tbody tr th {\n        vertical-align: top;\n    }\n\n    .dataframe thead th {\n        text-align: right;\n    }\n</style>\n<table border=\"1\" class=\"dataframe\">\n  <thead>\n    <tr style=\"text-align: right;\">\n      <th></th>\n      <th>lower_wob_thresh</th>\n      <th>mean_pop_predicted</th>\n      <th>upper_wobble_thresh</th>\n    </tr>\n  </thead>\n  <tbody>\n    <tr>\n      <th>20</th>\n      <td>71.647261</td>\n      <td>89.997511</td>\n      <td>98.699385</td>\n    </tr>\n    <tr>\n      <th>21</th>\n      <td>69.020207</td>\n      <td>90.223598</td>\n      <td>98.529371</td>\n    </tr>\n    <tr>\n      <th>22</th>\n      <td>71.647261</td>\n      <td>89.997511</td>\n      <td>98.699385</td>\n    </tr>\n    <tr>\n      <th>23</th>\n      <td>71.647261</td>\n      <td>89.997511</td>\n      <td>98.699385</td>\n    </tr>\n    <tr>\n      <th>24</th>\n      <td>71.647261</td>\n      <td>89.997511</td>\n      <td>98.699385</td>\n    </tr>\n    <tr>\n      <th>...</th>\n      <td>...</td>\n      <td>...</td>\n      <td>...</td>\n    </tr>\n    <tr>\n      <th>656721</th>\n      <td>59.299788</td>\n      <td>76.027729</td>\n      <td>91.449372</td>\n    </tr>\n    <tr>\n      <th>656722</th>\n      <td>59.299788</td>\n      <td>75.842813</td>\n      <td>91.449372</td>\n    </tr>\n    <tr>\n      <th>656723</th>\n      <td>60.783936</td>\n      <td>76.315299</td>\n      <td>91.449372</td>\n    </tr>\n    <tr>\n      <th>656724</th>\n      <td>60.962091</td>\n      <td>75.842813</td>\n      <td>91.449372</td>\n    </tr>\n    <tr>\n      <th>656725</th>\n      <td>60.783936</td>\n      <td>76.027729</td>\n      <td>91.449372</td>\n    </tr>\n  </tbody>\n</table>\n<p>335234 rows × 3 columns</p>\n</div>"
     },
     "execution_count": 53,
     "metadata": {},
     "output_type": "execute_result"
    }
   ],
   "source": [
    "# df_out_fmt"
   ],
   "metadata": {
    "collapsed": false
   }
  },
  {
   "cell_type": "code",
   "execution_count": 99,
   "outputs": [],
   "source": [
    "# added this line of code since entire format being scored - 02/14/2023\n",
    "df_out_fmt = df_out"
   ],
   "metadata": {
    "collapsed": false
   }
  },
  {
   "cell_type": "code",
   "execution_count": 100,
   "outputs": [],
   "source": [
    "df_test_final_fmt = df_test_final"
   ],
   "metadata": {
    "collapsed": false
   }
  },
  {
   "cell_type": "code",
   "execution_count": 101,
   "outputs": [],
   "source": [
    "df_out.to_pickle('df_out_stage_03052023_03132021_U1.pkl')\n",
    "df_out_fmt.to_pickle('df_out_fmt_stage_03052023_03132021_U1.pkl')"
   ],
   "metadata": {
    "collapsed": false
   }
  },
  {
   "cell_type": "code",
   "execution_count": 3,
   "outputs": [],
   "source": [
    "# df_out = pd.read_pickle('df_out_stage_02122023_02192021.pkl')\n",
    "# df_out_fmt = pd.read_pickle('df_out_fmt_stage_02122023_02192021.pkl')"
   ],
   "metadata": {
    "collapsed": false
   }
  },
  {
   "cell_type": "code",
   "execution_count": 4,
   "outputs": [
    {
     "data": {
      "text/plain": "        lower_wob_thresh  mean_pop_predicted  upper_wobble_thresh\n282            69.707349           87.357206            97.580157\n283            69.707349           87.357206            97.580157\n284            69.707349           86.938477            97.246663\n285            68.326534           86.938477            97.246663\n286            68.326534           86.938477            97.580157\n...                  ...                 ...                  ...\n663488         54.498126           67.784587            87.376244\n663489         54.498126           68.866443            88.720244\n663490         54.498126           69.158211            88.720244\n663491         54.498126           68.866443            88.720244\n663492         54.498126           68.866443            88.720244\n\n[335276 rows x 3 columns]",
      "text/html": "<div>\n<style scoped>\n    .dataframe tbody tr th:only-of-type {\n        vertical-align: middle;\n    }\n\n    .dataframe tbody tr th {\n        vertical-align: top;\n    }\n\n    .dataframe thead th {\n        text-align: right;\n    }\n</style>\n<table border=\"1\" class=\"dataframe\">\n  <thead>\n    <tr style=\"text-align: right;\">\n      <th></th>\n      <th>lower_wob_thresh</th>\n      <th>mean_pop_predicted</th>\n      <th>upper_wobble_thresh</th>\n    </tr>\n  </thead>\n  <tbody>\n    <tr>\n      <th>282</th>\n      <td>69.707349</td>\n      <td>87.357206</td>\n      <td>97.580157</td>\n    </tr>\n    <tr>\n      <th>283</th>\n      <td>69.707349</td>\n      <td>87.357206</td>\n      <td>97.580157</td>\n    </tr>\n    <tr>\n      <th>284</th>\n      <td>69.707349</td>\n      <td>86.938477</td>\n      <td>97.246663</td>\n    </tr>\n    <tr>\n      <th>285</th>\n      <td>68.326534</td>\n      <td>86.938477</td>\n      <td>97.246663</td>\n    </tr>\n    <tr>\n      <th>286</th>\n      <td>68.326534</td>\n      <td>86.938477</td>\n      <td>97.580157</td>\n    </tr>\n    <tr>\n      <th>...</th>\n      <td>...</td>\n      <td>...</td>\n      <td>...</td>\n    </tr>\n    <tr>\n      <th>663488</th>\n      <td>54.498126</td>\n      <td>67.784587</td>\n      <td>87.376244</td>\n    </tr>\n    <tr>\n      <th>663489</th>\n      <td>54.498126</td>\n      <td>68.866443</td>\n      <td>88.720244</td>\n    </tr>\n    <tr>\n      <th>663490</th>\n      <td>54.498126</td>\n      <td>69.158211</td>\n      <td>88.720244</td>\n    </tr>\n    <tr>\n      <th>663491</th>\n      <td>54.498126</td>\n      <td>68.866443</td>\n      <td>88.720244</td>\n    </tr>\n    <tr>\n      <th>663492</th>\n      <td>54.498126</td>\n      <td>68.866443</td>\n      <td>88.720244</td>\n    </tr>\n  </tbody>\n</table>\n<p>335276 rows × 3 columns</p>\n</div>"
     },
     "execution_count": 4,
     "metadata": {},
     "output_type": "execute_result"
    }
   ],
   "source": [
    "df_out"
   ],
   "metadata": {
    "collapsed": false
   }
  },
  {
   "cell_type": "markdown",
   "source": [
    "### Process output & write to Excel"
   ],
   "metadata": {
    "collapsed": false
   }
  },
  {
   "cell_type": "code",
   "execution_count": 102,
   "outputs": [],
   "source": [
    "df_out_final = df_test_final[id_cols + ['taa_quintile']].join(df_out, how='left')"
   ],
   "metadata": {
    "collapsed": false
   }
  },
  {
   "cell_type": "code",
   "execution_count": 103,
   "outputs": [],
   "source": [
    "df_out_final['segment'] = df_out_final['breakout_name'].apply(func=(lambda x: breakout_map[x] if (x in breakout_map.keys()) else None))"
   ],
   "metadata": {
    "collapsed": false
   }
  },
  {
   "cell_type": "code",
   "execution_count": 104,
   "outputs": [],
   "source": [
    "df_out_final_fmt = df_test_final_fmt[id_cols + ['taa_quintile']].join(df_out_fmt, how='left')"
   ],
   "metadata": {
    "collapsed": false
   }
  },
  {
   "cell_type": "code",
   "execution_count": 105,
   "outputs": [],
   "source": [
    "df_out_final_fmt['segment'] = df_out_final_fmt['breakout_name'].apply(func=(lambda x: breakout_map[x] if (x in breakout_map.keys()) else None))"
   ],
   "metadata": {
    "collapsed": false
   }
  },
  {
   "cell_type": "code",
   "execution_count": 106,
   "outputs": [
    {
     "data": {
      "text/plain": "        mediabase_id  station_id     week_dt  breakout_id breakout_name  \\\n0            1085968     3323601  2023-01-15           -1      Non-Core   \n1            1085968     3323601  2023-01-15            1         Total   \n2            1085968     3323601  2023-01-22            1         Total   \n3            1085968     3323601  2023-01-29            1         Total   \n4            1085968     3323601  2023-02-05            1         Total   \n...              ...         ...         ...          ...           ...   \n355611       2760578     3322623  2023-02-05       401515         *Old*   \n355612       2760578     3322623  2023-02-12       401515         *Old*   \n355613       2760578     3322623  2023-02-19       401515         *Old*   \n355614       2760578     3322623  2023-02-26       401515         *Old*   \n355615       2760578     3322623  2023-03-05       401515         *Old*   \n\n       demo_category  pop_co  pop_omt gcr  taa_quintile  lower_wob_thresh  \\\n0          Core-Cume     NaN      NaN   G             2         81.061455   \n1              Total     NaN      NaN   G             2               NaN   \n2              Total     NaN      NaN   G             2               NaN   \n3              Total     NaN      NaN   G             2               NaN   \n4              Total     NaN      NaN   G             2               NaN   \n...              ...     ...      ...  ..           ...               ...   \n355611           Age    91.0      NaN   R             3         75.683627   \n355612           Age     NaN      NaN   R             3         78.659469   \n355613           Age    85.0      NaN   R             3         76.133035   \n355614           Age    97.0      NaN   R             3         74.172907   \n355615           Age    73.0      NaN   R             3         76.257267   \n\n        mean_pop_predicted  upper_wobble_thresh   segment  \n0                99.048349           109.955714  Non-Core  \n1                      NaN                  NaN     Total  \n2                      NaN                  NaN     Total  \n3                      NaN                  NaN     Total  \n4                      NaN                  NaN     Total  \n...                    ...                  ...       ...  \n355611           91.586075           107.128990       Old  \n355612           96.436943           107.308827       Old  \n355613           91.586075           107.128990       Old  \n355614           90.194305           107.308827       Old  \n355615           91.770621           107.694427       Old  \n\n[272385 rows x 14 columns]",
      "text/html": "<div>\n<style scoped>\n    .dataframe tbody tr th:only-of-type {\n        vertical-align: middle;\n    }\n\n    .dataframe tbody tr th {\n        vertical-align: top;\n    }\n\n    .dataframe thead th {\n        text-align: right;\n    }\n</style>\n<table border=\"1\" class=\"dataframe\">\n  <thead>\n    <tr style=\"text-align: right;\">\n      <th></th>\n      <th>mediabase_id</th>\n      <th>station_id</th>\n      <th>week_dt</th>\n      <th>breakout_id</th>\n      <th>breakout_name</th>\n      <th>demo_category</th>\n      <th>pop_co</th>\n      <th>pop_omt</th>\n      <th>gcr</th>\n      <th>taa_quintile</th>\n      <th>lower_wob_thresh</th>\n      <th>mean_pop_predicted</th>\n      <th>upper_wobble_thresh</th>\n      <th>segment</th>\n    </tr>\n  </thead>\n  <tbody>\n    <tr>\n      <th>0</th>\n      <td>1085968</td>\n      <td>3323601</td>\n      <td>2023-01-15</td>\n      <td>-1</td>\n      <td>Non-Core</td>\n      <td>Core-Cume</td>\n      <td>NaN</td>\n      <td>NaN</td>\n      <td>G</td>\n      <td>2</td>\n      <td>81.061455</td>\n      <td>99.048349</td>\n      <td>109.955714</td>\n      <td>Non-Core</td>\n    </tr>\n    <tr>\n      <th>1</th>\n      <td>1085968</td>\n      <td>3323601</td>\n      <td>2023-01-15</td>\n      <td>1</td>\n      <td>Total</td>\n      <td>Total</td>\n      <td>NaN</td>\n      <td>NaN</td>\n      <td>G</td>\n      <td>2</td>\n      <td>NaN</td>\n      <td>NaN</td>\n      <td>NaN</td>\n      <td>Total</td>\n    </tr>\n    <tr>\n      <th>2</th>\n      <td>1085968</td>\n      <td>3323601</td>\n      <td>2023-01-22</td>\n      <td>1</td>\n      <td>Total</td>\n      <td>Total</td>\n      <td>NaN</td>\n      <td>NaN</td>\n      <td>G</td>\n      <td>2</td>\n      <td>NaN</td>\n      <td>NaN</td>\n      <td>NaN</td>\n      <td>Total</td>\n    </tr>\n    <tr>\n      <th>3</th>\n      <td>1085968</td>\n      <td>3323601</td>\n      <td>2023-01-29</td>\n      <td>1</td>\n      <td>Total</td>\n      <td>Total</td>\n      <td>NaN</td>\n      <td>NaN</td>\n      <td>G</td>\n      <td>2</td>\n      <td>NaN</td>\n      <td>NaN</td>\n      <td>NaN</td>\n      <td>Total</td>\n    </tr>\n    <tr>\n      <th>4</th>\n      <td>1085968</td>\n      <td>3323601</td>\n      <td>2023-02-05</td>\n      <td>1</td>\n      <td>Total</td>\n      <td>Total</td>\n      <td>NaN</td>\n      <td>NaN</td>\n      <td>G</td>\n      <td>2</td>\n      <td>NaN</td>\n      <td>NaN</td>\n      <td>NaN</td>\n      <td>Total</td>\n    </tr>\n    <tr>\n      <th>...</th>\n      <td>...</td>\n      <td>...</td>\n      <td>...</td>\n      <td>...</td>\n      <td>...</td>\n      <td>...</td>\n      <td>...</td>\n      <td>...</td>\n      <td>...</td>\n      <td>...</td>\n      <td>...</td>\n      <td>...</td>\n      <td>...</td>\n      <td>...</td>\n    </tr>\n    <tr>\n      <th>355611</th>\n      <td>2760578</td>\n      <td>3322623</td>\n      <td>2023-02-05</td>\n      <td>401515</td>\n      <td>*Old*</td>\n      <td>Age</td>\n      <td>91.0</td>\n      <td>NaN</td>\n      <td>R</td>\n      <td>3</td>\n      <td>75.683627</td>\n      <td>91.586075</td>\n      <td>107.128990</td>\n      <td>Old</td>\n    </tr>\n    <tr>\n      <th>355612</th>\n      <td>2760578</td>\n      <td>3322623</td>\n      <td>2023-02-12</td>\n      <td>401515</td>\n      <td>*Old*</td>\n      <td>Age</td>\n      <td>NaN</td>\n      <td>NaN</td>\n      <td>R</td>\n      <td>3</td>\n      <td>78.659469</td>\n      <td>96.436943</td>\n      <td>107.308827</td>\n      <td>Old</td>\n    </tr>\n    <tr>\n      <th>355613</th>\n      <td>2760578</td>\n      <td>3322623</td>\n      <td>2023-02-19</td>\n      <td>401515</td>\n      <td>*Old*</td>\n      <td>Age</td>\n      <td>85.0</td>\n      <td>NaN</td>\n      <td>R</td>\n      <td>3</td>\n      <td>76.133035</td>\n      <td>91.586075</td>\n      <td>107.128990</td>\n      <td>Old</td>\n    </tr>\n    <tr>\n      <th>355614</th>\n      <td>2760578</td>\n      <td>3322623</td>\n      <td>2023-02-26</td>\n      <td>401515</td>\n      <td>*Old*</td>\n      <td>Age</td>\n      <td>97.0</td>\n      <td>NaN</td>\n      <td>R</td>\n      <td>3</td>\n      <td>74.172907</td>\n      <td>90.194305</td>\n      <td>107.308827</td>\n      <td>Old</td>\n    </tr>\n    <tr>\n      <th>355615</th>\n      <td>2760578</td>\n      <td>3322623</td>\n      <td>2023-03-05</td>\n      <td>401515</td>\n      <td>*Old*</td>\n      <td>Age</td>\n      <td>73.0</td>\n      <td>NaN</td>\n      <td>R</td>\n      <td>3</td>\n      <td>76.257267</td>\n      <td>91.770621</td>\n      <td>107.694427</td>\n      <td>Old</td>\n    </tr>\n  </tbody>\n</table>\n<p>272385 rows × 14 columns</p>\n</div>"
     },
     "execution_count": 106,
     "metadata": {},
     "output_type": "execute_result"
    }
   ],
   "source": [
    "df_out_final"
   ],
   "metadata": {
    "collapsed": false
   }
  },
  {
   "cell_type": "code",
   "execution_count": 107,
   "outputs": [],
   "source": [
    "# song-artist lookup\n",
    "song_query = '''\n",
    "Select mediabase_id, song_name, artist_name\n",
    "from data.songs_v as sv\n",
    "'''\n",
    "engine = postgresql_engine(user, pwd, host, port, dbname)\n",
    "with engine.connect() as conn:\n",
    "    with conn.begin():\n",
    "        df_song_lookup = pd.read_sql(song_query, con=conn)"
   ],
   "metadata": {
    "collapsed": false
   }
  },
  {
   "cell_type": "code",
   "execution_count": 108,
   "outputs": [],
   "source": [
    "station_query = '''\n",
    "Select distinct station_id, call_letters\n",
    "from data.stations_v as sv\n",
    "'''\n",
    "\n",
    "engine = postgresql_engine(user, pwd, host, port, dbname)\n",
    "with engine.connect() as conn:\n",
    "    with conn.begin():\n",
    "        df_station_lookup = pd.read_sql(station_query, con=conn)"
   ],
   "metadata": {
    "collapsed": false
   }
  },
  {
   "cell_type": "code",
   "execution_count": 109,
   "outputs": [],
   "source": [
    "df_song_lookup.set_index(['mediabase_id'], inplace=True)"
   ],
   "metadata": {
    "collapsed": false
   }
  },
  {
   "cell_type": "code",
   "execution_count": 110,
   "outputs": [],
   "source": [
    "df_station_lookup.set_index(['station_id'], inplace=True)"
   ],
   "metadata": {
    "collapsed": false
   }
  },
  {
   "cell_type": "code",
   "execution_count": 111,
   "outputs": [],
   "source": [
    "df_song_lookup['song_artist']  = df_song_lookup['song_name'] + ' (' + df_song_lookup['artist_name'] + ')'"
   ],
   "metadata": {
    "collapsed": false
   }
  },
  {
   "cell_type": "code",
   "execution_count": 57,
   "outputs": [
    {
     "data": {
      "text/plain": "                                   song_name                   artist_name  \\\nmediabase_id                                                                 \n1157400                           Psychotron                      MEGADETH   \n2885413                             The Blob                        ZANIES   \n2420830       Poison (Live At Olympia Paris)                  ALICE COOPER   \n2733608         Perspective f/Hollywood Jake                  DANTE TWEAKS   \n2844167                            Sunflower                        TAMINO   \n...                                      ...                           ...   \n2620719                       Get On My Wave  ANDREW MCMAHON IN WILDERNESS   \n2667991                         Exaggeration                     JUAN HAZE   \n2438195                           Every Week                          DQ4E   \n2623051                  Your Story Is Over!                        AYREON   \n2580022                     Greatness Of God             RANCE ALLEN GROUP   \n\n                                                song_artist  \nmediabase_id                                                 \n1157400                               Psychotron (MEGADETH)  \n2885413                                   The Blob (ZANIES)  \n2420830       Poison (Live At Olympia Paris) (ALICE COOPER)  \n2733608         Perspective f/Hollywood Jake (DANTE TWEAKS)  \n2844167                                  Sunflower (TAMINO)  \n...                                                     ...  \n2620719       Get On My Wave (ANDREW MCMAHON IN WILDERNESS)  \n2667991                            Exaggeration (JUAN HAZE)  \n2438195                                   Every Week (DQ4E)  \n2623051                        Your Story Is Over! (AYREON)  \n2580022                Greatness Of God (RANCE ALLEN GROUP)  \n\n[1577733 rows x 3 columns]",
      "text/html": "<div>\n<style scoped>\n    .dataframe tbody tr th:only-of-type {\n        vertical-align: middle;\n    }\n\n    .dataframe tbody tr th {\n        vertical-align: top;\n    }\n\n    .dataframe thead th {\n        text-align: right;\n    }\n</style>\n<table border=\"1\" class=\"dataframe\">\n  <thead>\n    <tr style=\"text-align: right;\">\n      <th></th>\n      <th>song_name</th>\n      <th>artist_name</th>\n      <th>song_artist</th>\n    </tr>\n    <tr>\n      <th>mediabase_id</th>\n      <th></th>\n      <th></th>\n      <th></th>\n    </tr>\n  </thead>\n  <tbody>\n    <tr>\n      <th>1157400</th>\n      <td>Psychotron</td>\n      <td>MEGADETH</td>\n      <td>Psychotron (MEGADETH)</td>\n    </tr>\n    <tr>\n      <th>2885413</th>\n      <td>The Blob</td>\n      <td>ZANIES</td>\n      <td>The Blob (ZANIES)</td>\n    </tr>\n    <tr>\n      <th>2420830</th>\n      <td>Poison (Live At Olympia Paris)</td>\n      <td>ALICE COOPER</td>\n      <td>Poison (Live At Olympia Paris) (ALICE COOPER)</td>\n    </tr>\n    <tr>\n      <th>2733608</th>\n      <td>Perspective f/Hollywood Jake</td>\n      <td>DANTE TWEAKS</td>\n      <td>Perspective f/Hollywood Jake (DANTE TWEAKS)</td>\n    </tr>\n    <tr>\n      <th>2844167</th>\n      <td>Sunflower</td>\n      <td>TAMINO</td>\n      <td>Sunflower (TAMINO)</td>\n    </tr>\n    <tr>\n      <th>...</th>\n      <td>...</td>\n      <td>...</td>\n      <td>...</td>\n    </tr>\n    <tr>\n      <th>2620719</th>\n      <td>Get On My Wave</td>\n      <td>ANDREW MCMAHON IN WILDERNESS</td>\n      <td>Get On My Wave (ANDREW MCMAHON IN WILDERNESS)</td>\n    </tr>\n    <tr>\n      <th>2667991</th>\n      <td>Exaggeration</td>\n      <td>JUAN HAZE</td>\n      <td>Exaggeration (JUAN HAZE)</td>\n    </tr>\n    <tr>\n      <th>2438195</th>\n      <td>Every Week</td>\n      <td>DQ4E</td>\n      <td>Every Week (DQ4E)</td>\n    </tr>\n    <tr>\n      <th>2623051</th>\n      <td>Your Story Is Over!</td>\n      <td>AYREON</td>\n      <td>Your Story Is Over! (AYREON)</td>\n    </tr>\n    <tr>\n      <th>2580022</th>\n      <td>Greatness Of God</td>\n      <td>RANCE ALLEN GROUP</td>\n      <td>Greatness Of God (RANCE ALLEN GROUP)</td>\n    </tr>\n  </tbody>\n</table>\n<p>1577733 rows × 3 columns</p>\n</div>"
     },
     "execution_count": 57,
     "metadata": {},
     "output_type": "execute_result"
    }
   ],
   "source": [
    "df_song_lookup"
   ],
   "metadata": {
    "collapsed": false
   }
  },
  {
   "cell_type": "code",
   "execution_count": 112,
   "outputs": [],
   "source": [
    "df_out_final['song_artist'] = df_out_final.join(df_song_lookup, on=['mediabase_id'], how='left')['song_artist']"
   ],
   "metadata": {
    "collapsed": false
   }
  },
  {
   "cell_type": "code",
   "execution_count": 113,
   "outputs": [],
   "source": [
    "df_out_final['call_letters'] = df_out_final.join(df_station_lookup, on=['station_id'], how='left')['call_letters']"
   ],
   "metadata": {
    "collapsed": false
   }
  },
  {
   "cell_type": "code",
   "execution_count": 114,
   "outputs": [],
   "source": [
    "df_out_final['wobble_flag'] = df_out_final.apply(lambda x: int((x['pop_co'] < np.floor(x['lower_wob_thresh'])) | (x['pop_co'] > np.ceil(x['upper_wobble_thresh']))), axis=1)"
   ],
   "metadata": {
    "collapsed": false
   }
  },
  {
   "cell_type": "code",
   "execution_count": 115,
   "outputs": [],
   "source": [
    "df_out_final.to_pickle('df_out_final_Urban_2023_01_15_2023_03_05.pkl')"
   ],
   "metadata": {
    "collapsed": false
   }
  },
  {
   "cell_type": "code",
   "execution_count": 116,
   "outputs": [],
   "source": [
    "df_out_final_fmt['song_artist'] = df_out_final_fmt.join(df_song_lookup, on=['mediabase_id'], how='left')['song_artist']"
   ],
   "metadata": {
    "collapsed": false
   }
  },
  {
   "cell_type": "code",
   "execution_count": 117,
   "outputs": [],
   "source": [
    "df_out_final_fmt['call_letters'] = df_out_final_fmt.join(df_station_lookup, on=['station_id'], how='left')['call_letters']"
   ],
   "metadata": {
    "collapsed": false
   }
  },
  {
   "cell_type": "code",
   "execution_count": 118,
   "outputs": [],
   "source": [
    "df_out_final_fmt['wobble_flag'] = df_out_final_fmt.apply(lambda x: int((x['pop_co'] < np.floor(x['lower_wob_thresh'])) | (x['pop_co'] > np.ceil(x['upper_wobble_thresh']))), axis=1)"
   ],
   "metadata": {
    "collapsed": false
   }
  },
  {
   "cell_type": "code",
   "execution_count": 119,
   "outputs": [],
   "source": [
    "df_out_final_fmt.to_pickle('df_out_final_fmt_Urban_2023_01_15_2023_03_05.pkl')"
   ],
   "metadata": {
    "collapsed": false
   }
  },
  {
   "cell_type": "code",
   "execution_count": 5,
   "outputs": [],
   "source": [
    "# df_out_final = pd.read_pickle('df_out_final_CHR_2022_12_25_2023_02_12.pkl')"
   ],
   "metadata": {
    "collapsed": false
   }
  },
  {
   "cell_type": "code",
   "execution_count": 9,
   "outputs": [
    {
     "data": {
      "text/plain": "        mediabase_id  station_id     week_dt  breakout_id breakout_name  \\\n551695       2760708     3321797  2022-12-25           -2     F (Other)   \n551696       2760708     3321797  2023-01-01           -2     F (Other)   \n551697       2760708     3321797  2023-01-08           -2     F (Other)   \n551698       2760708     3321797  2023-01-15           -2     F (Other)   \n551699       2760708     3321797  2023-01-22           -2     F (Other)   \n...              ...         ...         ...          ...           ...   \n551788       2760708     3321797  2023-01-15       412759     F (18-24)   \n551789       2760708     3321797  2023-01-22       412759     F (18-24)   \n551790       2760708     3321797  2023-01-29       412759     F (18-24)   \n551791       2760708     3321797  2023-02-05       412759     F (18-24)   \n551792       2760708     3321797  2023-02-12       412759     F (18-24)   \n\n       demo_category  pop_co  pop_omt gcr  taa_quintile  lower_wob_thresh  \\\n551695        Gender     NaN      NaN   R             2         60.344388   \n551696        Gender     NaN      NaN   R             2         62.207474   \n551697        Gender     NaN      NaN   R             2         61.867408   \n551698        Gender     NaN      NaN   R             2         62.125284   \n551699        Gender     NaN      NaN   R             2         60.344388   \n...              ...     ...      ...  ..           ...               ...   \n551788        Gender     NaN      NaN   R             2         48.776339   \n551789        Gender     NaN      NaN   R             2         47.283107   \n551790        Gender     NaN      NaN   R             2         48.619369   \n551791        Gender     NaN      NaN   R             2         48.776339   \n551792        Gender     NaN      NaN   R             2         48.176339   \n\n        mean_pop_predicted  upper_wobble_thresh         segment  \\\n551695           76.647103            93.399436    Female_Other   \n551696           77.797221            93.130636    Female_Other   \n551697           77.797221            93.130636    Female_Other   \n551698           78.695010            93.130636    Female_Other   \n551699           76.788446            93.399436    Female_Other   \n...                    ...                  ...             ...   \n551788           66.943894            86.120871  Female_(18-24)   \n551789           66.943894            86.641831  Female_(18-24)   \n551790           66.943894            86.120871  Female_(18-24)   \n551791           66.489081            85.720871  Female_(18-24)   \n551792           66.489081            85.720871  Female_(18-24)   \n\n            song_artist call_letters  wobble_flag  \n551695  abcdefu (GAYLE)      KBKS-FM            0  \n551696  abcdefu (GAYLE)      KBKS-FM            0  \n551697  abcdefu (GAYLE)      KBKS-FM            0  \n551698  abcdefu (GAYLE)      KBKS-FM            0  \n551699  abcdefu (GAYLE)      KBKS-FM            0  \n...                 ...          ...          ...  \n551788  abcdefu (GAYLE)      KBKS-FM            0  \n551789  abcdefu (GAYLE)      KBKS-FM            0  \n551790  abcdefu (GAYLE)      KBKS-FM            0  \n551791  abcdefu (GAYLE)      KBKS-FM            0  \n551792  abcdefu (GAYLE)      KBKS-FM            0  \n\n[64 rows x 17 columns]",
      "text/html": "<div>\n<style scoped>\n    .dataframe tbody tr th:only-of-type {\n        vertical-align: middle;\n    }\n\n    .dataframe tbody tr th {\n        vertical-align: top;\n    }\n\n    .dataframe thead th {\n        text-align: right;\n    }\n</style>\n<table border=\"1\" class=\"dataframe\">\n  <thead>\n    <tr style=\"text-align: right;\">\n      <th></th>\n      <th>mediabase_id</th>\n      <th>station_id</th>\n      <th>week_dt</th>\n      <th>breakout_id</th>\n      <th>breakout_name</th>\n      <th>demo_category</th>\n      <th>pop_co</th>\n      <th>pop_omt</th>\n      <th>gcr</th>\n      <th>taa_quintile</th>\n      <th>lower_wob_thresh</th>\n      <th>mean_pop_predicted</th>\n      <th>upper_wobble_thresh</th>\n      <th>segment</th>\n      <th>song_artist</th>\n      <th>call_letters</th>\n      <th>wobble_flag</th>\n    </tr>\n  </thead>\n  <tbody>\n    <tr>\n      <th>551695</th>\n      <td>2760708</td>\n      <td>3321797</td>\n      <td>2022-12-25</td>\n      <td>-2</td>\n      <td>F (Other)</td>\n      <td>Gender</td>\n      <td>NaN</td>\n      <td>NaN</td>\n      <td>R</td>\n      <td>2</td>\n      <td>60.344388</td>\n      <td>76.647103</td>\n      <td>93.399436</td>\n      <td>Female_Other</td>\n      <td>abcdefu (GAYLE)</td>\n      <td>KBKS-FM</td>\n      <td>0</td>\n    </tr>\n    <tr>\n      <th>551696</th>\n      <td>2760708</td>\n      <td>3321797</td>\n      <td>2023-01-01</td>\n      <td>-2</td>\n      <td>F (Other)</td>\n      <td>Gender</td>\n      <td>NaN</td>\n      <td>NaN</td>\n      <td>R</td>\n      <td>2</td>\n      <td>62.207474</td>\n      <td>77.797221</td>\n      <td>93.130636</td>\n      <td>Female_Other</td>\n      <td>abcdefu (GAYLE)</td>\n      <td>KBKS-FM</td>\n      <td>0</td>\n    </tr>\n    <tr>\n      <th>551697</th>\n      <td>2760708</td>\n      <td>3321797</td>\n      <td>2023-01-08</td>\n      <td>-2</td>\n      <td>F (Other)</td>\n      <td>Gender</td>\n      <td>NaN</td>\n      <td>NaN</td>\n      <td>R</td>\n      <td>2</td>\n      <td>61.867408</td>\n      <td>77.797221</td>\n      <td>93.130636</td>\n      <td>Female_Other</td>\n      <td>abcdefu (GAYLE)</td>\n      <td>KBKS-FM</td>\n      <td>0</td>\n    </tr>\n    <tr>\n      <th>551698</th>\n      <td>2760708</td>\n      <td>3321797</td>\n      <td>2023-01-15</td>\n      <td>-2</td>\n      <td>F (Other)</td>\n      <td>Gender</td>\n      <td>NaN</td>\n      <td>NaN</td>\n      <td>R</td>\n      <td>2</td>\n      <td>62.125284</td>\n      <td>78.695010</td>\n      <td>93.130636</td>\n      <td>Female_Other</td>\n      <td>abcdefu (GAYLE)</td>\n      <td>KBKS-FM</td>\n      <td>0</td>\n    </tr>\n    <tr>\n      <th>551699</th>\n      <td>2760708</td>\n      <td>3321797</td>\n      <td>2023-01-22</td>\n      <td>-2</td>\n      <td>F (Other)</td>\n      <td>Gender</td>\n      <td>NaN</td>\n      <td>NaN</td>\n      <td>R</td>\n      <td>2</td>\n      <td>60.344388</td>\n      <td>76.788446</td>\n      <td>93.399436</td>\n      <td>Female_Other</td>\n      <td>abcdefu (GAYLE)</td>\n      <td>KBKS-FM</td>\n      <td>0</td>\n    </tr>\n    <tr>\n      <th>...</th>\n      <td>...</td>\n      <td>...</td>\n      <td>...</td>\n      <td>...</td>\n      <td>...</td>\n      <td>...</td>\n      <td>...</td>\n      <td>...</td>\n      <td>...</td>\n      <td>...</td>\n      <td>...</td>\n      <td>...</td>\n      <td>...</td>\n      <td>...</td>\n      <td>...</td>\n      <td>...</td>\n      <td>...</td>\n    </tr>\n    <tr>\n      <th>551788</th>\n      <td>2760708</td>\n      <td>3321797</td>\n      <td>2023-01-15</td>\n      <td>412759</td>\n      <td>F (18-24)</td>\n      <td>Gender</td>\n      <td>NaN</td>\n      <td>NaN</td>\n      <td>R</td>\n      <td>2</td>\n      <td>48.776339</td>\n      <td>66.943894</td>\n      <td>86.120871</td>\n      <td>Female_(18-24)</td>\n      <td>abcdefu (GAYLE)</td>\n      <td>KBKS-FM</td>\n      <td>0</td>\n    </tr>\n    <tr>\n      <th>551789</th>\n      <td>2760708</td>\n      <td>3321797</td>\n      <td>2023-01-22</td>\n      <td>412759</td>\n      <td>F (18-24)</td>\n      <td>Gender</td>\n      <td>NaN</td>\n      <td>NaN</td>\n      <td>R</td>\n      <td>2</td>\n      <td>47.283107</td>\n      <td>66.943894</td>\n      <td>86.641831</td>\n      <td>Female_(18-24)</td>\n      <td>abcdefu (GAYLE)</td>\n      <td>KBKS-FM</td>\n      <td>0</td>\n    </tr>\n    <tr>\n      <th>551790</th>\n      <td>2760708</td>\n      <td>3321797</td>\n      <td>2023-01-29</td>\n      <td>412759</td>\n      <td>F (18-24)</td>\n      <td>Gender</td>\n      <td>NaN</td>\n      <td>NaN</td>\n      <td>R</td>\n      <td>2</td>\n      <td>48.619369</td>\n      <td>66.943894</td>\n      <td>86.120871</td>\n      <td>Female_(18-24)</td>\n      <td>abcdefu (GAYLE)</td>\n      <td>KBKS-FM</td>\n      <td>0</td>\n    </tr>\n    <tr>\n      <th>551791</th>\n      <td>2760708</td>\n      <td>3321797</td>\n      <td>2023-02-05</td>\n      <td>412759</td>\n      <td>F (18-24)</td>\n      <td>Gender</td>\n      <td>NaN</td>\n      <td>NaN</td>\n      <td>R</td>\n      <td>2</td>\n      <td>48.776339</td>\n      <td>66.489081</td>\n      <td>85.720871</td>\n      <td>Female_(18-24)</td>\n      <td>abcdefu (GAYLE)</td>\n      <td>KBKS-FM</td>\n      <td>0</td>\n    </tr>\n    <tr>\n      <th>551792</th>\n      <td>2760708</td>\n      <td>3321797</td>\n      <td>2023-02-12</td>\n      <td>412759</td>\n      <td>F (18-24)</td>\n      <td>Gender</td>\n      <td>NaN</td>\n      <td>NaN</td>\n      <td>R</td>\n      <td>2</td>\n      <td>48.176339</td>\n      <td>66.489081</td>\n      <td>85.720871</td>\n      <td>Female_(18-24)</td>\n      <td>abcdefu (GAYLE)</td>\n      <td>KBKS-FM</td>\n      <td>0</td>\n    </tr>\n  </tbody>\n</table>\n<p>64 rows × 17 columns</p>\n</div>"
     },
     "execution_count": 9,
     "metadata": {},
     "output_type": "execute_result"
    }
   ],
   "source": [
    "df_out_final[(df_out_final['call_letters'] == 'KBKS-FM') & (df_out_final['song_artist'] == 'abcdefu (GAYLE)')]"
   ],
   "metadata": {
    "collapsed": false
   }
  },
  {
   "cell_type": "markdown",
   "source": [
    "### Read pre-written files"
   ],
   "metadata": {
    "collapsed": false
   }
  },
  {
   "cell_type": "code",
   "execution_count": 126,
   "outputs": [],
   "source": [
    "# df_out_final = pd.read_pickle('df_out_final_KIIS-FM_2022_12_04_2023_01_22.pkl')"
   ],
   "metadata": {
    "collapsed": false
   }
  },
  {
   "cell_type": "code",
   "execution_count": 125,
   "outputs": [],
   "source": [
    "# df_out_final_fmt = pd.read_pickle('df_out_final_H1_2022_12_04_2023_01_22.pkl')"
   ],
   "metadata": {
    "collapsed": false
   }
  },
  {
   "cell_type": "code",
   "execution_count": 113,
   "outputs": [
    {
     "data": {
      "text/plain": "        mediabase_id  station_id     week_dt  breakout_id breakout_name  \\\n2            1085550     3322808  2022-12-04       412759     F (18-24)   \n3            1085550     3322808  2022-12-11       412759     F (18-24)   \n4            1085550     3322808  2022-12-18       412759     F (18-24)   \n5            1085550     3322808  2022-12-25       412759     F (18-24)   \n6            1085550     3322808  2023-01-01       412759     F (18-24)   \n...              ...         ...         ...          ...           ...   \n659830       2754544     3322204  2022-12-25       401515         *Old*   \n659831       2754544     3322204  2023-01-01       401515         *Old*   \n659832       2754544     3322204  2023-01-08       401515         *Old*   \n659833       2754544     3322204  2023-01-15       401515         *Old*   \n659834       2754544     3322204  2023-01-22       401515         *Old*   \n\n       demo_category  pop_co pop_omt gcr  taa_quintile  lower_wob_thresh  \\\n2             Gender     NaN    None   G             5         69.020207   \n3             Gender     NaN    None   G             5         71.647261   \n4             Gender     NaN    None   G             5         69.020207   \n5             Gender     NaN    None   G             5         71.647261   \n6             Gender     NaN    None   G             5         71.647261   \n...              ...     ...     ...  ..           ...               ...   \n659830           Age     NaN    None   R             2         57.644843   \n659831           Age     NaN    None   R             2         57.428034   \n659832           Age     NaN    None   R             2         57.002017   \n659833           Age     NaN    None   R             2         57.002017   \n659834           Age    87.0    None   R             2         57.002017   \n\n        mean_pop_predicted  upper_wobble_thresh         segment  \\\n2                89.997511            98.529371  Female_(18-24)   \n3                89.997511            98.699385  Female_(18-24)   \n4                90.223598            98.529371  Female_(18-24)   \n5                89.997511            98.699385  Female_(18-24)   \n6                89.997511            98.699385  Female_(18-24)   \n...                    ...                  ...             ...   \n659830           79.531999            94.185463             Old   \n659831           78.403516            93.442238             Old   \n659832           78.105013            93.442238             Old   \n659833           78.907983            93.787264             Old   \n659834           78.026508            93.442238             Old   \n\n                                           song_artist call_letters  \\\n2                             In The End (LINKIN PARK)      KZHT-FM   \n3                             In The End (LINKIN PARK)      KZHT-FM   \n4                             In The End (LINKIN PARK)      KZHT-FM   \n5                             In The End (LINKIN PARK)      KZHT-FM   \n6                             In The End (LINKIN PARK)      KZHT-FM   \n...                                                ...          ...   \n659830  Enemy From League Of Legends (IMAGINE DRAGONS)      WHQC-FM   \n659831  Enemy From League Of Legends (IMAGINE DRAGONS)      WHQC-FM   \n659832  Enemy From League Of Legends (IMAGINE DRAGONS)      WHQC-FM   \n659833  Enemy From League Of Legends (IMAGINE DRAGONS)      WHQC-FM   \n659834  Enemy From League Of Legends (IMAGINE DRAGONS)      WHQC-FM   \n\n        wobble_flag  \n2                 0  \n3                 0  \n4                 0  \n5                 0  \n6                 0  \n...             ...  \n659830            0  \n659831            0  \n659832            0  \n659833            0  \n659834            0  \n\n[383760 rows x 17 columns]",
      "text/html": "<div>\n<style scoped>\n    .dataframe tbody tr th:only-of-type {\n        vertical-align: middle;\n    }\n\n    .dataframe tbody tr th {\n        vertical-align: top;\n    }\n\n    .dataframe thead th {\n        text-align: right;\n    }\n</style>\n<table border=\"1\" class=\"dataframe\">\n  <thead>\n    <tr style=\"text-align: right;\">\n      <th></th>\n      <th>mediabase_id</th>\n      <th>station_id</th>\n      <th>week_dt</th>\n      <th>breakout_id</th>\n      <th>breakout_name</th>\n      <th>demo_category</th>\n      <th>pop_co</th>\n      <th>pop_omt</th>\n      <th>gcr</th>\n      <th>taa_quintile</th>\n      <th>lower_wob_thresh</th>\n      <th>mean_pop_predicted</th>\n      <th>upper_wobble_thresh</th>\n      <th>segment</th>\n      <th>song_artist</th>\n      <th>call_letters</th>\n      <th>wobble_flag</th>\n    </tr>\n  </thead>\n  <tbody>\n    <tr>\n      <th>2</th>\n      <td>1085550</td>\n      <td>3322808</td>\n      <td>2022-12-04</td>\n      <td>412759</td>\n      <td>F (18-24)</td>\n      <td>Gender</td>\n      <td>NaN</td>\n      <td>None</td>\n      <td>G</td>\n      <td>5</td>\n      <td>69.020207</td>\n      <td>89.997511</td>\n      <td>98.529371</td>\n      <td>Female_(18-24)</td>\n      <td>In The End (LINKIN PARK)</td>\n      <td>KZHT-FM</td>\n      <td>0</td>\n    </tr>\n    <tr>\n      <th>3</th>\n      <td>1085550</td>\n      <td>3322808</td>\n      <td>2022-12-11</td>\n      <td>412759</td>\n      <td>F (18-24)</td>\n      <td>Gender</td>\n      <td>NaN</td>\n      <td>None</td>\n      <td>G</td>\n      <td>5</td>\n      <td>71.647261</td>\n      <td>89.997511</td>\n      <td>98.699385</td>\n      <td>Female_(18-24)</td>\n      <td>In The End (LINKIN PARK)</td>\n      <td>KZHT-FM</td>\n      <td>0</td>\n    </tr>\n    <tr>\n      <th>4</th>\n      <td>1085550</td>\n      <td>3322808</td>\n      <td>2022-12-18</td>\n      <td>412759</td>\n      <td>F (18-24)</td>\n      <td>Gender</td>\n      <td>NaN</td>\n      <td>None</td>\n      <td>G</td>\n      <td>5</td>\n      <td>69.020207</td>\n      <td>90.223598</td>\n      <td>98.529371</td>\n      <td>Female_(18-24)</td>\n      <td>In The End (LINKIN PARK)</td>\n      <td>KZHT-FM</td>\n      <td>0</td>\n    </tr>\n    <tr>\n      <th>5</th>\n      <td>1085550</td>\n      <td>3322808</td>\n      <td>2022-12-25</td>\n      <td>412759</td>\n      <td>F (18-24)</td>\n      <td>Gender</td>\n      <td>NaN</td>\n      <td>None</td>\n      <td>G</td>\n      <td>5</td>\n      <td>71.647261</td>\n      <td>89.997511</td>\n      <td>98.699385</td>\n      <td>Female_(18-24)</td>\n      <td>In The End (LINKIN PARK)</td>\n      <td>KZHT-FM</td>\n      <td>0</td>\n    </tr>\n    <tr>\n      <th>6</th>\n      <td>1085550</td>\n      <td>3322808</td>\n      <td>2023-01-01</td>\n      <td>412759</td>\n      <td>F (18-24)</td>\n      <td>Gender</td>\n      <td>NaN</td>\n      <td>None</td>\n      <td>G</td>\n      <td>5</td>\n      <td>71.647261</td>\n      <td>89.997511</td>\n      <td>98.699385</td>\n      <td>Female_(18-24)</td>\n      <td>In The End (LINKIN PARK)</td>\n      <td>KZHT-FM</td>\n      <td>0</td>\n    </tr>\n    <tr>\n      <th>...</th>\n      <td>...</td>\n      <td>...</td>\n      <td>...</td>\n      <td>...</td>\n      <td>...</td>\n      <td>...</td>\n      <td>...</td>\n      <td>...</td>\n      <td>...</td>\n      <td>...</td>\n      <td>...</td>\n      <td>...</td>\n      <td>...</td>\n      <td>...</td>\n      <td>...</td>\n      <td>...</td>\n      <td>...</td>\n    </tr>\n    <tr>\n      <th>659830</th>\n      <td>2754544</td>\n      <td>3322204</td>\n      <td>2022-12-25</td>\n      <td>401515</td>\n      <td>*Old*</td>\n      <td>Age</td>\n      <td>NaN</td>\n      <td>None</td>\n      <td>R</td>\n      <td>2</td>\n      <td>57.644843</td>\n      <td>79.531999</td>\n      <td>94.185463</td>\n      <td>Old</td>\n      <td>Enemy From League Of Legends (IMAGINE DRAGONS)</td>\n      <td>WHQC-FM</td>\n      <td>0</td>\n    </tr>\n    <tr>\n      <th>659831</th>\n      <td>2754544</td>\n      <td>3322204</td>\n      <td>2023-01-01</td>\n      <td>401515</td>\n      <td>*Old*</td>\n      <td>Age</td>\n      <td>NaN</td>\n      <td>None</td>\n      <td>R</td>\n      <td>2</td>\n      <td>57.428034</td>\n      <td>78.403516</td>\n      <td>93.442238</td>\n      <td>Old</td>\n      <td>Enemy From League Of Legends (IMAGINE DRAGONS)</td>\n      <td>WHQC-FM</td>\n      <td>0</td>\n    </tr>\n    <tr>\n      <th>659832</th>\n      <td>2754544</td>\n      <td>3322204</td>\n      <td>2023-01-08</td>\n      <td>401515</td>\n      <td>*Old*</td>\n      <td>Age</td>\n      <td>NaN</td>\n      <td>None</td>\n      <td>R</td>\n      <td>2</td>\n      <td>57.002017</td>\n      <td>78.105013</td>\n      <td>93.442238</td>\n      <td>Old</td>\n      <td>Enemy From League Of Legends (IMAGINE DRAGONS)</td>\n      <td>WHQC-FM</td>\n      <td>0</td>\n    </tr>\n    <tr>\n      <th>659833</th>\n      <td>2754544</td>\n      <td>3322204</td>\n      <td>2023-01-15</td>\n      <td>401515</td>\n      <td>*Old*</td>\n      <td>Age</td>\n      <td>NaN</td>\n      <td>None</td>\n      <td>R</td>\n      <td>2</td>\n      <td>57.002017</td>\n      <td>78.907983</td>\n      <td>93.787264</td>\n      <td>Old</td>\n      <td>Enemy From League Of Legends (IMAGINE DRAGONS)</td>\n      <td>WHQC-FM</td>\n      <td>0</td>\n    </tr>\n    <tr>\n      <th>659834</th>\n      <td>2754544</td>\n      <td>3322204</td>\n      <td>2023-01-22</td>\n      <td>401515</td>\n      <td>*Old*</td>\n      <td>Age</td>\n      <td>87.0</td>\n      <td>None</td>\n      <td>R</td>\n      <td>2</td>\n      <td>57.002017</td>\n      <td>78.026508</td>\n      <td>93.442238</td>\n      <td>Old</td>\n      <td>Enemy From League Of Legends (IMAGINE DRAGONS)</td>\n      <td>WHQC-FM</td>\n      <td>0</td>\n    </tr>\n  </tbody>\n</table>\n<p>383760 rows × 17 columns</p>\n</div>"
     },
     "execution_count": 113,
     "metadata": {},
     "output_type": "execute_result"
    }
   ],
   "source": [
    "df_out_final_fmt"
   ],
   "metadata": {
    "collapsed": false
   }
  },
  {
   "cell_type": "code",
   "execution_count": 92,
   "outputs": [
    {
     "data": {
      "text/plain": "array([datetime.date(2023, 1, 22), datetime.date(2023, 1, 29),\n       datetime.date(2023, 2, 5), datetime.date(2022, 12, 18),\n       datetime.date(2022, 12, 25), datetime.date(2023, 1, 1),\n       datetime.date(2023, 1, 8), datetime.date(2023, 1, 15)],\n      dtype=object)"
     },
     "execution_count": 92,
     "metadata": {},
     "output_type": "execute_result"
    }
   ],
   "source": [
    "pd.unique(df_out_final['week_dt'])"
   ],
   "metadata": {
    "collapsed": false
   }
  },
  {
   "cell_type": "markdown",
   "source": [
    "#### wobbles report"
   ],
   "metadata": {
    "collapsed": false
   }
  },
  {
   "cell_type": "code",
   "execution_count": 120,
   "outputs": [],
   "source": [
    "df_instances = df_out_final[(df_out_final['breakout_id'] > 1) & (df_out_final['wobble_flag'] == 1)][['station_id', 'mediabase_id']].drop_duplicates()"
   ],
   "metadata": {
    "collapsed": false
   }
  },
  {
   "cell_type": "code",
   "execution_count": 121,
   "outputs": [
    {
     "data": {
      "text/plain": "        station_id  mediabase_id\n37915      3322220       1355512\n123490     3322220       1913063\n173527     3322220       2141346\n181088     3322623       2177853\n194183     3322623       2256903\n...            ...           ...\n354951     3323601       2855533\n355177     3328064       2855533\n355381     3322439       2760578\n355546     3322611       2760578\n355597     3322623       2760578\n\n[331 rows x 2 columns]",
      "text/html": "<div>\n<style scoped>\n    .dataframe tbody tr th:only-of-type {\n        vertical-align: middle;\n    }\n\n    .dataframe tbody tr th {\n        vertical-align: top;\n    }\n\n    .dataframe thead th {\n        text-align: right;\n    }\n</style>\n<table border=\"1\" class=\"dataframe\">\n  <thead>\n    <tr style=\"text-align: right;\">\n      <th></th>\n      <th>station_id</th>\n      <th>mediabase_id</th>\n    </tr>\n  </thead>\n  <tbody>\n    <tr>\n      <th>37915</th>\n      <td>3322220</td>\n      <td>1355512</td>\n    </tr>\n    <tr>\n      <th>123490</th>\n      <td>3322220</td>\n      <td>1913063</td>\n    </tr>\n    <tr>\n      <th>173527</th>\n      <td>3322220</td>\n      <td>2141346</td>\n    </tr>\n    <tr>\n      <th>181088</th>\n      <td>3322623</td>\n      <td>2177853</td>\n    </tr>\n    <tr>\n      <th>194183</th>\n      <td>3322623</td>\n      <td>2256903</td>\n    </tr>\n    <tr>\n      <th>...</th>\n      <td>...</td>\n      <td>...</td>\n    </tr>\n    <tr>\n      <th>354951</th>\n      <td>3323601</td>\n      <td>2855533</td>\n    </tr>\n    <tr>\n      <th>355177</th>\n      <td>3328064</td>\n      <td>2855533</td>\n    </tr>\n    <tr>\n      <th>355381</th>\n      <td>3322439</td>\n      <td>2760578</td>\n    </tr>\n    <tr>\n      <th>355546</th>\n      <td>3322611</td>\n      <td>2760578</td>\n    </tr>\n    <tr>\n      <th>355597</th>\n      <td>3322623</td>\n      <td>2760578</td>\n    </tr>\n  </tbody>\n</table>\n<p>331 rows × 2 columns</p>\n</div>"
     },
     "execution_count": 121,
     "metadata": {},
     "output_type": "execute_result"
    }
   ],
   "source": [
    "df_instances"
   ],
   "metadata": {
    "collapsed": false
   }
  },
  {
   "cell_type": "code",
   "execution_count": 122,
   "outputs": [],
   "source": [
    "df_wobble = df_instances.join(df_out_final[(df_out_final['breakout_id'] > 0) & (~pd.isna(df_out_final['pop_co']))].set_index(['mediabase_id', 'station_id']), on = ['mediabase_id', 'station_id'], how='left')"
   ],
   "metadata": {
    "collapsed": false
   }
  },
  {
   "cell_type": "code",
   "execution_count": 123,
   "outputs": [
    {
     "data": {
      "text/plain": "(7489, 17)"
     },
     "execution_count": 123,
     "metadata": {},
     "output_type": "execute_result"
    }
   ],
   "source": [
    "df_wobble.shape"
   ],
   "metadata": {
    "collapsed": false
   }
  },
  {
   "cell_type": "code",
   "execution_count": 124,
   "outputs": [],
   "source": [
    "df_wobble = df_wobble.join(df_test.set_index(['mediabase_id', 'station_id', 'week_dt', 'breakout_id'])[['spins_non_on', 'market_spins']], on=['mediabase_id', 'station_id', 'week_dt', 'breakout_id'], how='left')"
   ],
   "metadata": {
    "collapsed": false
   }
  },
  {
   "cell_type": "code",
   "execution_count": 125,
   "outputs": [],
   "source": [
    "taa_query = '''\n",
    "Select mediabase_id, station_id, week_dt, taa\n",
    "from dbo.rr_scores_adds_from_prod as rsafp\n",
    "where week_dt >= '2023-01-01'\n",
    "and format='U1'\n",
    "--and station_id = 3322022\n",
    "'''\n",
    "\n",
    "engine = postgresql_engine(user, pwd, host, port, dbname)\n",
    "with engine.connect() as conn:\n",
    "    with conn.begin():\n",
    "        df_taa_lookup = pd.read_sql(taa_query, con=conn)"
   ],
   "metadata": {
    "collapsed": false
   }
  },
  {
   "cell_type": "code",
   "execution_count": 126,
   "outputs": [],
   "source": [
    "df_wobble = df_wobble.join(df_taa_lookup.set_index(['mediabase_id', 'station_id', 'week_dt'])['taa'], on=['mediabase_id', 'station_id', 'week_dt'], how='left')"
   ],
   "metadata": {
    "collapsed": false
   }
  },
  {
   "cell_type": "code",
   "execution_count": 127,
   "outputs": [],
   "source": [
    "df_wobble['score_date'] = df_wobble['week_dt'] + np.timedelta64(8, 'D')"
   ],
   "metadata": {
    "collapsed": false
   }
  },
  {
   "cell_type": "code",
   "execution_count": 91,
   "outputs": [
    {
     "data": {
      "text/plain": "        score_date     week_dt\n10030   2023-02-27  2023-02-19\n16637   2023-01-23  2023-01-15\n16637   2023-02-20  2023-02-12\n42824   2023-01-16  2023-01-08\n48972   2023-02-13  2023-02-05\n114577  2023-01-09  2023-01-01\n114577  2023-01-30  2023-01-22\n141338  2023-02-06  2023-01-29",
      "text/html": "<div>\n<style scoped>\n    .dataframe tbody tr th:only-of-type {\n        vertical-align: middle;\n    }\n\n    .dataframe tbody tr th {\n        vertical-align: top;\n    }\n\n    .dataframe thead th {\n        text-align: right;\n    }\n</style>\n<table border=\"1\" class=\"dataframe\">\n  <thead>\n    <tr style=\"text-align: right;\">\n      <th></th>\n      <th>score_date</th>\n      <th>week_dt</th>\n    </tr>\n  </thead>\n  <tbody>\n    <tr>\n      <th>10030</th>\n      <td>2023-02-27</td>\n      <td>2023-02-19</td>\n    </tr>\n    <tr>\n      <th>16637</th>\n      <td>2023-01-23</td>\n      <td>2023-01-15</td>\n    </tr>\n    <tr>\n      <th>16637</th>\n      <td>2023-02-20</td>\n      <td>2023-02-12</td>\n    </tr>\n    <tr>\n      <th>42824</th>\n      <td>2023-01-16</td>\n      <td>2023-01-08</td>\n    </tr>\n    <tr>\n      <th>48972</th>\n      <td>2023-02-13</td>\n      <td>2023-02-05</td>\n    </tr>\n    <tr>\n      <th>114577</th>\n      <td>2023-01-09</td>\n      <td>2023-01-01</td>\n    </tr>\n    <tr>\n      <th>114577</th>\n      <td>2023-01-30</td>\n      <td>2023-01-22</td>\n    </tr>\n    <tr>\n      <th>141338</th>\n      <td>2023-02-06</td>\n      <td>2023-01-29</td>\n    </tr>\n  </tbody>\n</table>\n</div>"
     },
     "execution_count": 91,
     "metadata": {},
     "output_type": "execute_result"
    }
   ],
   "source": [
    "df_wobble[['score_date', 'week_dt']].drop_duplicates()"
   ],
   "metadata": {
    "collapsed": false
   }
  },
  {
   "cell_type": "code",
   "execution_count": 128,
   "outputs": [],
   "source": [
    "df_wobble_out = df_wobble.pivot(index=['call_letters', 'song_artist', 'score_date', 'gcr', 'market_spins', 'spins_non_on', 'taa'], columns=['breakout_name'], values=['pop_co', 'wobble_flag'])"
   ],
   "metadata": {
    "collapsed": false
   }
  },
  {
   "cell_type": "code",
   "execution_count": 129,
   "outputs": [
    {
     "data": {
      "text/plain": "                                                                                                            pop_co  \\\nbreakout_name                                                                                               *Core*   \ncall_letters song_artist                                    score_date gcr market_spins spins_non_on taa             \nKQBT-FM      Back End (FINESSE2TYMES)                       2023-01-23 C   183          96           9.5813  104.0   \n                                                            2023-02-06 C   96           32           9.5339   96.0   \n                                                            2023-02-20 C   102          35           9.6387  102.0   \n                                                            2023-03-06 C   90           35           9.7161  103.0   \n             Beautiful Lies f/Kehlani (BLEU)                2023-01-23 R   18           12           8.5471   96.0   \n...                                                                                                            ...   \nWWPR-FM      What's My Name f/Queen Naija.. (FIVIO FOREIGN) 2023-02-06 R   14           5            8.1972   94.0   \n                                                            2023-02-13 R   8            0            8.3570   80.0   \n                                                            2023-02-27 R   8            0            8.2721   85.0   \n                                                            2023-03-06 R   0            0            8.3293   94.0   \n                                                            2023-03-13 R   0            0            8.2981   86.0   \n\n                                                                                                                    \\\nbreakout_name                                                                                                *Old*   \ncall_letters song_artist                                    score_date gcr market_spins spins_non_on taa             \nKQBT-FM      Back End (FINESSE2TYMES)                       2023-01-23 C   183          96           9.5813   89.0   \n                                                            2023-02-06 C   96           32           9.5339   99.0   \n                                                            2023-02-20 C   102          35           9.6387   96.0   \n                                                            2023-03-06 C   90           35           9.7161  103.0   \n             Beautiful Lies f/Kehlani (BLEU)                2023-01-23 R   18           12           8.5471   82.0   \n...                                                                                                            ...   \nWWPR-FM      What's My Name f/Queen Naija.. (FIVIO FOREIGN) 2023-02-06 R   14           5            8.1972   85.0   \n                                                            2023-02-13 R   8            0            8.3570   84.0   \n                                                            2023-02-27 R   8            0            8.2721   93.0   \n                                                            2023-03-06 R   0            0            8.3293   87.0   \n                                                            2023-03-13 R   0            0            8.2981   94.0   \n\n                                                                                                                     \\\nbreakout_name                                                                                               *Young*   \ncall_letters song_artist                                    score_date gcr market_spins spins_non_on taa              \nKQBT-FM      Back End (FINESSE2TYMES)                       2023-01-23 C   183          96           9.5813    90.0   \n                                                            2023-02-06 C   96           32           9.5339    82.0   \n                                                            2023-02-20 C   102          35           9.6387    99.0   \n                                                            2023-03-06 C   90           35           9.7161    93.0   \n             Beautiful Lies f/Kehlani (BLEU)                2023-01-23 R   18           12           8.5471   105.0   \n...                                                                                                             ...   \nWWPR-FM      What's My Name f/Queen Naija.. (FIVIO FOREIGN) 2023-02-06 R   14           5            8.1972    85.0   \n                                                            2023-02-13 R   8            0            8.3570    81.0   \n                                                            2023-02-27 R   8            0            8.2721    82.0   \n                                                            2023-03-06 R   0            0            8.3293    89.0   \n                                                            2023-03-13 R   0            0            8.2981    78.0   \n\n                                                                                                                   \\\nbreakout_name                                                                                                  AA   \ncall_letters song_artist                                    score_date gcr market_spins spins_non_on taa            \nKQBT-FM      Back End (FINESSE2TYMES)                       2023-01-23 C   183          96           9.5813  92.0   \n                                                            2023-02-06 C   96           32           9.5339  87.0   \n                                                            2023-02-20 C   102          35           9.6387  95.0   \n                                                            2023-03-06 C   90           35           9.7161  99.0   \n             Beautiful Lies f/Kehlani (BLEU)                2023-01-23 R   18           12           8.5471  93.0   \n...                                                                                                           ...   \nWWPR-FM      What's My Name f/Queen Naija.. (FIVIO FOREIGN) 2023-02-06 R   14           5            8.1972  91.0   \n                                                            2023-02-13 R   8            0            8.3570  80.0   \n                                                            2023-02-27 R   8            0            8.2721  87.0   \n                                                            2023-03-06 R   0            0            8.3293  95.0   \n                                                            2023-03-13 R   0            0            8.2981  95.0   \n\n                                                                                                                      \\\nbreakout_name                                                                                               Hispanic   \ncall_letters song_artist                                    score_date gcr market_spins spins_non_on taa               \nKQBT-FM      Back End (FINESSE2TYMES)                       2023-01-23 C   183          96           9.5813     82.0   \n                                                            2023-02-06 C   96           32           9.5339    104.0   \n                                                            2023-02-20 C   102          35           9.6387    104.0   \n                                                            2023-03-06 C   90           35           9.7161     98.0   \n             Beautiful Lies f/Kehlani (BLEU)                2023-01-23 R   18           12           8.5471     92.0   \n...                                                                                                              ...   \nWWPR-FM      What's My Name f/Queen Naija.. (FIVIO FOREIGN) 2023-02-06 R   14           5            8.1972     77.0   \n                                                            2023-02-13 R   8            0            8.3570     84.0   \n                                                            2023-02-27 R   8            0            8.2721     81.0   \n                                                            2023-03-06 R   0            0            8.3293     80.0   \n                                                            2023-03-13 R   0            0            8.2981     62.0   \n\n                                                                                                                       \\\nbreakout_name                                                                                               TOTAL (F)   \ncall_letters song_artist                                    score_date gcr market_spins spins_non_on taa                \nKQBT-FM      Back End (FINESSE2TYMES)                       2023-01-23 C   183          96           9.5813      89.0   \n                                                            2023-02-06 C   96           32           9.5339      91.0   \n                                                            2023-02-20 C   102          35           9.6387      97.0   \n                                                            2023-03-06 C   90           35           9.7161      96.0   \n             Beautiful Lies f/Kehlani (BLEU)                2023-01-23 R   18           12           8.5471      98.0   \n...                                                                                                               ...   \nWWPR-FM      What's My Name f/Queen Naija.. (FIVIO FOREIGN) 2023-02-06 R   14           5            8.1972      88.0   \n                                                            2023-02-13 R   8            0            8.3570      83.0   \n                                                            2023-02-27 R   8            0            8.2721      91.0   \n                                                            2023-03-06 R   0            0            8.3293      83.0   \n                                                            2023-03-13 R   0            0            8.2981      75.0   \n\n                                                                                                                       \\\nbreakout_name                                                                                               TOTAL (M)   \ncall_letters song_artist                                    score_date gcr market_spins spins_non_on taa                \nKQBT-FM      Back End (FINESSE2TYMES)                       2023-01-23 C   183          96           9.5813      90.0   \n                                                            2023-02-06 C   96           32           9.5339      92.0   \n                                                            2023-02-20 C   102          35           9.6387      97.0   \n                                                            2023-03-06 C   90           35           9.7161     101.0   \n             Beautiful Lies f/Kehlani (BLEU)                2023-01-23 R   18           12           8.5471      88.0   \n...                                                                                                               ...   \nWWPR-FM      What's My Name f/Queen Naija.. (FIVIO FOREIGN) 2023-02-06 R   14           5            8.1972      82.0   \n                                                            2023-02-13 R   8            0            8.3570      80.0   \n                                                            2023-02-27 R   8            0            8.2721      75.0   \n                                                            2023-03-06 R   0            0            8.3293      98.0   \n                                                            2023-03-13 R   0            0            8.2981      92.0   \n\n                                                                                                                   \\\nbreakout_name                                                                                               Total   \ncall_letters song_artist                                    score_date gcr market_spins spins_non_on taa            \nKQBT-FM      Back End (FINESSE2TYMES)                       2023-01-23 C   183          96           9.5813  90.0   \n                                                            2023-02-06 C   96           32           9.5339  92.0   \n                                                            2023-02-20 C   102          35           9.6387  97.0   \n                                                            2023-03-06 C   90           35           9.7161  98.0   \n             Beautiful Lies f/Kehlani (BLEU)                2023-01-23 R   18           12           8.5471  93.0   \n...                                                                                                           ...   \nWWPR-FM      What's My Name f/Queen Naija.. (FIVIO FOREIGN) 2023-02-06 R   14           5            8.1972  85.0   \n                                                            2023-02-13 R   8            0            8.3570  82.0   \n                                                            2023-02-27 R   8            0            8.2721  85.0   \n                                                            2023-03-06 R   0            0            8.3293  89.0   \n                                                            2023-03-13 R   0            0            8.2981  82.0   \n\n                                                                                                                   \\\nbreakout_name                                                                                               White   \ncall_letters song_artist                                    score_date gcr market_spins spins_non_on taa            \nKQBT-FM      Back End (FINESSE2TYMES)                       2023-01-23 C   183          96           9.5813   NaN   \n                                                            2023-02-06 C   96           32           9.5339   NaN   \n                                                            2023-02-20 C   102          35           9.6387   NaN   \n                                                            2023-03-06 C   90           35           9.7161   NaN   \n             Beautiful Lies f/Kehlani (BLEU)                2023-01-23 R   18           12           8.5471   NaN   \n...                                                                                                           ...   \nWWPR-FM      What's My Name f/Queen Naija.. (FIVIO FOREIGN) 2023-02-06 R   14           5            8.1972   NaN   \n                                                            2023-02-13 R   8            0            8.3570   NaN   \n                                                            2023-02-27 R   8            0            8.2721   NaN   \n                                                            2023-03-06 R   0            0            8.3293   NaN   \n                                                            2023-03-13 R   0            0            8.2981   NaN   \n\n                                                                                                            wobble_flag  \\\nbreakout_name                                                                                                    *Core*   \ncall_letters song_artist                                    score_date gcr market_spins spins_non_on taa                  \nKQBT-FM      Back End (FINESSE2TYMES)                       2023-01-23 C   183          96           9.5813         0.0   \n                                                            2023-02-06 C   96           32           9.5339         0.0   \n                                                            2023-02-20 C   102          35           9.6387         0.0   \n                                                            2023-03-06 C   90           35           9.7161         0.0   \n             Beautiful Lies f/Kehlani (BLEU)                2023-01-23 R   18           12           8.5471         0.0   \n...                                                                                                                 ...   \nWWPR-FM      What's My Name f/Queen Naija.. (FIVIO FOREIGN) 2023-02-06 R   14           5            8.1972         0.0   \n                                                            2023-02-13 R   8            0            8.3570         0.0   \n                                                            2023-02-27 R   8            0            8.2721         0.0   \n                                                            2023-03-06 R   0            0            8.3293         0.0   \n                                                            2023-03-13 R   0            0            8.2981         0.0   \n\n                                                                                                                   \\\nbreakout_name                                                                                               *Old*   \ncall_letters song_artist                                    score_date gcr market_spins spins_non_on taa            \nKQBT-FM      Back End (FINESSE2TYMES)                       2023-01-23 C   183          96           9.5813   0.0   \n                                                            2023-02-06 C   96           32           9.5339   0.0   \n                                                            2023-02-20 C   102          35           9.6387   0.0   \n                                                            2023-03-06 C   90           35           9.7161   0.0   \n             Beautiful Lies f/Kehlani (BLEU)                2023-01-23 R   18           12           8.5471   0.0   \n...                                                                                                           ...   \nWWPR-FM      What's My Name f/Queen Naija.. (FIVIO FOREIGN) 2023-02-06 R   14           5            8.1972   0.0   \n                                                            2023-02-13 R   8            0            8.3570   0.0   \n                                                            2023-02-27 R   8            0            8.2721   0.0   \n                                                            2023-03-06 R   0            0            8.3293   0.0   \n                                                            2023-03-13 R   0            0            8.2981   0.0   \n\n                                                                                                                     \\\nbreakout_name                                                                                               *Young*   \ncall_letters song_artist                                    score_date gcr market_spins spins_non_on taa              \nKQBT-FM      Back End (FINESSE2TYMES)                       2023-01-23 C   183          96           9.5813     0.0   \n                                                            2023-02-06 C   96           32           9.5339     0.0   \n                                                            2023-02-20 C   102          35           9.6387     0.0   \n                                                            2023-03-06 C   90           35           9.7161     0.0   \n             Beautiful Lies f/Kehlani (BLEU)                2023-01-23 R   18           12           8.5471     1.0   \n...                                                                                                             ...   \nWWPR-FM      What's My Name f/Queen Naija.. (FIVIO FOREIGN) 2023-02-06 R   14           5            8.1972     0.0   \n                                                            2023-02-13 R   8            0            8.3570     0.0   \n                                                            2023-02-27 R   8            0            8.2721     0.0   \n                                                            2023-03-06 R   0            0            8.3293     0.0   \n                                                            2023-03-13 R   0            0            8.2981     0.0   \n\n                                                                                                                  \\\nbreakout_name                                                                                                 AA   \ncall_letters song_artist                                    score_date gcr market_spins spins_non_on taa           \nKQBT-FM      Back End (FINESSE2TYMES)                       2023-01-23 C   183          96           9.5813  0.0   \n                                                            2023-02-06 C   96           32           9.5339  0.0   \n                                                            2023-02-20 C   102          35           9.6387  0.0   \n                                                            2023-03-06 C   90           35           9.7161  0.0   \n             Beautiful Lies f/Kehlani (BLEU)                2023-01-23 R   18           12           8.5471  0.0   \n...                                                                                                          ...   \nWWPR-FM      What's My Name f/Queen Naija.. (FIVIO FOREIGN) 2023-02-06 R   14           5            8.1972  0.0   \n                                                            2023-02-13 R   8            0            8.3570  0.0   \n                                                            2023-02-27 R   8            0            8.2721  0.0   \n                                                            2023-03-06 R   0            0            8.3293  0.0   \n                                                            2023-03-13 R   0            0            8.2981  0.0   \n\n                                                                                                                      \\\nbreakout_name                                                                                               Hispanic   \ncall_letters song_artist                                    score_date gcr market_spins spins_non_on taa               \nKQBT-FM      Back End (FINESSE2TYMES)                       2023-01-23 C   183          96           9.5813      0.0   \n                                                            2023-02-06 C   96           32           9.5339      1.0   \n                                                            2023-02-20 C   102          35           9.6387      0.0   \n                                                            2023-03-06 C   90           35           9.7161      0.0   \n             Beautiful Lies f/Kehlani (BLEU)                2023-01-23 R   18           12           8.5471      0.0   \n...                                                                                                              ...   \nWWPR-FM      What's My Name f/Queen Naija.. (FIVIO FOREIGN) 2023-02-06 R   14           5            8.1972      0.0   \n                                                            2023-02-13 R   8            0            8.3570      0.0   \n                                                            2023-02-27 R   8            0            8.2721      0.0   \n                                                            2023-03-06 R   0            0            8.3293      0.0   \n                                                            2023-03-13 R   0            0            8.2981      1.0   \n\n                                                                                                                       \\\nbreakout_name                                                                                               TOTAL (F)   \ncall_letters song_artist                                    score_date gcr market_spins spins_non_on taa                \nKQBT-FM      Back End (FINESSE2TYMES)                       2023-01-23 C   183          96           9.5813       0.0   \n                                                            2023-02-06 C   96           32           9.5339       0.0   \n                                                            2023-02-20 C   102          35           9.6387       0.0   \n                                                            2023-03-06 C   90           35           9.7161       0.0   \n             Beautiful Lies f/Kehlani (BLEU)                2023-01-23 R   18           12           8.5471       0.0   \n...                                                                                                               ...   \nWWPR-FM      What's My Name f/Queen Naija.. (FIVIO FOREIGN) 2023-02-06 R   14           5            8.1972       0.0   \n                                                            2023-02-13 R   8            0            8.3570       0.0   \n                                                            2023-02-27 R   8            0            8.2721       0.0   \n                                                            2023-03-06 R   0            0            8.3293       0.0   \n                                                            2023-03-13 R   0            0            8.2981       0.0   \n\n                                                                                                                       \\\nbreakout_name                                                                                               TOTAL (M)   \ncall_letters song_artist                                    score_date gcr market_spins spins_non_on taa                \nKQBT-FM      Back End (FINESSE2TYMES)                       2023-01-23 C   183          96           9.5813       0.0   \n                                                            2023-02-06 C   96           32           9.5339       0.0   \n                                                            2023-02-20 C   102          35           9.6387       0.0   \n                                                            2023-03-06 C   90           35           9.7161       0.0   \n             Beautiful Lies f/Kehlani (BLEU)                2023-01-23 R   18           12           8.5471       0.0   \n...                                                                                                               ...   \nWWPR-FM      What's My Name f/Queen Naija.. (FIVIO FOREIGN) 2023-02-06 R   14           5            8.1972       0.0   \n                                                            2023-02-13 R   8            0            8.3570       0.0   \n                                                            2023-02-27 R   8            0            8.2721       0.0   \n                                                            2023-03-06 R   0            0            8.3293       0.0   \n                                                            2023-03-13 R   0            0            8.2981       0.0   \n\n                                                                                                                   \\\nbreakout_name                                                                                               Total   \ncall_letters song_artist                                    score_date gcr market_spins spins_non_on taa            \nKQBT-FM      Back End (FINESSE2TYMES)                       2023-01-23 C   183          96           9.5813   0.0   \n                                                            2023-02-06 C   96           32           9.5339   0.0   \n                                                            2023-02-20 C   102          35           9.6387   0.0   \n                                                            2023-03-06 C   90           35           9.7161   0.0   \n             Beautiful Lies f/Kehlani (BLEU)                2023-01-23 R   18           12           8.5471   0.0   \n...                                                                                                           ...   \nWWPR-FM      What's My Name f/Queen Naija.. (FIVIO FOREIGN) 2023-02-06 R   14           5            8.1972   0.0   \n                                                            2023-02-13 R   8            0            8.3570   0.0   \n                                                            2023-02-27 R   8            0            8.2721   0.0   \n                                                            2023-03-06 R   0            0            8.3293   0.0   \n                                                            2023-03-13 R   0            0            8.2981   0.0   \n\n                                                                                                                   \nbreakout_name                                                                                               White  \ncall_letters song_artist                                    score_date gcr market_spins spins_non_on taa           \nKQBT-FM      Back End (FINESSE2TYMES)                       2023-01-23 C   183          96           9.5813   NaN  \n                                                            2023-02-06 C   96           32           9.5339   NaN  \n                                                            2023-02-20 C   102          35           9.6387   NaN  \n                                                            2023-03-06 C   90           35           9.7161   NaN  \n             Beautiful Lies f/Kehlani (BLEU)                2023-01-23 R   18           12           8.5471   NaN  \n...                                                                                                           ...  \nWWPR-FM      What's My Name f/Queen Naija.. (FIVIO FOREIGN) 2023-02-06 R   14           5            8.1972   NaN  \n                                                            2023-02-13 R   8            0            8.3570   NaN  \n                                                            2023-02-27 R   8            0            8.2721   NaN  \n                                                            2023-03-06 R   0            0            8.3293   NaN  \n                                                            2023-03-13 R   0            0            8.2981   NaN  \n\n[1045 rows x 18 columns]",
      "text/html": "<div>\n<style scoped>\n    .dataframe tbody tr th:only-of-type {\n        vertical-align: middle;\n    }\n\n    .dataframe tbody tr th {\n        vertical-align: top;\n    }\n\n    .dataframe thead tr th {\n        text-align: left;\n    }\n\n    .dataframe thead tr:last-of-type th {\n        text-align: right;\n    }\n</style>\n<table border=\"1\" class=\"dataframe\">\n  <thead>\n    <tr>\n      <th></th>\n      <th></th>\n      <th></th>\n      <th></th>\n      <th></th>\n      <th></th>\n      <th></th>\n      <th colspan=\"9\" halign=\"left\">pop_co</th>\n      <th colspan=\"9\" halign=\"left\">wobble_flag</th>\n    </tr>\n    <tr>\n      <th></th>\n      <th></th>\n      <th></th>\n      <th></th>\n      <th></th>\n      <th></th>\n      <th>breakout_name</th>\n      <th>*Core*</th>\n      <th>*Old*</th>\n      <th>*Young*</th>\n      <th>AA</th>\n      <th>Hispanic</th>\n      <th>TOTAL (F)</th>\n      <th>TOTAL (M)</th>\n      <th>Total</th>\n      <th>White</th>\n      <th>*Core*</th>\n      <th>*Old*</th>\n      <th>*Young*</th>\n      <th>AA</th>\n      <th>Hispanic</th>\n      <th>TOTAL (F)</th>\n      <th>TOTAL (M)</th>\n      <th>Total</th>\n      <th>White</th>\n    </tr>\n    <tr>\n      <th>call_letters</th>\n      <th>song_artist</th>\n      <th>score_date</th>\n      <th>gcr</th>\n      <th>market_spins</th>\n      <th>spins_non_on</th>\n      <th>taa</th>\n      <th></th>\n      <th></th>\n      <th></th>\n      <th></th>\n      <th></th>\n      <th></th>\n      <th></th>\n      <th></th>\n      <th></th>\n      <th></th>\n      <th></th>\n      <th></th>\n      <th></th>\n      <th></th>\n      <th></th>\n      <th></th>\n      <th></th>\n      <th></th>\n    </tr>\n  </thead>\n  <tbody>\n    <tr>\n      <th rowspan=\"5\" valign=\"top\">KQBT-FM</th>\n      <th rowspan=\"4\" valign=\"top\">Back End (FINESSE2TYMES)</th>\n      <th>2023-01-23</th>\n      <th>C</th>\n      <th>183</th>\n      <th>96</th>\n      <th>9.5813</th>\n      <td>104.0</td>\n      <td>89.0</td>\n      <td>90.0</td>\n      <td>92.0</td>\n      <td>82.0</td>\n      <td>89.0</td>\n      <td>90.0</td>\n      <td>90.0</td>\n      <td>NaN</td>\n      <td>0.0</td>\n      <td>0.0</td>\n      <td>0.0</td>\n      <td>0.0</td>\n      <td>0.0</td>\n      <td>0.0</td>\n      <td>0.0</td>\n      <td>0.0</td>\n      <td>NaN</td>\n    </tr>\n    <tr>\n      <th>2023-02-06</th>\n      <th>C</th>\n      <th>96</th>\n      <th>32</th>\n      <th>9.5339</th>\n      <td>96.0</td>\n      <td>99.0</td>\n      <td>82.0</td>\n      <td>87.0</td>\n      <td>104.0</td>\n      <td>91.0</td>\n      <td>92.0</td>\n      <td>92.0</td>\n      <td>NaN</td>\n      <td>0.0</td>\n      <td>0.0</td>\n      <td>0.0</td>\n      <td>0.0</td>\n      <td>1.0</td>\n      <td>0.0</td>\n      <td>0.0</td>\n      <td>0.0</td>\n      <td>NaN</td>\n    </tr>\n    <tr>\n      <th>2023-02-20</th>\n      <th>C</th>\n      <th>102</th>\n      <th>35</th>\n      <th>9.6387</th>\n      <td>102.0</td>\n      <td>96.0</td>\n      <td>99.0</td>\n      <td>95.0</td>\n      <td>104.0</td>\n      <td>97.0</td>\n      <td>97.0</td>\n      <td>97.0</td>\n      <td>NaN</td>\n      <td>0.0</td>\n      <td>0.0</td>\n      <td>0.0</td>\n      <td>0.0</td>\n      <td>0.0</td>\n      <td>0.0</td>\n      <td>0.0</td>\n      <td>0.0</td>\n      <td>NaN</td>\n    </tr>\n    <tr>\n      <th>2023-03-06</th>\n      <th>C</th>\n      <th>90</th>\n      <th>35</th>\n      <th>9.7161</th>\n      <td>103.0</td>\n      <td>103.0</td>\n      <td>93.0</td>\n      <td>99.0</td>\n      <td>98.0</td>\n      <td>96.0</td>\n      <td>101.0</td>\n      <td>98.0</td>\n      <td>NaN</td>\n      <td>0.0</td>\n      <td>0.0</td>\n      <td>0.0</td>\n      <td>0.0</td>\n      <td>0.0</td>\n      <td>0.0</td>\n      <td>0.0</td>\n      <td>0.0</td>\n      <td>NaN</td>\n    </tr>\n    <tr>\n      <th>Beautiful Lies f/Kehlani (BLEU)</th>\n      <th>2023-01-23</th>\n      <th>R</th>\n      <th>18</th>\n      <th>12</th>\n      <th>8.5471</th>\n      <td>96.0</td>\n      <td>82.0</td>\n      <td>105.0</td>\n      <td>93.0</td>\n      <td>92.0</td>\n      <td>98.0</td>\n      <td>88.0</td>\n      <td>93.0</td>\n      <td>NaN</td>\n      <td>0.0</td>\n      <td>0.0</td>\n      <td>1.0</td>\n      <td>0.0</td>\n      <td>0.0</td>\n      <td>0.0</td>\n      <td>0.0</td>\n      <td>0.0</td>\n      <td>NaN</td>\n    </tr>\n    <tr>\n      <th>...</th>\n      <th>...</th>\n      <th>...</th>\n      <th>...</th>\n      <th>...</th>\n      <th>...</th>\n      <th>...</th>\n      <td>...</td>\n      <td>...</td>\n      <td>...</td>\n      <td>...</td>\n      <td>...</td>\n      <td>...</td>\n      <td>...</td>\n      <td>...</td>\n      <td>...</td>\n      <td>...</td>\n      <td>...</td>\n      <td>...</td>\n      <td>...</td>\n      <td>...</td>\n      <td>...</td>\n      <td>...</td>\n      <td>...</td>\n      <td>...</td>\n    </tr>\n    <tr>\n      <th rowspan=\"5\" valign=\"top\">WWPR-FM</th>\n      <th rowspan=\"5\" valign=\"top\">What's My Name f/Queen Naija.. (FIVIO FOREIGN)</th>\n      <th>2023-02-06</th>\n      <th>R</th>\n      <th>14</th>\n      <th>5</th>\n      <th>8.1972</th>\n      <td>94.0</td>\n      <td>85.0</td>\n      <td>85.0</td>\n      <td>91.0</td>\n      <td>77.0</td>\n      <td>88.0</td>\n      <td>82.0</td>\n      <td>85.0</td>\n      <td>NaN</td>\n      <td>0.0</td>\n      <td>0.0</td>\n      <td>0.0</td>\n      <td>0.0</td>\n      <td>0.0</td>\n      <td>0.0</td>\n      <td>0.0</td>\n      <td>0.0</td>\n      <td>NaN</td>\n    </tr>\n    <tr>\n      <th>2023-02-13</th>\n      <th>R</th>\n      <th>8</th>\n      <th>0</th>\n      <th>8.3570</th>\n      <td>80.0</td>\n      <td>84.0</td>\n      <td>81.0</td>\n      <td>80.0</td>\n      <td>84.0</td>\n      <td>83.0</td>\n      <td>80.0</td>\n      <td>82.0</td>\n      <td>NaN</td>\n      <td>0.0</td>\n      <td>0.0</td>\n      <td>0.0</td>\n      <td>0.0</td>\n      <td>0.0</td>\n      <td>0.0</td>\n      <td>0.0</td>\n      <td>0.0</td>\n      <td>NaN</td>\n    </tr>\n    <tr>\n      <th>2023-02-27</th>\n      <th>R</th>\n      <th>8</th>\n      <th>0</th>\n      <th>8.2721</th>\n      <td>85.0</td>\n      <td>93.0</td>\n      <td>82.0</td>\n      <td>87.0</td>\n      <td>81.0</td>\n      <td>91.0</td>\n      <td>75.0</td>\n      <td>85.0</td>\n      <td>NaN</td>\n      <td>0.0</td>\n      <td>0.0</td>\n      <td>0.0</td>\n      <td>0.0</td>\n      <td>0.0</td>\n      <td>0.0</td>\n      <td>0.0</td>\n      <td>0.0</td>\n      <td>NaN</td>\n    </tr>\n    <tr>\n      <th>2023-03-06</th>\n      <th>R</th>\n      <th>0</th>\n      <th>0</th>\n      <th>8.3293</th>\n      <td>94.0</td>\n      <td>87.0</td>\n      <td>89.0</td>\n      <td>95.0</td>\n      <td>80.0</td>\n      <td>83.0</td>\n      <td>98.0</td>\n      <td>89.0</td>\n      <td>NaN</td>\n      <td>0.0</td>\n      <td>0.0</td>\n      <td>0.0</td>\n      <td>0.0</td>\n      <td>0.0</td>\n      <td>0.0</td>\n      <td>0.0</td>\n      <td>0.0</td>\n      <td>NaN</td>\n    </tr>\n    <tr>\n      <th>2023-03-13</th>\n      <th>R</th>\n      <th>0</th>\n      <th>0</th>\n      <th>8.2981</th>\n      <td>86.0</td>\n      <td>94.0</td>\n      <td>78.0</td>\n      <td>95.0</td>\n      <td>62.0</td>\n      <td>75.0</td>\n      <td>92.0</td>\n      <td>82.0</td>\n      <td>NaN</td>\n      <td>0.0</td>\n      <td>0.0</td>\n      <td>0.0</td>\n      <td>0.0</td>\n      <td>1.0</td>\n      <td>0.0</td>\n      <td>0.0</td>\n      <td>0.0</td>\n      <td>NaN</td>\n    </tr>\n  </tbody>\n</table>\n<p>1045 rows × 18 columns</p>\n</div>"
     },
     "execution_count": 129,
     "metadata": {},
     "output_type": "execute_result"
    }
   ],
   "source": [
    "df_wobble_out"
   ],
   "metadata": {
    "collapsed": false
   }
  },
  {
   "cell_type": "code",
   "execution_count": 141,
   "outputs": [
    {
     "data": {
      "text/plain": "MultiIndex([(     'pop_co',    '*Core*'),\n            (     'pop_co',     '*Old*'),\n            (     'pop_co',   '*Young*'),\n            (     'pop_co', 'F (18-24)'),\n            (     'pop_co',  'Hispanic'),\n            (     'pop_co',     'Total'),\n            (     'pop_co',       'WAO'),\n            ('wobble_flag',    '*Core*'),\n            ('wobble_flag',     '*Old*'),\n            ('wobble_flag',   '*Young*'),\n            ('wobble_flag', 'F (18-24)'),\n            ('wobble_flag',  'Hispanic'),\n            ('wobble_flag',     'Total'),\n            ('wobble_flag',       'WAO')],\n           names=[None, 'breakout_name'])"
     },
     "execution_count": 141,
     "metadata": {},
     "output_type": "execute_result"
    }
   ],
   "source": [
    "df_wobble_out.columns"
   ],
   "metadata": {
    "collapsed": false
   }
  },
  {
   "cell_type": "markdown",
   "source": [
    "#### percentage gaps report"
   ],
   "metadata": {
    "collapsed": false
   }
  },
  {
   "cell_type": "code",
   "execution_count": 130,
   "outputs": [],
   "source": [
    "out_cols = ['call_letters', 'song_artist', 'demo_category', 'segment', 'taa_quintile', 'pop_co', 'pop_omt', 'wobble_flag', 'mean_pop_predicted']\n",
    "id_cols = ['station_id', 'mediabase_id', 'week_dt']"
   ],
   "metadata": {
    "collapsed": false
   }
  },
  {
   "cell_type": "code",
   "execution_count": 131,
   "outputs": [],
   "source": [
    "df_to_report = df_out_final[id_cols + out_cols]"
   ],
   "metadata": {
    "collapsed": false
   }
  },
  {
   "cell_type": "code",
   "execution_count": 97,
   "outputs": [
    {
     "data": {
      "text/plain": "        mediabase_id  station_id     week_dt     taa\n0            1909327     3321797  2022-12-18  8.3118\n1            1611338     3322816  2022-12-18  8.6139\n2            1609179     4955311  2022-12-18  8.9641\n3            1611338     3322002  2022-12-18  9.0092\n4            1611338     3322006  2022-12-18  8.6473\n...              ...         ...         ...     ...\n177395       2854579     3322916  2023-02-05  5.6767\n177396       2855293     3322798  2023-02-05  5.6415\n177397       2052083     3323400  2023-02-05  8.6008\n177398       2110204     3322808  2023-02-05  6.9744\n177399       2836532     3323404  2023-02-05  5.8677\n\n[177400 rows x 4 columns]",
      "text/html": "<div>\n<style scoped>\n    .dataframe tbody tr th:only-of-type {\n        vertical-align: middle;\n    }\n\n    .dataframe tbody tr th {\n        vertical-align: top;\n    }\n\n    .dataframe thead th {\n        text-align: right;\n    }\n</style>\n<table border=\"1\" class=\"dataframe\">\n  <thead>\n    <tr style=\"text-align: right;\">\n      <th></th>\n      <th>mediabase_id</th>\n      <th>station_id</th>\n      <th>week_dt</th>\n      <th>taa</th>\n    </tr>\n  </thead>\n  <tbody>\n    <tr>\n      <th>0</th>\n      <td>1909327</td>\n      <td>3321797</td>\n      <td>2022-12-18</td>\n      <td>8.3118</td>\n    </tr>\n    <tr>\n      <th>1</th>\n      <td>1611338</td>\n      <td>3322816</td>\n      <td>2022-12-18</td>\n      <td>8.6139</td>\n    </tr>\n    <tr>\n      <th>2</th>\n      <td>1609179</td>\n      <td>4955311</td>\n      <td>2022-12-18</td>\n      <td>8.9641</td>\n    </tr>\n    <tr>\n      <th>3</th>\n      <td>1611338</td>\n      <td>3322002</td>\n      <td>2022-12-18</td>\n      <td>9.0092</td>\n    </tr>\n    <tr>\n      <th>4</th>\n      <td>1611338</td>\n      <td>3322006</td>\n      <td>2022-12-18</td>\n      <td>8.6473</td>\n    </tr>\n    <tr>\n      <th>...</th>\n      <td>...</td>\n      <td>...</td>\n      <td>...</td>\n      <td>...</td>\n    </tr>\n    <tr>\n      <th>177395</th>\n      <td>2854579</td>\n      <td>3322916</td>\n      <td>2023-02-05</td>\n      <td>5.6767</td>\n    </tr>\n    <tr>\n      <th>177396</th>\n      <td>2855293</td>\n      <td>3322798</td>\n      <td>2023-02-05</td>\n      <td>5.6415</td>\n    </tr>\n    <tr>\n      <th>177397</th>\n      <td>2052083</td>\n      <td>3323400</td>\n      <td>2023-02-05</td>\n      <td>8.6008</td>\n    </tr>\n    <tr>\n      <th>177398</th>\n      <td>2110204</td>\n      <td>3322808</td>\n      <td>2023-02-05</td>\n      <td>6.9744</td>\n    </tr>\n    <tr>\n      <th>177399</th>\n      <td>2836532</td>\n      <td>3323404</td>\n      <td>2023-02-05</td>\n      <td>5.8677</td>\n    </tr>\n  </tbody>\n</table>\n<p>177400 rows × 4 columns</p>\n</div>"
     },
     "execution_count": 97,
     "metadata": {},
     "output_type": "execute_result"
    }
   ],
   "source": [
    "df_taa_lookup"
   ],
   "metadata": {
    "collapsed": false
   }
  },
  {
   "cell_type": "code",
   "execution_count": 98,
   "outputs": [
    {
     "data": {
      "text/plain": "                                       taa\nstation_id mediabase_id week_dt           \n3321797    1909327      2022-12-18  8.3118\n3322816    1611338      2022-12-18  8.6139\n4955311    1609179      2022-12-18  8.9641\n3322002    1611338      2022-12-18  9.0092\n3322006    1611338      2022-12-18  8.6473\n...                                    ...\n3322916    2854579      2023-02-05  5.6767\n3322798    2855293      2023-02-05  5.6415\n3323400    2052083      2023-02-05  8.6008\n3322808    2110204      2023-02-05  6.9744\n3323404    2836532      2023-02-05  5.8677\n\n[177400 rows x 1 columns]",
      "text/html": "<div>\n<style scoped>\n    .dataframe tbody tr th:only-of-type {\n        vertical-align: middle;\n    }\n\n    .dataframe tbody tr th {\n        vertical-align: top;\n    }\n\n    .dataframe thead th {\n        text-align: right;\n    }\n</style>\n<table border=\"1\" class=\"dataframe\">\n  <thead>\n    <tr style=\"text-align: right;\">\n      <th></th>\n      <th></th>\n      <th></th>\n      <th>taa</th>\n    </tr>\n    <tr>\n      <th>station_id</th>\n      <th>mediabase_id</th>\n      <th>week_dt</th>\n      <th></th>\n    </tr>\n  </thead>\n  <tbody>\n    <tr>\n      <th>3321797</th>\n      <th>1909327</th>\n      <th>2022-12-18</th>\n      <td>8.3118</td>\n    </tr>\n    <tr>\n      <th>3322816</th>\n      <th>1611338</th>\n      <th>2022-12-18</th>\n      <td>8.6139</td>\n    </tr>\n    <tr>\n      <th>4955311</th>\n      <th>1609179</th>\n      <th>2022-12-18</th>\n      <td>8.9641</td>\n    </tr>\n    <tr>\n      <th>3322002</th>\n      <th>1611338</th>\n      <th>2022-12-18</th>\n      <td>9.0092</td>\n    </tr>\n    <tr>\n      <th>3322006</th>\n      <th>1611338</th>\n      <th>2022-12-18</th>\n      <td>8.6473</td>\n    </tr>\n    <tr>\n      <th>...</th>\n      <th>...</th>\n      <th>...</th>\n      <td>...</td>\n    </tr>\n    <tr>\n      <th>3322916</th>\n      <th>2854579</th>\n      <th>2023-02-05</th>\n      <td>5.6767</td>\n    </tr>\n    <tr>\n      <th>3322798</th>\n      <th>2855293</th>\n      <th>2023-02-05</th>\n      <td>5.6415</td>\n    </tr>\n    <tr>\n      <th>3323400</th>\n      <th>2052083</th>\n      <th>2023-02-05</th>\n      <td>8.6008</td>\n    </tr>\n    <tr>\n      <th>3322808</th>\n      <th>2110204</th>\n      <th>2023-02-05</th>\n      <td>6.9744</td>\n    </tr>\n    <tr>\n      <th>3323404</th>\n      <th>2836532</th>\n      <th>2023-02-05</th>\n      <td>5.8677</td>\n    </tr>\n  </tbody>\n</table>\n<p>177400 rows × 1 columns</p>\n</div>"
     },
     "execution_count": 98,
     "metadata": {},
     "output_type": "execute_result"
    }
   ],
   "source": [
    "df_taa_lookup.set_index(id_cols)"
   ],
   "metadata": {
    "collapsed": false
   }
  },
  {
   "cell_type": "code",
   "execution_count": 132,
   "outputs": [],
   "source": [
    "df_to_report = df_to_report.join(df_taa_lookup.set_index(id_cols), on=id_cols)"
   ],
   "metadata": {
    "collapsed": false
   }
  },
  {
   "cell_type": "code",
   "execution_count": 133,
   "outputs": [],
   "source": [
    "df_to_report_fmt = df_out_final_fmt[out_cols + id_cols]"
   ],
   "metadata": {
    "collapsed": false
   }
  },
  {
   "cell_type": "code",
   "execution_count": 135,
   "outputs": [],
   "source": [
    "df_to_report.sort_values(by=['call_letters', 'song_artist', 'week_dt', 'demo_category', 'segment'], inplace=True)"
   ],
   "metadata": {
    "collapsed": false
   }
  },
  {
   "cell_type": "code",
   "execution_count": 136,
   "outputs": [],
   "source": [
    "# define percentage gap lambdas\n",
    "fn_diff_Age = lambda x: (x['Young'] - x['Old'])/x['Old']\n",
    "fn_diff_Gender  = lambda x: (x['Total_Male'] - x['Total_Female'])/x['Total_Female']\n",
    "fn_diff_Race_White = lambda x: (x['White'] - x['AA'])/(x['AA'])\n",
    "fn_diff_Race_Hispanic = lambda x: (x['Hispanic'] - x['AA'])/(x['AA'])\n",
    "fn_diff_Non_Core = lambda x: (x['Non-Core'] - x['Core'])/(x['Core'])"
   ],
   "metadata": {
    "collapsed": false
   }
  },
  {
   "cell_type": "code",
   "execution_count": 137,
   "outputs": [],
   "source": [
    "# ref_demo = {'Age': 'Old', 'Race': 'White', 'Core-Cume': 'Core', 'Gender': 'Female_(18-24)'}\n",
    "df_to_report_pvt = df_to_report.pivot_table(index=['call_letters', 'song_artist', 'week_dt', 'taa'], columns=['segment'], values=[ 'mean_pop_predicted'])\n",
    "df_to_report_pvt.columns = [i[1].replace(' ', '_') for i in df_to_report_pvt.columns]"
   ],
   "metadata": {
    "collapsed": false
   }
  },
  {
   "cell_type": "code",
   "execution_count": 138,
   "outputs": [],
   "source": [
    "df_to_report_pvt_fmt =  (df_to_report_fmt.groupby(['song_artist', 'segment', 'week_dt'])['mean_pop_predicted'].mean().reset_index()).pivot_table(index=['song_artist', 'week_dt'], columns=['segment'], values=[ 'mean_pop_predicted'])\n",
    "df_to_report_pvt_fmt.columns = [i[1].replace(' ', '_') for i in df_to_report_pvt_fmt.columns]"
   ],
   "metadata": {
    "collapsed": false
   }
  },
  {
   "cell_type": "code",
   "execution_count": 139,
   "outputs": [],
   "source": [
    "df_perc_gaps = df_to_report_pvt.apply([fn_diff_Age, fn_diff_Gender, fn_diff_Non_Core, fn_diff_Race_Hispanic, fn_diff_Race_White], axis=1).reset_index()\n",
    "df_perc_gaps.columns = ['call_letters', 'song_artist', 'week_dt', 'taa', 'age_gap', 'gender_gap', 'core_gap', 'race_gap_Hispanic', 'race_gap_White']"
   ],
   "metadata": {
    "collapsed": false
   }
  },
  {
   "cell_type": "code",
   "execution_count": 140,
   "outputs": [],
   "source": [
    "df_perc_gaps_fmt = df_to_report_pvt_fmt.apply([fn_diff_Age, fn_diff_Gender, fn_diff_Non_Core, fn_diff_Race_Hispanic, fn_diff_Race_White], axis=1).reset_index()\n",
    "df_perc_gaps_fmt.columns = ['song_artist', 'week_dt', 'fmt_age_gap', 'fmt_gender_gap', 'fmt_core_gap', 'fmt_race_gap_Hispanic', 'fmt_race_gap_White']"
   ],
   "metadata": {
    "collapsed": false
   }
  },
  {
   "cell_type": "code",
   "execution_count": 141,
   "outputs": [],
   "source": [
    "df_perc_gaps = df_perc_gaps.join(df_perc_gaps_fmt.set_index(['song_artist', 'week_dt']), on=['song_artist', 'week_dt'], how='left')"
   ],
   "metadata": {
    "collapsed": false
   }
  },
  {
   "cell_type": "code",
   "execution_count": 142,
   "outputs": [],
   "source": [
    "df_perc_gaps['score_date'] = df_perc_gaps['week_dt'] + np.timedelta64(8, 'D')"
   ],
   "metadata": {
    "collapsed": false
   }
  },
  {
   "cell_type": "code",
   "execution_count": 144,
   "outputs": [
    {
     "data": {
      "text/plain": "Index(['call_letters', 'song_artist', 'week_dt', 'taa', 'age_gap',\n       'gender_gap', 'core_gap', 'race_gap_Hispanic', 'race_gap_White',\n       'fmt_age_gap', 'fmt_gender_gap', 'fmt_core_gap',\n       'fmt_race_gap_Hispanic', 'fmt_race_gap_White', 'score_date'],\n      dtype='object')"
     },
     "execution_count": 144,
     "metadata": {},
     "output_type": "execute_result"
    }
   ],
   "source": [
    "df_perc_gaps.columns"
   ],
   "metadata": {
    "collapsed": false
   }
  },
  {
   "cell_type": "code",
   "execution_count": 143,
   "outputs": [],
   "source": [
    "out_cols_gaps = ['call_letters', 'song_artist', 'score_date', 'age_gap','fmt_age_gap', 'gender_gap','fmt_gender_gap',\n",
    "       'core_gap', 'fmt_core_gap','race_gap_Hispanic',\n",
    "       'fmt_race_gap_Hispanic', 'race_gap_White',\n",
    "       'fmt_race_gap_White', 'taa' ]"
   ],
   "metadata": {
    "collapsed": false
   }
  },
  {
   "cell_type": "markdown",
   "source": [
    "#### WOW data"
   ],
   "metadata": {
    "collapsed": false
   }
  },
  {
   "cell_type": "code",
   "execution_count": 111,
   "outputs": [
    {
     "data": {
      "text/plain": "                                                      age_gap             \\\nweek_dt                                            2022-12-18 2022-12-25   \nsong_artist                           call_letters                         \n(You Drive Me) Crazy (BRITNEY SPEARS) KBKS-FM       -0.350009  -0.350009   \n                                      KHKS-FM       -0.297558  -0.298055   \n                                      KKRZ-FM       -0.283002  -0.301122   \n                                      KZHT-FM       -0.364955  -0.374464   \n                                      KZZP-FM       -0.315539  -0.325651   \n...                                                       ...        ...   \ntraitor (OLIVIA RODRIGO)              WXXL-FM        0.152552   0.152552   \nuh oh (TATE MCRAE)                    WHYI-FM             NaN  -0.201036   \n                                      WKSC-FM             NaN        NaN   \n                                      WNCI-FM             NaN        NaN   \n                                      WXKS-FM             NaN        NaN   \n\n                                                                          \\\nweek_dt                                            2023-01-01 2023-01-08   \nsong_artist                           call_letters                         \n(You Drive Me) Crazy (BRITNEY SPEARS) KBKS-FM       -0.329761  -0.350009   \n                                      KHKS-FM       -0.300857        NaN   \n                                      KKRZ-FM       -0.257236        NaN   \n                                      KZHT-FM       -0.371970  -0.374464   \n                                      KZZP-FM       -0.328269  -0.325651   \n...                                                       ...        ...   \ntraitor (OLIVIA RODRIGO)              WXXL-FM        0.147659   0.152552   \nuh oh (TATE MCRAE)                    WHYI-FM       -0.200880  -0.201411   \n                                      WKSC-FM             NaN  -0.283404   \n                                      WNCI-FM             NaN  -0.068704   \n                                      WXKS-FM             NaN  -0.203743   \n\n                                                                          \\\nweek_dt                                            2023-01-15 2023-01-22   \nsong_artist                           call_letters                         \n(You Drive Me) Crazy (BRITNEY SPEARS) KBKS-FM       -0.323371  -0.329761   \n                                      KHKS-FM             NaN        NaN   \n                                      KKRZ-FM             NaN        NaN   \n                                      KZHT-FM       -0.361526  -0.358929   \n                                      KZZP-FM       -0.311892  -0.310135   \n...                                                       ...        ...   \ntraitor (OLIVIA RODRIGO)              WXXL-FM        0.152552   0.160212   \nuh oh (TATE MCRAE)                    WHYI-FM       -0.189185  -0.193634   \n                                      WKSC-FM       -0.277952  -0.283598   \n                                      WNCI-FM       -0.049529  -0.109401   \n                                      WXKS-FM       -0.197932  -0.195691   \n\n                                                                          \nweek_dt                                            2023-01-29 2023-02-05  \nsong_artist                           call_letters                        \n(You Drive Me) Crazy (BRITNEY SPEARS) KBKS-FM       -0.350426  -0.323894  \n                                      KHKS-FM             NaN        NaN  \n                                      KKRZ-FM             NaN        NaN  \n                                      KZHT-FM             NaN        NaN  \n                                      KZZP-FM       -0.317294  -0.317294  \n...                                                       ...        ...  \ntraitor (OLIVIA RODRIGO)              WXXL-FM        0.160212   0.174941  \nuh oh (TATE MCRAE)                    WHYI-FM       -0.193634  -0.190705  \n                                      WKSC-FM       -0.283598  -0.282821  \n                                      WNCI-FM       -0.109401  -0.105983  \n                                      WXKS-FM       -0.180892  -0.177924  \n\n[6588 rows x 8 columns]",
      "text/html": "<div>\n<style scoped>\n    .dataframe tbody tr th:only-of-type {\n        vertical-align: middle;\n    }\n\n    .dataframe tbody tr th {\n        vertical-align: top;\n    }\n\n    .dataframe thead tr th {\n        text-align: left;\n    }\n\n    .dataframe thead tr:last-of-type th {\n        text-align: right;\n    }\n</style>\n<table border=\"1\" class=\"dataframe\">\n  <thead>\n    <tr>\n      <th></th>\n      <th></th>\n      <th colspan=\"8\" halign=\"left\">age_gap</th>\n    </tr>\n    <tr>\n      <th></th>\n      <th>week_dt</th>\n      <th>2022-12-18</th>\n      <th>2022-12-25</th>\n      <th>2023-01-01</th>\n      <th>2023-01-08</th>\n      <th>2023-01-15</th>\n      <th>2023-01-22</th>\n      <th>2023-01-29</th>\n      <th>2023-02-05</th>\n    </tr>\n    <tr>\n      <th>song_artist</th>\n      <th>call_letters</th>\n      <th></th>\n      <th></th>\n      <th></th>\n      <th></th>\n      <th></th>\n      <th></th>\n      <th></th>\n      <th></th>\n    </tr>\n  </thead>\n  <tbody>\n    <tr>\n      <th rowspan=\"5\" valign=\"top\">(You Drive Me) Crazy (BRITNEY SPEARS)</th>\n      <th>KBKS-FM</th>\n      <td>-0.350009</td>\n      <td>-0.350009</td>\n      <td>-0.329761</td>\n      <td>-0.350009</td>\n      <td>-0.323371</td>\n      <td>-0.329761</td>\n      <td>-0.350426</td>\n      <td>-0.323894</td>\n    </tr>\n    <tr>\n      <th>KHKS-FM</th>\n      <td>-0.297558</td>\n      <td>-0.298055</td>\n      <td>-0.300857</td>\n      <td>NaN</td>\n      <td>NaN</td>\n      <td>NaN</td>\n      <td>NaN</td>\n      <td>NaN</td>\n    </tr>\n    <tr>\n      <th>KKRZ-FM</th>\n      <td>-0.283002</td>\n      <td>-0.301122</td>\n      <td>-0.257236</td>\n      <td>NaN</td>\n      <td>NaN</td>\n      <td>NaN</td>\n      <td>NaN</td>\n      <td>NaN</td>\n    </tr>\n    <tr>\n      <th>KZHT-FM</th>\n      <td>-0.364955</td>\n      <td>-0.374464</td>\n      <td>-0.371970</td>\n      <td>-0.374464</td>\n      <td>-0.361526</td>\n      <td>-0.358929</td>\n      <td>NaN</td>\n      <td>NaN</td>\n    </tr>\n    <tr>\n      <th>KZZP-FM</th>\n      <td>-0.315539</td>\n      <td>-0.325651</td>\n      <td>-0.328269</td>\n      <td>-0.325651</td>\n      <td>-0.311892</td>\n      <td>-0.310135</td>\n      <td>-0.317294</td>\n      <td>-0.317294</td>\n    </tr>\n    <tr>\n      <th>...</th>\n      <th>...</th>\n      <td>...</td>\n      <td>...</td>\n      <td>...</td>\n      <td>...</td>\n      <td>...</td>\n      <td>...</td>\n      <td>...</td>\n      <td>...</td>\n    </tr>\n    <tr>\n      <th>traitor (OLIVIA RODRIGO)</th>\n      <th>WXXL-FM</th>\n      <td>0.152552</td>\n      <td>0.152552</td>\n      <td>0.147659</td>\n      <td>0.152552</td>\n      <td>0.152552</td>\n      <td>0.160212</td>\n      <td>0.160212</td>\n      <td>0.174941</td>\n    </tr>\n    <tr>\n      <th rowspan=\"4\" valign=\"top\">uh oh (TATE MCRAE)</th>\n      <th>WHYI-FM</th>\n      <td>NaN</td>\n      <td>-0.201036</td>\n      <td>-0.200880</td>\n      <td>-0.201411</td>\n      <td>-0.189185</td>\n      <td>-0.193634</td>\n      <td>-0.193634</td>\n      <td>-0.190705</td>\n    </tr>\n    <tr>\n      <th>WKSC-FM</th>\n      <td>NaN</td>\n      <td>NaN</td>\n      <td>NaN</td>\n      <td>-0.283404</td>\n      <td>-0.277952</td>\n      <td>-0.283598</td>\n      <td>-0.283598</td>\n      <td>-0.282821</td>\n    </tr>\n    <tr>\n      <th>WNCI-FM</th>\n      <td>NaN</td>\n      <td>NaN</td>\n      <td>NaN</td>\n      <td>-0.068704</td>\n      <td>-0.049529</td>\n      <td>-0.109401</td>\n      <td>-0.109401</td>\n      <td>-0.105983</td>\n    </tr>\n    <tr>\n      <th>WXKS-FM</th>\n      <td>NaN</td>\n      <td>NaN</td>\n      <td>NaN</td>\n      <td>-0.203743</td>\n      <td>-0.197932</td>\n      <td>-0.195691</td>\n      <td>-0.180892</td>\n      <td>-0.177924</td>\n    </tr>\n  </tbody>\n</table>\n<p>6588 rows × 8 columns</p>\n</div>"
     },
     "execution_count": 111,
     "metadata": {},
     "output_type": "execute_result"
    }
   ],
   "source": [
    "df_perc_gaps.pivot_table(index=['song_artist', 'call_letters'], columns=['week_dt'], values=['age_gap'])"
   ],
   "metadata": {
    "collapsed": false
   }
  },
  {
   "cell_type": "markdown",
   "source": [
    "### Write Output to Excel"
   ],
   "metadata": {
    "collapsed": false
   }
  },
  {
   "cell_type": "code",
   "execution_count": 146,
   "outputs": [],
   "source": [
    "df_perc_gaps.to_pickle('df_perc_gaps_03122023_U1.pkl')\n",
    "df_wobble_out.to_pickle('df_wobble_out_03122023_U1.pkl')"
   ],
   "metadata": {
    "collapsed": false
   }
  },
  {
   "cell_type": "code",
   "execution_count": 147,
   "outputs": [],
   "source": [
    "with pd.ExcelWriter('RR_by_Demographic_Urban_03132023.xlsx') as writer:\n",
    "    df_perc_gaps[out_cols_gaps].to_excel(writer, sheet_name='Percentage Gaps')\n",
    "    df_wobble_out.to_excel(writer, sheet_name='Wobbles')"
   ],
   "metadata": {
    "collapsed": false
   }
  }
 ],
 "metadata": {
  "kernelspec": {
   "display_name": "Python 3",
   "language": "python",
   "name": "python3"
  },
  "language_info": {
   "codemirror_mode": {
    "name": "ipython",
    "version": 2
   },
   "file_extension": ".py",
   "mimetype": "text/x-python",
   "name": "python",
   "nbconvert_exporter": "python",
   "pygments_lexer": "ipython2",
   "version": "2.7.6"
  }
 },
 "nbformat": 4,
 "nbformat_minor": 0
}
