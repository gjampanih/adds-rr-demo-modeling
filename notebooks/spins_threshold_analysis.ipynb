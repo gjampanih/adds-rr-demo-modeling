{
 "cells": [
  {
   "cell_type": "code",
   "execution_count": 1,
   "metadata": {
    "collapsed": true
   },
   "outputs": [],
   "source": [
    "# import packages\n",
    "import pandas as pd\n",
    "import matplotlib.pyplot as plt\n",
    "import numpy as np"
   ]
  },
  {
   "cell_type": "code",
   "execution_count": 2,
   "outputs": [],
   "source": [
    "from sqlalchemy import create_engine\n",
    "\n",
    "def postgresql_engine(user, pwd, host, port, dbname):\n",
    "    # Need pyycopg2-binary package\n",
    "    sql_engine = create_engine('postgres://' + user + ':' + pwd + '@' + host + ':' + port + '/' + dbname, echo=False)\n",
    "    return sql_engine"
   ],
   "metadata": {
    "collapsed": false
   }
  },
  {
   "cell_type": "code",
   "execution_count": 3,
   "outputs": [],
   "source": [
    "# DB username and password\n",
    "import getpass\n",
    "\n",
    "user = getpass.getpass()\n",
    "pwd = getpass.getpass()"
   ],
   "metadata": {
    "collapsed": false
   }
  },
  {
   "cell_type": "code",
   "execution_count": 4,
   "outputs": [],
   "source": [
    "# misc db parameters\n",
    "host= 'adds-postgres-dev.cfgztrijqgvp.us-east-1.rds.amazonaws.com'\n",
    "dbname= 'musiclab'\n",
    "port= '5432'"
   ],
   "metadata": {
    "collapsed": false
   }
  },
  {
   "cell_type": "code",
   "execution_count": 10,
   "outputs": [],
   "source": [
    "# get callout research for songs released in the past 2 years\n",
    "data_query = '''\n",
    "Select f.format_code, sv.mediabase_id, c.cmm_station_calls, c.test_date as week_dt, c.pop, mss.spins_non_on\n",
    "FROM\n",
    "    data.songs_v sv\n",
    "JOIN\n",
    "(\n",
    "Select\n",
    "mss.\"SongID\",\n",
    "mss.\"C_Let\",\n",
    "mss.\"StartDate\",\n",
    "    mss.\"EndDate\",\n",
    "    COALESCE(\"DP1\", 0) + COALESCE(\"DP2\", 0) + COALESCE(\"DP3\", 0) + COALESCE(\"DP4\", 0) + COALESCE(\"DP5\", 0) AS spins_total,\n",
    "    COALESCE(\"DP2\", 0) + COALESCE(\"DP3\", 0) + COALESCE(\"DP4\", 0) + COALESCE(\"DP5\", 0) AS spins_non_on\n",
    "    from dbo.\"MediabaseSongSpins\" mss\n",
    ") mss\n",
    "\n",
    "\n",
    "ON\n",
    "    sv.mediabase_id = mss.\"SongID\"\n",
    "JOIN data.cmm AS c\n",
    "ON\n",
    "    c.cmm_station_calls = mss.\"C_Let\"\n",
    "    AND c.song_id = sv.song_id\n",
    "    AND c.project_type IN ('Callout', 'Omt')\n",
    "    AND c.breakout_name = 'Total'\n",
    "    and c.test_date = mss.\"StartDate\" + interval '8 days'\n",
    "join data.formats AS f\n",
    "on f.format_id = c.format_id\n",
    "WHERE\n",
    "    ( sv.song_release_date::date <= '2022-08-31'::date\n",
    "        AND sv.song_release_date::date >= '2018-09-01')\n",
    "'''"
   ],
   "metadata": {
    "collapsed": false
   }
  },
  {
   "cell_type": "code",
   "execution_count": null,
   "outputs": [],
   "source": [],
   "metadata": {
    "collapsed": false
   }
  },
  {
   "cell_type": "code",
   "execution_count": 11,
   "outputs": [],
   "source": [
    "engine = postgresql_engine(user, pwd, host, port, dbname)\n",
    "with engine.connect() as conn:\n",
    "    with conn.begin():\n",
    "        df = pd.read_sql(data_query, con=conn)"
   ],
   "metadata": {
    "collapsed": false
   }
  },
  {
   "cell_type": "code",
   "execution_count": 13,
   "outputs": [],
   "source": [
    "id_cols = ['format_code', 'cmm_station_calls', 'mediabase_id']"
   ],
   "metadata": {
    "collapsed": false
   }
  },
  {
   "cell_type": "code",
   "execution_count": 15,
   "outputs": [],
   "source": [
    "df.sort_values(by=['format_code', 'cmm_station_calls', 'mediabase_id', 'week_dt'], inplace=True)"
   ],
   "metadata": {
    "collapsed": false
   }
  },
  {
   "cell_type": "code",
   "execution_count": 16,
   "outputs": [],
   "source": [
    "df['cuml_spins_non_on'] = df.groupby(id_cols)['spins_non_on'].cumsum()"
   ],
   "metadata": {
    "collapsed": false
   }
  },
  {
   "cell_type": "code",
   "execution_count": 19,
   "outputs": [
    {
     "data": {
      "text/plain": "       format_code  mediabase_id cmm_station_calls     week_dt  pop  \\\n164033          H1       2436510           KIIS-FM  2018-11-05   60   \n164040          H1       2436510           KIIS-FM  2018-11-12   76   \n179670          H1       2436510           KIIS-FM  2018-11-19   74   \n143215          H1       2436510           KIIS-FM  2018-12-03   70   \n164115          H1       2436510           KIIS-FM  2018-12-03   70   \n164255          H1       2436510           KIIS-FM  2018-12-17   76   \n164315          H1       2436510           KIIS-FM  2019-01-07   88   \n143641          H1       2436510           KIIS-FM  2019-01-14   82   \n164507          H1       2436510           KIIS-FM  2019-01-28   83   \n143528          H1       2436510           KIIS-FM  2019-02-04   92   \n144178          H1       2436510           KIIS-FM  2019-02-11   82   \n144346          H1       2436510           KIIS-FM  2019-02-18   74   \n180016          H1       2436510           KIIS-FM  2019-03-04   90   \n164827          H1       2436510           KIIS-FM  2019-03-18   93   \n144985          H1       2436510           KIIS-FM  2019-03-25   93   \n180070          H1       2436510           KIIS-FM  2019-04-01   86   \n165122          H1       2436510           KIIS-FM  2019-04-15   81   \n145355          H1       2436510           KIIS-FM  2019-04-22   86   \n180277          H1       2436510           KIIS-FM  2019-04-29   80   \n165414          H1       2436510           KIIS-FM  2019-05-06   84   \n180501          H1       2436510           KIIS-FM  2019-05-13   80   \n166123          H1       2436510           KIIS-FM  2019-06-24   83   \n146875          H1       2436510           KIIS-FM  2019-07-01   84   \n147128          H1       2436510           KIIS-FM  2019-07-01   96   \n166305          H1       2436510           KIIS-FM  2019-07-15   95   \n181071          H1       2436510           KIIS-FM  2019-07-22   82   \n181131          H1       2436510           KIIS-FM  2019-07-29   76   \n166989          H1       2436510           KIIS-FM  2019-08-12   88   \n148481          H1       2436510           KIIS-FM  2019-08-26   82   \n181338          H1       2436510           KIIS-FM  2019-09-02   86   \n170816          H1       2436510           KIIS-FM  2019-10-14   89   \n151936          H1       2436510           KIIS-FM  2019-10-21   87   \n169544          H1       2436510           KIIS-FM  2020-02-03   79   \n150907          H1       2436510           KIIS-FM  2020-02-24   75   \n184776          H1       2436510           KIIS-FM  2021-02-22   92   \n190552          H1       2436510           KIIS-FM  2022-08-22   78   \n\n        spins_non_on  cuml_spins_non_on  \n164033            13                 13  \n164040            25                 38  \n179670            66                104  \n143215            70                174  \n164115            70                244  \n164255            41                285  \n164315            29                314  \n143641            43                357  \n164507            51                408  \n143528            47                455  \n144178            70                525  \n144346            42                567  \n180016            46                613  \n164827            81                694  \n144985            63                757  \n180070            44                801  \n165122            28                829  \n145355             9                838  \n180277            19                857  \n165414            34                891  \n180501            35                926  \n166123            15                941  \n146875            38                979  \n147128            38               1017  \n166305            27               1044  \n181071            20               1064  \n181131            20               1084  \n166989            32               1116  \n148481            20               1136  \n181338             5               1141  \n170816            14               1155  \n151936            14               1169  \n169544            11               1180  \n150907             5               1185  \n184776             1               1186  \n190552             2               1188  ",
      "text/html": "<div>\n<style scoped>\n    .dataframe tbody tr th:only-of-type {\n        vertical-align: middle;\n    }\n\n    .dataframe tbody tr th {\n        vertical-align: top;\n    }\n\n    .dataframe thead th {\n        text-align: right;\n    }\n</style>\n<table border=\"1\" class=\"dataframe\">\n  <thead>\n    <tr style=\"text-align: right;\">\n      <th></th>\n      <th>format_code</th>\n      <th>mediabase_id</th>\n      <th>cmm_station_calls</th>\n      <th>week_dt</th>\n      <th>pop</th>\n      <th>spins_non_on</th>\n      <th>cuml_spins_non_on</th>\n    </tr>\n  </thead>\n  <tbody>\n    <tr>\n      <th>164033</th>\n      <td>H1</td>\n      <td>2436510</td>\n      <td>KIIS-FM</td>\n      <td>2018-11-05</td>\n      <td>60</td>\n      <td>13</td>\n      <td>13</td>\n    </tr>\n    <tr>\n      <th>164040</th>\n      <td>H1</td>\n      <td>2436510</td>\n      <td>KIIS-FM</td>\n      <td>2018-11-12</td>\n      <td>76</td>\n      <td>25</td>\n      <td>38</td>\n    </tr>\n    <tr>\n      <th>179670</th>\n      <td>H1</td>\n      <td>2436510</td>\n      <td>KIIS-FM</td>\n      <td>2018-11-19</td>\n      <td>74</td>\n      <td>66</td>\n      <td>104</td>\n    </tr>\n    <tr>\n      <th>143215</th>\n      <td>H1</td>\n      <td>2436510</td>\n      <td>KIIS-FM</td>\n      <td>2018-12-03</td>\n      <td>70</td>\n      <td>70</td>\n      <td>174</td>\n    </tr>\n    <tr>\n      <th>164115</th>\n      <td>H1</td>\n      <td>2436510</td>\n      <td>KIIS-FM</td>\n      <td>2018-12-03</td>\n      <td>70</td>\n      <td>70</td>\n      <td>244</td>\n    </tr>\n    <tr>\n      <th>164255</th>\n      <td>H1</td>\n      <td>2436510</td>\n      <td>KIIS-FM</td>\n      <td>2018-12-17</td>\n      <td>76</td>\n      <td>41</td>\n      <td>285</td>\n    </tr>\n    <tr>\n      <th>164315</th>\n      <td>H1</td>\n      <td>2436510</td>\n      <td>KIIS-FM</td>\n      <td>2019-01-07</td>\n      <td>88</td>\n      <td>29</td>\n      <td>314</td>\n    </tr>\n    <tr>\n      <th>143641</th>\n      <td>H1</td>\n      <td>2436510</td>\n      <td>KIIS-FM</td>\n      <td>2019-01-14</td>\n      <td>82</td>\n      <td>43</td>\n      <td>357</td>\n    </tr>\n    <tr>\n      <th>164507</th>\n      <td>H1</td>\n      <td>2436510</td>\n      <td>KIIS-FM</td>\n      <td>2019-01-28</td>\n      <td>83</td>\n      <td>51</td>\n      <td>408</td>\n    </tr>\n    <tr>\n      <th>143528</th>\n      <td>H1</td>\n      <td>2436510</td>\n      <td>KIIS-FM</td>\n      <td>2019-02-04</td>\n      <td>92</td>\n      <td>47</td>\n      <td>455</td>\n    </tr>\n    <tr>\n      <th>144178</th>\n      <td>H1</td>\n      <td>2436510</td>\n      <td>KIIS-FM</td>\n      <td>2019-02-11</td>\n      <td>82</td>\n      <td>70</td>\n      <td>525</td>\n    </tr>\n    <tr>\n      <th>144346</th>\n      <td>H1</td>\n      <td>2436510</td>\n      <td>KIIS-FM</td>\n      <td>2019-02-18</td>\n      <td>74</td>\n      <td>42</td>\n      <td>567</td>\n    </tr>\n    <tr>\n      <th>180016</th>\n      <td>H1</td>\n      <td>2436510</td>\n      <td>KIIS-FM</td>\n      <td>2019-03-04</td>\n      <td>90</td>\n      <td>46</td>\n      <td>613</td>\n    </tr>\n    <tr>\n      <th>164827</th>\n      <td>H1</td>\n      <td>2436510</td>\n      <td>KIIS-FM</td>\n      <td>2019-03-18</td>\n      <td>93</td>\n      <td>81</td>\n      <td>694</td>\n    </tr>\n    <tr>\n      <th>144985</th>\n      <td>H1</td>\n      <td>2436510</td>\n      <td>KIIS-FM</td>\n      <td>2019-03-25</td>\n      <td>93</td>\n      <td>63</td>\n      <td>757</td>\n    </tr>\n    <tr>\n      <th>180070</th>\n      <td>H1</td>\n      <td>2436510</td>\n      <td>KIIS-FM</td>\n      <td>2019-04-01</td>\n      <td>86</td>\n      <td>44</td>\n      <td>801</td>\n    </tr>\n    <tr>\n      <th>165122</th>\n      <td>H1</td>\n      <td>2436510</td>\n      <td>KIIS-FM</td>\n      <td>2019-04-15</td>\n      <td>81</td>\n      <td>28</td>\n      <td>829</td>\n    </tr>\n    <tr>\n      <th>145355</th>\n      <td>H1</td>\n      <td>2436510</td>\n      <td>KIIS-FM</td>\n      <td>2019-04-22</td>\n      <td>86</td>\n      <td>9</td>\n      <td>838</td>\n    </tr>\n    <tr>\n      <th>180277</th>\n      <td>H1</td>\n      <td>2436510</td>\n      <td>KIIS-FM</td>\n      <td>2019-04-29</td>\n      <td>80</td>\n      <td>19</td>\n      <td>857</td>\n    </tr>\n    <tr>\n      <th>165414</th>\n      <td>H1</td>\n      <td>2436510</td>\n      <td>KIIS-FM</td>\n      <td>2019-05-06</td>\n      <td>84</td>\n      <td>34</td>\n      <td>891</td>\n    </tr>\n    <tr>\n      <th>180501</th>\n      <td>H1</td>\n      <td>2436510</td>\n      <td>KIIS-FM</td>\n      <td>2019-05-13</td>\n      <td>80</td>\n      <td>35</td>\n      <td>926</td>\n    </tr>\n    <tr>\n      <th>166123</th>\n      <td>H1</td>\n      <td>2436510</td>\n      <td>KIIS-FM</td>\n      <td>2019-06-24</td>\n      <td>83</td>\n      <td>15</td>\n      <td>941</td>\n    </tr>\n    <tr>\n      <th>146875</th>\n      <td>H1</td>\n      <td>2436510</td>\n      <td>KIIS-FM</td>\n      <td>2019-07-01</td>\n      <td>84</td>\n      <td>38</td>\n      <td>979</td>\n    </tr>\n    <tr>\n      <th>147128</th>\n      <td>H1</td>\n      <td>2436510</td>\n      <td>KIIS-FM</td>\n      <td>2019-07-01</td>\n      <td>96</td>\n      <td>38</td>\n      <td>1017</td>\n    </tr>\n    <tr>\n      <th>166305</th>\n      <td>H1</td>\n      <td>2436510</td>\n      <td>KIIS-FM</td>\n      <td>2019-07-15</td>\n      <td>95</td>\n      <td>27</td>\n      <td>1044</td>\n    </tr>\n    <tr>\n      <th>181071</th>\n      <td>H1</td>\n      <td>2436510</td>\n      <td>KIIS-FM</td>\n      <td>2019-07-22</td>\n      <td>82</td>\n      <td>20</td>\n      <td>1064</td>\n    </tr>\n    <tr>\n      <th>181131</th>\n      <td>H1</td>\n      <td>2436510</td>\n      <td>KIIS-FM</td>\n      <td>2019-07-29</td>\n      <td>76</td>\n      <td>20</td>\n      <td>1084</td>\n    </tr>\n    <tr>\n      <th>166989</th>\n      <td>H1</td>\n      <td>2436510</td>\n      <td>KIIS-FM</td>\n      <td>2019-08-12</td>\n      <td>88</td>\n      <td>32</td>\n      <td>1116</td>\n    </tr>\n    <tr>\n      <th>148481</th>\n      <td>H1</td>\n      <td>2436510</td>\n      <td>KIIS-FM</td>\n      <td>2019-08-26</td>\n      <td>82</td>\n      <td>20</td>\n      <td>1136</td>\n    </tr>\n    <tr>\n      <th>181338</th>\n      <td>H1</td>\n      <td>2436510</td>\n      <td>KIIS-FM</td>\n      <td>2019-09-02</td>\n      <td>86</td>\n      <td>5</td>\n      <td>1141</td>\n    </tr>\n    <tr>\n      <th>170816</th>\n      <td>H1</td>\n      <td>2436510</td>\n      <td>KIIS-FM</td>\n      <td>2019-10-14</td>\n      <td>89</td>\n      <td>14</td>\n      <td>1155</td>\n    </tr>\n    <tr>\n      <th>151936</th>\n      <td>H1</td>\n      <td>2436510</td>\n      <td>KIIS-FM</td>\n      <td>2019-10-21</td>\n      <td>87</td>\n      <td>14</td>\n      <td>1169</td>\n    </tr>\n    <tr>\n      <th>169544</th>\n      <td>H1</td>\n      <td>2436510</td>\n      <td>KIIS-FM</td>\n      <td>2020-02-03</td>\n      <td>79</td>\n      <td>11</td>\n      <td>1180</td>\n    </tr>\n    <tr>\n      <th>150907</th>\n      <td>H1</td>\n      <td>2436510</td>\n      <td>KIIS-FM</td>\n      <td>2020-02-24</td>\n      <td>75</td>\n      <td>5</td>\n      <td>1185</td>\n    </tr>\n    <tr>\n      <th>184776</th>\n      <td>H1</td>\n      <td>2436510</td>\n      <td>KIIS-FM</td>\n      <td>2021-02-22</td>\n      <td>92</td>\n      <td>1</td>\n      <td>1186</td>\n    </tr>\n    <tr>\n      <th>190552</th>\n      <td>H1</td>\n      <td>2436510</td>\n      <td>KIIS-FM</td>\n      <td>2022-08-22</td>\n      <td>78</td>\n      <td>2</td>\n      <td>1188</td>\n    </tr>\n  </tbody>\n</table>\n</div>"
     },
     "execution_count": 19,
     "metadata": {},
     "output_type": "execute_result"
    }
   ],
   "source": [
    "df[(df['mediabase_id'] == 2436510) & (df['cmm_station_calls'] == 'KIIS-FM')]"
   ],
   "metadata": {
    "collapsed": false
   }
  },
  {
   "cell_type": "code",
   "execution_count": 20,
   "outputs": [],
   "source": [
    "df['cuml_spins_non_on_bucket'] = pd.cut(df['cuml_spins_non_on'], bins=pd.interval_range(150, np.max(df['cuml_spins_non_on']), freq=50))"
   ],
   "metadata": {
    "collapsed": false
   }
  },
  {
   "cell_type": "code",
   "execution_count": 21,
   "outputs": [
    {
     "data": {
      "text/plain": "       format_code  mediabase_id cmm_station_calls     week_dt  pop  \\\n164033          H1       2436510           KIIS-FM  2018-11-05   60   \n164040          H1       2436510           KIIS-FM  2018-11-12   76   \n179670          H1       2436510           KIIS-FM  2018-11-19   74   \n143215          H1       2436510           KIIS-FM  2018-12-03   70   \n164115          H1       2436510           KIIS-FM  2018-12-03   70   \n164255          H1       2436510           KIIS-FM  2018-12-17   76   \n164315          H1       2436510           KIIS-FM  2019-01-07   88   \n143641          H1       2436510           KIIS-FM  2019-01-14   82   \n164507          H1       2436510           KIIS-FM  2019-01-28   83   \n143528          H1       2436510           KIIS-FM  2019-02-04   92   \n144178          H1       2436510           KIIS-FM  2019-02-11   82   \n144346          H1       2436510           KIIS-FM  2019-02-18   74   \n180016          H1       2436510           KIIS-FM  2019-03-04   90   \n164827          H1       2436510           KIIS-FM  2019-03-18   93   \n144985          H1       2436510           KIIS-FM  2019-03-25   93   \n180070          H1       2436510           KIIS-FM  2019-04-01   86   \n165122          H1       2436510           KIIS-FM  2019-04-15   81   \n145355          H1       2436510           KIIS-FM  2019-04-22   86   \n180277          H1       2436510           KIIS-FM  2019-04-29   80   \n165414          H1       2436510           KIIS-FM  2019-05-06   84   \n180501          H1       2436510           KIIS-FM  2019-05-13   80   \n166123          H1       2436510           KIIS-FM  2019-06-24   83   \n146875          H1       2436510           KIIS-FM  2019-07-01   84   \n147128          H1       2436510           KIIS-FM  2019-07-01   96   \n166305          H1       2436510           KIIS-FM  2019-07-15   95   \n181071          H1       2436510           KIIS-FM  2019-07-22   82   \n181131          H1       2436510           KIIS-FM  2019-07-29   76   \n166989          H1       2436510           KIIS-FM  2019-08-12   88   \n148481          H1       2436510           KIIS-FM  2019-08-26   82   \n181338          H1       2436510           KIIS-FM  2019-09-02   86   \n170816          H1       2436510           KIIS-FM  2019-10-14   89   \n151936          H1       2436510           KIIS-FM  2019-10-21   87   \n169544          H1       2436510           KIIS-FM  2020-02-03   79   \n150907          H1       2436510           KIIS-FM  2020-02-24   75   \n184776          H1       2436510           KIIS-FM  2021-02-22   92   \n190552          H1       2436510           KIIS-FM  2022-08-22   78   \n\n        spins_non_on  cuml_spins_non_on cuml_spins_non_on_bucket  \n164033            13                 13                  (0, 50]  \n164040            25                 38                  (0, 50]  \n179670            66                104               (100, 150]  \n143215            70                174               (150, 200]  \n164115            70                244               (200, 250]  \n164255            41                285               (250, 300]  \n164315            29                314               (300, 350]  \n143641            43                357               (350, 400]  \n164507            51                408               (400, 450]  \n143528            47                455               (450, 500]  \n144178            70                525               (500, 550]  \n144346            42                567               (550, 600]  \n180016            46                613               (600, 650]  \n164827            81                694               (650, 700]  \n144985            63                757               (750, 800]  \n180070            44                801               (800, 850]  \n165122            28                829               (800, 850]  \n145355             9                838               (800, 850]  \n180277            19                857               (850, 900]  \n165414            34                891               (850, 900]  \n180501            35                926               (900, 950]  \n166123            15                941               (900, 950]  \n146875            38                979              (950, 1000]  \n147128            38               1017             (1000, 1050]  \n166305            27               1044             (1000, 1050]  \n181071            20               1064             (1050, 1100]  \n181131            20               1084             (1050, 1100]  \n166989            32               1116             (1100, 1150]  \n148481            20               1136             (1100, 1150]  \n181338             5               1141             (1100, 1150]  \n170816            14               1155             (1150, 1200]  \n151936            14               1169             (1150, 1200]  \n169544            11               1180             (1150, 1200]  \n150907             5               1185             (1150, 1200]  \n184776             1               1186             (1150, 1200]  \n190552             2               1188             (1150, 1200]  ",
      "text/html": "<div>\n<style scoped>\n    .dataframe tbody tr th:only-of-type {\n        vertical-align: middle;\n    }\n\n    .dataframe tbody tr th {\n        vertical-align: top;\n    }\n\n    .dataframe thead th {\n        text-align: right;\n    }\n</style>\n<table border=\"1\" class=\"dataframe\">\n  <thead>\n    <tr style=\"text-align: right;\">\n      <th></th>\n      <th>format_code</th>\n      <th>mediabase_id</th>\n      <th>cmm_station_calls</th>\n      <th>week_dt</th>\n      <th>pop</th>\n      <th>spins_non_on</th>\n      <th>cuml_spins_non_on</th>\n      <th>cuml_spins_non_on_bucket</th>\n    </tr>\n  </thead>\n  <tbody>\n    <tr>\n      <th>164033</th>\n      <td>H1</td>\n      <td>2436510</td>\n      <td>KIIS-FM</td>\n      <td>2018-11-05</td>\n      <td>60</td>\n      <td>13</td>\n      <td>13</td>\n      <td>(0, 50]</td>\n    </tr>\n    <tr>\n      <th>164040</th>\n      <td>H1</td>\n      <td>2436510</td>\n      <td>KIIS-FM</td>\n      <td>2018-11-12</td>\n      <td>76</td>\n      <td>25</td>\n      <td>38</td>\n      <td>(0, 50]</td>\n    </tr>\n    <tr>\n      <th>179670</th>\n      <td>H1</td>\n      <td>2436510</td>\n      <td>KIIS-FM</td>\n      <td>2018-11-19</td>\n      <td>74</td>\n      <td>66</td>\n      <td>104</td>\n      <td>(100, 150]</td>\n    </tr>\n    <tr>\n      <th>143215</th>\n      <td>H1</td>\n      <td>2436510</td>\n      <td>KIIS-FM</td>\n      <td>2018-12-03</td>\n      <td>70</td>\n      <td>70</td>\n      <td>174</td>\n      <td>(150, 200]</td>\n    </tr>\n    <tr>\n      <th>164115</th>\n      <td>H1</td>\n      <td>2436510</td>\n      <td>KIIS-FM</td>\n      <td>2018-12-03</td>\n      <td>70</td>\n      <td>70</td>\n      <td>244</td>\n      <td>(200, 250]</td>\n    </tr>\n    <tr>\n      <th>164255</th>\n      <td>H1</td>\n      <td>2436510</td>\n      <td>KIIS-FM</td>\n      <td>2018-12-17</td>\n      <td>76</td>\n      <td>41</td>\n      <td>285</td>\n      <td>(250, 300]</td>\n    </tr>\n    <tr>\n      <th>164315</th>\n      <td>H1</td>\n      <td>2436510</td>\n      <td>KIIS-FM</td>\n      <td>2019-01-07</td>\n      <td>88</td>\n      <td>29</td>\n      <td>314</td>\n      <td>(300, 350]</td>\n    </tr>\n    <tr>\n      <th>143641</th>\n      <td>H1</td>\n      <td>2436510</td>\n      <td>KIIS-FM</td>\n      <td>2019-01-14</td>\n      <td>82</td>\n      <td>43</td>\n      <td>357</td>\n      <td>(350, 400]</td>\n    </tr>\n    <tr>\n      <th>164507</th>\n      <td>H1</td>\n      <td>2436510</td>\n      <td>KIIS-FM</td>\n      <td>2019-01-28</td>\n      <td>83</td>\n      <td>51</td>\n      <td>408</td>\n      <td>(400, 450]</td>\n    </tr>\n    <tr>\n      <th>143528</th>\n      <td>H1</td>\n      <td>2436510</td>\n      <td>KIIS-FM</td>\n      <td>2019-02-04</td>\n      <td>92</td>\n      <td>47</td>\n      <td>455</td>\n      <td>(450, 500]</td>\n    </tr>\n    <tr>\n      <th>144178</th>\n      <td>H1</td>\n      <td>2436510</td>\n      <td>KIIS-FM</td>\n      <td>2019-02-11</td>\n      <td>82</td>\n      <td>70</td>\n      <td>525</td>\n      <td>(500, 550]</td>\n    </tr>\n    <tr>\n      <th>144346</th>\n      <td>H1</td>\n      <td>2436510</td>\n      <td>KIIS-FM</td>\n      <td>2019-02-18</td>\n      <td>74</td>\n      <td>42</td>\n      <td>567</td>\n      <td>(550, 600]</td>\n    </tr>\n    <tr>\n      <th>180016</th>\n      <td>H1</td>\n      <td>2436510</td>\n      <td>KIIS-FM</td>\n      <td>2019-03-04</td>\n      <td>90</td>\n      <td>46</td>\n      <td>613</td>\n      <td>(600, 650]</td>\n    </tr>\n    <tr>\n      <th>164827</th>\n      <td>H1</td>\n      <td>2436510</td>\n      <td>KIIS-FM</td>\n      <td>2019-03-18</td>\n      <td>93</td>\n      <td>81</td>\n      <td>694</td>\n      <td>(650, 700]</td>\n    </tr>\n    <tr>\n      <th>144985</th>\n      <td>H1</td>\n      <td>2436510</td>\n      <td>KIIS-FM</td>\n      <td>2019-03-25</td>\n      <td>93</td>\n      <td>63</td>\n      <td>757</td>\n      <td>(750, 800]</td>\n    </tr>\n    <tr>\n      <th>180070</th>\n      <td>H1</td>\n      <td>2436510</td>\n      <td>KIIS-FM</td>\n      <td>2019-04-01</td>\n      <td>86</td>\n      <td>44</td>\n      <td>801</td>\n      <td>(800, 850]</td>\n    </tr>\n    <tr>\n      <th>165122</th>\n      <td>H1</td>\n      <td>2436510</td>\n      <td>KIIS-FM</td>\n      <td>2019-04-15</td>\n      <td>81</td>\n      <td>28</td>\n      <td>829</td>\n      <td>(800, 850]</td>\n    </tr>\n    <tr>\n      <th>145355</th>\n      <td>H1</td>\n      <td>2436510</td>\n      <td>KIIS-FM</td>\n      <td>2019-04-22</td>\n      <td>86</td>\n      <td>9</td>\n      <td>838</td>\n      <td>(800, 850]</td>\n    </tr>\n    <tr>\n      <th>180277</th>\n      <td>H1</td>\n      <td>2436510</td>\n      <td>KIIS-FM</td>\n      <td>2019-04-29</td>\n      <td>80</td>\n      <td>19</td>\n      <td>857</td>\n      <td>(850, 900]</td>\n    </tr>\n    <tr>\n      <th>165414</th>\n      <td>H1</td>\n      <td>2436510</td>\n      <td>KIIS-FM</td>\n      <td>2019-05-06</td>\n      <td>84</td>\n      <td>34</td>\n      <td>891</td>\n      <td>(850, 900]</td>\n    </tr>\n    <tr>\n      <th>180501</th>\n      <td>H1</td>\n      <td>2436510</td>\n      <td>KIIS-FM</td>\n      <td>2019-05-13</td>\n      <td>80</td>\n      <td>35</td>\n      <td>926</td>\n      <td>(900, 950]</td>\n    </tr>\n    <tr>\n      <th>166123</th>\n      <td>H1</td>\n      <td>2436510</td>\n      <td>KIIS-FM</td>\n      <td>2019-06-24</td>\n      <td>83</td>\n      <td>15</td>\n      <td>941</td>\n      <td>(900, 950]</td>\n    </tr>\n    <tr>\n      <th>146875</th>\n      <td>H1</td>\n      <td>2436510</td>\n      <td>KIIS-FM</td>\n      <td>2019-07-01</td>\n      <td>84</td>\n      <td>38</td>\n      <td>979</td>\n      <td>(950, 1000]</td>\n    </tr>\n    <tr>\n      <th>147128</th>\n      <td>H1</td>\n      <td>2436510</td>\n      <td>KIIS-FM</td>\n      <td>2019-07-01</td>\n      <td>96</td>\n      <td>38</td>\n      <td>1017</td>\n      <td>(1000, 1050]</td>\n    </tr>\n    <tr>\n      <th>166305</th>\n      <td>H1</td>\n      <td>2436510</td>\n      <td>KIIS-FM</td>\n      <td>2019-07-15</td>\n      <td>95</td>\n      <td>27</td>\n      <td>1044</td>\n      <td>(1000, 1050]</td>\n    </tr>\n    <tr>\n      <th>181071</th>\n      <td>H1</td>\n      <td>2436510</td>\n      <td>KIIS-FM</td>\n      <td>2019-07-22</td>\n      <td>82</td>\n      <td>20</td>\n      <td>1064</td>\n      <td>(1050, 1100]</td>\n    </tr>\n    <tr>\n      <th>181131</th>\n      <td>H1</td>\n      <td>2436510</td>\n      <td>KIIS-FM</td>\n      <td>2019-07-29</td>\n      <td>76</td>\n      <td>20</td>\n      <td>1084</td>\n      <td>(1050, 1100]</td>\n    </tr>\n    <tr>\n      <th>166989</th>\n      <td>H1</td>\n      <td>2436510</td>\n      <td>KIIS-FM</td>\n      <td>2019-08-12</td>\n      <td>88</td>\n      <td>32</td>\n      <td>1116</td>\n      <td>(1100, 1150]</td>\n    </tr>\n    <tr>\n      <th>148481</th>\n      <td>H1</td>\n      <td>2436510</td>\n      <td>KIIS-FM</td>\n      <td>2019-08-26</td>\n      <td>82</td>\n      <td>20</td>\n      <td>1136</td>\n      <td>(1100, 1150]</td>\n    </tr>\n    <tr>\n      <th>181338</th>\n      <td>H1</td>\n      <td>2436510</td>\n      <td>KIIS-FM</td>\n      <td>2019-09-02</td>\n      <td>86</td>\n      <td>5</td>\n      <td>1141</td>\n      <td>(1100, 1150]</td>\n    </tr>\n    <tr>\n      <th>170816</th>\n      <td>H1</td>\n      <td>2436510</td>\n      <td>KIIS-FM</td>\n      <td>2019-10-14</td>\n      <td>89</td>\n      <td>14</td>\n      <td>1155</td>\n      <td>(1150, 1200]</td>\n    </tr>\n    <tr>\n      <th>151936</th>\n      <td>H1</td>\n      <td>2436510</td>\n      <td>KIIS-FM</td>\n      <td>2019-10-21</td>\n      <td>87</td>\n      <td>14</td>\n      <td>1169</td>\n      <td>(1150, 1200]</td>\n    </tr>\n    <tr>\n      <th>169544</th>\n      <td>H1</td>\n      <td>2436510</td>\n      <td>KIIS-FM</td>\n      <td>2020-02-03</td>\n      <td>79</td>\n      <td>11</td>\n      <td>1180</td>\n      <td>(1150, 1200]</td>\n    </tr>\n    <tr>\n      <th>150907</th>\n      <td>H1</td>\n      <td>2436510</td>\n      <td>KIIS-FM</td>\n      <td>2020-02-24</td>\n      <td>75</td>\n      <td>5</td>\n      <td>1185</td>\n      <td>(1150, 1200]</td>\n    </tr>\n    <tr>\n      <th>184776</th>\n      <td>H1</td>\n      <td>2436510</td>\n      <td>KIIS-FM</td>\n      <td>2021-02-22</td>\n      <td>92</td>\n      <td>1</td>\n      <td>1186</td>\n      <td>(1150, 1200]</td>\n    </tr>\n    <tr>\n      <th>190552</th>\n      <td>H1</td>\n      <td>2436510</td>\n      <td>KIIS-FM</td>\n      <td>2022-08-22</td>\n      <td>78</td>\n      <td>2</td>\n      <td>1188</td>\n      <td>(1150, 1200]</td>\n    </tr>\n  </tbody>\n</table>\n</div>"
     },
     "execution_count": 21,
     "metadata": {},
     "output_type": "execute_result"
    }
   ],
   "source": [
    "df[(df['mediabase_id'] == 2436510) & (df['cmm_station_calls'] == 'KIIS-FM')]"
   ],
   "metadata": {
    "collapsed": false
   }
  },
  {
   "cell_type": "code",
   "execution_count": 70,
   "outputs": [],
   "source": [
    "df_unique_comb = df[['format_code', 'mediabase_id']].drop_duplicates()"
   ],
   "metadata": {
    "collapsed": false
   }
  },
  {
   "cell_type": "code",
   "execution_count": 72,
   "outputs": [
    {
     "data": {
      "text/plain": "190677    A1\n112288    A1\n190675    A1\n139470    A1\n75678     A1\n          ..\n131457    Y0\n80392     Y0\n198563    Y0\n177132    Y0\n59318     Y0\nName: format_code, Length: 3629, dtype: object"
     },
     "execution_count": 72,
     "metadata": {},
     "output_type": "execute_result"
    }
   ],
   "source": [
    "df_unique_comb['format_code']"
   ],
   "metadata": {
    "collapsed": false
   }
  },
  {
   "cell_type": "code",
   "execution_count": 108,
   "outputs": [],
   "source": [
    "from kneed import KneeLocator\n",
    "df_knees = pd.DataFrame(columns=['format_code', 'mediabase_id', 'spins_threshold'])\n",
    "spins_lb = 150\n",
    "spins_ub = 1000\n",
    "for i in df_unique_comb.index:\n",
    "    # iso data by format and agg by spins bucket\n",
    "    idx = (df['mediabase_id'] == df_unique_comb.loc[i]['mediabase_id']) & (df['format_code'] == df_unique_comb.loc[i]['format_code']) & (df['cuml_spins_non_on'] > spins_lb) & (df['cuml_spins_non_on'] <= spins_ub)\n",
    "    df_temp = pd.DataFrame(df[idx].groupby(['format_code', 'mediabase_id', 'cuml_spins_non_on_bucket']).agg({'pop': np.nanmean}).dropna().reset_index().set_index(['cuml_spins_non_on_bucket'])['pop'])\n",
    "\n",
    "    #identify knee\n",
    "    if(len(df_temp) > 5):\n",
    "        kl = KneeLocator([i.right for i in df_temp.index], df_temp['pop'], curve='concave')\n",
    "\n",
    "    # collect data\n",
    "        df_out = pd.DataFrame([(df_unique_comb.loc[i]['format_code'], df_unique_comb.loc[i]['mediabase_id'], kl.knee)], columns=['format_code', 'mediabase_id', 'spins_threshold'])\n",
    "        df_knees = pd.concat([df_out, df_knees])\n",
    "        # if (df_unique_comb.loc[i]['format_code'] == 'H1'):\n",
    "        #     kl.plot_knee(figsize=(4,4))\n",
    "        #     plt.show()\n",
    "        #     plt.close()"
   ],
   "metadata": {
    "collapsed": false
   }
  },
  {
   "cell_type": "code",
   "execution_count": 111,
   "outputs": [
    {
     "data": {
      "text/plain": "             mediabase_id\nformat_code              \nA1                     15\nA2                     73\nC1                    107\nH1                    169\nL1                     80\nL3                     42\nR1                      6\nR2                      7\nR3                     38\nU1                    154\nU2                      8\nY0                    119",
      "text/html": "<div>\n<style scoped>\n    .dataframe tbody tr th:only-of-type {\n        vertical-align: middle;\n    }\n\n    .dataframe tbody tr th {\n        vertical-align: top;\n    }\n\n    .dataframe thead th {\n        text-align: right;\n    }\n</style>\n<table border=\"1\" class=\"dataframe\">\n  <thead>\n    <tr style=\"text-align: right;\">\n      <th></th>\n      <th>mediabase_id</th>\n    </tr>\n    <tr>\n      <th>format_code</th>\n      <th></th>\n    </tr>\n  </thead>\n  <tbody>\n    <tr>\n      <th>A1</th>\n      <td>15</td>\n    </tr>\n    <tr>\n      <th>A2</th>\n      <td>73</td>\n    </tr>\n    <tr>\n      <th>C1</th>\n      <td>107</td>\n    </tr>\n    <tr>\n      <th>H1</th>\n      <td>169</td>\n    </tr>\n    <tr>\n      <th>L1</th>\n      <td>80</td>\n    </tr>\n    <tr>\n      <th>L3</th>\n      <td>42</td>\n    </tr>\n    <tr>\n      <th>R1</th>\n      <td>6</td>\n    </tr>\n    <tr>\n      <th>R2</th>\n      <td>7</td>\n    </tr>\n    <tr>\n      <th>R3</th>\n      <td>38</td>\n    </tr>\n    <tr>\n      <th>U1</th>\n      <td>154</td>\n    </tr>\n    <tr>\n      <th>U2</th>\n      <td>8</td>\n    </tr>\n    <tr>\n      <th>Y0</th>\n      <td>119</td>\n    </tr>\n  </tbody>\n</table>\n</div>"
     },
     "execution_count": 111,
     "metadata": {},
     "output_type": "execute_result"
    }
   ],
   "source": [
    "df_knees.groupby(['format_code']).agg({'mediabase_id':len})"
   ],
   "metadata": {
    "collapsed": false
   }
  },
  {
   "cell_type": "code",
   "execution_count": 112,
   "outputs": [
    {
     "data": {
      "text/plain": "format_code\nA1    280.0\nA2    300.0\nC1    300.0\nH1    310.0\nL1    300.0\nL3    300.0\nR1    275.0\nR2    320.0\nR3    300.0\nU1    300.0\nU2    265.0\nY0    310.0\ndtype: float64"
     },
     "execution_count": 112,
     "metadata": {},
     "output_type": "execute_result"
    }
   ],
   "source": [
    "df_knees.groupby(['format_code']).apply(lambda x: np.quantile(x['spins_threshold'], 0.9))"
   ],
   "metadata": {
    "collapsed": false
   }
  }
 ],
 "metadata": {
  "kernelspec": {
   "display_name": "Python 3",
   "language": "python",
   "name": "python3"
  },
  "language_info": {
   "codemirror_mode": {
    "name": "ipython",
    "version": 2
   },
   "file_extension": ".py",
   "mimetype": "text/x-python",
   "name": "python",
   "nbconvert_exporter": "python",
   "pygments_lexer": "ipython2",
   "version": "2.7.6"
  }
 },
 "nbformat": 4,
 "nbformat_minor": 0
}
