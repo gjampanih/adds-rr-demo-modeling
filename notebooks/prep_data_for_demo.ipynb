{
 "cells": [
  {
   "cell_type": "code",
   "execution_count": 1,
   "metadata": {
    "collapsed": true
   },
   "outputs": [],
   "source": [
    "# import packages\n",
    "import pandas as pd\n",
    "import pickle as pkl\n",
    "import os"
   ]
  },
  {
   "cell_type": "code",
   "execution_count": 2,
   "outputs": [],
   "source": [
    "from sqlalchemy import create_engine\n",
    "\n",
    "def postgresql_engine(user, pwd, host, port, dbname):\n",
    "    # Need pyycopg2-binary package\n",
    "    sql_engine = create_engine('postgres://' + user + ':' + pwd + '@' + host + ':' + port + '/' + dbname, echo=False)\n",
    "    return sql_engine"
   ],
   "metadata": {
    "collapsed": false,
    "pycharm": {
     "name": "#%%\n"
    }
   }
  },
  {
   "cell_type": "code",
   "execution_count": 3,
   "outputs": [],
   "source": [
    "# DB username and password\n",
    "import getpass\n",
    "\n",
    "user = getpass.getpass()\n",
    "pwd = getpass.getpass()"
   ],
   "metadata": {
    "collapsed": false,
    "pycharm": {
     "name": "#%%\n"
    }
   }
  },
  {
   "cell_type": "code",
   "execution_count": 4,
   "outputs": [],
   "source": [
    "# misc db parameters\n",
    "host= 'adds-postgres-dev.cfgztrijqgvp.us-east-1.rds.amazonaws.com'\n",
    "dbname= 'musiclab'\n",
    "port= '5432'"
   ],
   "metadata": {
    "collapsed": false,
    "pycharm": {
     "name": "#%%\n"
    }
   }
  },
  {
   "cell_type": "code",
   "execution_count": 10,
   "outputs": [],
   "source": [
    "# get callout research for songs released in the past 2 years\n",
    "data_query = '''\n",
    "Select sv.song_name || '( ' || sv.artist_name || ' )' as song_artist, s.call_letters, brks.breakout_name, rdsa.demo_category, rdsa.week_dt,\n",
    "rdsa.pop_all, CAST(rdsa.pop_predicted AS DECIMAL(5,2)), CASE WHEN (rdsa.pop_all > wobble_upper_threshold\n",
    "    OR rdsa.pop_all < wobble_lower_threshold) then 1 else 0 end as wobble_flag\n",
    "from dbo.rr_demo_scores_adds as rdsa\n",
    "left join data.songs_v as sv\n",
    "on sv.mediabase_id=rdsa.mediabase_id\n",
    "left join data.stations as s\n",
    "on s.station_id=rdsa.station_id\n",
    "left join\n",
    "(\n",
    "Select distinct cmm_station_calls, breakout_id, REPLACE(breakout_name, '*', '') as breakout_name\n",
    "from data.cmm\n",
    "where format='CHR'\n",
    "UNION\n",
    "Select distinct cmm_station_calls, -1, 'Non-Core'\n",
    "from data.cmm\n",
    "where format='CHR'\n",
    "UNION\n",
    "Select distinct cmm_station_calls, -2, 'Female-Other'\n",
    "from data.cmm\n",
    "where format='CHR'\n",
    ") as brks\n",
    "on brks.breakout_id = rdsa.breakout_id\n",
    "and brks.cmm_station_calls=s.call_letters\n",
    "where rdsa.pop_all is not null\n",
    "'''"
   ],
   "metadata": {
    "collapsed": false,
    "pycharm": {
     "name": "#%%\n"
    }
   }
  },
  {
   "cell_type": "code",
   "execution_count": 11,
   "outputs": [],
   "source": [
    "engine = postgresql_engine(user, pwd, host, port, dbname)\n",
    "with engine.connect() as con:\n",
    "    with con.connect():\n",
    "        df = pd.read_sql(data_query, con=con)"
   ],
   "metadata": {
    "collapsed": false,
    "pycharm": {
     "name": "#%%\n"
    }
   }
  },
  {
   "cell_type": "code",
   "execution_count": 12,
   "outputs": [
    {
     "data": {
      "text/plain": "                                          song_artist\ncall_letters demo_category breakout_name             \nKBKS-FM      Age           Old                     25\n                           Young                   25\n             Core-Cume     Core                    25\n                           Non-Core                25\n             Gender        F (18-24)               25\n...                                               ...\nWXKS-FM      Core-Cume     Non-Core                24\n             Gender        F (18-24)               24\n                           Female-Other            24\n             Race          Hispanic                48\n                           White                   48\n\n[108 rows x 1 columns]",
      "text/html": "<div>\n<style scoped>\n    .dataframe tbody tr th:only-of-type {\n        vertical-align: middle;\n    }\n\n    .dataframe tbody tr th {\n        vertical-align: top;\n    }\n\n    .dataframe thead th {\n        text-align: right;\n    }\n</style>\n<table border=\"1\" class=\"dataframe\">\n  <thead>\n    <tr style=\"text-align: right;\">\n      <th></th>\n      <th></th>\n      <th></th>\n      <th>song_artist</th>\n    </tr>\n    <tr>\n      <th>call_letters</th>\n      <th>demo_category</th>\n      <th>breakout_name</th>\n      <th></th>\n    </tr>\n  </thead>\n  <tbody>\n    <tr>\n      <th rowspan=\"5\" valign=\"top\">KBKS-FM</th>\n      <th rowspan=\"2\" valign=\"top\">Age</th>\n      <th>Old</th>\n      <td>25</td>\n    </tr>\n    <tr>\n      <th>Young</th>\n      <td>25</td>\n    </tr>\n    <tr>\n      <th rowspan=\"2\" valign=\"top\">Core-Cume</th>\n      <th>Core</th>\n      <td>25</td>\n    </tr>\n    <tr>\n      <th>Non-Core</th>\n      <td>25</td>\n    </tr>\n    <tr>\n      <th>Gender</th>\n      <th>F (18-24)</th>\n      <td>25</td>\n    </tr>\n    <tr>\n      <th>...</th>\n      <th>...</th>\n      <th>...</th>\n      <td>...</td>\n    </tr>\n    <tr>\n      <th rowspan=\"5\" valign=\"top\">WXKS-FM</th>\n      <th>Core-Cume</th>\n      <th>Non-Core</th>\n      <td>24</td>\n    </tr>\n    <tr>\n      <th rowspan=\"2\" valign=\"top\">Gender</th>\n      <th>F (18-24)</th>\n      <td>24</td>\n    </tr>\n    <tr>\n      <th>Female-Other</th>\n      <td>24</td>\n    </tr>\n    <tr>\n      <th rowspan=\"2\" valign=\"top\">Race</th>\n      <th>Hispanic</th>\n      <td>48</td>\n    </tr>\n    <tr>\n      <th>White</th>\n      <td>48</td>\n    </tr>\n  </tbody>\n</table>\n<p>108 rows × 1 columns</p>\n</div>"
     },
     "execution_count": 12,
     "metadata": {},
     "output_type": "execute_result"
    }
   ],
   "source": [
    "df[~pd.isna(df['pop_predicted'])].groupby(['call_letters', 'demo_category', 'breakout_name']).agg({'song_artist': len})"
   ],
   "metadata": {
    "collapsed": false,
    "pycharm": {
     "name": "#%%\n"
    }
   }
  },
  {
   "cell_type": "code",
   "execution_count": 13,
   "outputs": [
    {
     "data": {
      "text/plain": "                                                                        breakout_name  \\\ncall_letters song_artist                                    week_dt                     \nKBKS-FM      About Damn Time( LIZZO )                       2022-11-27              8   \n             As It Was( HARRY STYLES )                      2022-11-27              8   \n             Bad Habit( STEVE LACY )                        2022-11-27              8   \n             Best Friend f/Doja Cat( SAWEETIE )             2022-11-27              8   \n             Big Energy( LATTO )                            2022-11-27              8   \n...                                                                               ...   \nWXKS-FM      Sweetest Pie( MEGAN THEE STALLION & DUA LIPA ) 2022-11-27             10   \n             Unholy( SAM SMITH & KIM PETRAS )               2022-11-27             10   \n             Vegas( DOJA CAT )                              2022-11-27             10   \n             Woman( DOJA CAT )                              2022-11-27             10   \n             good 4 u( OLIVIA RODRIGO )                     2022-11-27             10   \n\n                                                                        demo_category  \\\ncall_letters song_artist                                    week_dt                     \nKBKS-FM      About Damn Time( LIZZO )                       2022-11-27              8   \n             As It Was( HARRY STYLES )                      2022-11-27              8   \n             Bad Habit( STEVE LACY )                        2022-11-27              8   \n             Best Friend f/Doja Cat( SAWEETIE )             2022-11-27              8   \n             Big Energy( LATTO )                            2022-11-27              8   \n...                                                                               ...   \nWXKS-FM      Sweetest Pie( MEGAN THEE STALLION & DUA LIPA ) 2022-11-27             10   \n             Unholy( SAM SMITH & KIM PETRAS )               2022-11-27             10   \n             Vegas( DOJA CAT )                              2022-11-27             10   \n             Woman( DOJA CAT )                              2022-11-27             10   \n             good 4 u( OLIVIA RODRIGO )                     2022-11-27             10   \n\n                                                                        pop_all  \\\ncall_letters song_artist                                    week_dt               \nKBKS-FM      About Damn Time( LIZZO )                       2022-11-27        8   \n             As It Was( HARRY STYLES )                      2022-11-27        8   \n             Bad Habit( STEVE LACY )                        2022-11-27        8   \n             Best Friend f/Doja Cat( SAWEETIE )             2022-11-27        8   \n             Big Energy( LATTO )                            2022-11-27        8   \n...                                                                         ...   \nWXKS-FM      Sweetest Pie( MEGAN THEE STALLION & DUA LIPA ) 2022-11-27       10   \n             Unholy( SAM SMITH & KIM PETRAS )               2022-11-27       10   \n             Vegas( DOJA CAT )                              2022-11-27       10   \n             Woman( DOJA CAT )                              2022-11-27       10   \n             good 4 u( OLIVIA RODRIGO )                     2022-11-27       10   \n\n                                                                        pop_predicted  \\\ncall_letters song_artist                                    week_dt                     \nKBKS-FM      About Damn Time( LIZZO )                       2022-11-27              8   \n             As It Was( HARRY STYLES )                      2022-11-27              8   \n             Bad Habit( STEVE LACY )                        2022-11-27              8   \n             Best Friend f/Doja Cat( SAWEETIE )             2022-11-27              8   \n             Big Energy( LATTO )                            2022-11-27              8   \n...                                                                               ...   \nWXKS-FM      Sweetest Pie( MEGAN THEE STALLION & DUA LIPA ) 2022-11-27             10   \n             Unholy( SAM SMITH & KIM PETRAS )               2022-11-27             10   \n             Vegas( DOJA CAT )                              2022-11-27             10   \n             Woman( DOJA CAT )                              2022-11-27             10   \n             good 4 u( OLIVIA RODRIGO )                     2022-11-27             10   \n\n                                                                        wobble_flag  \ncall_letters song_artist                                    week_dt                  \nKBKS-FM      About Damn Time( LIZZO )                       2022-11-27            8  \n             As It Was( HARRY STYLES )                      2022-11-27            8  \n             Bad Habit( STEVE LACY )                        2022-11-27            8  \n             Best Friend f/Doja Cat( SAWEETIE )             2022-11-27            8  \n             Big Energy( LATTO )                            2022-11-27            8  \n...                                                                             ...  \nWXKS-FM      Sweetest Pie( MEGAN THEE STALLION & DUA LIPA ) 2022-11-27           10  \n             Unholy( SAM SMITH & KIM PETRAS )               2022-11-27           10  \n             Vegas( DOJA CAT )                              2022-11-27           10  \n             Woman( DOJA CAT )                              2022-11-27           10  \n             good 4 u( OLIVIA RODRIGO )                     2022-11-27           10  \n\n[371 rows x 5 columns]",
      "text/html": "<div>\n<style scoped>\n    .dataframe tbody tr th:only-of-type {\n        vertical-align: middle;\n    }\n\n    .dataframe tbody tr th {\n        vertical-align: top;\n    }\n\n    .dataframe thead th {\n        text-align: right;\n    }\n</style>\n<table border=\"1\" class=\"dataframe\">\n  <thead>\n    <tr style=\"text-align: right;\">\n      <th></th>\n      <th></th>\n      <th></th>\n      <th>breakout_name</th>\n      <th>demo_category</th>\n      <th>pop_all</th>\n      <th>pop_predicted</th>\n      <th>wobble_flag</th>\n    </tr>\n    <tr>\n      <th>call_letters</th>\n      <th>song_artist</th>\n      <th>week_dt</th>\n      <th></th>\n      <th></th>\n      <th></th>\n      <th></th>\n      <th></th>\n    </tr>\n  </thead>\n  <tbody>\n    <tr>\n      <th rowspan=\"5\" valign=\"top\">KBKS-FM</th>\n      <th>About Damn Time( LIZZO )</th>\n      <th>2022-11-27</th>\n      <td>8</td>\n      <td>8</td>\n      <td>8</td>\n      <td>8</td>\n      <td>8</td>\n    </tr>\n    <tr>\n      <th>As It Was( HARRY STYLES )</th>\n      <th>2022-11-27</th>\n      <td>8</td>\n      <td>8</td>\n      <td>8</td>\n      <td>8</td>\n      <td>8</td>\n    </tr>\n    <tr>\n      <th>Bad Habit( STEVE LACY )</th>\n      <th>2022-11-27</th>\n      <td>8</td>\n      <td>8</td>\n      <td>8</td>\n      <td>8</td>\n      <td>8</td>\n    </tr>\n    <tr>\n      <th>Best Friend f/Doja Cat( SAWEETIE )</th>\n      <th>2022-11-27</th>\n      <td>8</td>\n      <td>8</td>\n      <td>8</td>\n      <td>8</td>\n      <td>8</td>\n    </tr>\n    <tr>\n      <th>Big Energy( LATTO )</th>\n      <th>2022-11-27</th>\n      <td>8</td>\n      <td>8</td>\n      <td>8</td>\n      <td>8</td>\n      <td>8</td>\n    </tr>\n    <tr>\n      <th>...</th>\n      <th>...</th>\n      <th>...</th>\n      <td>...</td>\n      <td>...</td>\n      <td>...</td>\n      <td>...</td>\n      <td>...</td>\n    </tr>\n    <tr>\n      <th rowspan=\"5\" valign=\"top\">WXKS-FM</th>\n      <th>Sweetest Pie( MEGAN THEE STALLION &amp; DUA LIPA )</th>\n      <th>2022-11-27</th>\n      <td>10</td>\n      <td>10</td>\n      <td>10</td>\n      <td>10</td>\n      <td>10</td>\n    </tr>\n    <tr>\n      <th>Unholy( SAM SMITH &amp; KIM PETRAS )</th>\n      <th>2022-11-27</th>\n      <td>10</td>\n      <td>10</td>\n      <td>10</td>\n      <td>10</td>\n      <td>10</td>\n    </tr>\n    <tr>\n      <th>Vegas( DOJA CAT )</th>\n      <th>2022-11-27</th>\n      <td>10</td>\n      <td>10</td>\n      <td>10</td>\n      <td>10</td>\n      <td>10</td>\n    </tr>\n    <tr>\n      <th>Woman( DOJA CAT )</th>\n      <th>2022-11-27</th>\n      <td>10</td>\n      <td>10</td>\n      <td>10</td>\n      <td>10</td>\n      <td>10</td>\n    </tr>\n    <tr>\n      <th>good 4 u( OLIVIA RODRIGO )</th>\n      <th>2022-11-27</th>\n      <td>10</td>\n      <td>10</td>\n      <td>10</td>\n      <td>10</td>\n      <td>10</td>\n    </tr>\n  </tbody>\n</table>\n<p>371 rows × 5 columns</p>\n</div>"
     },
     "execution_count": 13,
     "metadata": {},
     "output_type": "execute_result"
    }
   ],
   "source": [
    "df[~pd.isna(df['pop_predicted'])].groupby(['call_letters', 'song_artist', 'week_dt']).agg(len)"
   ],
   "metadata": {
    "collapsed": false,
    "pycharm": {
     "name": "#%%\n"
    }
   }
  },
  {
   "cell_type": "code",
   "execution_count": 35,
   "outputs": [],
   "source": [
    "df_out = df[~pd.isna(df['pop_predicted'])].pivot_table(index=['call_letters', 'song_artist'], columns=['breakout_name'], values=['pop_predicted', 'pop_all', 'wobble_flag'])"
   ],
   "metadata": {
    "collapsed": false,
    "pycharm": {
     "name": "#%%\n"
    }
   }
  },
  {
   "cell_type": "code",
   "execution_count": 36,
   "outputs": [],
   "source": [
    "df_out.columns = [i[0] + '_' + i[1].replace(' ', '_') for i in df_out.columns]"
   ],
   "metadata": {
    "collapsed": false,
    "pycharm": {
     "name": "#%%\n"
    }
   }
  },
  {
   "cell_type": "code",
   "execution_count": 37,
   "outputs": [
    {
     "data": {
      "text/plain": "Index(['pop_all_AA', 'pop_all_Core', 'pop_all_F_(18-24)',\n       'pop_all_Female-Other', 'pop_all_Hispanic', 'pop_all_Non-Core',\n       'pop_all_Old', 'pop_all_WAO', 'pop_all_White', 'pop_all_Young',\n       'pop_predicted_AA', 'pop_predicted_Core', 'pop_predicted_F_(18-24)',\n       'pop_predicted_Female-Other', 'pop_predicted_Hispanic',\n       'pop_predicted_Non-Core', 'pop_predicted_Old', 'pop_predicted_WAO',\n       'pop_predicted_White', 'pop_predicted_Young', 'wobble_flag_AA',\n       'wobble_flag_Core', 'wobble_flag_F_(18-24)', 'wobble_flag_Female-Other',\n       'wobble_flag_Hispanic', 'wobble_flag_Non-Core', 'wobble_flag_Old',\n       'wobble_flag_WAO', 'wobble_flag_White', 'wobble_flag_Young'],\n      dtype='object')"
     },
     "execution_count": 37,
     "metadata": {},
     "output_type": "execute_result"
    }
   ],
   "source": [
    "df_out.columns"
   ],
   "metadata": {
    "collapsed": false,
    "pycharm": {
     "name": "#%%\n"
    }
   }
  },
  {
   "cell_type": "code",
   "execution_count": 38,
   "outputs": [],
   "source": [
    "df_out['gender_perc_diff'] = (1 - df_out['pop_predicted_Female-Other']/df_out['pop_all_F_(18-24)'])"
   ],
   "metadata": {
    "collapsed": false,
    "pycharm": {
     "name": "#%%\n"
    }
   }
  },
  {
   "cell_type": "code",
   "execution_count": 39,
   "outputs": [],
   "source": [
    "df_out['core_perc_diff'] = (1 - df_out['pop_predicted_Non-Core']/df_out['pop_predicted_Core'])"
   ],
   "metadata": {
    "collapsed": false,
    "pycharm": {
     "name": "#%%\n"
    }
   }
  },
  {
   "cell_type": "code",
   "execution_count": 40,
   "outputs": [],
   "source": [
    "df_out['Hispanic_perc_diff'] = (1- df_out['pop_predicted_Hispanic']/(df_out['pop_predicted_White'].combine_first(df_out['pop_all_WAO'])))"
   ],
   "metadata": {
    "collapsed": false,
    "pycharm": {
     "name": "#%%\n"
    }
   }
  },
  {
   "cell_type": "code",
   "execution_count": 41,
   "outputs": [],
   "source": [
    "df_out['AA_perc_diff'] = (1- df_out['pop_predicted_AA']/(df_out['pop_predicted_White'].combine_first(df_out['pop_all_WAO'])))"
   ],
   "metadata": {
    "collapsed": false,
    "pycharm": {
     "name": "#%%\n"
    }
   }
  },
  {
   "cell_type": "code",
   "execution_count": 51,
   "outputs": [],
   "source": [
    "df_out['age_perc_diff'] = (1- df_out['pop_predicted_Young']/(df_out['pop_predicted_Old']))"
   ],
   "metadata": {
    "collapsed": false,
    "pycharm": {
     "name": "#%%\n"
    }
   }
  },
  {
   "cell_type": "code",
   "execution_count": 52,
   "outputs": [],
   "source": [
    "out_stations = pd.unique(df_out.index.get_level_values(0))"
   ],
   "metadata": {
    "collapsed": false,
    "pycharm": {
     "name": "#%%\n"
    }
   }
  },
  {
   "cell_type": "code",
   "execution_count": 54,
   "outputs": [],
   "source": [
    "with pd.ExcelWriter('Score_Gaps_by_Demographic_122022.xlsx') as writer:\n",
    "    for stat in out_stations:\n",
    "        idx = df_out[df_out.index.get_level_values(0) == stat].index\n",
    "        df_out.loc[idx].to_excel(writer, sheet_name=stat)"
   ],
   "metadata": {
    "collapsed": false,
    "pycharm": {
     "name": "#%%\n"
    }
   }
  }
 ],
 "metadata": {
  "kernelspec": {
   "display_name": "Python 3",
   "language": "python",
   "name": "python3"
  },
  "language_info": {
   "codemirror_mode": {
    "name": "ipython",
    "version": 2
   },
   "file_extension": ".py",
   "mimetype": "text/x-python",
   "name": "python",
   "nbconvert_exporter": "python",
   "pygments_lexer": "ipython2",
   "version": "2.7.6"
  }
 },
 "nbformat": 4,
 "nbformat_minor": 0
}